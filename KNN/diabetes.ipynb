{
 "cells": [
  {
   "cell_type": "markdown",
   "id": "149324ad",
   "metadata": {},
   "source": [
    "# Scale data "
   ]
  },
  {
   "cell_type": "markdown",
   "id": "f69e21f5",
   "metadata": {},
   "source": [
    "# Step 1 :Library & Data Import\n"
   ]
  },
  {
   "cell_type": "code",
   "execution_count": 1,
   "id": "b38cd9b5",
   "metadata": {},
   "outputs": [],
   "source": [
    "import os\n",
    "import numpy as np\n",
    "import pandas as pd\n",
    "import numpy as np, pandas as pd\n",
    "import matplotlib.pyplot as plt\n",
    "from sklearn.neighbors import KNeighborsClassifier"
   ]
  },
  {
   "cell_type": "code",
   "execution_count": 2,
   "id": "0fbd782a",
   "metadata": {},
   "outputs": [
    {
     "data": {
      "text/html": [
       "<div>\n",
       "<style scoped>\n",
       "    .dataframe tbody tr th:only-of-type {\n",
       "        vertical-align: middle;\n",
       "    }\n",
       "\n",
       "    .dataframe tbody tr th {\n",
       "        vertical-align: top;\n",
       "    }\n",
       "\n",
       "    .dataframe thead th {\n",
       "        text-align: right;\n",
       "    }\n",
       "</style>\n",
       "<table border=\"1\" class=\"dataframe\">\n",
       "  <thead>\n",
       "    <tr style=\"text-align: right;\">\n",
       "      <th></th>\n",
       "      <th>Pregnancies</th>\n",
       "      <th>Glucose</th>\n",
       "      <th>BloodPressure</th>\n",
       "      <th>SkinThickness</th>\n",
       "      <th>Insulin</th>\n",
       "      <th>BMI</th>\n",
       "      <th>DiabetesPedigreeFunction</th>\n",
       "      <th>Age</th>\n",
       "      <th>Outcome</th>\n",
       "    </tr>\n",
       "  </thead>\n",
       "  <tbody>\n",
       "    <tr>\n",
       "      <th>0</th>\n",
       "      <td>6</td>\n",
       "      <td>148</td>\n",
       "      <td>72</td>\n",
       "      <td>35</td>\n",
       "      <td>0</td>\n",
       "      <td>33.6</td>\n",
       "      <td>0.627</td>\n",
       "      <td>50</td>\n",
       "      <td>1</td>\n",
       "    </tr>\n",
       "    <tr>\n",
       "      <th>1</th>\n",
       "      <td>1</td>\n",
       "      <td>85</td>\n",
       "      <td>66</td>\n",
       "      <td>29</td>\n",
       "      <td>0</td>\n",
       "      <td>26.6</td>\n",
       "      <td>0.351</td>\n",
       "      <td>31</td>\n",
       "      <td>0</td>\n",
       "    </tr>\n",
       "    <tr>\n",
       "      <th>2</th>\n",
       "      <td>8</td>\n",
       "      <td>183</td>\n",
       "      <td>64</td>\n",
       "      <td>0</td>\n",
       "      <td>0</td>\n",
       "      <td>23.3</td>\n",
       "      <td>0.672</td>\n",
       "      <td>32</td>\n",
       "      <td>1</td>\n",
       "    </tr>\n",
       "    <tr>\n",
       "      <th>3</th>\n",
       "      <td>1</td>\n",
       "      <td>89</td>\n",
       "      <td>66</td>\n",
       "      <td>23</td>\n",
       "      <td>94</td>\n",
       "      <td>28.1</td>\n",
       "      <td>0.167</td>\n",
       "      <td>21</td>\n",
       "      <td>0</td>\n",
       "    </tr>\n",
       "    <tr>\n",
       "      <th>4</th>\n",
       "      <td>0</td>\n",
       "      <td>137</td>\n",
       "      <td>40</td>\n",
       "      <td>35</td>\n",
       "      <td>168</td>\n",
       "      <td>43.1</td>\n",
       "      <td>2.288</td>\n",
       "      <td>33</td>\n",
       "      <td>1</td>\n",
       "    </tr>\n",
       "  </tbody>\n",
       "</table>\n",
       "</div>"
      ],
      "text/plain": [
       "   Pregnancies  Glucose  BloodPressure  SkinThickness  Insulin   BMI  \\\n",
       "0            6      148             72             35        0  33.6   \n",
       "1            1       85             66             29        0  26.6   \n",
       "2            8      183             64              0        0  23.3   \n",
       "3            1       89             66             23       94  28.1   \n",
       "4            0      137             40             35      168  43.1   \n",
       "\n",
       "   DiabetesPedigreeFunction  Age  Outcome  \n",
       "0                     0.627   50        1  \n",
       "1                     0.351   31        0  \n",
       "2                     0.672   32        1  \n",
       "3                     0.167   21        0  \n",
       "4                     2.288   33        1  "
      ]
     },
     "execution_count": 2,
     "metadata": {},
     "output_type": "execute_result"
    }
   ],
   "source": [
    "data = pd.read_csv(r'C:\\Users\\suvar\\Desktop\\KNN\\diabetes.csv')\n",
    "data.head()"
   ]
  },
  {
   "cell_type": "markdown",
   "id": "e1e79838",
   "metadata": {},
   "source": [
    "#  Step 2 : Data Pre-Processing"
   ]
  },
  {
   "cell_type": "code",
   "execution_count": 3,
   "id": "dae2478e",
   "metadata": {},
   "outputs": [
    {
     "name": "stdout",
     "output_type": "stream",
     "text": [
      "<class 'pandas.core.frame.DataFrame'>\n",
      "RangeIndex: 768 entries, 0 to 767\n",
      "Data columns (total 9 columns):\n",
      " #   Column                    Non-Null Count  Dtype  \n",
      "---  ------                    --------------  -----  \n",
      " 0   Pregnancies               768 non-null    int64  \n",
      " 1   Glucose                   768 non-null    int64  \n",
      " 2   BloodPressure             768 non-null    int64  \n",
      " 3   SkinThickness             768 non-null    int64  \n",
      " 4   Insulin                   768 non-null    int64  \n",
      " 5   BMI                       768 non-null    float64\n",
      " 6   DiabetesPedigreeFunction  768 non-null    float64\n",
      " 7   Age                       768 non-null    int64  \n",
      " 8   Outcome                   768 non-null    int64  \n",
      "dtypes: float64(2), int64(7)\n",
      "memory usage: 54.1 KB\n"
     ]
    }
   ],
   "source": [
    "data.info()"
   ]
  },
  {
   "cell_type": "markdown",
   "id": "210f0fee",
   "metadata": {},
   "source": [
    "### Bad Rate Analysis "
   ]
  },
  {
   "cell_type": "code",
   "execution_count": 5,
   "id": "96716227",
   "metadata": {},
   "outputs": [
    {
     "data": {
      "text/plain": [
       "0    500\n",
       "1    268\n",
       "Name: Outcome, dtype: int64"
      ]
     },
     "execution_count": 5,
     "metadata": {},
     "output_type": "execute_result"
    }
   ],
   "source": [
    "data.Outcome.value_counts()"
   ]
  },
  {
   "cell_type": "markdown",
   "id": "409816b9",
   "metadata": {},
   "source": [
    "# Step 3 : Data Partition"
   ]
  },
  {
   "cell_type": "code",
   "execution_count": 4,
   "id": "ebe6635b",
   "metadata": {},
   "outputs": [],
   "source": [
    "#Dividing data into train and test dataset\n",
    "from sklearn.model_selection import train_test_split\n",
    "#from random import seed\n",
    "\n",
    "#seed(20)\n",
    "train_x = data.drop(['Outcome'],axis=1)\n",
    "train_y = data['Outcome']\n",
    "\n",
    "# Train test split\n",
    "\n",
    "X_train, X_test, y_train, y_test = train_test_split(train_x, train_y, test_size=0.3,random_state=20)"
   ]
  },
  {
   "cell_type": "code",
   "execution_count": 6,
   "id": "3c4d5901",
   "metadata": {},
   "outputs": [
    {
     "data": {
      "text/html": [
       "<div>\n",
       "<style scoped>\n",
       "    .dataframe tbody tr th:only-of-type {\n",
       "        vertical-align: middle;\n",
       "    }\n",
       "\n",
       "    .dataframe tbody tr th {\n",
       "        vertical-align: top;\n",
       "    }\n",
       "\n",
       "    .dataframe thead th {\n",
       "        text-align: right;\n",
       "    }\n",
       "</style>\n",
       "<table border=\"1\" class=\"dataframe\">\n",
       "  <thead>\n",
       "    <tr style=\"text-align: right;\">\n",
       "      <th></th>\n",
       "      <th>Pregnancies</th>\n",
       "      <th>Glucose</th>\n",
       "      <th>BloodPressure</th>\n",
       "      <th>SkinThickness</th>\n",
       "      <th>Insulin</th>\n",
       "      <th>BMI</th>\n",
       "      <th>DiabetesPedigreeFunction</th>\n",
       "      <th>Age</th>\n",
       "    </tr>\n",
       "  </thead>\n",
       "  <tbody>\n",
       "    <tr>\n",
       "      <th>416</th>\n",
       "      <td>1</td>\n",
       "      <td>97</td>\n",
       "      <td>68</td>\n",
       "      <td>21</td>\n",
       "      <td>0</td>\n",
       "      <td>27.2</td>\n",
       "      <td>1.095</td>\n",
       "      <td>22</td>\n",
       "    </tr>\n",
       "    <tr>\n",
       "      <th>373</th>\n",
       "      <td>2</td>\n",
       "      <td>105</td>\n",
       "      <td>58</td>\n",
       "      <td>40</td>\n",
       "      <td>94</td>\n",
       "      <td>34.9</td>\n",
       "      <td>0.225</td>\n",
       "      <td>25</td>\n",
       "    </tr>\n",
       "    <tr>\n",
       "      <th>166</th>\n",
       "      <td>3</td>\n",
       "      <td>148</td>\n",
       "      <td>66</td>\n",
       "      <td>25</td>\n",
       "      <td>0</td>\n",
       "      <td>32.5</td>\n",
       "      <td>0.256</td>\n",
       "      <td>22</td>\n",
       "    </tr>\n",
       "    <tr>\n",
       "      <th>685</th>\n",
       "      <td>2</td>\n",
       "      <td>129</td>\n",
       "      <td>74</td>\n",
       "      <td>26</td>\n",
       "      <td>205</td>\n",
       "      <td>33.2</td>\n",
       "      <td>0.591</td>\n",
       "      <td>25</td>\n",
       "    </tr>\n",
       "    <tr>\n",
       "      <th>156</th>\n",
       "      <td>2</td>\n",
       "      <td>99</td>\n",
       "      <td>52</td>\n",
       "      <td>15</td>\n",
       "      <td>94</td>\n",
       "      <td>24.6</td>\n",
       "      <td>0.637</td>\n",
       "      <td>21</td>\n",
       "    </tr>\n",
       "  </tbody>\n",
       "</table>\n",
       "</div>"
      ],
      "text/plain": [
       "     Pregnancies  Glucose  BloodPressure  SkinThickness  Insulin   BMI  \\\n",
       "416            1       97             68             21        0  27.2   \n",
       "373            2      105             58             40       94  34.9   \n",
       "166            3      148             66             25        0  32.5   \n",
       "685            2      129             74             26      205  33.2   \n",
       "156            2       99             52             15       94  24.6   \n",
       "\n",
       "     DiabetesPedigreeFunction  Age  \n",
       "416                     1.095   22  \n",
       "373                     0.225   25  \n",
       "166                     0.256   22  \n",
       "685                     0.591   25  \n",
       "156                     0.637   21  "
      ]
     },
     "execution_count": 6,
     "metadata": {},
     "output_type": "execute_result"
    }
   ],
   "source": [
    "X_train.head()"
   ]
  },
  {
   "cell_type": "markdown",
   "id": "1241a74a",
   "metadata": {},
   "source": [
    "#  Step 4 : Scaling Data"
   ]
  },
  {
   "cell_type": "code",
   "execution_count": 7,
   "id": "1af12505",
   "metadata": {},
   "outputs": [],
   "source": [
    "from sklearn.preprocessing import StandardScaler ,minmax_scale\n",
    "scaler = StandardScaler()   # converting data into Z-scale = X-mean / Standard Deviation\n",
    "#scaler.fit(X_train)         # Mean = 0 & standard Deviation =1\n",
    "\n",
    "X_train = scaler.fit_transform(X_train)\n",
    "X_test = scaler.transform(X_test)"
   ]
  },
  {
   "cell_type": "code",
   "execution_count": 8,
   "id": "9ebe7de6",
   "metadata": {},
   "outputs": [
    {
     "data": {
      "text/plain": [
       "array([[-0.87092798, -0.78067801, -0.06195459,  0.04464946, -0.69184904,\n",
       "        -0.59124626,  1.88924953, -0.95045485],\n",
       "       [-0.57093547, -0.52614001, -0.60915219,  1.24983051,  0.10619387,\n",
       "         0.42376004, -0.74988816, -0.69703169],\n",
       "       [-0.27094296,  0.84200176, -0.17139411,  0.29837179, -0.69184904,\n",
       "         0.10739444, -0.65584992, -0.95045485],\n",
       "       [-0.57093547,  0.237474  ,  0.26636397,  0.36180237,  1.04856369,\n",
       "         0.19966774,  0.36036976, -0.69703169],\n",
       "       [-0.57093547, -0.71704351, -0.93747075, -0.33593403,  0.10619387,\n",
       "        -0.93397566,  0.49991038, -1.03492924]])"
      ]
     },
     "execution_count": 8,
     "metadata": {},
     "output_type": "execute_result"
    }
   ],
   "source": [
    "X_train[0:5]"
   ]
  },
  {
   "cell_type": "code",
   "execution_count": 9,
   "id": "506d7500",
   "metadata": {},
   "outputs": [
    {
     "data": {
      "text/plain": [
       "array([ 3.30792708e-18, -1.45548791e-16, -3.88681431e-17, -2.64634166e-17,\n",
       "       -6.61585415e-17, -2.97713437e-17, -1.65396354e-18,  2.64634166e-16])"
      ]
     },
     "execution_count": 9,
     "metadata": {},
     "output_type": "execute_result"
    }
   ],
   "source": [
    "X_train.mean(axis=0)"
   ]
  },
  {
   "cell_type": "code",
   "execution_count": 10,
   "id": "73f96107",
   "metadata": {},
   "outputs": [
    {
     "data": {
      "text/plain": [
       "array([1., 1., 1., 1., 1., 1., 1., 1.])"
      ]
     },
     "execution_count": 10,
     "metadata": {},
     "output_type": "execute_result"
    }
   ],
   "source": [
    " X_train.std(axis=0)"
   ]
  },
  {
   "cell_type": "markdown",
   "id": "fe4af6ba",
   "metadata": {},
   "source": [
    "# Step 5 : Model Building \n"
   ]
  },
  {
   "cell_type": "code",
   "execution_count": 11,
   "id": "16db8709",
   "metadata": {},
   "outputs": [
    {
     "data": {
      "text/plain": [
       "KNeighborsClassifier(n_neighbors=6)"
      ]
     },
     "execution_count": 11,
     "metadata": {},
     "output_type": "execute_result"
    }
   ],
   "source": [
    "# train the decision tree\n",
    "## Instantiate the model with 5 neighbors. \n",
    "model = KNeighborsClassifier(n_neighbors=6)\n",
    "## Fit the model on the training data.\n",
    "model.fit(X_train, y_train)"
   ]
  },
  {
   "cell_type": "markdown",
   "id": "9e353595",
   "metadata": {},
   "source": [
    "# Step 6 : Predictions on Train Dataset\n"
   ]
  },
  {
   "cell_type": "code",
   "execution_count": 13,
   "id": "20f971a5",
   "metadata": {},
   "outputs": [
    {
     "data": {
      "text/html": [
       "<div>\n",
       "<style scoped>\n",
       "    .dataframe tbody tr th:only-of-type {\n",
       "        vertical-align: middle;\n",
       "    }\n",
       "\n",
       "    .dataframe tbody tr th {\n",
       "        vertical-align: top;\n",
       "    }\n",
       "\n",
       "    .dataframe thead th {\n",
       "        text-align: right;\n",
       "    }\n",
       "</style>\n",
       "<table border=\"1\" class=\"dataframe\">\n",
       "  <thead>\n",
       "    <tr style=\"text-align: right;\">\n",
       "      <th></th>\n",
       "      <th>Pregnancies</th>\n",
       "      <th>Glucose</th>\n",
       "      <th>BloodPressure</th>\n",
       "      <th>SkinThickness</th>\n",
       "      <th>Insulin</th>\n",
       "      <th>BMI</th>\n",
       "      <th>DiabetesPedigreeFunction</th>\n",
       "      <th>Age</th>\n",
       "    </tr>\n",
       "  </thead>\n",
       "  <tbody>\n",
       "    <tr>\n",
       "      <th>0</th>\n",
       "      <td>-0.870928</td>\n",
       "      <td>-0.780678</td>\n",
       "      <td>-0.061955</td>\n",
       "      <td>0.044649</td>\n",
       "      <td>-0.691849</td>\n",
       "      <td>-0.591246</td>\n",
       "      <td>1.889250</td>\n",
       "      <td>-0.950455</td>\n",
       "    </tr>\n",
       "    <tr>\n",
       "      <th>1</th>\n",
       "      <td>-0.570935</td>\n",
       "      <td>-0.526140</td>\n",
       "      <td>-0.609152</td>\n",
       "      <td>1.249831</td>\n",
       "      <td>0.106194</td>\n",
       "      <td>0.423760</td>\n",
       "      <td>-0.749888</td>\n",
       "      <td>-0.697032</td>\n",
       "    </tr>\n",
       "    <tr>\n",
       "      <th>2</th>\n",
       "      <td>-0.270943</td>\n",
       "      <td>0.842002</td>\n",
       "      <td>-0.171394</td>\n",
       "      <td>0.298372</td>\n",
       "      <td>-0.691849</td>\n",
       "      <td>0.107394</td>\n",
       "      <td>-0.655850</td>\n",
       "      <td>-0.950455</td>\n",
       "    </tr>\n",
       "    <tr>\n",
       "      <th>3</th>\n",
       "      <td>-0.570935</td>\n",
       "      <td>0.237474</td>\n",
       "      <td>0.266364</td>\n",
       "      <td>0.361802</td>\n",
       "      <td>1.048564</td>\n",
       "      <td>0.199668</td>\n",
       "      <td>0.360370</td>\n",
       "      <td>-0.697032</td>\n",
       "    </tr>\n",
       "    <tr>\n",
       "      <th>4</th>\n",
       "      <td>-0.570935</td>\n",
       "      <td>-0.717044</td>\n",
       "      <td>-0.937471</td>\n",
       "      <td>-0.335934</td>\n",
       "      <td>0.106194</td>\n",
       "      <td>-0.933976</td>\n",
       "      <td>0.499910</td>\n",
       "      <td>-1.034929</td>\n",
       "    </tr>\n",
       "  </tbody>\n",
       "</table>\n",
       "</div>"
      ],
      "text/plain": [
       "   Pregnancies   Glucose  BloodPressure  SkinThickness   Insulin       BMI  \\\n",
       "0    -0.870928 -0.780678      -0.061955       0.044649 -0.691849 -0.591246   \n",
       "1    -0.570935 -0.526140      -0.609152       1.249831  0.106194  0.423760   \n",
       "2    -0.270943  0.842002      -0.171394       0.298372 -0.691849  0.107394   \n",
       "3    -0.570935  0.237474       0.266364       0.361802  1.048564  0.199668   \n",
       "4    -0.570935 -0.717044      -0.937471      -0.335934  0.106194 -0.933976   \n",
       "\n",
       "   DiabetesPedigreeFunction       Age  \n",
       "0                  1.889250 -0.950455  \n",
       "1                 -0.749888 -0.697032  \n",
       "2                 -0.655850 -0.950455  \n",
       "3                  0.360370 -0.697032  \n",
       "4                  0.499910 -1.034929  "
      ]
     },
     "execution_count": 13,
     "metadata": {},
     "output_type": "execute_result"
    }
   ],
   "source": [
    "X_train=pd.DataFrame(X_train,columns=['Pregnancies','Glucose','BloodPressure','SkinThickness','Insulin','BMI','DiabetesPedigreeFunction','Age'])\n",
    "X_train.head()"
   ]
  },
  {
   "cell_type": "code",
   "execution_count": 14,
   "id": "2f10838c",
   "metadata": {},
   "outputs": [],
   "source": [
    "y_train.reset_index(drop=True, inplace=True)"
   ]
  },
  {
   "cell_type": "code",
   "execution_count": 15,
   "id": "26db3a99",
   "metadata": {},
   "outputs": [
    {
     "data": {
      "text/html": [
       "<div>\n",
       "<style scoped>\n",
       "    .dataframe tbody tr th:only-of-type {\n",
       "        vertical-align: middle;\n",
       "    }\n",
       "\n",
       "    .dataframe tbody tr th {\n",
       "        vertical-align: top;\n",
       "    }\n",
       "\n",
       "    .dataframe thead th {\n",
       "        text-align: right;\n",
       "    }\n",
       "</style>\n",
       "<table border=\"1\" class=\"dataframe\">\n",
       "  <thead>\n",
       "    <tr style=\"text-align: right;\">\n",
       "      <th></th>\n",
       "      <th>Pregnancies</th>\n",
       "      <th>Glucose</th>\n",
       "      <th>BloodPressure</th>\n",
       "      <th>SkinThickness</th>\n",
       "      <th>Insulin</th>\n",
       "      <th>BMI</th>\n",
       "      <th>DiabetesPedigreeFunction</th>\n",
       "      <th>Age</th>\n",
       "      <th>Outcome</th>\n",
       "    </tr>\n",
       "  </thead>\n",
       "  <tbody>\n",
       "    <tr>\n",
       "      <th>0</th>\n",
       "      <td>-0.870928</td>\n",
       "      <td>-0.780678</td>\n",
       "      <td>-0.061955</td>\n",
       "      <td>0.044649</td>\n",
       "      <td>-0.691849</td>\n",
       "      <td>-0.591246</td>\n",
       "      <td>1.889250</td>\n",
       "      <td>-0.950455</td>\n",
       "      <td>0</td>\n",
       "    </tr>\n",
       "    <tr>\n",
       "      <th>1</th>\n",
       "      <td>-0.570935</td>\n",
       "      <td>-0.526140</td>\n",
       "      <td>-0.609152</td>\n",
       "      <td>1.249831</td>\n",
       "      <td>0.106194</td>\n",
       "      <td>0.423760</td>\n",
       "      <td>-0.749888</td>\n",
       "      <td>-0.697032</td>\n",
       "      <td>0</td>\n",
       "    </tr>\n",
       "    <tr>\n",
       "      <th>2</th>\n",
       "      <td>-0.270943</td>\n",
       "      <td>0.842002</td>\n",
       "      <td>-0.171394</td>\n",
       "      <td>0.298372</td>\n",
       "      <td>-0.691849</td>\n",
       "      <td>0.107394</td>\n",
       "      <td>-0.655850</td>\n",
       "      <td>-0.950455</td>\n",
       "      <td>0</td>\n",
       "    </tr>\n",
       "    <tr>\n",
       "      <th>3</th>\n",
       "      <td>-0.570935</td>\n",
       "      <td>0.237474</td>\n",
       "      <td>0.266364</td>\n",
       "      <td>0.361802</td>\n",
       "      <td>1.048564</td>\n",
       "      <td>0.199668</td>\n",
       "      <td>0.360370</td>\n",
       "      <td>-0.697032</td>\n",
       "      <td>0</td>\n",
       "    </tr>\n",
       "    <tr>\n",
       "      <th>4</th>\n",
       "      <td>-0.570935</td>\n",
       "      <td>-0.717044</td>\n",
       "      <td>-0.937471</td>\n",
       "      <td>-0.335934</td>\n",
       "      <td>0.106194</td>\n",
       "      <td>-0.933976</td>\n",
       "      <td>0.499910</td>\n",
       "      <td>-1.034929</td>\n",
       "      <td>0</td>\n",
       "    </tr>\n",
       "  </tbody>\n",
       "</table>\n",
       "</div>"
      ],
      "text/plain": [
       "   Pregnancies   Glucose  BloodPressure  SkinThickness   Insulin       BMI  \\\n",
       "0    -0.870928 -0.780678      -0.061955       0.044649 -0.691849 -0.591246   \n",
       "1    -0.570935 -0.526140      -0.609152       1.249831  0.106194  0.423760   \n",
       "2    -0.270943  0.842002      -0.171394       0.298372 -0.691849  0.107394   \n",
       "3    -0.570935  0.237474       0.266364       0.361802  1.048564  0.199668   \n",
       "4    -0.570935 -0.717044      -0.937471      -0.335934  0.106194 -0.933976   \n",
       "\n",
       "   DiabetesPedigreeFunction       Age  Outcome  \n",
       "0                  1.889250 -0.950455        0  \n",
       "1                 -0.749888 -0.697032        0  \n",
       "2                 -0.655850 -0.950455        0  \n",
       "3                  0.360370 -0.697032        0  \n",
       "4                  0.499910 -1.034929        0  "
      ]
     },
     "execution_count": 15,
     "metadata": {},
     "output_type": "execute_result"
    }
   ],
   "source": [
    "train=pd.concat([X_train,y_train],axis=1)\n",
    "train.head()"
   ]
  },
  {
   "cell_type": "code",
   "execution_count": 16,
   "id": "e2760f01",
   "metadata": {},
   "outputs": [
    {
     "name": "stderr",
     "output_type": "stream",
     "text": [
      "C:\\Users\\suvar\\anaconda3\\lib\\site-packages\\sklearn\\base.py:443: UserWarning: X has feature names, but KNeighborsClassifier was fitted without feature names\n",
      "  warnings.warn(\n"
     ]
    },
    {
     "data": {
      "text/html": [
       "<div>\n",
       "<style scoped>\n",
       "    .dataframe tbody tr th:only-of-type {\n",
       "        vertical-align: middle;\n",
       "    }\n",
       "\n",
       "    .dataframe tbody tr th {\n",
       "        vertical-align: top;\n",
       "    }\n",
       "\n",
       "    .dataframe thead th {\n",
       "        text-align: right;\n",
       "    }\n",
       "</style>\n",
       "<table border=\"1\" class=\"dataframe\">\n",
       "  <thead>\n",
       "    <tr style=\"text-align: right;\">\n",
       "      <th></th>\n",
       "      <th>Pregnancies</th>\n",
       "      <th>Glucose</th>\n",
       "      <th>BloodPressure</th>\n",
       "      <th>SkinThickness</th>\n",
       "      <th>Insulin</th>\n",
       "      <th>BMI</th>\n",
       "      <th>DiabetesPedigreeFunction</th>\n",
       "      <th>Age</th>\n",
       "      <th>Outcome</th>\n",
       "      <th>Predicted</th>\n",
       "    </tr>\n",
       "  </thead>\n",
       "  <tbody>\n",
       "    <tr>\n",
       "      <th>0</th>\n",
       "      <td>-0.870928</td>\n",
       "      <td>-0.780678</td>\n",
       "      <td>-0.061955</td>\n",
       "      <td>0.044649</td>\n",
       "      <td>-0.691849</td>\n",
       "      <td>-0.591246</td>\n",
       "      <td>1.889250</td>\n",
       "      <td>-0.950455</td>\n",
       "      <td>0</td>\n",
       "      <td>0</td>\n",
       "    </tr>\n",
       "    <tr>\n",
       "      <th>1</th>\n",
       "      <td>-0.570935</td>\n",
       "      <td>-0.526140</td>\n",
       "      <td>-0.609152</td>\n",
       "      <td>1.249831</td>\n",
       "      <td>0.106194</td>\n",
       "      <td>0.423760</td>\n",
       "      <td>-0.749888</td>\n",
       "      <td>-0.697032</td>\n",
       "      <td>0</td>\n",
       "      <td>0</td>\n",
       "    </tr>\n",
       "    <tr>\n",
       "      <th>2</th>\n",
       "      <td>-0.270943</td>\n",
       "      <td>0.842002</td>\n",
       "      <td>-0.171394</td>\n",
       "      <td>0.298372</td>\n",
       "      <td>-0.691849</td>\n",
       "      <td>0.107394</td>\n",
       "      <td>-0.655850</td>\n",
       "      <td>-0.950455</td>\n",
       "      <td>0</td>\n",
       "      <td>0</td>\n",
       "    </tr>\n",
       "    <tr>\n",
       "      <th>3</th>\n",
       "      <td>-0.570935</td>\n",
       "      <td>0.237474</td>\n",
       "      <td>0.266364</td>\n",
       "      <td>0.361802</td>\n",
       "      <td>1.048564</td>\n",
       "      <td>0.199668</td>\n",
       "      <td>0.360370</td>\n",
       "      <td>-0.697032</td>\n",
       "      <td>0</td>\n",
       "      <td>0</td>\n",
       "    </tr>\n",
       "    <tr>\n",
       "      <th>4</th>\n",
       "      <td>-0.570935</td>\n",
       "      <td>-0.717044</td>\n",
       "      <td>-0.937471</td>\n",
       "      <td>-0.335934</td>\n",
       "      <td>0.106194</td>\n",
       "      <td>-0.933976</td>\n",
       "      <td>0.499910</td>\n",
       "      <td>-1.034929</td>\n",
       "      <td>0</td>\n",
       "      <td>0</td>\n",
       "    </tr>\n",
       "  </tbody>\n",
       "</table>\n",
       "</div>"
      ],
      "text/plain": [
       "   Pregnancies   Glucose  BloodPressure  SkinThickness   Insulin       BMI  \\\n",
       "0    -0.870928 -0.780678      -0.061955       0.044649 -0.691849 -0.591246   \n",
       "1    -0.570935 -0.526140      -0.609152       1.249831  0.106194  0.423760   \n",
       "2    -0.270943  0.842002      -0.171394       0.298372 -0.691849  0.107394   \n",
       "3    -0.570935  0.237474       0.266364       0.361802  1.048564  0.199668   \n",
       "4    -0.570935 -0.717044      -0.937471      -0.335934  0.106194 -0.933976   \n",
       "\n",
       "   DiabetesPedigreeFunction       Age  Outcome  Predicted  \n",
       "0                  1.889250 -0.950455        0          0  \n",
       "1                 -0.749888 -0.697032        0          0  \n",
       "2                 -0.655850 -0.950455        0          0  \n",
       "3                  0.360370 -0.697032        0          0  \n",
       "4                  0.499910 -1.034929        0          0  "
      ]
     },
     "execution_count": 16,
     "metadata": {},
     "output_type": "execute_result"
    }
   ],
   "source": [
    "train['Predicted']=model.predict(X_train)\n",
    "train.head()"
   ]
  },
  {
   "cell_type": "markdown",
   "id": "e330de33",
   "metadata": {},
   "source": [
    "# Step 7 : Model Performance Metrics"
   ]
  },
  {
   "cell_type": "code",
   "execution_count": 17,
   "id": "5cf3dd27",
   "metadata": {},
   "outputs": [
    {
     "name": "stdout",
     "output_type": "stream",
     "text": [
      "[[319  28]\n",
      " [ 84 106]]\n"
     ]
    }
   ],
   "source": [
    "from sklearn.metrics import confusion_matrix\n",
    "confusion_matrix = confusion_matrix(train['Outcome'],train['Predicted'])\n",
    "print(confusion_matrix)"
   ]
  },
  {
   "cell_type": "code",
   "execution_count": 18,
   "id": "d382166d",
   "metadata": {},
   "outputs": [
    {
     "name": "stdout",
     "output_type": "stream",
     "text": [
      "79.14338919925513\n"
     ]
    }
   ],
   "source": [
    "Accuracy_Train=((319+106)/(537)*100)\n",
    "print(Accuracy_Train)"
   ]
  },
  {
   "cell_type": "code",
   "execution_count": 19,
   "id": "00e6d2c5",
   "metadata": {},
   "outputs": [
    {
     "name": "stdout",
     "output_type": "stream",
     "text": [
      "              precision    recall  f1-score   support\n",
      "\n",
      "           0       0.79      0.92      0.85       347\n",
      "           1       0.79      0.56      0.65       190\n",
      "\n",
      "    accuracy                           0.79       537\n",
      "   macro avg       0.79      0.74      0.75       537\n",
      "weighted avg       0.79      0.79      0.78       537\n",
      "\n"
     ]
    }
   ],
   "source": [
    "from sklearn.metrics import classification_report\n",
    "print(classification_report(train['Outcome'], train['Predicted']))"
   ]
  },
  {
   "cell_type": "markdown",
   "id": "570ad80c",
   "metadata": {},
   "source": [
    "# Step 8 : Predictions on Test Dataset"
   ]
  },
  {
   "cell_type": "code",
   "execution_count": 20,
   "id": "af0e136f",
   "metadata": {},
   "outputs": [
    {
     "data": {
      "text/html": [
       "<div>\n",
       "<style scoped>\n",
       "    .dataframe tbody tr th:only-of-type {\n",
       "        vertical-align: middle;\n",
       "    }\n",
       "\n",
       "    .dataframe tbody tr th {\n",
       "        vertical-align: top;\n",
       "    }\n",
       "\n",
       "    .dataframe thead th {\n",
       "        text-align: right;\n",
       "    }\n",
       "</style>\n",
       "<table border=\"1\" class=\"dataframe\">\n",
       "  <thead>\n",
       "    <tr style=\"text-align: right;\">\n",
       "      <th></th>\n",
       "      <th>Pregnancies</th>\n",
       "      <th>Glucose</th>\n",
       "      <th>BloodPressure</th>\n",
       "      <th>SkinThickness</th>\n",
       "      <th>Insulin</th>\n",
       "      <th>BMI</th>\n",
       "      <th>DiabetesPedigreeFunction</th>\n",
       "      <th>Age</th>\n",
       "    </tr>\n",
       "  </thead>\n",
       "  <tbody>\n",
       "    <tr>\n",
       "      <th>0</th>\n",
       "      <td>1.829005</td>\n",
       "      <td>-0.430688</td>\n",
       "      <td>-0.171394</td>\n",
       "      <td>-1.287393</td>\n",
       "      <td>-0.691849</td>\n",
       "      <td>0.094213</td>\n",
       "      <td>-0.607314</td>\n",
       "      <td>0.739033</td>\n",
       "    </tr>\n",
       "    <tr>\n",
       "      <th>1</th>\n",
       "      <td>0.329042</td>\n",
       "      <td>1.414712</td>\n",
       "      <td>0.156924</td>\n",
       "      <td>-0.082212</td>\n",
       "      <td>0.793869</td>\n",
       "      <td>-0.775793</td>\n",
       "      <td>0.348236</td>\n",
       "      <td>1.499302</td>\n",
       "    </tr>\n",
       "    <tr>\n",
       "      <th>2</th>\n",
       "      <td>-0.270943</td>\n",
       "      <td>-0.812495</td>\n",
       "      <td>0.485243</td>\n",
       "      <td>1.186400</td>\n",
       "      <td>-0.691849</td>\n",
       "      <td>0.740126</td>\n",
       "      <td>-0.710453</td>\n",
       "      <td>0.570084</td>\n",
       "    </tr>\n",
       "    <tr>\n",
       "      <th>3</th>\n",
       "      <td>1.229020</td>\n",
       "      <td>-0.367054</td>\n",
       "      <td>0.375803</td>\n",
       "      <td>-1.287393</td>\n",
       "      <td>-0.691849</td>\n",
       "      <td>-0.512155</td>\n",
       "      <td>-0.713486</td>\n",
       "      <td>2.090623</td>\n",
       "    </tr>\n",
       "    <tr>\n",
       "      <th>4</th>\n",
       "      <td>-1.170920</td>\n",
       "      <td>0.142022</td>\n",
       "      <td>0.923001</td>\n",
       "      <td>0.425233</td>\n",
       "      <td>0.326929</td>\n",
       "      <td>-0.564882</td>\n",
       "      <td>0.129824</td>\n",
       "      <td>-1.034929</td>\n",
       "    </tr>\n",
       "  </tbody>\n",
       "</table>\n",
       "</div>"
      ],
      "text/plain": [
       "   Pregnancies   Glucose  BloodPressure  SkinThickness   Insulin       BMI  \\\n",
       "0     1.829005 -0.430688      -0.171394      -1.287393 -0.691849  0.094213   \n",
       "1     0.329042  1.414712       0.156924      -0.082212  0.793869 -0.775793   \n",
       "2    -0.270943 -0.812495       0.485243       1.186400 -0.691849  0.740126   \n",
       "3     1.229020 -0.367054       0.375803      -1.287393 -0.691849 -0.512155   \n",
       "4    -1.170920  0.142022       0.923001       0.425233  0.326929 -0.564882   \n",
       "\n",
       "   DiabetesPedigreeFunction       Age  \n",
       "0                 -0.607314  0.739033  \n",
       "1                  0.348236  1.499302  \n",
       "2                 -0.710453  0.570084  \n",
       "3                 -0.713486  2.090623  \n",
       "4                  0.129824 -1.034929  "
      ]
     },
     "execution_count": 20,
     "metadata": {},
     "output_type": "execute_result"
    }
   ],
   "source": [
    "X_test=pd.DataFrame(X_test,columns=['Pregnancies','Glucose','BloodPressure','SkinThickness','Insulin','BMI','DiabetesPedigreeFunction','Age'])\n",
    "X_test.head()"
   ]
  },
  {
   "cell_type": "code",
   "execution_count": 21,
   "id": "34e26201",
   "metadata": {},
   "outputs": [],
   "source": [
    "y_test.reset_index(drop=True, inplace=True)"
   ]
  },
  {
   "cell_type": "code",
   "execution_count": 22,
   "id": "762de29b",
   "metadata": {},
   "outputs": [
    {
     "data": {
      "text/html": [
       "<div>\n",
       "<style scoped>\n",
       "    .dataframe tbody tr th:only-of-type {\n",
       "        vertical-align: middle;\n",
       "    }\n",
       "\n",
       "    .dataframe tbody tr th {\n",
       "        vertical-align: top;\n",
       "    }\n",
       "\n",
       "    .dataframe thead th {\n",
       "        text-align: right;\n",
       "    }\n",
       "</style>\n",
       "<table border=\"1\" class=\"dataframe\">\n",
       "  <thead>\n",
       "    <tr style=\"text-align: right;\">\n",
       "      <th></th>\n",
       "      <th>Pregnancies</th>\n",
       "      <th>Glucose</th>\n",
       "      <th>BloodPressure</th>\n",
       "      <th>SkinThickness</th>\n",
       "      <th>Insulin</th>\n",
       "      <th>BMI</th>\n",
       "      <th>DiabetesPedigreeFunction</th>\n",
       "      <th>Age</th>\n",
       "      <th>Outcome</th>\n",
       "    </tr>\n",
       "  </thead>\n",
       "  <tbody>\n",
       "    <tr>\n",
       "      <th>0</th>\n",
       "      <td>1.829005</td>\n",
       "      <td>-0.430688</td>\n",
       "      <td>-0.171394</td>\n",
       "      <td>-1.287393</td>\n",
       "      <td>-0.691849</td>\n",
       "      <td>0.094213</td>\n",
       "      <td>-0.607314</td>\n",
       "      <td>0.739033</td>\n",
       "      <td>1</td>\n",
       "    </tr>\n",
       "    <tr>\n",
       "      <th>1</th>\n",
       "      <td>0.329042</td>\n",
       "      <td>1.414712</td>\n",
       "      <td>0.156924</td>\n",
       "      <td>-0.082212</td>\n",
       "      <td>0.793869</td>\n",
       "      <td>-0.775793</td>\n",
       "      <td>0.348236</td>\n",
       "      <td>1.499302</td>\n",
       "      <td>1</td>\n",
       "    </tr>\n",
       "    <tr>\n",
       "      <th>2</th>\n",
       "      <td>-0.270943</td>\n",
       "      <td>-0.812495</td>\n",
       "      <td>0.485243</td>\n",
       "      <td>1.186400</td>\n",
       "      <td>-0.691849</td>\n",
       "      <td>0.740126</td>\n",
       "      <td>-0.710453</td>\n",
       "      <td>0.570084</td>\n",
       "      <td>0</td>\n",
       "    </tr>\n",
       "    <tr>\n",
       "      <th>3</th>\n",
       "      <td>1.229020</td>\n",
       "      <td>-0.367054</td>\n",
       "      <td>0.375803</td>\n",
       "      <td>-1.287393</td>\n",
       "      <td>-0.691849</td>\n",
       "      <td>-0.512155</td>\n",
       "      <td>-0.713486</td>\n",
       "      <td>2.090623</td>\n",
       "      <td>0</td>\n",
       "    </tr>\n",
       "    <tr>\n",
       "      <th>4</th>\n",
       "      <td>-1.170920</td>\n",
       "      <td>0.142022</td>\n",
       "      <td>0.923001</td>\n",
       "      <td>0.425233</td>\n",
       "      <td>0.326929</td>\n",
       "      <td>-0.564882</td>\n",
       "      <td>0.129824</td>\n",
       "      <td>-1.034929</td>\n",
       "      <td>0</td>\n",
       "    </tr>\n",
       "  </tbody>\n",
       "</table>\n",
       "</div>"
      ],
      "text/plain": [
       "   Pregnancies   Glucose  BloodPressure  SkinThickness   Insulin       BMI  \\\n",
       "0     1.829005 -0.430688      -0.171394      -1.287393 -0.691849  0.094213   \n",
       "1     0.329042  1.414712       0.156924      -0.082212  0.793869 -0.775793   \n",
       "2    -0.270943 -0.812495       0.485243       1.186400 -0.691849  0.740126   \n",
       "3     1.229020 -0.367054       0.375803      -1.287393 -0.691849 -0.512155   \n",
       "4    -1.170920  0.142022       0.923001       0.425233  0.326929 -0.564882   \n",
       "\n",
       "   DiabetesPedigreeFunction       Age  Outcome  \n",
       "0                 -0.607314  0.739033        1  \n",
       "1                  0.348236  1.499302        1  \n",
       "2                 -0.710453  0.570084        0  \n",
       "3                 -0.713486  2.090623        0  \n",
       "4                  0.129824 -1.034929        0  "
      ]
     },
     "execution_count": 22,
     "metadata": {},
     "output_type": "execute_result"
    }
   ],
   "source": [
    "test=pd.concat([X_test,y_test],axis=1)\n",
    "test.head()"
   ]
  },
  {
   "cell_type": "code",
   "execution_count": 23,
   "id": "6a50595a",
   "metadata": {},
   "outputs": [
    {
     "name": "stderr",
     "output_type": "stream",
     "text": [
      "C:\\Users\\suvar\\anaconda3\\lib\\site-packages\\sklearn\\base.py:443: UserWarning: X has feature names, but KNeighborsClassifier was fitted without feature names\n",
      "  warnings.warn(\n"
     ]
    },
    {
     "data": {
      "text/html": [
       "<div>\n",
       "<style scoped>\n",
       "    .dataframe tbody tr th:only-of-type {\n",
       "        vertical-align: middle;\n",
       "    }\n",
       "\n",
       "    .dataframe tbody tr th {\n",
       "        vertical-align: top;\n",
       "    }\n",
       "\n",
       "    .dataframe thead th {\n",
       "        text-align: right;\n",
       "    }\n",
       "</style>\n",
       "<table border=\"1\" class=\"dataframe\">\n",
       "  <thead>\n",
       "    <tr style=\"text-align: right;\">\n",
       "      <th></th>\n",
       "      <th>Pregnancies</th>\n",
       "      <th>Glucose</th>\n",
       "      <th>BloodPressure</th>\n",
       "      <th>SkinThickness</th>\n",
       "      <th>Insulin</th>\n",
       "      <th>BMI</th>\n",
       "      <th>DiabetesPedigreeFunction</th>\n",
       "      <th>Age</th>\n",
       "      <th>Outcome</th>\n",
       "      <th>Predicted</th>\n",
       "    </tr>\n",
       "  </thead>\n",
       "  <tbody>\n",
       "    <tr>\n",
       "      <th>0</th>\n",
       "      <td>1.829005</td>\n",
       "      <td>-0.430688</td>\n",
       "      <td>-0.171394</td>\n",
       "      <td>-1.287393</td>\n",
       "      <td>-0.691849</td>\n",
       "      <td>0.094213</td>\n",
       "      <td>-0.607314</td>\n",
       "      <td>0.739033</td>\n",
       "      <td>1</td>\n",
       "      <td>0</td>\n",
       "    </tr>\n",
       "    <tr>\n",
       "      <th>1</th>\n",
       "      <td>0.329042</td>\n",
       "      <td>1.414712</td>\n",
       "      <td>0.156924</td>\n",
       "      <td>-0.082212</td>\n",
       "      <td>0.793869</td>\n",
       "      <td>-0.775793</td>\n",
       "      <td>0.348236</td>\n",
       "      <td>1.499302</td>\n",
       "      <td>1</td>\n",
       "      <td>0</td>\n",
       "    </tr>\n",
       "    <tr>\n",
       "      <th>2</th>\n",
       "      <td>-0.270943</td>\n",
       "      <td>-0.812495</td>\n",
       "      <td>0.485243</td>\n",
       "      <td>1.186400</td>\n",
       "      <td>-0.691849</td>\n",
       "      <td>0.740126</td>\n",
       "      <td>-0.710453</td>\n",
       "      <td>0.570084</td>\n",
       "      <td>0</td>\n",
       "      <td>0</td>\n",
       "    </tr>\n",
       "    <tr>\n",
       "      <th>3</th>\n",
       "      <td>1.229020</td>\n",
       "      <td>-0.367054</td>\n",
       "      <td>0.375803</td>\n",
       "      <td>-1.287393</td>\n",
       "      <td>-0.691849</td>\n",
       "      <td>-0.512155</td>\n",
       "      <td>-0.713486</td>\n",
       "      <td>2.090623</td>\n",
       "      <td>0</td>\n",
       "      <td>0</td>\n",
       "    </tr>\n",
       "    <tr>\n",
       "      <th>4</th>\n",
       "      <td>-1.170920</td>\n",
       "      <td>0.142022</td>\n",
       "      <td>0.923001</td>\n",
       "      <td>0.425233</td>\n",
       "      <td>0.326929</td>\n",
       "      <td>-0.564882</td>\n",
       "      <td>0.129824</td>\n",
       "      <td>-1.034929</td>\n",
       "      <td>0</td>\n",
       "      <td>0</td>\n",
       "    </tr>\n",
       "  </tbody>\n",
       "</table>\n",
       "</div>"
      ],
      "text/plain": [
       "   Pregnancies   Glucose  BloodPressure  SkinThickness   Insulin       BMI  \\\n",
       "0     1.829005 -0.430688      -0.171394      -1.287393 -0.691849  0.094213   \n",
       "1     0.329042  1.414712       0.156924      -0.082212  0.793869 -0.775793   \n",
       "2    -0.270943 -0.812495       0.485243       1.186400 -0.691849  0.740126   \n",
       "3     1.229020 -0.367054       0.375803      -1.287393 -0.691849 -0.512155   \n",
       "4    -1.170920  0.142022       0.923001       0.425233  0.326929 -0.564882   \n",
       "\n",
       "   DiabetesPedigreeFunction       Age  Outcome  Predicted  \n",
       "0                 -0.607314  0.739033        1          0  \n",
       "1                  0.348236  1.499302        1          0  \n",
       "2                 -0.710453  0.570084        0          0  \n",
       "3                 -0.713486  2.090623        0          0  \n",
       "4                  0.129824 -1.034929        0          0  "
      ]
     },
     "execution_count": 23,
     "metadata": {},
     "output_type": "execute_result"
    }
   ],
   "source": [
    "test['Predicted']=model.predict(X_test)\n",
    "test.head()"
   ]
  },
  {
   "cell_type": "markdown",
   "id": "7723e5df",
   "metadata": {},
   "source": [
    "# Step 9 : Model Performance Metrics on Test data "
   ]
  },
  {
   "cell_type": "code",
   "execution_count": 24,
   "id": "74db4c0f",
   "metadata": {},
   "outputs": [
    {
     "name": "stdout",
     "output_type": "stream",
     "text": [
      "[[133  20]\n",
      " [ 41  37]]\n"
     ]
    }
   ],
   "source": [
    "from sklearn.metrics import confusion_matrix\n",
    "confusion_matrix = confusion_matrix(test['Outcome'],test['Predicted'])\n",
    "print(confusion_matrix)"
   ]
  },
  {
   "cell_type": "code",
   "execution_count": 25,
   "id": "504b2380",
   "metadata": {},
   "outputs": [
    {
     "data": {
      "text/plain": [
       "73.59307359307358"
      ]
     },
     "execution_count": 25,
     "metadata": {},
     "output_type": "execute_result"
    }
   ],
   "source": [
    "Accuracy_test=((133+37)/(231)*100)\n",
    "Accuracy_test"
   ]
  },
  {
   "cell_type": "code",
   "execution_count": 26,
   "id": "c26b3400",
   "metadata": {},
   "outputs": [
    {
     "name": "stdout",
     "output_type": "stream",
     "text": [
      "              precision    recall  f1-score   support\n",
      "\n",
      "           0       0.76      0.87      0.81       153\n",
      "           1       0.65      0.47      0.55        78\n",
      "\n",
      "    accuracy                           0.74       231\n",
      "   macro avg       0.71      0.67      0.68       231\n",
      "weighted avg       0.73      0.74      0.72       231\n",
      "\n"
     ]
    }
   ],
   "source": [
    "from sklearn.metrics import classification_report\n",
    "print(classification_report(test['Outcome'], test['Predicted']))"
   ]
  },
  {
   "cell_type": "markdown",
   "id": "9036f937",
   "metadata": {},
   "source": [
    "# Cross Validation Method  - Random concept\n",
    "\n",
    "* To identify the best value of K"
   ]
  },
  {
   "cell_type": "code",
   "execution_count": 27,
   "id": "fe3a6520",
   "metadata": {},
   "outputs": [
    {
     "name": "stdout",
     "output_type": "stream",
     "text": [
      "Train Accuracy is  100.0        Test Accuracy is  68.0 % for K-Value: 1\n",
      "Train Accuracy is  84.0        Test Accuracy is  71.0 % for K-Value: 2\n",
      "Train Accuracy is  86.0        Test Accuracy is  75.0 % for K-Value: 3\n",
      "Train Accuracy is  81.0        Test Accuracy is  75.0 % for K-Value: 4\n",
      "Train Accuracy is  81.0        Test Accuracy is  74.0 % for K-Value: 5\n",
      "Train Accuracy is  79.0        Test Accuracy is  74.0 % for K-Value: 6\n",
      "Train Accuracy is  80.0        Test Accuracy is  76.0 % for K-Value: 7\n",
      "Train Accuracy is  80.0        Test Accuracy is  75.0 % for K-Value: 8\n",
      "Train Accuracy is  79.0        Test Accuracy is  74.0 % for K-Value: 9\n",
      "Train Accuracy is  78.0        Test Accuracy is  75.0 % for K-Value: 10\n",
      "Train Accuracy is  78.0        Test Accuracy is  75.0 % for K-Value: 11\n",
      "Train Accuracy is  78.0        Test Accuracy is  77.0 % for K-Value: 12\n",
      "Train Accuracy is  78.0        Test Accuracy is  77.0 % for K-Value: 13\n",
      "Train Accuracy is  78.0        Test Accuracy is  76.0 % for K-Value: 14\n",
      "Train Accuracy is  77.0        Test Accuracy is  77.0 % for K-Value: 15\n",
      "Train Accuracy is  78.0        Test Accuracy is  76.0 % for K-Value: 16\n",
      "Train Accuracy is  78.0        Test Accuracy is  77.0 % for K-Value: 17\n",
      "Train Accuracy is  77.0        Test Accuracy is  76.0 % for K-Value: 18\n",
      "Train Accuracy is  77.0        Test Accuracy is  75.0 % for K-Value: 19\n",
      "Train Accuracy is  76.0        Test Accuracy is  73.0 % for K-Value: 20\n",
      "Train Accuracy is  76.0        Test Accuracy is  75.0 % for K-Value: 21\n",
      "Train Accuracy is  76.0        Test Accuracy is  74.0 % for K-Value: 22\n",
      "Train Accuracy is  77.0        Test Accuracy is  74.0 % for K-Value: 23\n",
      "Train Accuracy is  76.0        Test Accuracy is  75.0 % for K-Value: 24\n",
      "Train Accuracy is  77.0        Test Accuracy is  75.0 % for K-Value: 25\n"
     ]
    }
   ],
   "source": [
    "from sklearn.metrics import accuracy_score\n",
    "for K in range(25):\n",
    "    K_value = K+1\n",
    "    model2 = KNeighborsClassifier(n_neighbors = K_value)\n",
    "    model2.fit(X_train, y_train) \n",
    "    y_pred_Train= model2.predict(X_train)\n",
    "    y_pred_test = model2.predict(X_test)\n",
    "    print(\"Train Accuracy is \", \n",
    "          round(accuracy_score(y_train,y_pred_Train)*100,0), \"      \",\"Test Accuracy is \", round(accuracy_score(y_test,y_pred_test)*100,0),\"% for K-Value:\",\n",
    "          K_value)"
   ]
  },
  {
   "cell_type": "markdown",
   "id": "b2599567",
   "metadata": {},
   "source": [
    "# train the decision tree\n",
    "## Instantiate the model with 5 neighbors. \n",
    "model = KNeighborsClassifier(n_neighbors=8,metric='euclidean')\n",
    "## Fit the model on the training data.\n",
    "model.fit(X_train, y_train)"
   ]
  },
  {
   "cell_type": "code",
   "execution_count": 28,
   "id": "bf75b1e8",
   "metadata": {},
   "outputs": [
    {
     "name": "stdout",
     "output_type": "stream",
     "text": [
      "Fitting 10 folds for each of 8 candidates, totalling 80 fits\n"
     ]
    },
    {
     "data": {
      "text/plain": [
       "GridSearchCV(cv=10, estimator=KNeighborsClassifier(),\n",
       "             param_grid={'n_neighbors': array([1, 2, 3, 4, 5, 6, 7, 8])},\n",
       "             verbose=1)"
      ]
     },
     "execution_count": 28,
     "metadata": {},
     "output_type": "execute_result"
    }
   ],
   "source": [
    "from sklearn.model_selection import GridSearchCV\n",
    "param_grid = {'n_neighbors': np.arange(1, 9)}\n",
    "\n",
    "\n",
    "knn2 = KNeighborsClassifier()\n",
    "knn_gscv = GridSearchCV(knn2, \n",
    "                        param_grid,\n",
    "                        cv=10,\n",
    "                        verbose=1)\n",
    "knn_gscv.fit(X_train, y_train)"
   ]
  },
  {
   "cell_type": "code",
   "execution_count": 30,
   "id": "e6554ba5",
   "metadata": {},
   "outputs": [
    {
     "data": {
      "text/plain": [
       "{'n_neighbors': 3}"
      ]
     },
     "execution_count": 30,
     "metadata": {},
     "output_type": "execute_result"
    }
   ],
   "source": [
    "knn_gscv.best_params_"
   ]
  },
  {
   "cell_type": "code",
   "execution_count": 31,
   "id": "5fa88c81",
   "metadata": {},
   "outputs": [
    {
     "data": {
      "text/plain": [
       "0.7354996505939903"
      ]
     },
     "execution_count": 31,
     "metadata": {},
     "output_type": "execute_result"
    }
   ],
   "source": [
    "knn_gscv.best_score_"
   ]
  },
  {
   "cell_type": "markdown",
   "id": "a38e6d8f",
   "metadata": {},
   "source": [
    "# Finish"
   ]
  },
  {
   "cell_type": "markdown",
   "id": "73d878a7",
   "metadata": {},
   "source": [
    " # Unscaled"
   ]
  },
  {
   "cell_type": "code",
   "execution_count": 32,
   "id": "7ec4ee9b",
   "metadata": {},
   "outputs": [
    {
     "data": {
      "text/plain": [
       "<AxesSubplot:>"
      ]
     },
     "execution_count": 32,
     "metadata": {},
     "output_type": "execute_result"
    },
    {
     "data": {
      "image/png": "[encoded data removed]",
      "text/plain": [
       "<Figure size 432x288 with 1 Axes>"
      ]
     },
     "metadata": {
      "needs_background": "light"
     },
     "output_type": "display_data"
    }
   ],
   "source": [
    "import seaborn as sns\n",
    "sns.boxplot(data=data)\n"
   ]
  },
  {
   "cell_type": "code",
   "execution_count": 34,
   "id": "1d378238",
   "metadata": {},
   "outputs": [
    {
     "data": {
      "text/plain": [
       "13.5"
      ]
     },
     "execution_count": 34,
     "metadata": {},
     "output_type": "execute_result"
    }
   ],
   "source": [
    "q1 = data['Pregnancies'].quantile(0.25)\n",
    "q3 = data['Pregnancies'].quantile(0.75)\n",
    "iqr = q3-q1 #Interquartile range\n",
    "upper_limit = q3+1.5*iqr #acceptable range\n",
    "upper_limit"
   ]
  },
  {
   "cell_type": "code",
   "execution_count": 36,
   "id": "c6ef741d",
   "metadata": {},
   "outputs": [],
   "source": [
    "data['Pregnancies']=np.where(data['Pregnancies'] > upper_limit,upper_limit,data['Pregnancies']) \n"
   ]
  },
  {
   "cell_type": "code",
   "execution_count": 37,
   "id": "25a28434",
   "metadata": {},
   "outputs": [
    {
     "data": {
      "text/plain": [
       "<AxesSubplot:ylabel='Pregnancies'>"
      ]
     },
     "execution_count": 37,
     "metadata": {},
     "output_type": "execute_result"
    },
    {
     "data": {
      "image/png": "[encoded data removed]",
      "text/plain": [
       "<Figure size 432x288 with 1 Axes>"
      ]
     },
     "metadata": {
      "needs_background": "light"
     },
     "output_type": "display_data"
    }
   ],
   "source": [
    "sns.boxplot(y='Pregnancies',data=data)  # Single Variable"
   ]
  },
  {
   "cell_type": "code",
   "execution_count": 38,
   "id": "59034024",
   "metadata": {},
   "outputs": [
    {
     "data": {
      "text/plain": [
       "<AxesSubplot:ylabel='Glucose'>"
      ]
     },
     "execution_count": 38,
     "metadata": {},
     "output_type": "execute_result"
    },
    {
     "data": {
      "image/png": "[encoded data removed]",
      "text/plain": [
       "<Figure size 432x288 with 1 Axes>"
      ]
     },
     "metadata": {
      "needs_background": "light"
     },
     "output_type": "display_data"
    }
   ],
   "source": [
    "sns.boxplot(y=data.Glucose) "
   ]
  },
  {
   "cell_type": "code",
   "execution_count": 39,
   "id": "830f034f",
   "metadata": {},
   "outputs": [
    {
     "data": {
      "text/plain": [
       "<AxesSubplot:ylabel='Glucose'>"
      ]
     },
     "execution_count": 39,
     "metadata": {},
     "output_type": "execute_result"
    },
    {
     "data": {
      "image/png": "[encoded data removed]",
      "text/plain": [
       "<Figure size 432x288 with 1 Axes>"
      ]
     },
     "metadata": {
      "needs_background": "light"
     },
     "output_type": "display_data"
    }
   ],
   "source": [
    "q1 = data['Glucose'].quantile(0.25)\n",
    "q3 = data['Glucose'].quantile(0.75)\n",
    "iqr = q3-q1 #Interquartile range\n",
    "lower_limit = q1-1.5*iqr #acceptable range\n",
    "lower_limit\n",
    "data['Glucose']=np.where(data['Glucose'] < lower_limit,lower_limit,data['Glucose']) \n",
    "sns.boxplot(y='Glucose',data=data)  # Single Variable"
   ]
  },
  {
   "cell_type": "code",
   "execution_count": 40,
   "id": "9c259d2c",
   "metadata": {},
   "outputs": [
    {
     "data": {
      "text/plain": [
       "<AxesSubplot:ylabel='BloodPressure'>"
      ]
     },
     "execution_count": 40,
     "metadata": {},
     "output_type": "execute_result"
    },
    {
     "data": {
      "image/png": "[encoded data removed]",
      "text/plain": [
       "<Figure size 432x288 with 1 Axes>"
      ]
     },
     "metadata": {
      "needs_background": "light"
     },
     "output_type": "display_data"
    }
   ],
   "source": [
    "sns.boxplot(y=data.BloodPressure)  # Single Variable"
   ]
  },
  {
   "cell_type": "code",
   "execution_count": 41,
   "id": "8f4dc853",
   "metadata": {},
   "outputs": [
    {
     "data": {
      "text/plain": [
       "<AxesSubplot:ylabel='BloodPressure'>"
      ]
     },
     "execution_count": 41,
     "metadata": {},
     "output_type": "execute_result"
    },
    {
     "data": {
      "image/png": "[encoded data removed]",
      "text/plain": [
       "<Figure size 432x288 with 1 Axes>"
      ]
     },
     "metadata": {
      "needs_background": "light"
     },
     "output_type": "display_data"
    }
   ],
   "source": [
    "q1 = data['BloodPressure'].quantile(0.25)\n",
    "q3 = data['BloodPressure'].quantile(0.75)\n",
    "iqr = q3-q1 #Interquartile range\n",
    "lower_limit = q1-1.5*iqr #acceptable range\n",
    "lower_limit\n",
    "data['BloodPressure']=np.where(data['BloodPressure'] < lower_limit,lower_limit,data['BloodPressure']) \n",
    "sns.boxplot(y='BloodPressure',data=data)  # Single Variable"
   ]
  },
  {
   "cell_type": "code",
   "execution_count": 42,
   "id": "78f15c47",
   "metadata": {},
   "outputs": [
    {
     "data": {
      "text/plain": [
       "<AxesSubplot:ylabel='BloodPressure'>"
      ]
     },
     "execution_count": 42,
     "metadata": {},
     "output_type": "execute_result"
    },
    {
     "data": {
      "image/png": "[encoded data removed]",
      "text/plain": [
       "<Figure size 432x288 with 1 Axes>"
      ]
     },
     "metadata": {
      "needs_background": "light"
     },
     "output_type": "display_data"
    }
   ],
   "source": [
    "q1 = data['BloodPressure'].quantile(0.25)\n",
    "q3 = data['BloodPressure'].quantile(0.75)\n",
    "iqr = q3-q1 #Interquartile range\n",
    "upper_limit = q3+1.5*iqr #acceptable range\n",
    "upper_limit\n",
    "data['BloodPressure']=np.where(data['BloodPressure'] > upper_limit,upper_limit,data['BloodPressure']) \n",
    "sns.boxplot(y='BloodPressure',data=data)  # Single Variable"
   ]
  },
  {
   "cell_type": "code",
   "execution_count": 43,
   "id": "ec484c52",
   "metadata": {},
   "outputs": [
    {
     "data": {
      "text/plain": [
       "<AxesSubplot:ylabel='SkinThickness'>"
      ]
     },
     "execution_count": 43,
     "metadata": {},
     "output_type": "execute_result"
    },
    {
     "data": {
      "image/png": "[encoded data removed]",
      "text/plain": [
       "<Figure size 432x288 with 1 Axes>"
      ]
     },
     "metadata": {
      "needs_background": "light"
     },
     "output_type": "display_data"
    }
   ],
   "source": [
    "sns.boxplot(y=data.SkinThickness)  # Single Variable"
   ]
  },
  {
   "cell_type": "code",
   "execution_count": 44,
   "id": "ed94fc0a",
   "metadata": {},
   "outputs": [
    {
     "data": {
      "text/plain": [
       "<AxesSubplot:ylabel='SkinThickness'>"
      ]
     },
     "execution_count": 44,
     "metadata": {},
     "output_type": "execute_result"
    },
    {
     "data": {
      "image/png": "[encoded data removed]",
      "text/plain": [
       "<Figure size 432x288 with 1 Axes>"
      ]
     },
     "metadata": {
      "needs_background": "light"
     },
     "output_type": "display_data"
    }
   ],
   "source": [
    "q1 = data['SkinThickness'].quantile(0.25)\n",
    "q3 = data['SkinThickness'].quantile(0.75)\n",
    "iqr = q3-q1 #Interquartile range\n",
    "upper_limit = q3+1.5*iqr #acceptable range\n",
    "upper_limit\n",
    "data['SkinThickness']=np.where(data['SkinThickness'] > upper_limit,upper_limit,data['SkinThickness']) \n",
    "sns.boxplot(y='SkinThickness',data=data)  # Single Variable"
   ]
  },
  {
   "cell_type": "code",
   "execution_count": 45,
   "id": "d6116d84",
   "metadata": {},
   "outputs": [
    {
     "data": {
      "text/plain": [
       "<AxesSubplot:ylabel='Insulin'>"
      ]
     },
     "execution_count": 45,
     "metadata": {},
     "output_type": "execute_result"
    },
    {
     "data": {
      "image/png": "[encoded data removed]",
      "text/plain": [
       "<Figure size 432x288 with 1 Axes>"
      ]
     },
     "metadata": {
      "needs_background": "light"
     },
     "output_type": "display_data"
    }
   ],
   "source": [
    "sns.boxplot(y=data.Insulin)  # Single Variable"
   ]
  },
  {
   "cell_type": "code",
   "execution_count": 46,
   "id": "b29ea16d",
   "metadata": {},
   "outputs": [
    {
     "data": {
      "text/plain": [
       "<AxesSubplot:ylabel='Insulin'>"
      ]
     },
     "execution_count": 46,
     "metadata": {},
     "output_type": "execute_result"
    },
    {
     "data": {
      "image/png": "[encoded data removed]",
      "text/plain": [
       "<Figure size 432x288 with 1 Axes>"
      ]
     },
     "metadata": {
      "needs_background": "light"
     },
     "output_type": "display_data"
    }
   ],
   "source": [
    "q1 = data['Insulin'].quantile(0.25)\n",
    "q3 = data['Insulin'].quantile(0.75)\n",
    "iqr = q3-q1 #Interquartile range\n",
    "upper_limit = q3+1.5*iqr #acceptable range\n",
    "upper_limit\n",
    "data['Insulin']=np.where(data['Insulin'] > upper_limit,upper_limit,data['Insulin']) \n",
    "sns.boxplot(y='Insulin',data=data)  # Single Variable"
   ]
  },
  {
   "cell_type": "code",
   "execution_count": 47,
   "id": "70d8cf4e",
   "metadata": {},
   "outputs": [
    {
     "data": {
      "text/plain": [
       "<AxesSubplot:ylabel='BMI'>"
      ]
     },
     "execution_count": 47,
     "metadata": {},
     "output_type": "execute_result"
    },
    {
     "data": {
      "image/png": "[encoded data removed]",
      "text/plain": [
       "<Figure size 432x288 with 1 Axes>"
      ]
     },
     "metadata": {
      "needs_background": "light"
     },
     "output_type": "display_data"
    }
   ],
   "source": [
    "sns.boxplot(y=data.BMI)  # Single Variable"
   ]
  },
  {
   "cell_type": "code",
   "execution_count": 48,
   "id": "cca378b0",
   "metadata": {},
   "outputs": [
    {
     "data": {
      "text/plain": [
       "<AxesSubplot:ylabel='BMI'>"
      ]
     },
     "execution_count": 48,
     "metadata": {},
     "output_type": "execute_result"
    },
    {
     "data": {
      "image/png": "[encoded data removed]",
      "text/plain": [
       "<Figure size 432x288 with 1 Axes>"
      ]
     },
     "metadata": {
      "needs_background": "light"
     },
     "output_type": "display_data"
    }
   ],
   "source": [
    "q1 = data['BMI'].quantile(0.25)\n",
    "q3 = data['BMI'].quantile(0.75)\n",
    "iqr = q3-q1 #Interquartile range\n",
    "upper_limit = q3+1.5*iqr #acceptable range\n",
    "upper_limit\n",
    "data['BMI']=np.where(data['BMI'] > upper_limit,upper_limit,data['BMI']) \n",
    "sns.boxplot(y='BMI',data=data)  # Single Variable"
   ]
  },
  {
   "cell_type": "code",
   "execution_count": 49,
   "id": "04901804",
   "metadata": {},
   "outputs": [
    {
     "data": {
      "text/plain": [
       "<AxesSubplot:ylabel='BMI'>"
      ]
     },
     "execution_count": 49,
     "metadata": {},
     "output_type": "execute_result"
    },
    {
     "data": {
      "image/png": "[encoded data removed]",
      "text/plain": [
       "<Figure size 432x288 with 1 Axes>"
      ]
     },
     "metadata": {
      "needs_background": "light"
     },
     "output_type": "display_data"
    }
   ],
   "source": [
    "q1 = data['BMI'].quantile(0.25)\n",
    "q3 = data['BMI'].quantile(0.75)\n",
    "iqr = q3-q1 #Interquartile range\n",
    "lower_limit = q1-1.5*iqr #acceptable range\n",
    "lower_limit\n",
    "data['BMI']=np.where(data['BMI'] < lower_limit,lower_limit,data['BMI']) \n",
    "sns.boxplot(y='BMI',data=data)  # Single Variable"
   ]
  },
  {
   "cell_type": "code",
   "execution_count": 50,
   "id": "0e63e531",
   "metadata": {},
   "outputs": [
    {
     "data": {
      "text/plain": [
       "<AxesSubplot:ylabel='DiabetesPedigreeFunction'>"
      ]
     },
     "execution_count": 50,
     "metadata": {},
     "output_type": "execute_result"
    },
    {
     "data": {
      "image/png": "[encoded data removed]",
      "text/plain": [
       "<Figure size 432x288 with 1 Axes>"
      ]
     },
     "metadata": {
      "needs_background": "light"
     },
     "output_type": "display_data"
    }
   ],
   "source": [
    "sns.boxplot(y=data.DiabetesPedigreeFunction)  # Single Variable"
   ]
  },
  {
   "cell_type": "code",
   "execution_count": 51,
   "id": "3dae9337",
   "metadata": {},
   "outputs": [
    {
     "data": {
      "text/plain": [
       "<AxesSubplot:ylabel='DiabetesPedigreeFunction'>"
      ]
     },
     "execution_count": 51,
     "metadata": {},
     "output_type": "execute_result"
    },
    {
     "data": {
      "image/png": "[encoded data removed]",
      "text/plain": [
       "<Figure size 432x288 with 1 Axes>"
      ]
     },
     "metadata": {
      "needs_background": "light"
     },
     "output_type": "display_data"
    }
   ],
   "source": [
    "q1 = data['DiabetesPedigreeFunction'].quantile(0.25)\n",
    "q3 = data['DiabetesPedigreeFunction'].quantile(0.75)\n",
    "iqr = q3-q1 #Interquartile range\n",
    "upper_limit = q3+1.5*iqr #acceptable range\n",
    "upper_limit\n",
    "data['DiabetesPedigreeFunction']=np.where(data['DiabetesPedigreeFunction'] > upper_limit,upper_limit,data['DiabetesPedigreeFunction']) \n",
    "sns.boxplot(y='DiabetesPedigreeFunction',data=data)  # Single Variable"
   ]
  },
  {
   "cell_type": "code",
   "execution_count": 52,
   "id": "d131a88a",
   "metadata": {},
   "outputs": [
    {
     "data": {
      "text/plain": [
       "<AxesSubplot:ylabel='Age'>"
      ]
     },
     "execution_count": 52,
     "metadata": {},
     "output_type": "execute_result"
    },
    {
     "data": {
      "image/png": "[encoded data removed]",
      "text/plain": [
       "<Figure size 432x288 with 1 Axes>"
      ]
     },
     "metadata": {
      "needs_background": "light"
     },
     "output_type": "display_data"
    }
   ],
   "source": [
    "sns.boxplot(y=data.Age)  # Single Variable"
   ]
  },
  {
   "cell_type": "code",
   "execution_count": 53,
   "id": "0671de3e",
   "metadata": {},
   "outputs": [
    {
     "data": {
      "text/plain": [
       "<AxesSubplot:ylabel='Age'>"
      ]
     },
     "execution_count": 53,
     "metadata": {},
     "output_type": "execute_result"
    },
    {
     "data": {
      "image/png": "[encoded data removed]",
      "text/plain": [
       "<Figure size 432x288 with 1 Axes>"
      ]
     },
     "metadata": {
      "needs_background": "light"
     },
     "output_type": "display_data"
    }
   ],
   "source": [
    "q1 = data['Age'].quantile(0.25)\n",
    "q3 = data['Age'].quantile(0.75)\n",
    "iqr = q3-q1 #Interquartile range\n",
    "upper_limit = q3+1.5*iqr #acceptable range\n",
    "upper_limit\n",
    "data['Age']=np.where(data['Age'] > upper_limit,upper_limit,data['Age']) \n",
    "sns.boxplot(y='Age',data=data)  # Single Variable"
   ]
  },
  {
   "cell_type": "code",
   "execution_count": 54,
   "id": "5fd8aa3e",
   "metadata": {},
   "outputs": [
    {
     "data": {
      "text/plain": [
       "<AxesSubplot:ylabel='Outcome'>"
      ]
     },
     "execution_count": 54,
     "metadata": {},
     "output_type": "execute_result"
    },
    {
     "data": {
      "image/png": "[encoded data removed]",
      "text/plain": [
       "<Figure size 432x288 with 1 Axes>"
      ]
     },
     "metadata": {
      "needs_background": "light"
     },
     "output_type": "display_data"
    }
   ],
   "source": [
    "sns.boxplot(y=data.Outcome)  # Single Variable"
   ]
  },
  {
   "cell_type": "markdown",
   "id": "d69ff11a",
   "metadata": {},
   "source": [
    "# Step 3 : Data Partition"
   ]
  },
  {
   "cell_type": "code",
   "execution_count": 55,
   "id": "a6fec5b6",
   "metadata": {},
   "outputs": [],
   "source": [
    "#Dividing data into train and test dataset\n",
    "from sklearn.model_selection import train_test_split\n",
    "#from random import seed\n",
    "\n",
    "#seed(20)\n",
    "train_x = data.drop(['Outcome'],axis=1)\n",
    "train_y = data['Outcome']\n",
    "\n",
    "# Train test split\n",
    "\n",
    "X_train, X_test, y_train, y_test =train_test_split(train_x, train_y, test_size=0.3,random_state=20)"
   ]
  },
  {
   "cell_type": "markdown",
   "id": "cade5259",
   "metadata": {},
   "source": [
    "# Step 4 : Model Building \n"
   ]
  },
  {
   "cell_type": "code",
   "execution_count": 56,
   "id": "0a7ad68d",
   "metadata": {},
   "outputs": [
    {
     "data": {
      "text/plain": [
       "KNeighborsClassifier(n_neighbors=7)"
      ]
     },
     "execution_count": 56,
     "metadata": {},
     "output_type": "execute_result"
    }
   ],
   "source": [
    "## Instantiate the model with 5 neighbors. \n",
    "model = KNeighborsClassifier(n_neighbors=7)  \n",
    "\n",
    "# randomly taken k =  4 \n",
    "# taken  k = sqrt(n)\n",
    "\n",
    "## Fit the model on the training data.\n",
    "model.fit(X_train, y_train)"
   ]
  },
  {
   "cell_type": "markdown",
   "id": "e3e4d554",
   "metadata": {},
   "source": [
    "# Step 5 : Predictions on Train Dataset"
   ]
  },
  {
   "cell_type": "code",
   "execution_count": 57,
   "id": "7a35d3e9",
   "metadata": {},
   "outputs": [
    {
     "data": {
      "text/html": [
       "<div>\n",
       "<style scoped>\n",
       "    .dataframe tbody tr th:only-of-type {\n",
       "        vertical-align: middle;\n",
       "    }\n",
       "\n",
       "    .dataframe tbody tr th {\n",
       "        vertical-align: top;\n",
       "    }\n",
       "\n",
       "    .dataframe thead th {\n",
       "        text-align: right;\n",
       "    }\n",
       "</style>\n",
       "<table border=\"1\" class=\"dataframe\">\n",
       "  <thead>\n",
       "    <tr style=\"text-align: right;\">\n",
       "      <th></th>\n",
       "      <th>Pregnancies</th>\n",
       "      <th>Glucose</th>\n",
       "      <th>BloodPressure</th>\n",
       "      <th>SkinThickness</th>\n",
       "      <th>Insulin</th>\n",
       "      <th>BMI</th>\n",
       "      <th>DiabetesPedigreeFunction</th>\n",
       "      <th>Age</th>\n",
       "      <th>Outcome</th>\n",
       "    </tr>\n",
       "  </thead>\n",
       "  <tbody>\n",
       "    <tr>\n",
       "      <th>416</th>\n",
       "      <td>1.0</td>\n",
       "      <td>97.0</td>\n",
       "      <td>68.0</td>\n",
       "      <td>21.0</td>\n",
       "      <td>0.0</td>\n",
       "      <td>27.2</td>\n",
       "      <td>1.095</td>\n",
       "      <td>22.0</td>\n",
       "      <td>0</td>\n",
       "    </tr>\n",
       "    <tr>\n",
       "      <th>373</th>\n",
       "      <td>2.0</td>\n",
       "      <td>105.0</td>\n",
       "      <td>58.0</td>\n",
       "      <td>40.0</td>\n",
       "      <td>94.0</td>\n",
       "      <td>34.9</td>\n",
       "      <td>0.225</td>\n",
       "      <td>25.0</td>\n",
       "      <td>0</td>\n",
       "    </tr>\n",
       "    <tr>\n",
       "      <th>166</th>\n",
       "      <td>3.0</td>\n",
       "      <td>148.0</td>\n",
       "      <td>66.0</td>\n",
       "      <td>25.0</td>\n",
       "      <td>0.0</td>\n",
       "      <td>32.5</td>\n",
       "      <td>0.256</td>\n",
       "      <td>22.0</td>\n",
       "      <td>0</td>\n",
       "    </tr>\n",
       "    <tr>\n",
       "      <th>685</th>\n",
       "      <td>2.0</td>\n",
       "      <td>129.0</td>\n",
       "      <td>74.0</td>\n",
       "      <td>26.0</td>\n",
       "      <td>205.0</td>\n",
       "      <td>33.2</td>\n",
       "      <td>0.591</td>\n",
       "      <td>25.0</td>\n",
       "      <td>0</td>\n",
       "    </tr>\n",
       "    <tr>\n",
       "      <th>156</th>\n",
       "      <td>2.0</td>\n",
       "      <td>99.0</td>\n",
       "      <td>52.0</td>\n",
       "      <td>15.0</td>\n",
       "      <td>94.0</td>\n",
       "      <td>24.6</td>\n",
       "      <td>0.637</td>\n",
       "      <td>21.0</td>\n",
       "      <td>0</td>\n",
       "    </tr>\n",
       "  </tbody>\n",
       "</table>\n",
       "</div>"
      ],
      "text/plain": [
       "     Pregnancies  Glucose  BloodPressure  SkinThickness  Insulin   BMI  \\\n",
       "416          1.0     97.0           68.0           21.0      0.0  27.2   \n",
       "373          2.0    105.0           58.0           40.0     94.0  34.9   \n",
       "166          3.0    148.0           66.0           25.0      0.0  32.5   \n",
       "685          2.0    129.0           74.0           26.0    205.0  33.2   \n",
       "156          2.0     99.0           52.0           15.0     94.0  24.6   \n",
       "\n",
       "     DiabetesPedigreeFunction   Age  Outcome  \n",
       "416                     1.095  22.0        0  \n",
       "373                     0.225  25.0        0  \n",
       "166                     0.256  22.0        0  \n",
       "685                     0.591  25.0        0  \n",
       "156                     0.637  21.0        0  "
      ]
     },
     "execution_count": 57,
     "metadata": {},
     "output_type": "execute_result"
    }
   ],
   "source": [
    "train=pd.concat([X_train,y_train],axis=1)\n",
    "train.head()"
   ]
  },
  {
   "cell_type": "code",
   "execution_count": 58,
   "id": "412e3647",
   "metadata": {},
   "outputs": [
    {
     "data": {
      "text/html": [
       "<div>\n",
       "<style scoped>\n",
       "    .dataframe tbody tr th:only-of-type {\n",
       "        vertical-align: middle;\n",
       "    }\n",
       "\n",
       "    .dataframe tbody tr th {\n",
       "        vertical-align: top;\n",
       "    }\n",
       "\n",
       "    .dataframe thead th {\n",
       "        text-align: right;\n",
       "    }\n",
       "</style>\n",
       "<table border=\"1\" class=\"dataframe\">\n",
       "  <thead>\n",
       "    <tr style=\"text-align: right;\">\n",
       "      <th></th>\n",
       "      <th>Pregnancies</th>\n",
       "      <th>Glucose</th>\n",
       "      <th>BloodPressure</th>\n",
       "      <th>SkinThickness</th>\n",
       "      <th>Insulin</th>\n",
       "      <th>BMI</th>\n",
       "      <th>DiabetesPedigreeFunction</th>\n",
       "      <th>Age</th>\n",
       "      <th>Outcome</th>\n",
       "      <th>Predicted</th>\n",
       "    </tr>\n",
       "  </thead>\n",
       "  <tbody>\n",
       "    <tr>\n",
       "      <th>416</th>\n",
       "      <td>1.0</td>\n",
       "      <td>97.0</td>\n",
       "      <td>68.0</td>\n",
       "      <td>21.0</td>\n",
       "      <td>0.0</td>\n",
       "      <td>27.2</td>\n",
       "      <td>1.095</td>\n",
       "      <td>22.0</td>\n",
       "      <td>0</td>\n",
       "      <td>0</td>\n",
       "    </tr>\n",
       "    <tr>\n",
       "      <th>373</th>\n",
       "      <td>2.0</td>\n",
       "      <td>105.0</td>\n",
       "      <td>58.0</td>\n",
       "      <td>40.0</td>\n",
       "      <td>94.0</td>\n",
       "      <td>34.9</td>\n",
       "      <td>0.225</td>\n",
       "      <td>25.0</td>\n",
       "      <td>0</td>\n",
       "      <td>0</td>\n",
       "    </tr>\n",
       "    <tr>\n",
       "      <th>166</th>\n",
       "      <td>3.0</td>\n",
       "      <td>148.0</td>\n",
       "      <td>66.0</td>\n",
       "      <td>25.0</td>\n",
       "      <td>0.0</td>\n",
       "      <td>32.5</td>\n",
       "      <td>0.256</td>\n",
       "      <td>22.0</td>\n",
       "      <td>0</td>\n",
       "      <td>0</td>\n",
       "    </tr>\n",
       "    <tr>\n",
       "      <th>685</th>\n",
       "      <td>2.0</td>\n",
       "      <td>129.0</td>\n",
       "      <td>74.0</td>\n",
       "      <td>26.0</td>\n",
       "      <td>205.0</td>\n",
       "      <td>33.2</td>\n",
       "      <td>0.591</td>\n",
       "      <td>25.0</td>\n",
       "      <td>0</td>\n",
       "      <td>0</td>\n",
       "    </tr>\n",
       "    <tr>\n",
       "      <th>156</th>\n",
       "      <td>2.0</td>\n",
       "      <td>99.0</td>\n",
       "      <td>52.0</td>\n",
       "      <td>15.0</td>\n",
       "      <td>94.0</td>\n",
       "      <td>24.6</td>\n",
       "      <td>0.637</td>\n",
       "      <td>21.0</td>\n",
       "      <td>0</td>\n",
       "      <td>0</td>\n",
       "    </tr>\n",
       "  </tbody>\n",
       "</table>\n",
       "</div>"
      ],
      "text/plain": [
       "     Pregnancies  Glucose  BloodPressure  SkinThickness  Insulin   BMI  \\\n",
       "416          1.0     97.0           68.0           21.0      0.0  27.2   \n",
       "373          2.0    105.0           58.0           40.0     94.0  34.9   \n",
       "166          3.0    148.0           66.0           25.0      0.0  32.5   \n",
       "685          2.0    129.0           74.0           26.0    205.0  33.2   \n",
       "156          2.0     99.0           52.0           15.0     94.0  24.6   \n",
       "\n",
       "     DiabetesPedigreeFunction   Age  Outcome  Predicted  \n",
       "416                     1.095  22.0        0          0  \n",
       "373                     0.225  25.0        0          0  \n",
       "166                     0.256  22.0        0          0  \n",
       "685                     0.591  25.0        0          0  \n",
       "156                     0.637  21.0        0          0  "
      ]
     },
     "execution_count": 58,
     "metadata": {},
     "output_type": "execute_result"
    }
   ],
   "source": [
    "train['Predicted']=model.predict(X_train)\n",
    "train.head()"
   ]
  },
  {
   "cell_type": "markdown",
   "id": "a78d7591",
   "metadata": {},
   "source": [
    "# Step 6 : Model Performance Metrics"
   ]
  },
  {
   "cell_type": "code",
   "execution_count": 59,
   "id": "2e0d0d4d",
   "metadata": {},
   "outputs": [
    {
     "name": "stdout",
     "output_type": "stream",
     "text": [
      "[[302  45]\n",
      " [ 67 123]]\n"
     ]
    }
   ],
   "source": [
    "from sklearn.metrics import confusion_matrix\n",
    "confusion_matrix = confusion_matrix(train['Outcome'],train['Predicted'])\n",
    "print(confusion_matrix)"
   ]
  },
  {
   "cell_type": "code",
   "execution_count": 60,
   "id": "d3a372e5",
   "metadata": {},
   "outputs": [
    {
     "name": "stdout",
     "output_type": "stream",
     "text": [
      "79.14338919925513\n"
     ]
    }
   ],
   "source": [
    "Accuracy_Train=((302+123)/(537)*100)\n",
    "print(Accuracy_Train)"
   ]
  },
  {
   "cell_type": "markdown",
   "id": "b06d5912",
   "metadata": {},
   "source": [
    "# Step 7 : Predictions on Test Dataset"
   ]
  },
  {
   "cell_type": "code",
   "execution_count": 61,
   "id": "6fd28cdd",
   "metadata": {},
   "outputs": [
    {
     "data": {
      "text/html": [
       "<div>\n",
       "<style scoped>\n",
       "    .dataframe tbody tr th:only-of-type {\n",
       "        vertical-align: middle;\n",
       "    }\n",
       "\n",
       "    .dataframe tbody tr th {\n",
       "        vertical-align: top;\n",
       "    }\n",
       "\n",
       "    .dataframe thead th {\n",
       "        text-align: right;\n",
       "    }\n",
       "</style>\n",
       "<table border=\"1\" class=\"dataframe\">\n",
       "  <thead>\n",
       "    <tr style=\"text-align: right;\">\n",
       "      <th></th>\n",
       "      <th>Pregnancies</th>\n",
       "      <th>Glucose</th>\n",
       "      <th>BloodPressure</th>\n",
       "      <th>SkinThickness</th>\n",
       "      <th>Insulin</th>\n",
       "      <th>BMI</th>\n",
       "      <th>DiabetesPedigreeFunction</th>\n",
       "      <th>Age</th>\n",
       "      <th>Outcome</th>\n",
       "    </tr>\n",
       "  </thead>\n",
       "  <tbody>\n",
       "    <tr>\n",
       "      <th>143</th>\n",
       "      <td>10.0</td>\n",
       "      <td>108.0</td>\n",
       "      <td>66.0</td>\n",
       "      <td>0.0</td>\n",
       "      <td>0.0</td>\n",
       "      <td>32.4</td>\n",
       "      <td>0.272</td>\n",
       "      <td>42.0</td>\n",
       "      <td>1</td>\n",
       "    </tr>\n",
       "    <tr>\n",
       "      <th>14</th>\n",
       "      <td>5.0</td>\n",
       "      <td>166.0</td>\n",
       "      <td>72.0</td>\n",
       "      <td>19.0</td>\n",
       "      <td>175.0</td>\n",
       "      <td>25.8</td>\n",
       "      <td>0.587</td>\n",
       "      <td>51.0</td>\n",
       "      <td>1</td>\n",
       "    </tr>\n",
       "    <tr>\n",
       "      <th>504</th>\n",
       "      <td>3.0</td>\n",
       "      <td>96.0</td>\n",
       "      <td>78.0</td>\n",
       "      <td>39.0</td>\n",
       "      <td>0.0</td>\n",
       "      <td>37.3</td>\n",
       "      <td>0.238</td>\n",
       "      <td>40.0</td>\n",
       "      <td>0</td>\n",
       "    </tr>\n",
       "    <tr>\n",
       "      <th>557</th>\n",
       "      <td>8.0</td>\n",
       "      <td>110.0</td>\n",
       "      <td>76.0</td>\n",
       "      <td>0.0</td>\n",
       "      <td>0.0</td>\n",
       "      <td>27.8</td>\n",
       "      <td>0.237</td>\n",
       "      <td>58.0</td>\n",
       "      <td>0</td>\n",
       "    </tr>\n",
       "    <tr>\n",
       "      <th>736</th>\n",
       "      <td>0.0</td>\n",
       "      <td>126.0</td>\n",
       "      <td>86.0</td>\n",
       "      <td>27.0</td>\n",
       "      <td>120.0</td>\n",
       "      <td>27.4</td>\n",
       "      <td>0.515</td>\n",
       "      <td>21.0</td>\n",
       "      <td>0</td>\n",
       "    </tr>\n",
       "  </tbody>\n",
       "</table>\n",
       "</div>"
      ],
      "text/plain": [
       "     Pregnancies  Glucose  BloodPressure  SkinThickness  Insulin   BMI  \\\n",
       "143         10.0    108.0           66.0            0.0      0.0  32.4   \n",
       "14           5.0    166.0           72.0           19.0    175.0  25.8   \n",
       "504          3.0     96.0           78.0           39.0      0.0  37.3   \n",
       "557          8.0    110.0           76.0            0.0      0.0  27.8   \n",
       "736          0.0    126.0           86.0           27.0    120.0  27.4   \n",
       "\n",
       "     DiabetesPedigreeFunction   Age  Outcome  \n",
       "143                     0.272  42.0        1  \n",
       "14                      0.587  51.0        1  \n",
       "504                     0.238  40.0        0  \n",
       "557                     0.237  58.0        0  \n",
       "736                     0.515  21.0        0  "
      ]
     },
     "execution_count": 61,
     "metadata": {},
     "output_type": "execute_result"
    }
   ],
   "source": [
    "test=pd.concat([X_test,y_test],axis=1)\n",
    "test.head()"
   ]
  },
  {
   "cell_type": "code",
   "execution_count": 62,
   "id": "795f3bbd",
   "metadata": {},
   "outputs": [
    {
     "data": {
      "text/html": [
       "<div>\n",
       "<style scoped>\n",
       "    .dataframe tbody tr th:only-of-type {\n",
       "        vertical-align: middle;\n",
       "    }\n",
       "\n",
       "    .dataframe tbody tr th {\n",
       "        vertical-align: top;\n",
       "    }\n",
       "\n",
       "    .dataframe thead th {\n",
       "        text-align: right;\n",
       "    }\n",
       "</style>\n",
       "<table border=\"1\" class=\"dataframe\">\n",
       "  <thead>\n",
       "    <tr style=\"text-align: right;\">\n",
       "      <th></th>\n",
       "      <th>Pregnancies</th>\n",
       "      <th>Glucose</th>\n",
       "      <th>BloodPressure</th>\n",
       "      <th>SkinThickness</th>\n",
       "      <th>Insulin</th>\n",
       "      <th>BMI</th>\n",
       "      <th>DiabetesPedigreeFunction</th>\n",
       "      <th>Age</th>\n",
       "      <th>Outcome</th>\n",
       "      <th>Predicted</th>\n",
       "    </tr>\n",
       "  </thead>\n",
       "  <tbody>\n",
       "    <tr>\n",
       "      <th>143</th>\n",
       "      <td>10.0</td>\n",
       "      <td>108.0</td>\n",
       "      <td>66.0</td>\n",
       "      <td>0.0</td>\n",
       "      <td>0.0</td>\n",
       "      <td>32.4</td>\n",
       "      <td>0.272</td>\n",
       "      <td>42.0</td>\n",
       "      <td>1</td>\n",
       "      <td>1</td>\n",
       "    </tr>\n",
       "    <tr>\n",
       "      <th>14</th>\n",
       "      <td>5.0</td>\n",
       "      <td>166.0</td>\n",
       "      <td>72.0</td>\n",
       "      <td>19.0</td>\n",
       "      <td>175.0</td>\n",
       "      <td>25.8</td>\n",
       "      <td>0.587</td>\n",
       "      <td>51.0</td>\n",
       "      <td>1</td>\n",
       "      <td>1</td>\n",
       "    </tr>\n",
       "    <tr>\n",
       "      <th>504</th>\n",
       "      <td>3.0</td>\n",
       "      <td>96.0</td>\n",
       "      <td>78.0</td>\n",
       "      <td>39.0</td>\n",
       "      <td>0.0</td>\n",
       "      <td>37.3</td>\n",
       "      <td>0.238</td>\n",
       "      <td>40.0</td>\n",
       "      <td>0</td>\n",
       "      <td>0</td>\n",
       "    </tr>\n",
       "    <tr>\n",
       "      <th>557</th>\n",
       "      <td>8.0</td>\n",
       "      <td>110.0</td>\n",
       "      <td>76.0</td>\n",
       "      <td>0.0</td>\n",
       "      <td>0.0</td>\n",
       "      <td>27.8</td>\n",
       "      <td>0.237</td>\n",
       "      <td>58.0</td>\n",
       "      <td>0</td>\n",
       "      <td>0</td>\n",
       "    </tr>\n",
       "    <tr>\n",
       "      <th>736</th>\n",
       "      <td>0.0</td>\n",
       "      <td>126.0</td>\n",
       "      <td>86.0</td>\n",
       "      <td>27.0</td>\n",
       "      <td>120.0</td>\n",
       "      <td>27.4</td>\n",
       "      <td>0.515</td>\n",
       "      <td>21.0</td>\n",
       "      <td>0</td>\n",
       "      <td>0</td>\n",
       "    </tr>\n",
       "  </tbody>\n",
       "</table>\n",
       "</div>"
      ],
      "text/plain": [
       "     Pregnancies  Glucose  BloodPressure  SkinThickness  Insulin   BMI  \\\n",
       "143         10.0    108.0           66.0            0.0      0.0  32.4   \n",
       "14           5.0    166.0           72.0           19.0    175.0  25.8   \n",
       "504          3.0     96.0           78.0           39.0      0.0  37.3   \n",
       "557          8.0    110.0           76.0            0.0      0.0  27.8   \n",
       "736          0.0    126.0           86.0           27.0    120.0  27.4   \n",
       "\n",
       "     DiabetesPedigreeFunction   Age  Outcome  Predicted  \n",
       "143                     0.272  42.0        1          1  \n",
       "14                      0.587  51.0        1          1  \n",
       "504                     0.238  40.0        0          0  \n",
       "557                     0.237  58.0        0          0  \n",
       "736                     0.515  21.0        0          0  "
      ]
     },
     "execution_count": 62,
     "metadata": {},
     "output_type": "execute_result"
    }
   ],
   "source": [
    "test['Predicted']=model.predict(X_test)\n",
    "test.head()"
   ]
  },
  {
   "cell_type": "markdown",
   "id": "8e8ada4a",
   "metadata": {},
   "source": [
    "# Step 8 : Model Performance Metrics on Test data "
   ]
  },
  {
   "cell_type": "code",
   "execution_count": 63,
   "id": "f75b2cf2",
   "metadata": {},
   "outputs": [
    {
     "name": "stdout",
     "output_type": "stream",
     "text": [
      "[[126  27]\n",
      " [ 35  43]]\n"
     ]
    }
   ],
   "source": [
    "from sklearn.metrics import confusion_matrix\n",
    "confusion_matrix = confusion_matrix(test['Outcome'],test['Predicted'])\n",
    "print(confusion_matrix)"
   ]
  },
  {
   "cell_type": "code",
   "execution_count": 64,
   "id": "f3b3f29e",
   "metadata": {},
   "outputs": [
    {
     "data": {
      "text/plain": [
       "66.23376623376623"
      ]
     },
     "execution_count": 64,
     "metadata": {},
     "output_type": "execute_result"
    }
   ],
   "source": [
    "Accuracy_test=((126+27)/(231)*100)\n",
    "Accuracy_test"
   ]
  },
  {
   "cell_type": "markdown",
   "id": "fb4fe5c2",
   "metadata": {},
   "source": [
    "# To identify the best value of K\n"
   ]
  },
  {
   "cell_type": "code",
   "execution_count": 65,
   "id": "be37af32",
   "metadata": {},
   "outputs": [
    {
     "name": "stdout",
     "output_type": "stream",
     "text": [
      "Train Accuracy is  100.0         Test Accuracy is  65.0 % for K-Value: 1\n",
      "Train Accuracy is  84.0         Test Accuracy is  71.0 % for K-Value: 2\n",
      "Train Accuracy is  86.0         Test Accuracy is  70.0 % for K-Value: 3\n",
      "Train Accuracy is  80.0         Test Accuracy is  74.0 % for K-Value: 4\n",
      "Train Accuracy is  82.0         Test Accuracy is  74.0 % for K-Value: 5\n",
      "Train Accuracy is  79.0         Test Accuracy is  74.0 % for K-Value: 6\n",
      "Train Accuracy is  79.0         Test Accuracy is  73.0 % for K-Value: 7\n",
      "Train Accuracy is  78.0         Test Accuracy is  75.0 % for K-Value: 8\n",
      "Train Accuracy is  78.0         Test Accuracy is  74.0 % for K-Value: 9\n",
      "Train Accuracy is  77.0         Test Accuracy is  73.0 % for K-Value: 10\n",
      "Train Accuracy is  78.0         Test Accuracy is  76.0 % for K-Value: 11\n",
      "Train Accuracy is  78.0         Test Accuracy is  76.0 % for K-Value: 12\n",
      "Train Accuracy is  78.0         Test Accuracy is  74.0 % for K-Value: 13\n",
      "Train Accuracy is  78.0         Test Accuracy is  76.0 % for K-Value: 14\n",
      "Train Accuracy is  80.0         Test Accuracy is  75.0 % for K-Value: 15\n",
      "Train Accuracy is  78.0         Test Accuracy is  77.0 % for K-Value: 16\n",
      "Train Accuracy is  78.0         Test Accuracy is  76.0 % for K-Value: 17\n",
      "Train Accuracy is  78.0         Test Accuracy is  77.0 % for K-Value: 18\n",
      "Train Accuracy is  78.0         Test Accuracy is  75.0 % for K-Value: 19\n",
      "Train Accuracy is  77.0         Test Accuracy is  75.0 % for K-Value: 20\n",
      "Train Accuracy is  78.0         Test Accuracy is  74.0 % for K-Value: 21\n",
      "Train Accuracy is  77.0         Test Accuracy is  74.0 % for K-Value: 22\n",
      "Train Accuracy is  77.0         Test Accuracy is  73.0 % for K-Value: 23\n",
      "Train Accuracy is  76.0         Test Accuracy is  73.0 % for K-Value: 24\n",
      "Train Accuracy is  77.0         Test Accuracy is  73.0 % for K-Value: 25\n"
     ]
    }
   ],
   "source": [
    "from sklearn.metrics import accuracy_score\n",
    "for K in range(25): #K=0,1,2,.....,24\n",
    "    K_value = K+1 # K_value=1\n",
    "    model2 = KNeighborsClassifier(n_neighbors = K_value) #1\n",
    "    model2.fit(X_train, y_train) \n",
    "    y_pred_Train= model2.predict(X_train)\n",
    "    y_pred_test = model2.predict(X_test)\n",
    "    print(\"Train Accuracy is \", \n",
    "          round(accuracy_score(y_train,y_pred_Train)*100,0),\"      \",\" Test Accuracy is \", round(accuracy_score(y_test,y_pred_test)*100,0),\"% for K-Value:\",\n",
    "          K_value)"
   ]
  },
  {
   "cell_type": "markdown",
   "id": "b8be29b2",
   "metadata": {},
   "source": [
    "# Finish"
   ]
  }
 ],
 "metadata": {
  "kernelspec": {
   "display_name": "Python 3 (ipykernel)",
   "language": "python",
   "name": "python3"
  },
  "language_info": {
   "codemirror_mode": {
    "name": "ipython",
    "version": 3
   },
   "file_extension": ".py",
   "mimetype": "text/x-python",
   "name": "python",
   "nbconvert_exporter": "python",
   "pygments_lexer": "ipython3",
   "version": "3.9.12"
  }
 },
 "nbformat": 4,
 "nbformat_minor": 5
}
