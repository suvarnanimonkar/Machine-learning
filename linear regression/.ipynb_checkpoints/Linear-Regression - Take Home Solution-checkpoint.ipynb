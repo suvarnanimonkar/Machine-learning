{
 "cells": [
  {
   "cell_type": "code",
   "execution_count": 1,
   "metadata": {
    "collapsed": true
   },
   "outputs": [],
   "source": [
    "import numpy as np # linear algebra\n",
    "import pandas as pd # data processing, CSV file I/O (e.g. pd.read_csv)\n",
    "import seaborn as sns\n",
    "import matplotlib.pyplot as plt\n",
    "import statsmodels.api as sm\n",
    "import statsmodels.formula.api as smf\n",
    "from sklearn.linear_model import LinearRegression\n",
    "from sklearn.metrics import mean_squared_error, r2_score\n"
   ]
  },
  {
   "cell_type": "code",
   "execution_count": 2,
   "metadata": {},
   "outputs": [
    {
     "data": {
      "text/html": [
       "<div>\n",
       "<style scoped>\n",
       "    .dataframe tbody tr th:only-of-type {\n",
       "        vertical-align: middle;\n",
       "    }\n",
       "\n",
       "    .dataframe tbody tr th {\n",
       "        vertical-align: top;\n",
       "    }\n",
       "\n",
       "    .dataframe thead th {\n",
       "        text-align: right;\n",
       "    }\n",
       "</style>\n",
       "<table border=\"1\" class=\"dataframe\">\n",
       "  <thead>\n",
       "    <tr style=\"text-align: right;\">\n",
       "      <th></th>\n",
       "      <th>Species</th>\n",
       "      <th>Weight</th>\n",
       "      <th>Length1</th>\n",
       "      <th>Length2</th>\n",
       "      <th>Length3</th>\n",
       "      <th>Height</th>\n",
       "      <th>Width</th>\n",
       "    </tr>\n",
       "  </thead>\n",
       "  <tbody>\n",
       "    <tr>\n",
       "      <th>94</th>\n",
       "      <td>Perch</td>\n",
       "      <td>150.0</td>\n",
       "      <td>21.0</td>\n",
       "      <td>23.0</td>\n",
       "      <td>24.5</td>\n",
       "      <td>5.2185</td>\n",
       "      <td>3.6260</td>\n",
       "    </tr>\n",
       "    <tr>\n",
       "      <th>150</th>\n",
       "      <td>Smelt</td>\n",
       "      <td>8.7</td>\n",
       "      <td>10.8</td>\n",
       "      <td>11.3</td>\n",
       "      <td>12.6</td>\n",
       "      <td>1.9782</td>\n",
       "      <td>1.2852</td>\n",
       "    </tr>\n",
       "    <tr>\n",
       "      <th>70</th>\n",
       "      <td>Parkki</td>\n",
       "      <td>273.0</td>\n",
       "      <td>23.0</td>\n",
       "      <td>25.0</td>\n",
       "      <td>28.0</td>\n",
       "      <td>11.0880</td>\n",
       "      <td>4.1440</td>\n",
       "    </tr>\n",
       "    <tr>\n",
       "      <th>83</th>\n",
       "      <td>Perch</td>\n",
       "      <td>115.0</td>\n",
       "      <td>19.0</td>\n",
       "      <td>21.0</td>\n",
       "      <td>22.5</td>\n",
       "      <td>5.9175</td>\n",
       "      <td>3.3075</td>\n",
       "    </tr>\n",
       "    <tr>\n",
       "      <th>126</th>\n",
       "      <td>Perch</td>\n",
       "      <td>1000.0</td>\n",
       "      <td>40.2</td>\n",
       "      <td>43.5</td>\n",
       "      <td>46.0</td>\n",
       "      <td>12.6040</td>\n",
       "      <td>8.1420</td>\n",
       "    </tr>\n",
       "    <tr>\n",
       "      <th>3</th>\n",
       "      <td>Bream</td>\n",
       "      <td>363.0</td>\n",
       "      <td>26.3</td>\n",
       "      <td>29.0</td>\n",
       "      <td>33.5</td>\n",
       "      <td>12.7300</td>\n",
       "      <td>4.4555</td>\n",
       "    </tr>\n",
       "    <tr>\n",
       "      <th>66</th>\n",
       "      <td>Parkki</td>\n",
       "      <td>140.0</td>\n",
       "      <td>19.0</td>\n",
       "      <td>20.7</td>\n",
       "      <td>23.2</td>\n",
       "      <td>8.5376</td>\n",
       "      <td>3.2944</td>\n",
       "    </tr>\n",
       "    <tr>\n",
       "      <th>144</th>\n",
       "      <td>Pike</td>\n",
       "      <td>1650.0</td>\n",
       "      <td>59.0</td>\n",
       "      <td>63.4</td>\n",
       "      <td>68.0</td>\n",
       "      <td>10.8120</td>\n",
       "      <td>7.4800</td>\n",
       "    </tr>\n",
       "    <tr>\n",
       "      <th>43</th>\n",
       "      <td>Roach</td>\n",
       "      <td>150.0</td>\n",
       "      <td>20.4</td>\n",
       "      <td>22.0</td>\n",
       "      <td>24.7</td>\n",
       "      <td>5.8045</td>\n",
       "      <td>3.7544</td>\n",
       "    </tr>\n",
       "    <tr>\n",
       "      <th>56</th>\n",
       "      <td>Whitefish</td>\n",
       "      <td>270.0</td>\n",
       "      <td>24.1</td>\n",
       "      <td>26.5</td>\n",
       "      <td>29.3</td>\n",
       "      <td>8.1454</td>\n",
       "      <td>4.2485</td>\n",
       "    </tr>\n",
       "  </tbody>\n",
       "</table>\n",
       "</div>"
      ],
      "text/plain": [
       "       Species  Weight  Length1  Length2  Length3   Height   Width\n",
       "94       Perch   150.0     21.0     23.0     24.5   5.2185  3.6260\n",
       "150      Smelt     8.7     10.8     11.3     12.6   1.9782  1.2852\n",
       "70      Parkki   273.0     23.0     25.0     28.0  11.0880  4.1440\n",
       "83       Perch   115.0     19.0     21.0     22.5   5.9175  3.3075\n",
       "126      Perch  1000.0     40.2     43.5     46.0  12.6040  8.1420\n",
       "3        Bream   363.0     26.3     29.0     33.5  12.7300  4.4555\n",
       "66      Parkki   140.0     19.0     20.7     23.2   8.5376  3.2944\n",
       "144       Pike  1650.0     59.0     63.4     68.0  10.8120  7.4800\n",
       "43       Roach   150.0     20.4     22.0     24.7   5.8045  3.7544\n",
       "56   Whitefish   270.0     24.1     26.5     29.3   8.1454  4.2485"
      ]
     },
     "execution_count": 2,
     "metadata": {},
     "output_type": "execute_result"
    }
   ],
   "source": [
    "data = pd.read_csv('Fish_dataset.csv')\n",
    "df = data.copy()\n",
    "df.sample(10)"
   ]
  },
  {
   "cell_type": "code",
   "execution_count": 3,
   "metadata": {},
   "outputs": [
    {
     "data": {
      "text/html": [
       "<div>\n",
       "<style scoped>\n",
       "    .dataframe tbody tr th:only-of-type {\n",
       "        vertical-align: middle;\n",
       "    }\n",
       "\n",
       "    .dataframe tbody tr th {\n",
       "        vertical-align: top;\n",
       "    }\n",
       "\n",
       "    .dataframe thead th {\n",
       "        text-align: right;\n",
       "    }\n",
       "</style>\n",
       "<table border=\"1\" class=\"dataframe\">\n",
       "  <thead>\n",
       "    <tr style=\"text-align: right;\">\n",
       "      <th></th>\n",
       "      <th>Species</th>\n",
       "      <th>Weight</th>\n",
       "      <th>LengthVer</th>\n",
       "      <th>LengthDia</th>\n",
       "      <th>LengthCro</th>\n",
       "      <th>Height</th>\n",
       "      <th>Width</th>\n",
       "    </tr>\n",
       "  </thead>\n",
       "  <tbody>\n",
       "    <tr>\n",
       "      <th>0</th>\n",
       "      <td>Bream</td>\n",
       "      <td>242.0</td>\n",
       "      <td>23.2</td>\n",
       "      <td>25.4</td>\n",
       "      <td>30.0</td>\n",
       "      <td>11.5200</td>\n",
       "      <td>4.0200</td>\n",
       "    </tr>\n",
       "    <tr>\n",
       "      <th>1</th>\n",
       "      <td>Bream</td>\n",
       "      <td>290.0</td>\n",
       "      <td>24.0</td>\n",
       "      <td>26.3</td>\n",
       "      <td>31.2</td>\n",
       "      <td>12.4800</td>\n",
       "      <td>4.3056</td>\n",
       "    </tr>\n",
       "    <tr>\n",
       "      <th>2</th>\n",
       "      <td>Bream</td>\n",
       "      <td>340.0</td>\n",
       "      <td>23.9</td>\n",
       "      <td>26.5</td>\n",
       "      <td>31.1</td>\n",
       "      <td>12.3778</td>\n",
       "      <td>4.6961</td>\n",
       "    </tr>\n",
       "    <tr>\n",
       "      <th>3</th>\n",
       "      <td>Bream</td>\n",
       "      <td>363.0</td>\n",
       "      <td>26.3</td>\n",
       "      <td>29.0</td>\n",
       "      <td>33.5</td>\n",
       "      <td>12.7300</td>\n",
       "      <td>4.4555</td>\n",
       "    </tr>\n",
       "    <tr>\n",
       "      <th>4</th>\n",
       "      <td>Bream</td>\n",
       "      <td>430.0</td>\n",
       "      <td>26.5</td>\n",
       "      <td>29.0</td>\n",
       "      <td>34.0</td>\n",
       "      <td>12.4440</td>\n",
       "      <td>5.1340</td>\n",
       "    </tr>\n",
       "  </tbody>\n",
       "</table>\n",
       "</div>"
      ],
      "text/plain": [
       "  Species  Weight  LengthVer  LengthDia  LengthCro   Height   Width\n",
       "0   Bream   242.0       23.2       25.4       30.0  11.5200  4.0200\n",
       "1   Bream   290.0       24.0       26.3       31.2  12.4800  4.3056\n",
       "2   Bream   340.0       23.9       26.5       31.1  12.3778  4.6961\n",
       "3   Bream   363.0       26.3       29.0       33.5  12.7300  4.4555\n",
       "4   Bream   430.0       26.5       29.0       34.0  12.4440  5.1340"
      ]
     },
     "execution_count": 3,
     "metadata": {},
     "output_type": "execute_result"
    }
   ],
   "source": [
    "df.rename(columns= {'Length1':'LengthVer', 'Length2':'LengthDia', 'Length3':'LengthCro'}, inplace=True)\n",
    "df.head()"
   ]
  },
  {
   "cell_type": "markdown",
   "metadata": {},
   "source": [
    "# 1. Plot a bar chart showing count of individual species?"
   ]
  },
  {
   "cell_type": "code",
   "execution_count": 4,
   "metadata": {},
   "outputs": [
    {
     "data": {
      "text/html": [
       "<div>\n",
       "<style scoped>\n",
       "    .dataframe tbody tr th:only-of-type {\n",
       "        vertical-align: middle;\n",
       "    }\n",
       "\n",
       "    .dataframe tbody tr th {\n",
       "        vertical-align: top;\n",
       "    }\n",
       "\n",
       "    .dataframe thead th {\n",
       "        text-align: right;\n",
       "    }\n",
       "</style>\n",
       "<table border=\"1\" class=\"dataframe\">\n",
       "  <thead>\n",
       "    <tr style=\"text-align: right;\">\n",
       "      <th></th>\n",
       "      <th>Perch</th>\n",
       "      <th>Bream</th>\n",
       "      <th>Roach</th>\n",
       "      <th>Pike</th>\n",
       "      <th>Smelt</th>\n",
       "      <th>Parkki</th>\n",
       "      <th>Whitefish</th>\n",
       "    </tr>\n",
       "  </thead>\n",
       "  <tbody>\n",
       "    <tr>\n",
       "      <th>Species</th>\n",
       "      <td>56</td>\n",
       "      <td>35</td>\n",
       "      <td>20</td>\n",
       "      <td>17</td>\n",
       "      <td>14</td>\n",
       "      <td>11</td>\n",
       "      <td>6</td>\n",
       "    </tr>\n",
       "  </tbody>\n",
       "</table>\n",
       "</div>"
      ],
      "text/plain": [
       "         Perch  Bream  Roach  Pike  Smelt  Parkki  Whitefish\n",
       "Species     56     35     20    17     14      11          6"
      ]
     },
     "execution_count": 4,
     "metadata": {},
     "output_type": "execute_result"
    }
   ],
   "source": [
    "sp = df['Species'].value_counts()\n",
    "sp = pd.DataFrame(sp)\n",
    "sp.T"
   ]
  },
  {
   "cell_type": "code",
   "execution_count": 5,
   "metadata": {},
   "outputs": [
    {
     "data": {
      "image/png": "[encoded data removed]",
      "text/plain": [
       "<Figure size 432x288 with 1 Axes>"
      ]
     },
     "metadata": {
      "needs_background": "light"
     },
     "output_type": "display_data"
    }
   ],
   "source": [
    "sns.barplot(x=sp.index, y=sp['Species']);\n",
    "plt.xlabel('Species')\n",
    "plt.ylabel('Counts of Species')\n",
    "plt.show()"
   ]
  },
  {
   "cell_type": "code",
   "execution_count": 6,
   "metadata": {
    "scrolled": true
   },
   "outputs": [
    {
     "data": {
      "image/png": "[encoded data removed]",
      "text/plain": [
       "<Figure size 432x288 with 1 Axes>"
      ]
     },
     "metadata": {
      "needs_background": "light"
     },
     "output_type": "display_data"
    }
   ],
   "source": [
    "sp = df['Species'].value_counts()\n",
    "sp = pd.DataFrame(sp)\n",
    "sns.barplot(x=sp.index, y=sp['Species']);\n",
    "plt.xlabel('Species')\n",
    "plt.ylabel('Counts of Species')\n",
    "plt.show()"
   ]
  },
  {
   "cell_type": "markdown",
   "metadata": {},
   "source": [
    "# 2. Identify outliers and remove if any?"
   ]
  },
  {
   "cell_type": "code",
   "execution_count": 7,
   "metadata": {},
   "outputs": [
    {
     "data": {
      "image/png": "[encoded data removed]",
      "text/plain": [
       "<Figure size 432x288 with 1 Axes>"
      ]
     },
     "metadata": {
      "needs_background": "light"
     },
     "output_type": "display_data"
    }
   ],
   "source": [
    "sns.boxplot(x=df['Weight']);"
   ]
  },
  {
   "cell_type": "code",
   "execution_count": 8,
   "metadata": {
    "collapsed": true
   },
   "outputs": [],
   "source": [
    "dfw = df['Weight']\n",
    "dfw_Q1 = dfw.quantile(0.25)\n",
    "dfw_Q3 = dfw.quantile(0.75)\n",
    "dfw_IQR = dfw_Q3 - dfw_Q1\n",
    "dfw_lowerend = dfw_Q1 - (1.5 * dfw_IQR)\n",
    "dfw_upperend = dfw_Q3 + (1.5 * dfw_IQR)"
   ]
  },
  {
   "cell_type": "code",
   "execution_count": 9,
   "metadata": {},
   "outputs": [
    {
     "data": {
      "text/plain": [
       "142    1600.0\n",
       "143    1550.0\n",
       "144    1650.0\n",
       "Name: Weight, dtype: float64"
      ]
     },
     "execution_count": 9,
     "metadata": {},
     "output_type": "execute_result"
    }
   ],
   "source": [
    "dfw_outliers = dfw[(dfw < dfw_lowerend) | (dfw > dfw_upperend)]\n",
    "dfw_outliers"
   ]
  },
  {
   "cell_type": "code",
   "execution_count": 10,
   "metadata": {},
   "outputs": [
    {
     "data": {
      "image/png": "[encoded data removed]",
      "text/plain": [
       "<Figure size 432x288 with 1 Axes>"
      ]
     },
     "metadata": {
      "needs_background": "light"
     },
     "output_type": "display_data"
    }
   ],
   "source": [
    "sns.boxplot(x=df['LengthVer']);"
   ]
  },
  {
   "cell_type": "code",
   "execution_count": 11,
   "metadata": {},
   "outputs": [
    {
     "data": {
      "text/plain": [
       "142    56.0\n",
       "143    56.0\n",
       "144    59.0\n",
       "Name: LengthVer, dtype: float64"
      ]
     },
     "execution_count": 11,
     "metadata": {},
     "output_type": "execute_result"
    }
   ],
   "source": [
    "dflv = df['LengthVer']\n",
    "dflv_Q1 = dflv.quantile(0.25)\n",
    "dflv_Q3 = dflv.quantile(0.75)\n",
    "dflv_IQR = dflv_Q3 - dflv_Q1\n",
    "dflv_lowerend = dflv_Q1 - (1.5 * dflv_IQR)\n",
    "dflv_upperend = dflv_Q3 + (1.5 * dflv_IQR)\n",
    "\n",
    "dflv_outliers = dflv[(dflv < dflv_lowerend) | (dflv > dflv_upperend)]\n",
    "dflv_outliers"
   ]
  },
  {
   "cell_type": "code",
   "execution_count": 12,
   "metadata": {},
   "outputs": [
    {
     "data": {
      "image/png": "[encoded data removed]",
      "text/plain": [
       "<Figure size 432x288 with 1 Axes>"
      ]
     },
     "metadata": {
      "needs_background": "light"
     },
     "output_type": "display_data"
    }
   ],
   "source": [
    "sns.boxplot(x=df['LengthDia']);"
   ]
  },
  {
   "cell_type": "code",
   "execution_count": 13,
   "metadata": {},
   "outputs": [
    {
     "data": {
      "text/plain": [
       "142    60.0\n",
       "143    60.0\n",
       "144    63.4\n",
       "Name: LengthDia, dtype: float64"
      ]
     },
     "execution_count": 13,
     "metadata": {},
     "output_type": "execute_result"
    }
   ],
   "source": [
    "dfdia = df['LengthDia']\n",
    "dfdia_Q1 = dfdia.quantile(0.25)\n",
    "dfdia_Q3 = dfdia.quantile(0.75)\n",
    "dfdia_IQR = dfdia_Q3 - dfdia_Q1\n",
    "dfdia_lowerend = dfdia_Q1 - (1.5 * dfdia_IQR)\n",
    "dfdia_upperend = dfdia_Q3 + (1.5 * dfdia_IQR)\n",
    "\n",
    "dfdia_outliers = dfdia[(dfdia < dfdia_lowerend) | (dfdia > dfdia_upperend)]\n",
    "dfdia_outliers"
   ]
  },
  {
   "cell_type": "code",
   "execution_count": 14,
   "metadata": {},
   "outputs": [
    {
     "data": {
      "image/png": "[encoded data removed]",
      "text/plain": [
       "<Figure size 432x288 with 1 Axes>"
      ]
     },
     "metadata": {
      "needs_background": "light"
     },
     "output_type": "display_data"
    }
   ],
   "source": [
    "sns.boxplot(x=df['LengthCro']);"
   ]
  },
  {
   "cell_type": "code",
   "execution_count": 15,
   "metadata": {},
   "outputs": [
    {
     "data": {
      "text/plain": [
       "144    68.0\n",
       "Name: LengthCro, dtype: float64"
      ]
     },
     "execution_count": 15,
     "metadata": {},
     "output_type": "execute_result"
    }
   ],
   "source": [
    "dfcro = df['LengthCro']\n",
    "dfcro_Q1 = dfcro.quantile(0.25)\n",
    "dfcro_Q3 = dfcro.quantile(0.75)\n",
    "dfcro_IQR = dfcro_Q3 - dfcro_Q1\n",
    "dfcro_lowerend = dfcro_Q1 - (1.5 * dfcro_IQR)\n",
    "dfcro_upperend = dfcro_Q3 + (1.5 * dfcro_IQR)\n",
    "\n",
    "dfcro_outliers = dfcro[(dfcro < dfcro_lowerend) | (dfcro > dfcro_upperend)]\n",
    "dfcro_outliers"
   ]
  },
  {
   "cell_type": "code",
   "execution_count": 16,
   "metadata": {},
   "outputs": [
    {
     "data": {
      "text/html": [
       "<div>\n",
       "<style scoped>\n",
       "    .dataframe tbody tr th:only-of-type {\n",
       "        vertical-align: middle;\n",
       "    }\n",
       "\n",
       "    .dataframe tbody tr th {\n",
       "        vertical-align: top;\n",
       "    }\n",
       "\n",
       "    .dataframe thead th {\n",
       "        text-align: right;\n",
       "    }\n",
       "</style>\n",
       "<table border=\"1\" class=\"dataframe\">\n",
       "  <thead>\n",
       "    <tr style=\"text-align: right;\">\n",
       "      <th></th>\n",
       "      <th>count</th>\n",
       "      <th>mean</th>\n",
       "      <th>std</th>\n",
       "      <th>min</th>\n",
       "      <th>25%</th>\n",
       "      <th>50%</th>\n",
       "      <th>75%</th>\n",
       "      <th>max</th>\n",
       "    </tr>\n",
       "  </thead>\n",
       "  <tbody>\n",
       "    <tr>\n",
       "      <th>Weight</th>\n",
       "      <td>156.0</td>\n",
       "      <td>375.217308</td>\n",
       "      <td>319.546978</td>\n",
       "      <td>0.0000</td>\n",
       "      <td>120.000000</td>\n",
       "      <td>271.0000</td>\n",
       "      <td>612.500000</td>\n",
       "      <td>1250.000</td>\n",
       "    </tr>\n",
       "    <tr>\n",
       "      <th>LengthVer</th>\n",
       "      <td>156.0</td>\n",
       "      <td>25.655769</td>\n",
       "      <td>9.119630</td>\n",
       "      <td>7.5000</td>\n",
       "      <td>19.000000</td>\n",
       "      <td>25.0000</td>\n",
       "      <td>32.125000</td>\n",
       "      <td>52.000</td>\n",
       "    </tr>\n",
       "    <tr>\n",
       "      <th>LengthDia</th>\n",
       "      <td>156.0</td>\n",
       "      <td>27.786538</td>\n",
       "      <td>9.792651</td>\n",
       "      <td>8.4000</td>\n",
       "      <td>21.000000</td>\n",
       "      <td>26.7500</td>\n",
       "      <td>35.000000</td>\n",
       "      <td>56.000</td>\n",
       "    </tr>\n",
       "    <tr>\n",
       "      <th>LengthCro</th>\n",
       "      <td>156.0</td>\n",
       "      <td>30.571154</td>\n",
       "      <td>10.695359</td>\n",
       "      <td>8.8000</td>\n",
       "      <td>23.025000</td>\n",
       "      <td>29.2500</td>\n",
       "      <td>39.425000</td>\n",
       "      <td>59.700</td>\n",
       "    </tr>\n",
       "    <tr>\n",
       "      <th>Height</th>\n",
       "      <td>156.0</td>\n",
       "      <td>8.951128</td>\n",
       "      <td>4.324325</td>\n",
       "      <td>1.7284</td>\n",
       "      <td>5.931675</td>\n",
       "      <td>7.6478</td>\n",
       "      <td>12.378550</td>\n",
       "      <td>18.957</td>\n",
       "    </tr>\n",
       "    <tr>\n",
       "      <th>Width</th>\n",
       "      <td>156.0</td>\n",
       "      <td>4.375719</td>\n",
       "      <td>1.672188</td>\n",
       "      <td>1.0476</td>\n",
       "      <td>3.369600</td>\n",
       "      <td>4.2433</td>\n",
       "      <td>5.424375</td>\n",
       "      <td>8.142</td>\n",
       "    </tr>\n",
       "  </tbody>\n",
       "</table>\n",
       "</div>"
      ],
      "text/plain": [
       "           count        mean         std     min         25%       50%  \\\n",
       "Weight     156.0  375.217308  319.546978  0.0000  120.000000  271.0000   \n",
       "LengthVer  156.0   25.655769    9.119630  7.5000   19.000000   25.0000   \n",
       "LengthDia  156.0   27.786538    9.792651  8.4000   21.000000   26.7500   \n",
       "LengthCro  156.0   30.571154   10.695359  8.8000   23.025000   29.2500   \n",
       "Height     156.0    8.951128    4.324325  1.7284    5.931675    7.6478   \n",
       "Width      156.0    4.375719    1.672188  1.0476    3.369600    4.2433   \n",
       "\n",
       "                  75%       max  \n",
       "Weight     612.500000  1250.000  \n",
       "LengthVer   32.125000    52.000  \n",
       "LengthDia   35.000000    56.000  \n",
       "LengthCro   39.425000    59.700  \n",
       "Height      12.378550    18.957  \n",
       "Width        5.424375     8.142  "
      ]
     },
     "execution_count": 16,
     "metadata": {},
     "output_type": "execute_result"
    }
   ],
   "source": [
    "df1 = df.drop([142,143,144])\n",
    "df1.describe().T"
   ]
  },
  {
   "cell_type": "code",
   "execution_count": 17,
   "metadata": {},
   "outputs": [
    {
     "data": {
      "image/png": "[encoded data removed]",
      "text/plain": [
       "<Figure size 432x288 with 1 Axes>"
      ]
     },
     "metadata": {
      "needs_background": "light"
     },
     "output_type": "display_data"
    }
   ],
   "source": [
    "sns.boxplot(x=df1['LengthCro']);"
   ]
  },
  {
   "cell_type": "markdown",
   "metadata": {},
   "source": [
    "# 3. Build a regression model and print regression equation?"
   ]
  },
  {
   "cell_type": "code",
   "execution_count": 18,
   "metadata": {
    "collapsed": true
   },
   "outputs": [],
   "source": [
    "# Dependant (Target) Variable:\n",
    "y = df1['Weight']\n",
    "# Independant Variables:\n",
    "X = df1.iloc[:,2:7]"
   ]
  },
  {
   "cell_type": "code",
   "execution_count": 19,
   "metadata": {
    "collapsed": true
   },
   "outputs": [],
   "source": [
    "from sklearn.model_selection import train_test_split\n",
    "X_train, X_test, y_train, y_test = train_test_split(X, y, test_size=0.2, random_state=1)"
   ]
  },
  {
   "cell_type": "code",
   "execution_count": 20,
   "metadata": {},
   "outputs": [
    {
     "name": "stdout",
     "output_type": "stream",
     "text": [
      "How many samples do we have in our test and train datasets?\n",
      "X_train:  (124, 5)\n",
      "y_train:  (124,)\n",
      "X_test:  (32, 5)\n",
      "y_test:  (32,)\n"
     ]
    }
   ],
   "source": [
    "print('How many samples do we have in our test and train datasets?')\n",
    "print('X_train: ', np.shape(X_train))\n",
    "print('y_train: ', np.shape(y_train))\n",
    "print('X_test: ', np.shape(X_test))\n",
    "print('y_test: ', np.shape(y_test))"
   ]
  },
  {
   "cell_type": "code",
   "execution_count": 21,
   "metadata": {},
   "outputs": [
    {
     "data": {
      "text/plain": [
       "LinearRegression()"
      ]
     },
     "execution_count": 21,
     "metadata": {},
     "output_type": "execute_result"
    }
   ],
   "source": [
    "reg = LinearRegression()\n",
    "reg.fit(X_train,y_train)"
   ]
  },
  {
   "cell_type": "code",
   "execution_count": 22,
   "metadata": {},
   "outputs": [
    {
     "name": "stdout",
     "output_type": "stream",
     "text": [
      "Model intercept:  -441.0088725388172\n",
      "Model coefficients:  [ 89.93843031 -32.68619524 -37.53063323  33.07275974  60.72005923]\n"
     ]
    }
   ],
   "source": [
    "# My model's parameters:\n",
    "print('Model intercept: ', reg.intercept_)\n",
    "print('Model coefficients: ', reg.coef_)"
   ]
  },
  {
   "cell_type": "code",
   "execution_count": 23,
   "metadata": {},
   "outputs": [
    {
     "name": "stdout",
     "output_type": "stream",
     "text": [
      "y = -441.01 + 89.94*X1 -32.69*X2 -37.53*X3 + 33.07*X4 + 60.72*X5\n"
     ]
    }
   ],
   "source": [
    "print('y = ' + str('%.2f' % reg.intercept_) + ' + ' + str('%.2f' % reg.coef_[0]) + '*X1 ' + str('%.2f' % reg.coef_[1]) + '*X2 ' +\n",
    "      str('%.2f' % reg.coef_[2]) + '*X3 + ' + str('%.2f' % reg.coef_[3]) + '*X4 + ' + str('%.2f' % reg.coef_[4]) + '*X5')"
   ]
  },
  {
   "cell_type": "markdown",
   "metadata": {},
   "source": [
    "# 4. What is the mean score of the model at  95% confidence interval?"
   ]
  },
  {
   "cell_type": "code",
   "execution_count": 24,
   "metadata": {
    "collapsed": true
   },
   "outputs": [],
   "source": [
    "y_pred = reg.predict(X_test)\n"
   ]
  },
  {
   "cell_type": "code",
   "execution_count": 26,
   "metadata": {},
   "outputs": [
    {
     "name": "stdout",
     "output_type": "stream",
     "text": [
      "[0.89119112 0.93859621 0.92572295 0.88550794 0.83504798]\n"
     ]
    }
   ],
   "source": [
    "from sklearn.model_selection import cross_val_score\n",
    "cross_val_score_train = cross_val_score(reg, X_train, y_train, cv=5, scoring='r2')\n",
    "print(cross_val_score_train)"
   ]
  },
  {
   "cell_type": "code",
   "execution_count": 27,
   "metadata": {},
   "outputs": [
    {
     "data": {
      "text/plain": [
       "0.8952132388952407"
      ]
     },
     "execution_count": 27,
     "metadata": {},
     "output_type": "execute_result"
    }
   ],
   "source": [
    "cross_val_score_train.mean()"
   ]
  },
  {
   "cell_type": "markdown",
   "metadata": {},
   "source": [
    "# 5. Compare real and predicted weights and give a conclusion statement based on it?"
   ]
  },
  {
   "cell_type": "code",
   "execution_count": 28,
   "metadata": {},
   "outputs": [
    {
     "data": {
      "text/html": [
       "<div>\n",
       "<style scoped>\n",
       "    .dataframe tbody tr th:only-of-type {\n",
       "        vertical-align: middle;\n",
       "    }\n",
       "\n",
       "    .dataframe tbody tr th {\n",
       "        vertical-align: top;\n",
       "    }\n",
       "\n",
       "    .dataframe thead th {\n",
       "        text-align: right;\n",
       "    }\n",
       "</style>\n",
       "<table border=\"1\" class=\"dataframe\">\n",
       "  <thead>\n",
       "    <tr style=\"text-align: right;\">\n",
       "      <th></th>\n",
       "      <th>Estimated Weight</th>\n",
       "    </tr>\n",
       "  </thead>\n",
       "  <tbody>\n",
       "    <tr>\n",
       "      <th>0</th>\n",
       "      <td>746.034615</td>\n",
       "    </tr>\n",
       "    <tr>\n",
       "      <th>1</th>\n",
       "      <td>44.698577</td>\n",
       "    </tr>\n",
       "    <tr>\n",
       "      <th>2</th>\n",
       "      <td>282.287266</td>\n",
       "    </tr>\n",
       "    <tr>\n",
       "      <th>3</th>\n",
       "      <td>777.208209</td>\n",
       "    </tr>\n",
       "    <tr>\n",
       "      <th>4</th>\n",
       "      <td>-74.802289</td>\n",
       "    </tr>\n",
       "  </tbody>\n",
       "</table>\n",
       "</div>"
      ],
      "text/plain": [
       "   Estimated Weight\n",
       "0        746.034615\n",
       "1         44.698577\n",
       "2        282.287266\n",
       "3        777.208209\n",
       "4        -74.802289"
      ]
     },
     "execution_count": 28,
     "metadata": {},
     "output_type": "execute_result"
    }
   ],
   "source": [
    "y_pred1 = pd.DataFrame(y_pred, columns=['Estimated Weight'])\n",
    "y_pred1.head()\n"
   ]
  },
  {
   "cell_type": "code",
   "execution_count": 29,
   "metadata": {},
   "outputs": [
    {
     "data": {
      "text/html": [
       "<div>\n",
       "<style scoped>\n",
       "    .dataframe tbody tr th:only-of-type {\n",
       "        vertical-align: middle;\n",
       "    }\n",
       "\n",
       "    .dataframe tbody tr th {\n",
       "        vertical-align: top;\n",
       "    }\n",
       "\n",
       "    .dataframe thead th {\n",
       "        text-align: right;\n",
       "    }\n",
       "</style>\n",
       "<table border=\"1\" class=\"dataframe\">\n",
       "  <thead>\n",
       "    <tr style=\"text-align: right;\">\n",
       "      <th></th>\n",
       "      <th>Weight</th>\n",
       "    </tr>\n",
       "  </thead>\n",
       "  <tbody>\n",
       "    <tr>\n",
       "      <th>0</th>\n",
       "      <td>650.0</td>\n",
       "    </tr>\n",
       "    <tr>\n",
       "      <th>1</th>\n",
       "      <td>51.5</td>\n",
       "    </tr>\n",
       "    <tr>\n",
       "      <th>2</th>\n",
       "      <td>180.0</td>\n",
       "    </tr>\n",
       "    <tr>\n",
       "      <th>3</th>\n",
       "      <td>955.0</td>\n",
       "    </tr>\n",
       "    <tr>\n",
       "      <th>4</th>\n",
       "      <td>40.0</td>\n",
       "    </tr>\n",
       "  </tbody>\n",
       "</table>\n",
       "</div>"
      ],
      "text/plain": [
       "   Weight\n",
       "0   650.0\n",
       "1    51.5\n",
       "2   180.0\n",
       "3   955.0\n",
       "4    40.0"
      ]
     },
     "execution_count": 29,
     "metadata": {},
     "output_type": "execute_result"
    }
   ],
   "source": [
    "y_test1 = pd.DataFrame(y_test)\n",
    "y_test1 = y_test1.reset_index(drop=True)\n",
    "y_test1.head()"
   ]
  },
  {
   "cell_type": "code",
   "execution_count": 30,
   "metadata": {},
   "outputs": [
    {
     "data": {
      "text/html": [
       "<div>\n",
       "<style scoped>\n",
       "    .dataframe tbody tr th:only-of-type {\n",
       "        vertical-align: middle;\n",
       "    }\n",
       "\n",
       "    .dataframe tbody tr th {\n",
       "        vertical-align: top;\n",
       "    }\n",
       "\n",
       "    .dataframe thead th {\n",
       "        text-align: right;\n",
       "    }\n",
       "</style>\n",
       "<table border=\"1\" class=\"dataframe\">\n",
       "  <thead>\n",
       "    <tr style=\"text-align: right;\">\n",
       "      <th></th>\n",
       "      <th>Weight</th>\n",
       "      <th>Estimated Weight</th>\n",
       "    </tr>\n",
       "  </thead>\n",
       "  <tbody>\n",
       "    <tr>\n",
       "      <th>0</th>\n",
       "      <td>650.0</td>\n",
       "      <td>746.034615</td>\n",
       "    </tr>\n",
       "    <tr>\n",
       "      <th>1</th>\n",
       "      <td>51.5</td>\n",
       "      <td>44.698577</td>\n",
       "    </tr>\n",
       "    <tr>\n",
       "      <th>2</th>\n",
       "      <td>180.0</td>\n",
       "      <td>282.287266</td>\n",
       "    </tr>\n",
       "    <tr>\n",
       "      <th>3</th>\n",
       "      <td>955.0</td>\n",
       "      <td>777.208209</td>\n",
       "    </tr>\n",
       "    <tr>\n",
       "      <th>4</th>\n",
       "      <td>40.0</td>\n",
       "      <td>-74.802289</td>\n",
       "    </tr>\n",
       "    <tr>\n",
       "      <th>5</th>\n",
       "      <td>0.0</td>\n",
       "      <td>159.717948</td>\n",
       "    </tr>\n",
       "    <tr>\n",
       "      <th>6</th>\n",
       "      <td>600.0</td>\n",
       "      <td>569.637735</td>\n",
       "    </tr>\n",
       "    <tr>\n",
       "      <th>7</th>\n",
       "      <td>514.0</td>\n",
       "      <td>651.097615</td>\n",
       "    </tr>\n",
       "    <tr>\n",
       "      <th>8</th>\n",
       "      <td>272.0</td>\n",
       "      <td>349.707917</td>\n",
       "    </tr>\n",
       "    <tr>\n",
       "      <th>9</th>\n",
       "      <td>9.8</td>\n",
       "      <td>-163.684074</td>\n",
       "    </tr>\n",
       "    <tr>\n",
       "      <th>10</th>\n",
       "      <td>9.8</td>\n",
       "      <td>-160.712961</td>\n",
       "    </tr>\n",
       "    <tr>\n",
       "      <th>11</th>\n",
       "      <td>78.0</td>\n",
       "      <td>92.235547</td>\n",
       "    </tr>\n",
       "    <tr>\n",
       "      <th>12</th>\n",
       "      <td>150.0</td>\n",
       "      <td>211.234037</td>\n",
       "    </tr>\n",
       "    <tr>\n",
       "      <th>13</th>\n",
       "      <td>110.0</td>\n",
       "      <td>181.914510</td>\n",
       "    </tr>\n",
       "    <tr>\n",
       "      <th>14</th>\n",
       "      <td>135.0</td>\n",
       "      <td>165.034230</td>\n",
       "    </tr>\n",
       "    <tr>\n",
       "      <th>15</th>\n",
       "      <td>450.0</td>\n",
       "      <td>445.309015</td>\n",
       "    </tr>\n",
       "    <tr>\n",
       "      <th>16</th>\n",
       "      <td>1100.0</td>\n",
       "      <td>860.291062</td>\n",
       "    </tr>\n",
       "    <tr>\n",
       "      <th>17</th>\n",
       "      <td>700.0</td>\n",
       "      <td>589.455953</td>\n",
       "    </tr>\n",
       "    <tr>\n",
       "      <th>18</th>\n",
       "      <td>650.0</td>\n",
       "      <td>626.128142</td>\n",
       "    </tr>\n",
       "    <tr>\n",
       "      <th>19</th>\n",
       "      <td>1000.0</td>\n",
       "      <td>791.629201</td>\n",
       "    </tr>\n",
       "    <tr>\n",
       "      <th>20</th>\n",
       "      <td>270.0</td>\n",
       "      <td>288.035599</td>\n",
       "    </tr>\n",
       "    <tr>\n",
       "      <th>21</th>\n",
       "      <td>7.5</td>\n",
       "      <td>-184.530214</td>\n",
       "    </tr>\n",
       "    <tr>\n",
       "      <th>22</th>\n",
       "      <td>6.7</td>\n",
       "      <td>-209.119774</td>\n",
       "    </tr>\n",
       "    <tr>\n",
       "      <th>23</th>\n",
       "      <td>180.0</td>\n",
       "      <td>252.492738</td>\n",
       "    </tr>\n",
       "    <tr>\n",
       "      <th>24</th>\n",
       "      <td>145.0</td>\n",
       "      <td>187.801247</td>\n",
       "    </tr>\n",
       "    <tr>\n",
       "      <th>25</th>\n",
       "      <td>200.0</td>\n",
       "      <td>310.231189</td>\n",
       "    </tr>\n",
       "    <tr>\n",
       "      <th>26</th>\n",
       "      <td>150.0</td>\n",
       "      <td>169.176291</td>\n",
       "    </tr>\n",
       "    <tr>\n",
       "      <th>27</th>\n",
       "      <td>120.0</td>\n",
       "      <td>130.167356</td>\n",
       "    </tr>\n",
       "    <tr>\n",
       "      <th>28</th>\n",
       "      <td>820.0</td>\n",
       "      <td>764.046343</td>\n",
       "    </tr>\n",
       "    <tr>\n",
       "      <th>29</th>\n",
       "      <td>145.0</td>\n",
       "      <td>206.462273</td>\n",
       "    </tr>\n",
       "    <tr>\n",
       "      <th>30</th>\n",
       "      <td>250.0</td>\n",
       "      <td>378.043817</td>\n",
       "    </tr>\n",
       "    <tr>\n",
       "      <th>31</th>\n",
       "      <td>567.0</td>\n",
       "      <td>666.434130</td>\n",
       "    </tr>\n",
       "  </tbody>\n",
       "</table>\n",
       "</div>"
      ],
      "text/plain": [
       "    Weight  Estimated Weight\n",
       "0    650.0        746.034615\n",
       "1     51.5         44.698577\n",
       "2    180.0        282.287266\n",
       "3    955.0        777.208209\n",
       "4     40.0        -74.802289\n",
       "5      0.0        159.717948\n",
       "6    600.0        569.637735\n",
       "7    514.0        651.097615\n",
       "8    272.0        349.707917\n",
       "9      9.8       -163.684074\n",
       "10     9.8       -160.712961\n",
       "11    78.0         92.235547\n",
       "12   150.0        211.234037\n",
       "13   110.0        181.914510\n",
       "14   135.0        165.034230\n",
       "15   450.0        445.309015\n",
       "16  1100.0        860.291062\n",
       "17   700.0        589.455953\n",
       "18   650.0        626.128142\n",
       "19  1000.0        791.629201\n",
       "20   270.0        288.035599\n",
       "21     7.5       -184.530214\n",
       "22     6.7       -209.119774\n",
       "23   180.0        252.492738\n",
       "24   145.0        187.801247\n",
       "25   200.0        310.231189\n",
       "26   150.0        169.176291\n",
       "27   120.0        130.167356\n",
       "28   820.0        764.046343\n",
       "29   145.0        206.462273\n",
       "30   250.0        378.043817\n",
       "31   567.0        666.434130"
      ]
     },
     "execution_count": 30,
     "metadata": {},
     "output_type": "execute_result"
    }
   ],
   "source": [
    "ynew = pd.concat([y_test1, y_pred1], axis=1)\n",
    "ynew"
   ]
  },
  {
   "cell_type": "markdown",
   "metadata": {},
   "source": [
    "**Conclusion Statement : From the results above, one can see there is a tendency towards errorous estimations when the weight is small**"
   ]
  },
  {
   "cell_type": "code",
   "execution_count": null,
   "metadata": {
    "collapsed": true
   },
   "outputs": [],
   "source": []
  }
 ],
 "metadata": {
  "kernelspec": {
   "display_name": "Python 3 (ipykernel)",
   "language": "python",
   "name": "python3"
  },
  "language_info": {
   "codemirror_mode": {
    "name": "ipython",
    "version": 3
   },
   "file_extension": ".py",
   "mimetype": "text/x-python",
   "name": "python",
   "nbconvert_exporter": "python",
   "pygments_lexer": "ipython3",
   "version": "3.9.12"
  }
 },
 "nbformat": 4,
 "nbformat_minor": 4
}
