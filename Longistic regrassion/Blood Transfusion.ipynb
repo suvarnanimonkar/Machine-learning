{
 "cells": [
  {
   "cell_type": "markdown",
   "id": "96c9ab97",
   "metadata": {},
   "source": [
    "# Objective:\n",
    "Blood Transfusion Service Center Data Set :\n",
    "\n",
    "Data taken from the Blood Transfusion Service Center in Hsin-Chu City in Taiwan\n",
    "This is a classification problem.\n",
    "To demonstrate the RFMTC marketing model (a modified version of RFM), this study adopted the donor database of Blood Transfusion Service Center in Hsin-Chu City in Taiwan. The center passes their blood transfusion service bus to one university in Hsin-Chu City to gather blood donated about every three months. To build a FRMTC model, we selected 748 donors at random from the donor database. These 748 donor data, each one included R (Recency - months since last donation), F (Frequency - total number of donation), M (Monetary - total blood donated in c.c.), T (Time - months since first donation), and a binary variable representing whether he/she donated blood in March 2007 (1 stand for donating blood; 0 stands for not donating blood)."
   ]
  },
  {
   "cell_type": "markdown",
   "id": "4b5f1294",
   "metadata": {},
   "source": [
    "# Importing dataset"
   ]
  },
  {
   "cell_type": "code",
   "execution_count": 122,
   "id": "0723fc12",
   "metadata": {},
   "outputs": [],
   "source": [
    "import pandas as pd # Dataframe\n",
    "import numpy as np # maths\n",
    "\n",
    "################ Machine Learning #######################\n",
    "from sklearn import preprocessing # Machine Learning\n",
    "from sklearn.linear_model import LogisticRegression\n",
    "from sklearn.model_selection import train_test_split\n",
    "import statsmodels.formula.api as smf\n",
    "\n",
    "################ Data visualization #######################\n",
    "import matplotlib.pyplot as plt # Plot \n",
    "plt.rc(\"font\", size=14)\n",
    "import seaborn as sns # Plot advanced version of matplotlib\n",
    "import plotly\n",
    "sns.set(style=\"white\")\n",
    "sns.set(style=\"whitegrid\", color_codes=True)"
   ]
  },
  {
   "cell_type": "code",
   "execution_count": 122,
   "id": "50d8df08",
   "metadata": {},
   "outputs": [],
   "source": [
    "import pandas as pd # Dataframe\n",
    "import numpy as np # maths\n",
    "\n",
    "################ Machine Learning #######################\n",
    "from sklearn import preprocessing # Machine Learning\n",
    "from sklearn.linear_model import LogisticRegression\n",
    "from sklearn.model_selection import train_test_split\n",
    "import statsmodels.formula.api as smf\n",
    "\n",
    "################ Data visualization #######################\n",
    "import matplotlib.pyplot as plt # Plot \n",
    "plt.rc(\"font\", size=14)\n",
    "import seaborn as sns # Plot advanced version of matplotlib\n",
    "import plotly\n",
    "sns.set(style=\"white\")\n",
    "sns.set(style=\"whitegrid\", color_codes=True)"
   ]
  },
  {
   "cell_type": "code",
   "execution_count": 123,
   "id": "e8470bfd",
   "metadata": {},
   "outputs": [
    {
     "data": {
      "text/html": [
       "<div>\n",
       "<style scoped>\n",
       "    .dataframe tbody tr th:only-of-type {\n",
       "        vertical-align: middle;\n",
       "    }\n",
       "\n",
       "    .dataframe tbody tr th {\n",
       "        vertical-align: top;\n",
       "    }\n",
       "\n",
       "    .dataframe thead th {\n",
       "        text-align: right;\n",
       "    }\n",
       "</style>\n",
       "<table border=\"1\" class=\"dataframe\">\n",
       "  <thead>\n",
       "    <tr style=\"text-align: right;\">\n",
       "      <th></th>\n",
       "      <th>Recency (months)</th>\n",
       "      <th>Frequency (times)</th>\n",
       "      <th>Monetary (c.c. blood)</th>\n",
       "      <th>Time (months)</th>\n",
       "      <th>whether he/she donated blood in March 2007</th>\n",
       "    </tr>\n",
       "  </thead>\n",
       "  <tbody>\n",
       "    <tr>\n",
       "      <th>0</th>\n",
       "      <td>2</td>\n",
       "      <td>50</td>\n",
       "      <td>12500</td>\n",
       "      <td>98</td>\n",
       "      <td>1</td>\n",
       "    </tr>\n",
       "    <tr>\n",
       "      <th>1</th>\n",
       "      <td>0</td>\n",
       "      <td>13</td>\n",
       "      <td>3250</td>\n",
       "      <td>28</td>\n",
       "      <td>1</td>\n",
       "    </tr>\n",
       "    <tr>\n",
       "      <th>2</th>\n",
       "      <td>1</td>\n",
       "      <td>16</td>\n",
       "      <td>4000</td>\n",
       "      <td>35</td>\n",
       "      <td>1</td>\n",
       "    </tr>\n",
       "    <tr>\n",
       "      <th>3</th>\n",
       "      <td>2</td>\n",
       "      <td>20</td>\n",
       "      <td>5000</td>\n",
       "      <td>45</td>\n",
       "      <td>1</td>\n",
       "    </tr>\n",
       "    <tr>\n",
       "      <th>4</th>\n",
       "      <td>1</td>\n",
       "      <td>24</td>\n",
       "      <td>6000</td>\n",
       "      <td>77</td>\n",
       "      <td>0</td>\n",
       "    </tr>\n",
       "  </tbody>\n",
       "</table>\n",
       "</div>"
      ],
      "text/plain": [
       "   Recency (months)  Frequency (times)  Monetary (c.c. blood)  Time (months)  \\\n",
       "0                 2                 50                  12500             98   \n",
       "1                 0                 13                   3250             28   \n",
       "2                 1                 16                   4000             35   \n",
       "3                 2                 20                   5000             45   \n",
       "4                 1                 24                   6000             77   \n",
       "\n",
       "   whether he/she donated blood in March 2007  \n",
       "0                                           1  \n",
       "1                                           1  \n",
       "2                                           1  \n",
       "3                                           1  \n",
       "4                                           0  "
      ]
     },
     "execution_count": 123,
     "metadata": {},
     "output_type": "execute_result"
    }
   ],
   "source": [
    "import pandas as pd\n",
    "data = pd.read_csv (r\"C:\\Users\\suvar\\Desktop\\Longistic regrassion\\transfusion.csv\")\n",
    "\n",
    "#first few rows\n",
    "data.head()"
   ]
  },
  {
   "cell_type": "code",
   "execution_count": 124,
   "id": "8f917e8c",
   "metadata": {},
   "outputs": [
    {
     "data": {
      "text/plain": [
       "Index(['Recencymonths', 'Frequencytimes', 'Monetaryccblood', 'Timemonths',\n",
       "       'donatedbloodinMarch'],\n",
       "      dtype='object')"
      ]
     },
     "execution_count": 124,
     "metadata": {},
     "output_type": "execute_result"
    }
   ],
   "source": [
    "data.columns=['Recencymonths','Frequencytimes','Monetaryccblood','Timemonths','donatedbloodinMarch']\n",
    "data.columns"
   ]
  },
  {
   "cell_type": "markdown",
   "id": "cd84da4e",
   "metadata": {},
   "source": [
    "# Data Structure or type "
   ]
  },
  {
   "cell_type": "code",
   "execution_count": 125,
   "id": "10ded003",
   "metadata": {},
   "outputs": [
    {
     "name": "stdout",
     "output_type": "stream",
     "text": [
      "<class 'pandas.core.frame.DataFrame'>\n",
      "RangeIndex: 748 entries, 0 to 747\n",
      "Data columns (total 5 columns):\n",
      " #   Column               Non-Null Count  Dtype\n",
      "---  ------               --------------  -----\n",
      " 0   Recencymonths        748 non-null    int64\n",
      " 1   Frequencytimes       748 non-null    int64\n",
      " 2   Monetaryccblood      748 non-null    int64\n",
      " 3   Timemonths           748 non-null    int64\n",
      " 4   donatedbloodinMarch  748 non-null    int64\n",
      "dtypes: int64(5)\n",
      "memory usage: 29.3 KB\n"
     ]
    }
   ],
   "source": [
    "data.info()"
   ]
  },
  {
   "cell_type": "code",
   "execution_count": 126,
   "id": "dcec8dd2",
   "metadata": {},
   "outputs": [
    {
     "data": {
      "text/plain": [
       "Recencymonths          0\n",
       "Frequencytimes         0\n",
       "Monetaryccblood        0\n",
       "Timemonths             0\n",
       "donatedbloodinMarch    0\n",
       "dtype: int64"
      ]
     },
     "execution_count": 126,
     "metadata": {},
     "output_type": "execute_result"
    }
   ],
   "source": [
    "data.isnull().sum()"
   ]
  },
  {
   "cell_type": "markdown",
   "id": "ac365e07",
   "metadata": {},
   "source": [
    "### EDA : Data Pre-Processing\n",
    "#### Assign Lables to  Categorical data "
   ]
  },
  {
   "cell_type": "code",
   "execution_count": 127,
   "id": "8219f3fa",
   "metadata": {},
   "outputs": [
    {
     "data": {
      "text/plain": [
       "0    570\n",
       "1    178\n",
       "Name: donatedbloodinMarch, dtype: int64"
      ]
     },
     "execution_count": 127,
     "metadata": {},
     "output_type": "execute_result"
    }
   ],
   "source": [
    "data.donatedbloodinMarch.value_counts()"
   ]
  },
  {
   "cell_type": "code",
   "execution_count": 128,
   "id": "b80a9396",
   "metadata": {},
   "outputs": [
    {
     "name": "stdout",
     "output_type": "stream",
     "text": [
      "<class 'pandas.core.frame.DataFrame'>\n",
      "RangeIndex: 748 entries, 0 to 747\n",
      "Data columns (total 5 columns):\n",
      " #   Column               Non-Null Count  Dtype\n",
      "---  ------               --------------  -----\n",
      " 0   Recencymonths        748 non-null    int64\n",
      " 1   Frequencytimes       748 non-null    int64\n",
      " 2   Monetaryccblood      748 non-null    int64\n",
      " 3   Timemonths           748 non-null    int64\n",
      " 4   donatedbloodinMarch  748 non-null    int64\n",
      "dtypes: int64(5)\n",
      "memory usage: 29.3 KB\n"
     ]
    }
   ],
   "source": [
    "data.info()"
   ]
  },
  {
   "cell_type": "code",
   "execution_count": 129,
   "id": "2ff3bbe6",
   "metadata": {},
   "outputs": [
    {
     "data": {
      "text/html": [
       "<div>\n",
       "<style scoped>\n",
       "    .dataframe tbody tr th:only-of-type {\n",
       "        vertical-align: middle;\n",
       "    }\n",
       "\n",
       "    .dataframe tbody tr th {\n",
       "        vertical-align: top;\n",
       "    }\n",
       "\n",
       "    .dataframe thead th {\n",
       "        text-align: right;\n",
       "    }\n",
       "</style>\n",
       "<table border=\"1\" class=\"dataframe\">\n",
       "  <thead>\n",
       "    <tr style=\"text-align: right;\">\n",
       "      <th></th>\n",
       "      <th>Recencymonths</th>\n",
       "      <th>Frequencytimes</th>\n",
       "      <th>Monetaryccblood</th>\n",
       "      <th>Timemonths</th>\n",
       "      <th>donatedbloodinMarch</th>\n",
       "    </tr>\n",
       "  </thead>\n",
       "  <tbody>\n",
       "    <tr>\n",
       "      <th>0</th>\n",
       "      <td>2</td>\n",
       "      <td>50</td>\n",
       "      <td>12500</td>\n",
       "      <td>98</td>\n",
       "      <td>1</td>\n",
       "    </tr>\n",
       "    <tr>\n",
       "      <th>1</th>\n",
       "      <td>0</td>\n",
       "      <td>13</td>\n",
       "      <td>3250</td>\n",
       "      <td>28</td>\n",
       "      <td>1</td>\n",
       "    </tr>\n",
       "    <tr>\n",
       "      <th>2</th>\n",
       "      <td>1</td>\n",
       "      <td>16</td>\n",
       "      <td>4000</td>\n",
       "      <td>35</td>\n",
       "      <td>1</td>\n",
       "    </tr>\n",
       "    <tr>\n",
       "      <th>3</th>\n",
       "      <td>2</td>\n",
       "      <td>20</td>\n",
       "      <td>5000</td>\n",
       "      <td>45</td>\n",
       "      <td>1</td>\n",
       "    </tr>\n",
       "    <tr>\n",
       "      <th>4</th>\n",
       "      <td>1</td>\n",
       "      <td>24</td>\n",
       "      <td>6000</td>\n",
       "      <td>77</td>\n",
       "      <td>0</td>\n",
       "    </tr>\n",
       "  </tbody>\n",
       "</table>\n",
       "</div>"
      ],
      "text/plain": [
       "   Recencymonths  Frequencytimes  Monetaryccblood  Timemonths  \\\n",
       "0              2              50            12500          98   \n",
       "1              0              13             3250          28   \n",
       "2              1              16             4000          35   \n",
       "3              2              20             5000          45   \n",
       "4              1              24             6000          77   \n",
       "\n",
       "   donatedbloodinMarch  \n",
       "0                    1  \n",
       "1                    1  \n",
       "2                    1  \n",
       "3                    1  \n",
       "4                    0  "
      ]
     },
     "execution_count": 129,
     "metadata": {},
     "output_type": "execute_result"
    }
   ],
   "source": [
    "data.head()"
   ]
  },
  {
   "cell_type": "code",
   "execution_count": 130,
   "id": "6f79589a",
   "metadata": {},
   "outputs": [
    {
     "data": {
      "text/plain": [
       "0    570\n",
       "1    178\n",
       "Name: donatedbloodinMarch, dtype: int64"
      ]
     },
     "execution_count": 130,
     "metadata": {},
     "output_type": "execute_result"
    }
   ],
   "source": [
    "data.donatedbloodinMarch.value_counts()"
   ]
  },
  {
   "cell_type": "code",
   "execution_count": 131,
   "id": "ab2070c1",
   "metadata": {},
   "outputs": [
    {
     "data": {
      "text/plain": [
       "0.03"
      ]
     },
     "execution_count": 131,
     "metadata": {},
     "output_type": "execute_result"
    }
   ],
   "source": [
    "(3/10000)*100 "
   ]
  },
  {
   "cell_type": "code",
   "execution_count": 132,
   "id": "9ebacc91",
   "metadata": {},
   "outputs": [
    {
     "data": {
      "text/plain": [
       "<AxesSubplot:xlabel='donatedbloodinMarch', ylabel='count'>"
      ]
     },
     "execution_count": 132,
     "metadata": {},
     "output_type": "execute_result"
    },
    {
     "data": {
      "image/png": "[encoded data removed]",
      "text/plain": [
       "<Figure size 432x288 with 1 Axes>"
      ]
     },
     "metadata": {},
     "output_type": "display_data"
    }
   ],
   "source": [
    "sns.countplot(x='donatedbloodinMarch',data=data,palette='hls')"
   ]
  },
  {
   "cell_type": "code",
   "execution_count": 133,
   "id": "e6a0d214",
   "metadata": {},
   "outputs": [
    {
     "data": {
      "text/html": [
       "<div>\n",
       "<style scoped>\n",
       "    .dataframe tbody tr th:only-of-type {\n",
       "        vertical-align: middle;\n",
       "    }\n",
       "\n",
       "    .dataframe tbody tr th {\n",
       "        vertical-align: top;\n",
       "    }\n",
       "\n",
       "    .dataframe thead th {\n",
       "        text-align: right;\n",
       "    }\n",
       "</style>\n",
       "<table border=\"1\" class=\"dataframe\">\n",
       "  <thead>\n",
       "    <tr style=\"text-align: right;\">\n",
       "      <th></th>\n",
       "      <th>Recencymonths</th>\n",
       "      <th>Frequencytimes</th>\n",
       "      <th>Monetaryccblood</th>\n",
       "      <th>Timemonths</th>\n",
       "    </tr>\n",
       "    <tr>\n",
       "      <th>donatedbloodinMarch</th>\n",
       "      <th></th>\n",
       "      <th></th>\n",
       "      <th></th>\n",
       "      <th></th>\n",
       "    </tr>\n",
       "  </thead>\n",
       "  <tbody>\n",
       "    <tr>\n",
       "      <th>0</th>\n",
       "      <td>10.771930</td>\n",
       "      <td>4.801754</td>\n",
       "      <td>1200.438596</td>\n",
       "      <td>34.770175</td>\n",
       "    </tr>\n",
       "    <tr>\n",
       "      <th>1</th>\n",
       "      <td>5.455056</td>\n",
       "      <td>7.797753</td>\n",
       "      <td>1949.438202</td>\n",
       "      <td>32.719101</td>\n",
       "    </tr>\n",
       "  </tbody>\n",
       "</table>\n",
       "</div>"
      ],
      "text/plain": [
       "                     Recencymonths  Frequencytimes  Monetaryccblood  \\\n",
       "donatedbloodinMarch                                                   \n",
       "0                        10.771930        4.801754      1200.438596   \n",
       "1                         5.455056        7.797753      1949.438202   \n",
       "\n",
       "                     Timemonths  \n",
       "donatedbloodinMarch              \n",
       "0                     34.770175  \n",
       "1                     32.719101  "
      ]
     },
     "execution_count": 133,
     "metadata": {},
     "output_type": "execute_result"
    }
   ],
   "source": [
    "data.groupby('donatedbloodinMarch').mean()"
   ]
  },
  {
   "cell_type": "markdown",
   "id": "2f951dee",
   "metadata": {},
   "source": [
    "# Visualizations"
   ]
  },
  {
   "cell_type": "code",
   "execution_count": 134,
   "id": "a790a89c",
   "metadata": {},
   "outputs": [
    {
     "data": {
      "text/plain": [
       "Text(0, 0.5, 'Frequency')"
      ]
     },
     "execution_count": 134,
     "metadata": {},
     "output_type": "execute_result"
    },
    {
     "data": {
      "image/png": "[encoded data removed]",
      "text/plain": [
       "<Figure size 432x288 with 1 Axes>"
      ]
     },
     "metadata": {},
     "output_type": "display_data"
    }
   ],
   "source": [
    "data.Recencymonths.hist()\n",
    "plt.title('Income of customer')\n",
    "plt.xlabel('Income')\n",
    "plt.ylabel('Frequency')\n",
    "#plt.savefig('Income_age')"
   ]
  },
  {
   "cell_type": "code",
   "execution_count": 135,
   "id": "0121c198",
   "metadata": {},
   "outputs": [
    {
     "data": {
      "text/plain": [
       "Text(0, 0.5, 'Frequency')"
      ]
     },
     "execution_count": 135,
     "metadata": {},
     "output_type": "execute_result"
    },
    {
     "data": {
      "image/png": "[encoded data removed]",
      "text/plain": [
       "<Figure size 432x288 with 1 Axes>"
      ]
     },
     "metadata": {},
     "output_type": "display_data"
    }
   ],
   "source": [
    "data.Frequencytimes.hist()\n",
    "plt.title('Balance of Customer')\n",
    "plt.xlabel('Balance')\n",
    "plt.ylabel('Frequency')\n",
    "#plt.savefig('Balance_age')"
   ]
  },
  {
   "cell_type": "markdown",
   "id": "76db93b6",
   "metadata": {},
   "source": [
    "# Identify & Treatment of Outlier "
   ]
  },
  {
   "cell_type": "code",
   "execution_count": 136,
   "id": "c2400fd9",
   "metadata": {},
   "outputs": [
    {
     "data": {
      "text/plain": [
       "<AxesSubplot:ylabel='Recencymonths'>"
      ]
     },
     "execution_count": 136,
     "metadata": {},
     "output_type": "execute_result"
    },
    {
     "data": {
      "image/png": "[encoded data removed]",
      "text/plain": [
       "<Figure size 432x288 with 1 Axes>"
      ]
     },
     "metadata": {},
     "output_type": "display_data"
    }
   ],
   "source": [
    "sns.boxplot(y='Recencymonths',data=data)  # Single Variable"
   ]
  },
  {
   "cell_type": "code",
   "execution_count": 137,
   "id": "51c6696b",
   "metadata": {},
   "outputs": [
    {
     "data": {
      "text/plain": [
       "30.875"
      ]
     },
     "execution_count": 137,
     "metadata": {},
     "output_type": "execute_result"
    }
   ],
   "source": [
    "q1 = data['Recencymonths'].quantile(0.25)\n",
    "q3 = data['Recencymonths'].quantile(0.75)\n",
    "iqr = q3-q1 #Interquartile range\n",
    "upper_limit = q3+1.5*iqr #acceptable range\n",
    "upper_limit"
   ]
  },
  {
   "cell_type": "code",
   "execution_count": 138,
   "id": "7e68696e",
   "metadata": {},
   "outputs": [],
   "source": [
    "data['Recencymonths']=np.where(data['Recencymonths'] > upper_limit,upper_limit,data['Recencymonths']) \n"
   ]
  },
  {
   "cell_type": "code",
   "execution_count": 139,
   "id": "0c4b9d4c",
   "metadata": {},
   "outputs": [
    {
     "data": {
      "text/plain": [
       "<AxesSubplot:ylabel='Recencymonths'>"
      ]
     },
     "execution_count": 139,
     "metadata": {},
     "output_type": "execute_result"
    },
    {
     "data": {
      "image/png": "[encoded data removed]",
      "text/plain": [
       "<Figure size 432x288 with 1 Axes>"
      ]
     },
     "metadata": {},
     "output_type": "display_data"
    }
   ],
   "source": [
    "sns.boxplot(y='Recencymonths',data=data)  # Single Variable"
   ]
  },
  {
   "cell_type": "code",
   "execution_count": 140,
   "id": "37dc04fd",
   "metadata": {},
   "outputs": [
    {
     "data": {
      "text/plain": [
       "<AxesSubplot:ylabel='Frequencytimes'>"
      ]
     },
     "execution_count": 140,
     "metadata": {},
     "output_type": "execute_result"
    },
    {
     "data": {
      "image/png": "[encoded data removed]",
      "text/plain": [
       "<Figure size 432x288 with 1 Axes>"
      ]
     },
     "metadata": {},
     "output_type": "display_data"
    }
   ],
   "source": [
    "sns.boxplot(y='Frequencytimes',data=data)  # Single Variable"
   ]
  },
  {
   "cell_type": "code",
   "execution_count": 141,
   "id": "bcc3ac16",
   "metadata": {},
   "outputs": [
    {
     "data": {
      "text/plain": [
       "14.5"
      ]
     },
     "execution_count": 141,
     "metadata": {},
     "output_type": "execute_result"
    }
   ],
   "source": [
    "q1 = data['Frequencytimes'].quantile(0.25)\n",
    "q3 = data['Frequencytimes'].quantile(0.75)\n",
    "iqr = q3-q1 #Interquartile range\n",
    "upper_limit = q3+1.5*iqr #acceptable range\n",
    "upper_limit"
   ]
  },
  {
   "cell_type": "code",
   "execution_count": 142,
   "id": "8be58aa5",
   "metadata": {},
   "outputs": [],
   "source": [
    "data['Frequencytimes']=np.where(data['Frequencytimes'] > upper_limit,upper_limit,data['Frequencytimes']) \n"
   ]
  },
  {
   "cell_type": "code",
   "execution_count": 143,
   "id": "e8b15aed",
   "metadata": {},
   "outputs": [
    {
     "data": {
      "text/plain": [
       "<AxesSubplot:ylabel='Frequencytimes'>"
      ]
     },
     "execution_count": 143,
     "metadata": {},
     "output_type": "execute_result"
    },
    {
     "data": {
      "image/png": "[encoded data removed]",
      "text/plain": [
       "<Figure size 432x288 with 1 Axes>"
      ]
     },
     "metadata": {},
     "output_type": "display_data"
    }
   ],
   "source": [
    "sns.boxplot(y='Frequencytimes',data=data)  # Single Variable"
   ]
  },
  {
   "cell_type": "code",
   "execution_count": 144,
   "id": "ace919bb",
   "metadata": {},
   "outputs": [
    {
     "data": {
      "text/plain": [
       "<AxesSubplot:ylabel='Monetaryccblood'>"
      ]
     },
     "execution_count": 144,
     "metadata": {},
     "output_type": "execute_result"
    },
    {
     "data": {
      "image/png": "[encoded data removed]",
      "text/plain": [
       "<Figure size 432x288 with 1 Axes>"
      ]
     },
     "metadata": {},
     "output_type": "display_data"
    }
   ],
   "source": [
    "sns.boxplot(y='Monetaryccblood',data=data)  # Single Variable"
   ]
  },
  {
   "cell_type": "code",
   "execution_count": 145,
   "id": "3be74979",
   "metadata": {},
   "outputs": [
    {
     "data": {
      "text/plain": [
       "3625.0"
      ]
     },
     "execution_count": 145,
     "metadata": {},
     "output_type": "execute_result"
    }
   ],
   "source": [
    "q1 = data['Monetaryccblood'].quantile(0.25)\n",
    "q3 = data['Monetaryccblood'].quantile(0.75)\n",
    "iqr = q3-q1 #Interquartile range\n",
    "upper_limit = q3+1.5*iqr #acceptable range\n",
    "upper_limit"
   ]
  },
  {
   "cell_type": "code",
   "execution_count": 146,
   "id": "0fef0510",
   "metadata": {},
   "outputs": [],
   "source": [
    "data['Monetaryccblood']=np.where(data['Monetaryccblood'] > upper_limit,upper_limit,data['Monetaryccblood']) \n"
   ]
  },
  {
   "cell_type": "code",
   "execution_count": 147,
   "id": "a6826bb0",
   "metadata": {},
   "outputs": [
    {
     "data": {
      "text/plain": [
       "<AxesSubplot:ylabel='Monetaryccblood'>"
      ]
     },
     "execution_count": 147,
     "metadata": {},
     "output_type": "execute_result"
    },
    {
     "data": {
      "image/png": "[encoded data removed]",
      "text/plain": [
       "<Figure size 432x288 with 1 Axes>"
      ]
     },
     "metadata": {},
     "output_type": "display_data"
    }
   ],
   "source": [
    "sns.boxplot(y='Monetaryccblood',data=data)  # Single Variable"
   ]
  },
  {
   "cell_type": "code",
   "execution_count": 148,
   "id": "d4fa236b",
   "metadata": {},
   "outputs": [
    {
     "data": {
      "text/plain": [
       "<AxesSubplot:ylabel='Timemonths'>"
      ]
     },
     "execution_count": 148,
     "metadata": {},
     "output_type": "execute_result"
    },
    {
     "data": {
      "image/png": "[encoded data removed]",
      "text/plain": [
       "<Figure size 432x288 with 1 Axes>"
      ]
     },
     "metadata": {},
     "output_type": "display_data"
    }
   ],
   "source": [
    "sns.boxplot(y='Timemonths',data=data)  # Single Variable"
   ]
  },
  {
   "cell_type": "markdown",
   "id": "4e59315e",
   "metadata": {},
   "source": [
    "# Step 3 : Splitting the data in Training and Test set\n",
    "* Using sklearn we split 70% of our data into training set and rest in test set.\n",
    "* Setting random_state will give the same training and test set everytime on running the code"
   ]
  },
  {
   "cell_type": "code",
   "execution_count": 149,
   "id": "e7fbec71",
   "metadata": {},
   "outputs": [],
   "source": [
    "data_final=data"
   ]
  },
  {
   "cell_type": "code",
   "execution_count": 150,
   "id": "87185ed1",
   "metadata": {},
   "outputs": [
    {
     "data": {
      "text/html": [
       "<div>\n",
       "<style scoped>\n",
       "    .dataframe tbody tr th:only-of-type {\n",
       "        vertical-align: middle;\n",
       "    }\n",
       "\n",
       "    .dataframe tbody tr th {\n",
       "        vertical-align: top;\n",
       "    }\n",
       "\n",
       "    .dataframe thead th {\n",
       "        text-align: right;\n",
       "    }\n",
       "</style>\n",
       "<table border=\"1\" class=\"dataframe\">\n",
       "  <thead>\n",
       "    <tr style=\"text-align: right;\">\n",
       "      <th></th>\n",
       "      <th>Recencymonths</th>\n",
       "      <th>Frequencytimes</th>\n",
       "      <th>Monetaryccblood</th>\n",
       "      <th>Timemonths</th>\n",
       "      <th>donatedbloodinMarch</th>\n",
       "    </tr>\n",
       "  </thead>\n",
       "  <tbody>\n",
       "    <tr>\n",
       "      <th>0</th>\n",
       "      <td>2.0</td>\n",
       "      <td>14.5</td>\n",
       "      <td>3625.0</td>\n",
       "      <td>98</td>\n",
       "      <td>1</td>\n",
       "    </tr>\n",
       "    <tr>\n",
       "      <th>1</th>\n",
       "      <td>0.0</td>\n",
       "      <td>13.0</td>\n",
       "      <td>3250.0</td>\n",
       "      <td>28</td>\n",
       "      <td>1</td>\n",
       "    </tr>\n",
       "    <tr>\n",
       "      <th>2</th>\n",
       "      <td>1.0</td>\n",
       "      <td>14.5</td>\n",
       "      <td>3625.0</td>\n",
       "      <td>35</td>\n",
       "      <td>1</td>\n",
       "    </tr>\n",
       "    <tr>\n",
       "      <th>3</th>\n",
       "      <td>2.0</td>\n",
       "      <td>14.5</td>\n",
       "      <td>3625.0</td>\n",
       "      <td>45</td>\n",
       "      <td>1</td>\n",
       "    </tr>\n",
       "    <tr>\n",
       "      <th>4</th>\n",
       "      <td>1.0</td>\n",
       "      <td>14.5</td>\n",
       "      <td>3625.0</td>\n",
       "      <td>77</td>\n",
       "      <td>0</td>\n",
       "    </tr>\n",
       "  </tbody>\n",
       "</table>\n",
       "</div>"
      ],
      "text/plain": [
       "   Recencymonths  Frequencytimes  Monetaryccblood  Timemonths  \\\n",
       "0            2.0            14.5           3625.0          98   \n",
       "1            0.0            13.0           3250.0          28   \n",
       "2            1.0            14.5           3625.0          35   \n",
       "3            2.0            14.5           3625.0          45   \n",
       "4            1.0            14.5           3625.0          77   \n",
       "\n",
       "   donatedbloodinMarch  \n",
       "0                    1  \n",
       "1                    1  \n",
       "2                    1  \n",
       "3                    1  \n",
       "4                    0  "
      ]
     },
     "execution_count": 150,
     "metadata": {},
     "output_type": "execute_result"
    }
   ],
   "source": [
    "data_final.head()"
   ]
  },
  {
   "cell_type": "code",
   "execution_count": 151,
   "id": "2662c9c5",
   "metadata": {},
   "outputs": [],
   "source": [
    "# define our input variable (X) & output variable\n",
    "X = data_final.drop('donatedbloodinMarch', axis = 1)\n",
    "Y = data_final[['donatedbloodinMarch']]\n",
    "# Split X and y into X_\n",
    "X_train, X_test, y_train, y_test=train_test_split(X, Y, test_size=0.30, random_state=123)"
   ]
  },
  {
   "cell_type": "markdown",
   "id": "31e58fa0",
   "metadata": {},
   "source": [
    "# Step 4 : Performing Logistic Regression\n"
   ]
  },
  {
   "cell_type": "code",
   "execution_count": 152,
   "id": "38c3f4f6",
   "metadata": {},
   "outputs": [
    {
     "data": {
      "text/html": [
       "<div>\n",
       "<style scoped>\n",
       "    .dataframe tbody tr th:only-of-type {\n",
       "        vertical-align: middle;\n",
       "    }\n",
       "\n",
       "    .dataframe tbody tr th {\n",
       "        vertical-align: top;\n",
       "    }\n",
       "\n",
       "    .dataframe thead th {\n",
       "        text-align: right;\n",
       "    }\n",
       "</style>\n",
       "<table border=\"1\" class=\"dataframe\">\n",
       "  <thead>\n",
       "    <tr style=\"text-align: right;\">\n",
       "      <th></th>\n",
       "      <th>Recencymonths</th>\n",
       "      <th>Frequencytimes</th>\n",
       "      <th>Monetaryccblood</th>\n",
       "      <th>Timemonths</th>\n",
       "      <th>donatedbloodinMarch</th>\n",
       "    </tr>\n",
       "  </thead>\n",
       "  <tbody>\n",
       "    <tr>\n",
       "      <th>240</th>\n",
       "      <td>8.0</td>\n",
       "      <td>8.0</td>\n",
       "      <td>2000.0</td>\n",
       "      <td>52</td>\n",
       "      <td>1</td>\n",
       "    </tr>\n",
       "    <tr>\n",
       "      <th>100</th>\n",
       "      <td>4.0</td>\n",
       "      <td>8.0</td>\n",
       "      <td>2000.0</td>\n",
       "      <td>34</td>\n",
       "      <td>1</td>\n",
       "    </tr>\n",
       "    <tr>\n",
       "      <th>625</th>\n",
       "      <td>7.0</td>\n",
       "      <td>5.0</td>\n",
       "      <td>1250.0</td>\n",
       "      <td>35</td>\n",
       "      <td>0</td>\n",
       "    </tr>\n",
       "    <tr>\n",
       "      <th>273</th>\n",
       "      <td>4.0</td>\n",
       "      <td>5.0</td>\n",
       "      <td>1250.0</td>\n",
       "      <td>58</td>\n",
       "      <td>0</td>\n",
       "    </tr>\n",
       "    <tr>\n",
       "      <th>349</th>\n",
       "      <td>11.0</td>\n",
       "      <td>1.0</td>\n",
       "      <td>250.0</td>\n",
       "      <td>11</td>\n",
       "      <td>0</td>\n",
       "    </tr>\n",
       "  </tbody>\n",
       "</table>\n",
       "</div>"
      ],
      "text/plain": [
       "     Recencymonths  Frequencytimes  Monetaryccblood  Timemonths  \\\n",
       "240            8.0             8.0           2000.0          52   \n",
       "100            4.0             8.0           2000.0          34   \n",
       "625            7.0             5.0           1250.0          35   \n",
       "273            4.0             5.0           1250.0          58   \n",
       "349           11.0             1.0            250.0          11   \n",
       "\n",
       "     donatedbloodinMarch  \n",
       "240                    1  \n",
       "100                    1  \n",
       "625                    0  \n",
       "273                    0  \n",
       "349                    0  "
      ]
     },
     "execution_count": 152,
     "metadata": {},
     "output_type": "execute_result"
    }
   ],
   "source": [
    "train=pd.concat([X_train,y_train],axis=1)\n",
    "train.head()"
   ]
  },
  {
   "cell_type": "markdown",
   "id": "d56487e7",
   "metadata": {},
   "source": [
    "# Hypothesis\n",
    "\n",
    "* H0 :- There is no log linear relationship between donatedbloodinMarch and Recencymonths , Frequencytimes & Frequencytimes,Timemonths\n",
    "\n",
    "Vs \n",
    "\n",
    "* H1 :- There is log linear relationship between donatedbloodinMarch and Recencymonths , Frequencytimes & Frequencytimes,Timemonths\n",
    "\n",
    "\n",
    "Alpha = 0.05"
   ]
  },
  {
   "cell_type": "code",
   "execution_count": 154,
   "id": "152f243e",
   "metadata": {},
   "outputs": [
    {
     "name": "stdout",
     "output_type": "stream",
     "text": [
      "Warning: Maximum number of iterations has been exceeded.\n",
      "         Current function value: 0.439216\n",
      "         Iterations: 35\n"
     ]
    },
    {
     "name": "stderr",
     "output_type": "stream",
     "text": [
      "C:\\Users\\suvar\\anaconda3\\lib\\site-packages\\statsmodels\\base\\model.py:604: ConvergenceWarning:\n",
      "\n",
      "Maximum Likelihood optimization failed to converge. Check mle_retvals\n",
      "\n"
     ]
    },
    {
     "data": {
      "text/html": [
       "<table class=\"simpletable\">\n",
       "<tr>\n",
       "        <td>Model:</td>               <td>Logit</td>        <td>Pseudo R-squared:</td>    <td>0.177</td>  \n",
       "</tr>\n",
       "<tr>\n",
       "  <td>Dependent Variable:</td> <td>donatedbloodinMarch</td>       <td>AIC:</td>         <td>469.4200</td> \n",
       "</tr>\n",
       "<tr>\n",
       "         <td>Date:</td>         <td>2022-11-23 20:40</td>         <td>BIC:</td>         <td>490.7179</td> \n",
       "</tr>\n",
       "<tr>\n",
       "   <td>No. Observations:</td>          <td>523</td>          <td>Log-Likelihood:</td>    <td>-229.71</td> \n",
       "</tr>\n",
       "<tr>\n",
       "       <td>Df Model:</td>               <td>4</td>              <td>LL-Null:</td>        <td>-279.25</td> \n",
       "</tr>\n",
       "<tr>\n",
       "     <td>Df Residuals:</td>            <td>518</td>           <td>LLR p-value:</td>    <td>1.5501e-20</td>\n",
       "</tr>\n",
       "<tr>\n",
       "      <td>Converged:</td>            <td>0.0000</td>             <td>Scale:</td>         <td>1.0000</td>  \n",
       "</tr>\n",
       "<tr>\n",
       "    <td>No. Iterations:</td>         <td>35.0000</td>               <td></td>               <td></td>     \n",
       "</tr>\n",
       "</table>\n",
       "<table class=\"simpletable\">\n",
       "<tr>\n",
       "         <td></td>          <th>Coef.</th>  <th>Std.Err.</th>    <th>z</th>     <th>P>|z|</th> <th>[0.025</th>  <th>0.975]</th> \n",
       "</tr>\n",
       "<tr>\n",
       "  <th>Intercept</th>       <td>-0.5692</td>  <td>0.2418</td>  <td>-2.3535</td> <td>0.0186</td> <td>-1.0431</td> <td>-0.0952</td>\n",
       "</tr>\n",
       "<tr>\n",
       "  <th>Recencymonths</th>   <td>-0.1049</td>  <td>0.0220</td>  <td>-4.7712</td> <td>0.0000</td> <td>-0.1480</td> <td>-0.0618</td>\n",
       "</tr>\n",
       "<tr>\n",
       "  <th>Frequencytimes</th>  <td>0.0000</td>     <td>nan</td>     <td>nan</td>     <td>nan</td>    <td>nan</td>     <td>nan</td>  \n",
       "</tr>\n",
       "<tr>\n",
       "  <th>Monetaryccblood</th> <td>0.0009</td>     <td>nan</td>     <td>nan</td>     <td>nan</td>    <td>nan</td>     <td>nan</td>  \n",
       "</tr>\n",
       "<tr>\n",
       "  <th>Timemonths</th>      <td>-0.0357</td>  <td>0.0082</td>  <td>-4.3747</td> <td>0.0000</td> <td>-0.0517</td> <td>-0.0197</td>\n",
       "</tr>\n",
       "</table>"
      ],
      "text/plain": [
       "<class 'statsmodels.iolib.summary2.Summary'>\n",
       "\"\"\"\n",
       "                           Results: Logit\n",
       "====================================================================\n",
       "Model:              Logit               Pseudo R-squared: 0.177     \n",
       "Dependent Variable: donatedbloodinMarch AIC:              469.4200  \n",
       "Date:               2022-11-23 20:40    BIC:              490.7179  \n",
       "No. Observations:   523                 Log-Likelihood:   -229.71   \n",
       "Df Model:           4                   LL-Null:          -279.25   \n",
       "Df Residuals:       518                 LLR p-value:      1.5501e-20\n",
       "Converged:          0.0000              Scale:            1.0000    \n",
       "No. Iterations:     35.0000                                         \n",
       "---------------------------------------------------------------------\n",
       "                  Coef.   Std.Err.     z     P>|z|    [0.025   0.975]\n",
       "---------------------------------------------------------------------\n",
       "Intercept        -0.5692    0.2418  -2.3535  0.0186  -1.0431  -0.0952\n",
       "Recencymonths    -0.1049    0.0220  -4.7712  0.0000  -0.1480  -0.0618\n",
       "Frequencytimes    0.0000       nan      nan     nan      nan      nan\n",
       "Monetaryccblood   0.0009       nan      nan     nan      nan      nan\n",
       "Timemonths       -0.0357    0.0082  -4.3747  0.0000  -0.0517  -0.0197\n",
       "====================================================================\n",
       "\n",
       "\"\"\""
      ]
     },
     "execution_count": 154,
     "metadata": {},
     "output_type": "execute_result"
    }
   ],
   "source": [
    "import statsmodels.formula.api as smf\n",
    "result=smf.logit(\"donatedbloodinMarch~Recencymonths+Frequencytimes+Monetaryccblood+Timemonths\",data=train).fit()\n",
    "result.summary2()"
   ]
  },
  {
   "cell_type": "code",
   "execution_count": 155,
   "id": "f103192f",
   "metadata": {},
   "outputs": [
    {
     "name": "stdout",
     "output_type": "stream",
     "text": [
      "Optimization terminated successfully.\n",
      "         Current function value: 0.469654\n",
      "         Iterations 6\n"
     ]
    },
    {
     "data": {
      "text/html": [
       "<table class=\"simpletable\">\n",
       "<tr>\n",
       "        <td>Model:</td>               <td>Logit</td>        <td>Pseudo R-squared:</td>    <td>0.120</td>  \n",
       "</tr>\n",
       "<tr>\n",
       "  <td>Dependent Variable:</td> <td>donatedbloodinMarch</td>       <td>AIC:</td>         <td>497.2585</td> \n",
       "</tr>\n",
       "<tr>\n",
       "         <td>Date:</td>         <td>2022-11-23 20:41</td>         <td>BIC:</td>         <td>510.0373</td> \n",
       "</tr>\n",
       "<tr>\n",
       "   <td>No. Observations:</td>          <td>523</td>          <td>Log-Likelihood:</td>    <td>-245.63</td> \n",
       "</tr>\n",
       "<tr>\n",
       "       <td>Df Model:</td>               <td>2</td>              <td>LL-Null:</td>        <td>-279.25</td> \n",
       "</tr>\n",
       "<tr>\n",
       "     <td>Df Residuals:</td>            <td>520</td>           <td>LLR p-value:</td>    <td>2.5143e-15</td>\n",
       "</tr>\n",
       "<tr>\n",
       "      <td>Converged:</td>            <td>1.0000</td>             <td>Scale:</td>         <td>1.0000</td>  \n",
       "</tr>\n",
       "<tr>\n",
       "    <td>No. Iterations:</td>         <td>6.0000</td>                <td></td>               <td></td>     \n",
       "</tr>\n",
       "</table>\n",
       "<table class=\"simpletable\">\n",
       "<tr>\n",
       "        <td></td>         <th>Coef.</th>  <th>Std.Err.</th>    <th>z</th>     <th>P>|z|</th> <th>[0.025</th>  <th>0.975]</th> \n",
       "</tr>\n",
       "<tr>\n",
       "  <th>Intercept</th>     <td>-0.0092</td>  <td>0.2164</td>  <td>-0.0423</td> <td>0.9662</td> <td>-0.4332</td> <td>0.4149</td> \n",
       "</tr>\n",
       "<tr>\n",
       "  <th>Recencymonths</th> <td>-0.1421</td>  <td>0.0208</td>  <td>-6.8423</td> <td>0.0000</td> <td>-0.1827</td> <td>-0.1014</td>\n",
       "</tr>\n",
       "<tr>\n",
       "  <th>Timemonths</th>    <td>-0.0032</td>  <td>0.0046</td>  <td>-0.6890</td> <td>0.4908</td> <td>-0.0121</td> <td>0.0058</td> \n",
       "</tr>\n",
       "</table>"
      ],
      "text/plain": [
       "<class 'statsmodels.iolib.summary2.Summary'>\n",
       "\"\"\"\n",
       "                           Results: Logit\n",
       "====================================================================\n",
       "Model:              Logit               Pseudo R-squared: 0.120     \n",
       "Dependent Variable: donatedbloodinMarch AIC:              497.2585  \n",
       "Date:               2022-11-23 20:41    BIC:              510.0373  \n",
       "No. Observations:   523                 Log-Likelihood:   -245.63   \n",
       "Df Model:           2                   LL-Null:          -279.25   \n",
       "Df Residuals:       520                 LLR p-value:      2.5143e-15\n",
       "Converged:          1.0000              Scale:            1.0000    \n",
       "No. Iterations:     6.0000                                          \n",
       "---------------------------------------------------------------------\n",
       "                  Coef.   Std.Err.     z     P>|z|    [0.025   0.975]\n",
       "---------------------------------------------------------------------\n",
       "Intercept        -0.0092    0.2164  -0.0423  0.9662  -0.4332   0.4149\n",
       "Recencymonths    -0.1421    0.0208  -6.8423  0.0000  -0.1827  -0.1014\n",
       "Timemonths       -0.0032    0.0046  -0.6890  0.4908  -0.0121   0.0058\n",
       "====================================================================\n",
       "\n",
       "\"\"\""
      ]
     },
     "execution_count": 155,
     "metadata": {},
     "output_type": "execute_result"
    }
   ],
   "source": [
    "model=smf.logit(\"donatedbloodinMarch~Recencymonths+Timemonths\",data=train).fit()\n",
    "model.summary2()"
   ]
  },
  {
   "cell_type": "code",
   "execution_count": 157,
   "id": "7f05063f",
   "metadata": {},
   "outputs": [
    {
     "name": "stdout",
     "output_type": "stream",
     "text": [
      "Optimization terminated successfully.\n",
      "         Current function value: 0.470113\n",
      "         Iterations 6\n"
     ]
    },
    {
     "data": {
      "text/html": [
       "<table class=\"simpletable\">\n",
       "<tr>\n",
       "        <td>Model:</td>               <td>Logit</td>        <td>Pseudo R-squared:</td>    <td>0.120</td>  \n",
       "</tr>\n",
       "<tr>\n",
       "  <td>Dependent Variable:</td> <td>donatedbloodinMarch</td>       <td>AIC:</td>         <td>495.7379</td> \n",
       "</tr>\n",
       "<tr>\n",
       "         <td>Date:</td>         <td>2022-11-23 20:44</td>         <td>BIC:</td>         <td>504.2571</td> \n",
       "</tr>\n",
       "<tr>\n",
       "   <td>No. Observations:</td>          <td>523</td>          <td>Log-Likelihood:</td>    <td>-245.87</td> \n",
       "</tr>\n",
       "<tr>\n",
       "       <td>Df Model:</td>               <td>1</td>              <td>LL-Null:</td>        <td>-279.25</td> \n",
       "</tr>\n",
       "<tr>\n",
       "     <td>Df Residuals:</td>            <td>521</td>           <td>LLR p-value:</td>    <td>3.0756e-16</td>\n",
       "</tr>\n",
       "<tr>\n",
       "      <td>Converged:</td>            <td>1.0000</td>             <td>Scale:</td>         <td>1.0000</td>  \n",
       "</tr>\n",
       "<tr>\n",
       "    <td>No. Iterations:</td>         <td>6.0000</td>                <td></td>               <td></td>     \n",
       "</tr>\n",
       "</table>\n",
       "<table class=\"simpletable\">\n",
       "<tr>\n",
       "        <td></td>         <th>Coef.</th>  <th>Std.Err.</th>    <th>z</th>     <th>P>|z|</th> <th>[0.025</th>  <th>0.975]</th> \n",
       "</tr>\n",
       "<tr>\n",
       "  <th>Intercept</th>     <td>-0.1028</td>  <td>0.1690</td>  <td>-0.6079</td> <td>0.5432</td> <td>-0.4341</td> <td>0.2285</td> \n",
       "</tr>\n",
       "<tr>\n",
       "  <th>Recencymonths</th> <td>-0.1436</td>  <td>0.0207</td>  <td>-6.9484</td> <td>0.0000</td> <td>-0.1841</td> <td>-0.1031</td>\n",
       "</tr>\n",
       "</table>"
      ],
      "text/plain": [
       "<class 'statsmodels.iolib.summary2.Summary'>\n",
       "\"\"\"\n",
       "                           Results: Logit\n",
       "====================================================================\n",
       "Model:              Logit               Pseudo R-squared: 0.120     \n",
       "Dependent Variable: donatedbloodinMarch AIC:              495.7379  \n",
       "Date:               2022-11-23 20:44    BIC:              504.2571  \n",
       "No. Observations:   523                 Log-Likelihood:   -245.87   \n",
       "Df Model:           1                   LL-Null:          -279.25   \n",
       "Df Residuals:       521                 LLR p-value:      3.0756e-16\n",
       "Converged:          1.0000              Scale:            1.0000    \n",
       "No. Iterations:     6.0000                                          \n",
       "---------------------------------------------------------------------\n",
       "                  Coef.   Std.Err.     z     P>|z|    [0.025   0.975]\n",
       "---------------------------------------------------------------------\n",
       "Intercept        -0.1028    0.1690  -0.6079  0.5432  -0.4341   0.2285\n",
       "Recencymonths    -0.1436    0.0207  -6.9484  0.0000  -0.1841  -0.1031\n",
       "====================================================================\n",
       "\n",
       "\"\"\""
      ]
     },
     "execution_count": 157,
     "metadata": {},
     "output_type": "execute_result"
    }
   ],
   "source": [
    "import statsmodels.formula.api as smf\n",
    "result=smf.logit(\"donatedbloodinMarch~Recencymonths\",data=train).fit()\n",
    "result.summary2()"
   ]
  },
  {
   "cell_type": "markdown",
   "id": "a2dbcb66",
   "metadata": {},
   "source": [
    "* We Reject Ho"
   ]
  },
  {
   "cell_type": "markdown",
   "id": "5563826a",
   "metadata": {},
   "source": [
    "### Conclusion :- \n",
    "\n",
    "There is log linear relationship between  Recencymonths\n"
   ]
  },
  {
   "cell_type": "markdown",
   "id": "b269fead",
   "metadata": {},
   "source": [
    "# Odds Ratio"
   ]
  },
  {
   "cell_type": "code",
   "execution_count": 158,
   "id": "107d56f4",
   "metadata": {},
   "outputs": [
    {
     "data": {
      "text/plain": [
       "Intercept       -0.009161\n",
       "Recencymonths   -0.142055\n",
       "Timemonths      -0.003150\n",
       "dtype: float64"
      ]
     },
     "execution_count": 158,
     "metadata": {},
     "output_type": "execute_result"
    }
   ],
   "source": [
    "model.params"
   ]
  },
  {
   "cell_type": "code",
   "execution_count": 159,
   "id": "90a0f6fa",
   "metadata": {},
   "outputs": [
    {
     "data": {
      "text/html": [
       "<div>\n",
       "<style scoped>\n",
       "    .dataframe tbody tr th:only-of-type {\n",
       "        vertical-align: middle;\n",
       "    }\n",
       "\n",
       "    .dataframe tbody tr th {\n",
       "        vertical-align: top;\n",
       "    }\n",
       "\n",
       "    .dataframe thead th {\n",
       "        text-align: right;\n",
       "    }\n",
       "</style>\n",
       "<table border=\"1\" class=\"dataframe\">\n",
       "  <thead>\n",
       "    <tr style=\"text-align: right;\">\n",
       "      <th></th>\n",
       "      <th>Odds_Ratio</th>\n",
       "    </tr>\n",
       "  </thead>\n",
       "  <tbody>\n",
       "    <tr>\n",
       "      <th>Intercept</th>\n",
       "      <td>0.990881</td>\n",
       "    </tr>\n",
       "    <tr>\n",
       "      <th>Recencymonths</th>\n",
       "      <td>0.867574</td>\n",
       "    </tr>\n",
       "    <tr>\n",
       "      <th>Timemonths</th>\n",
       "      <td>0.996855</td>\n",
       "    </tr>\n",
       "  </tbody>\n",
       "</table>\n",
       "</div>"
      ],
      "text/plain": [
       "               Odds_Ratio\n",
       "Intercept        0.990881\n",
       "Recencymonths    0.867574\n",
       "Timemonths       0.996855"
      ]
     },
     "execution_count": 159,
     "metadata": {},
     "output_type": "execute_result"
    }
   ],
   "source": [
    "Model_Odds=pd.DataFrame(np.exp(model.params),columns=[\"Odds_Ratio\"])\n",
    "Model_Odds"
   ]
  },
  {
   "cell_type": "markdown",
   "id": "6a9c2d71",
   "metadata": {},
   "source": [
    "* doneted blood have 0.8675 times higher odds of not donet a blood as compared to denote a blood  "
   ]
  },
  {
   "cell_type": "markdown",
   "id": "0d0e6de8",
   "metadata": {},
   "source": [
    "# Step 6 : Predictions on Train Dataset"
   ]
  },
  {
   "cell_type": "code",
   "execution_count": 160,
   "id": "1f0d2999",
   "metadata": {},
   "outputs": [
    {
     "data": {
      "text/html": [
       "<div>\n",
       "<style scoped>\n",
       "    .dataframe tbody tr th:only-of-type {\n",
       "        vertical-align: middle;\n",
       "    }\n",
       "\n",
       "    .dataframe tbody tr th {\n",
       "        vertical-align: top;\n",
       "    }\n",
       "\n",
       "    .dataframe thead th {\n",
       "        text-align: right;\n",
       "    }\n",
       "</style>\n",
       "<table border=\"1\" class=\"dataframe\">\n",
       "  <thead>\n",
       "    <tr style=\"text-align: right;\">\n",
       "      <th></th>\n",
       "      <th>Recencymonths</th>\n",
       "      <th>Frequencytimes</th>\n",
       "      <th>Monetaryccblood</th>\n",
       "      <th>Timemonths</th>\n",
       "      <th>donatedbloodinMarch</th>\n",
       "    </tr>\n",
       "  </thead>\n",
       "  <tbody>\n",
       "    <tr>\n",
       "      <th>240</th>\n",
       "      <td>8.0</td>\n",
       "      <td>8.0</td>\n",
       "      <td>2000.0</td>\n",
       "      <td>52</td>\n",
       "      <td>1</td>\n",
       "    </tr>\n",
       "    <tr>\n",
       "      <th>100</th>\n",
       "      <td>4.0</td>\n",
       "      <td>8.0</td>\n",
       "      <td>2000.0</td>\n",
       "      <td>34</td>\n",
       "      <td>1</td>\n",
       "    </tr>\n",
       "    <tr>\n",
       "      <th>625</th>\n",
       "      <td>7.0</td>\n",
       "      <td>5.0</td>\n",
       "      <td>1250.0</td>\n",
       "      <td>35</td>\n",
       "      <td>0</td>\n",
       "    </tr>\n",
       "    <tr>\n",
       "      <th>273</th>\n",
       "      <td>4.0</td>\n",
       "      <td>5.0</td>\n",
       "      <td>1250.0</td>\n",
       "      <td>58</td>\n",
       "      <td>0</td>\n",
       "    </tr>\n",
       "    <tr>\n",
       "      <th>349</th>\n",
       "      <td>11.0</td>\n",
       "      <td>1.0</td>\n",
       "      <td>250.0</td>\n",
       "      <td>11</td>\n",
       "      <td>0</td>\n",
       "    </tr>\n",
       "  </tbody>\n",
       "</table>\n",
       "</div>"
      ],
      "text/plain": [
       "     Recencymonths  Frequencytimes  Monetaryccblood  Timemonths  \\\n",
       "240            8.0             8.0           2000.0          52   \n",
       "100            4.0             8.0           2000.0          34   \n",
       "625            7.0             5.0           1250.0          35   \n",
       "273            4.0             5.0           1250.0          58   \n",
       "349           11.0             1.0            250.0          11   \n",
       "\n",
       "     donatedbloodinMarch  \n",
       "240                    1  \n",
       "100                    1  \n",
       "625                    0  \n",
       "273                    0  \n",
       "349                    0  "
      ]
     },
     "execution_count": 160,
     "metadata": {},
     "output_type": "execute_result"
    }
   ],
   "source": [
    "train.head()"
   ]
  },
  {
   "cell_type": "code",
   "execution_count": 161,
   "id": "488b9066",
   "metadata": {},
   "outputs": [
    {
     "data": {
      "text/html": [
       "<div>\n",
       "<style scoped>\n",
       "    .dataframe tbody tr th:only-of-type {\n",
       "        vertical-align: middle;\n",
       "    }\n",
       "\n",
       "    .dataframe tbody tr th {\n",
       "        vertical-align: top;\n",
       "    }\n",
       "\n",
       "    .dataframe thead th {\n",
       "        text-align: right;\n",
       "    }\n",
       "</style>\n",
       "<table border=\"1\" class=\"dataframe\">\n",
       "  <thead>\n",
       "    <tr style=\"text-align: right;\">\n",
       "      <th></th>\n",
       "      <th>Recencymonths</th>\n",
       "      <th>Frequencytimes</th>\n",
       "      <th>Monetaryccblood</th>\n",
       "      <th>Timemonths</th>\n",
       "      <th>donatedbloodinMarch</th>\n",
       "      <th>Probability</th>\n",
       "    </tr>\n",
       "  </thead>\n",
       "  <tbody>\n",
       "    <tr>\n",
       "      <th>240</th>\n",
       "      <td>8.0</td>\n",
       "      <td>8.0</td>\n",
       "      <td>2000.0</td>\n",
       "      <td>52</td>\n",
       "      <td>1</td>\n",
       "      <td>0.212587</td>\n",
       "    </tr>\n",
       "    <tr>\n",
       "      <th>100</th>\n",
       "      <td>4.0</td>\n",
       "      <td>8.0</td>\n",
       "      <td>2000.0</td>\n",
       "      <td>34</td>\n",
       "      <td>1</td>\n",
       "      <td>0.335262</td>\n",
       "    </tr>\n",
       "    <tr>\n",
       "      <th>625</th>\n",
       "      <td>7.0</td>\n",
       "      <td>5.0</td>\n",
       "      <td>1250.0</td>\n",
       "      <td>35</td>\n",
       "      <td>0</td>\n",
       "      <td>0.247164</td>\n",
       "    </tr>\n",
       "    <tr>\n",
       "      <th>273</th>\n",
       "      <td>4.0</td>\n",
       "      <td>5.0</td>\n",
       "      <td>1250.0</td>\n",
       "      <td>58</td>\n",
       "      <td>0</td>\n",
       "      <td>0.318629</td>\n",
       "    </tr>\n",
       "    <tr>\n",
       "      <th>349</th>\n",
       "      <td>11.0</td>\n",
       "      <td>1.0</td>\n",
       "      <td>250.0</td>\n",
       "      <td>11</td>\n",
       "      <td>0</td>\n",
       "      <td>0.167087</td>\n",
       "    </tr>\n",
       "  </tbody>\n",
       "</table>\n",
       "</div>"
      ],
      "text/plain": [
       "     Recencymonths  Frequencytimes  Monetaryccblood  Timemonths  \\\n",
       "240            8.0             8.0           2000.0          52   \n",
       "100            4.0             8.0           2000.0          34   \n",
       "625            7.0             5.0           1250.0          35   \n",
       "273            4.0             5.0           1250.0          58   \n",
       "349           11.0             1.0            250.0          11   \n",
       "\n",
       "     donatedbloodinMarch  Probability  \n",
       "240                    1     0.212587  \n",
       "100                    1     0.335262  \n",
       "625                    0     0.247164  \n",
       "273                    0     0.318629  \n",
       "349                    0     0.167087  "
      ]
     },
     "execution_count": 161,
     "metadata": {},
     "output_type": "execute_result"
    }
   ],
   "source": [
    "train['Probability']=model.predict(train)\n",
    "train.head()"
   ]
  },
  {
   "cell_type": "code",
   "execution_count": 162,
   "id": "2509717f",
   "metadata": {},
   "outputs": [
    {
     "data": {
      "text/html": [
       "<div>\n",
       "<style scoped>\n",
       "    .dataframe tbody tr th:only-of-type {\n",
       "        vertical-align: middle;\n",
       "    }\n",
       "\n",
       "    .dataframe tbody tr th {\n",
       "        vertical-align: top;\n",
       "    }\n",
       "\n",
       "    .dataframe thead th {\n",
       "        text-align: right;\n",
       "    }\n",
       "</style>\n",
       "<table border=\"1\" class=\"dataframe\">\n",
       "  <thead>\n",
       "    <tr style=\"text-align: right;\">\n",
       "      <th></th>\n",
       "      <th>Recencymonths</th>\n",
       "      <th>Frequencytimes</th>\n",
       "      <th>Monetaryccblood</th>\n",
       "      <th>Timemonths</th>\n",
       "      <th>donatedbloodinMarch</th>\n",
       "      <th>Probability</th>\n",
       "      <th>Predicted</th>\n",
       "    </tr>\n",
       "  </thead>\n",
       "  <tbody>\n",
       "    <tr>\n",
       "      <th>240</th>\n",
       "      <td>8.0</td>\n",
       "      <td>8.0</td>\n",
       "      <td>2000.0</td>\n",
       "      <td>52</td>\n",
       "      <td>1</td>\n",
       "      <td>0.212587</td>\n",
       "      <td>0</td>\n",
       "    </tr>\n",
       "    <tr>\n",
       "      <th>675</th>\n",
       "      <td>16.0</td>\n",
       "      <td>3.0</td>\n",
       "      <td>750.0</td>\n",
       "      <td>23</td>\n",
       "      <td>0</td>\n",
       "      <td>0.086710</td>\n",
       "      <td>0</td>\n",
       "    </tr>\n",
       "    <tr>\n",
       "      <th>503</th>\n",
       "      <td>2.0</td>\n",
       "      <td>14.5</td>\n",
       "      <td>3625.0</td>\n",
       "      <td>98</td>\n",
       "      <td>0</td>\n",
       "      <td>0.353893</td>\n",
       "      <td>0</td>\n",
       "    </tr>\n",
       "    <tr>\n",
       "      <th>731</th>\n",
       "      <td>14.0</td>\n",
       "      <td>3.0</td>\n",
       "      <td>750.0</td>\n",
       "      <td>79</td>\n",
       "      <td>0</td>\n",
       "      <td>0.095628</td>\n",
       "      <td>0</td>\n",
       "    </tr>\n",
       "    <tr>\n",
       "      <th>574</th>\n",
       "      <td>2.0</td>\n",
       "      <td>2.0</td>\n",
       "      <td>500.0</td>\n",
       "      <td>11</td>\n",
       "      <td>1</td>\n",
       "      <td>0.418747</td>\n",
       "      <td>0</td>\n",
       "    </tr>\n",
       "  </tbody>\n",
       "</table>\n",
       "</div>"
      ],
      "text/plain": [
       "     Recencymonths  Frequencytimes  Monetaryccblood  Timemonths  \\\n",
       "240            8.0             8.0           2000.0          52   \n",
       "675           16.0             3.0            750.0          23   \n",
       "503            2.0            14.5           3625.0          98   \n",
       "731           14.0             3.0            750.0          79   \n",
       "574            2.0             2.0            500.0          11   \n",
       "\n",
       "     donatedbloodinMarch  Probability  Predicted  \n",
       "240                    1     0.212587          0  \n",
       "675                    0     0.086710          0  \n",
       "503                    0     0.353893          0  \n",
       "731                    0     0.095628          0  \n",
       "574                    1     0.418747          0  "
      ]
     },
     "execution_count": 162,
     "metadata": {},
     "output_type": "execute_result"
    }
   ],
   "source": [
    "train['Predicted']=np.where(train['Probability'] >= 0.7,1,0)  #thershold  >0.7\n",
    "train.sort_values(by='Predicted',ascending=False).head()"
   ]
  },
  {
   "cell_type": "markdown",
   "id": "5a48e161",
   "metadata": {},
   "source": [
    "# Step 7 : Model Performance Metrics"
   ]
  },
  {
   "cell_type": "code",
   "execution_count": 163,
   "id": "0cd5a5cc",
   "metadata": {},
   "outputs": [
    {
     "name": "stdout",
     "output_type": "stream",
     "text": [
      "[[405 118]\n",
      " [  0   0]]\n"
     ]
    }
   ],
   "source": [
    "from sklearn.metrics import confusion_matrix\n",
    "matrix = confusion_matrix(train['Predicted'],train['donatedbloodinMarch'])\n",
    "print(matrix)"
   ]
  },
  {
   "cell_type": "code",
   "execution_count": 164,
   "id": "4198c9dd",
   "metadata": {},
   "outputs": [
    {
     "name": "stdout",
     "output_type": "stream",
     "text": [
      "76.85009487666035\n"
     ]
    }
   ],
   "source": [
    "Accuracy_Train=((405+0)/(527)*100)\n",
    "print(Accuracy_Train)"
   ]
  },
  {
   "cell_type": "markdown",
   "id": "30af4f2f",
   "metadata": {},
   "source": [
    "* Accuracy of Model is 76% , So we say Good Model "
   ]
  },
  {
   "cell_type": "code",
   "execution_count": 165,
   "id": "10eb64f4",
   "metadata": {},
   "outputs": [
    {
     "name": "stdout",
     "output_type": "stream",
     "text": [
      "              precision    recall  f1-score   support\n",
      "\n",
      "           0       0.77      1.00      0.87       405\n",
      "           1       0.00      0.00      0.00       118\n",
      "\n",
      "    accuracy                           0.77       523\n",
      "   macro avg       0.39      0.50      0.44       523\n",
      "weighted avg       0.60      0.77      0.68       523\n",
      "\n"
     ]
    }
   ],
   "source": [
    "from sklearn.metrics import classification_report\n",
    "print(classification_report(train['donatedbloodinMarch'],train['Predicted']))"
   ]
  },
  {
   "cell_type": "markdown",
   "id": "8232fe51",
   "metadata": {},
   "source": [
    "* Accuracy of Bad Customer Capture by Model is 00% ( Sensitivity )\n",
    "* Accuracy of Good Customer Capture by Model is 100% ( specificity) \n",
    "* Accuracy of Predicted Good Customer And often Correct is 77% \n"
   ]
  },
  {
   "cell_type": "markdown",
   "id": "f74aa1f6",
   "metadata": {},
   "source": [
    "# Step 8 : Predictions on Test Dataset\n"
   ]
  },
  {
   "cell_type": "code",
   "execution_count": 166,
   "id": "448b0ff1",
   "metadata": {},
   "outputs": [
    {
     "data": {
      "text/html": [
       "<div>\n",
       "<style scoped>\n",
       "    .dataframe tbody tr th:only-of-type {\n",
       "        vertical-align: middle;\n",
       "    }\n",
       "\n",
       "    .dataframe tbody tr th {\n",
       "        vertical-align: top;\n",
       "    }\n",
       "\n",
       "    .dataframe thead th {\n",
       "        text-align: right;\n",
       "    }\n",
       "</style>\n",
       "<table border=\"1\" class=\"dataframe\">\n",
       "  <thead>\n",
       "    <tr style=\"text-align: right;\">\n",
       "      <th></th>\n",
       "      <th>Recencymonths</th>\n",
       "      <th>Frequencytimes</th>\n",
       "      <th>Monetaryccblood</th>\n",
       "      <th>Timemonths</th>\n",
       "      <th>donatedbloodinMarch</th>\n",
       "    </tr>\n",
       "  </thead>\n",
       "  <tbody>\n",
       "    <tr>\n",
       "      <th>138</th>\n",
       "      <td>9.0</td>\n",
       "      <td>5.0</td>\n",
       "      <td>1250.0</td>\n",
       "      <td>19</td>\n",
       "      <td>0</td>\n",
       "    </tr>\n",
       "    <tr>\n",
       "      <th>511</th>\n",
       "      <td>2.0</td>\n",
       "      <td>11.0</td>\n",
       "      <td>2750.0</td>\n",
       "      <td>26</td>\n",
       "      <td>0</td>\n",
       "    </tr>\n",
       "    <tr>\n",
       "      <th>427</th>\n",
       "      <td>14.0</td>\n",
       "      <td>5.0</td>\n",
       "      <td>1250.0</td>\n",
       "      <td>74</td>\n",
       "      <td>0</td>\n",
       "    </tr>\n",
       "    <tr>\n",
       "      <th>161</th>\n",
       "      <td>2.0</td>\n",
       "      <td>1.0</td>\n",
       "      <td>250.0</td>\n",
       "      <td>2</td>\n",
       "      <td>0</td>\n",
       "    </tr>\n",
       "    <tr>\n",
       "      <th>307</th>\n",
       "      <td>11.0</td>\n",
       "      <td>3.0</td>\n",
       "      <td>750.0</td>\n",
       "      <td>23</td>\n",
       "      <td>0</td>\n",
       "    </tr>\n",
       "  </tbody>\n",
       "</table>\n",
       "</div>"
      ],
      "text/plain": [
       "     Recencymonths  Frequencytimes  Monetaryccblood  Timemonths  \\\n",
       "138            9.0             5.0           1250.0          19   \n",
       "511            2.0            11.0           2750.0          26   \n",
       "427           14.0             5.0           1250.0          74   \n",
       "161            2.0             1.0            250.0           2   \n",
       "307           11.0             3.0            750.0          23   \n",
       "\n",
       "     donatedbloodinMarch  \n",
       "138                    0  \n",
       "511                    0  \n",
       "427                    0  \n",
       "161                    0  \n",
       "307                    0  "
      ]
     },
     "execution_count": 166,
     "metadata": {},
     "output_type": "execute_result"
    }
   ],
   "source": [
    "test=pd.concat([X_test,y_test],axis=1)\n",
    "test.head()"
   ]
  },
  {
   "cell_type": "code",
   "execution_count": 167,
   "id": "32ec6980",
   "metadata": {},
   "outputs": [
    {
     "data": {
      "text/html": [
       "<div>\n",
       "<style scoped>\n",
       "    .dataframe tbody tr th:only-of-type {\n",
       "        vertical-align: middle;\n",
       "    }\n",
       "\n",
       "    .dataframe tbody tr th {\n",
       "        vertical-align: top;\n",
       "    }\n",
       "\n",
       "    .dataframe thead th {\n",
       "        text-align: right;\n",
       "    }\n",
       "</style>\n",
       "<table border=\"1\" class=\"dataframe\">\n",
       "  <thead>\n",
       "    <tr style=\"text-align: right;\">\n",
       "      <th></th>\n",
       "      <th>Recencymonths</th>\n",
       "      <th>Frequencytimes</th>\n",
       "      <th>Monetaryccblood</th>\n",
       "      <th>Timemonths</th>\n",
       "      <th>donatedbloodinMarch</th>\n",
       "      <th>Probability</th>\n",
       "    </tr>\n",
       "  </thead>\n",
       "  <tbody>\n",
       "    <tr>\n",
       "      <th>138</th>\n",
       "      <td>9.0</td>\n",
       "      <td>5.0</td>\n",
       "      <td>1250.0</td>\n",
       "      <td>19</td>\n",
       "      <td>0</td>\n",
       "      <td>0.206279</td>\n",
       "    </tr>\n",
       "    <tr>\n",
       "      <th>511</th>\n",
       "      <td>2.0</td>\n",
       "      <td>11.0</td>\n",
       "      <td>2750.0</td>\n",
       "      <td>26</td>\n",
       "      <td>0</td>\n",
       "      <td>0.407292</td>\n",
       "    </tr>\n",
       "    <tr>\n",
       "      <th>427</th>\n",
       "      <td>14.0</td>\n",
       "      <td>5.0</td>\n",
       "      <td>1250.0</td>\n",
       "      <td>74</td>\n",
       "      <td>0</td>\n",
       "      <td>0.096999</td>\n",
       "    </tr>\n",
       "    <tr>\n",
       "      <th>161</th>\n",
       "      <td>2.0</td>\n",
       "      <td>1.0</td>\n",
       "      <td>250.0</td>\n",
       "      <td>2</td>\n",
       "      <td>0</td>\n",
       "      <td>0.425663</td>\n",
       "    </tr>\n",
       "    <tr>\n",
       "      <th>307</th>\n",
       "      <td>11.0</td>\n",
       "      <td>3.0</td>\n",
       "      <td>750.0</td>\n",
       "      <td>23</td>\n",
       "      <td>0</td>\n",
       "      <td>0.161893</td>\n",
       "    </tr>\n",
       "  </tbody>\n",
       "</table>\n",
       "</div>"
      ],
      "text/plain": [
       "     Recencymonths  Frequencytimes  Monetaryccblood  Timemonths  \\\n",
       "138            9.0             5.0           1250.0          19   \n",
       "511            2.0            11.0           2750.0          26   \n",
       "427           14.0             5.0           1250.0          74   \n",
       "161            2.0             1.0            250.0           2   \n",
       "307           11.0             3.0            750.0          23   \n",
       "\n",
       "     donatedbloodinMarch  Probability  \n",
       "138                    0     0.206279  \n",
       "511                    0     0.407292  \n",
       "427                    0     0.096999  \n",
       "161                    0     0.425663  \n",
       "307                    0     0.161893  "
      ]
     },
     "execution_count": 167,
     "metadata": {},
     "output_type": "execute_result"
    }
   ],
   "source": [
    "test['Probability']=model.predict(test)\n",
    "test.head()"
   ]
  },
  {
   "cell_type": "code",
   "execution_count": 168,
   "id": "53da6fe7",
   "metadata": {},
   "outputs": [
    {
     "data": {
      "text/html": [
       "<div>\n",
       "<style scoped>\n",
       "    .dataframe tbody tr th:only-of-type {\n",
       "        vertical-align: middle;\n",
       "    }\n",
       "\n",
       "    .dataframe tbody tr th {\n",
       "        vertical-align: top;\n",
       "    }\n",
       "\n",
       "    .dataframe thead th {\n",
       "        text-align: right;\n",
       "    }\n",
       "</style>\n",
       "<table border=\"1\" class=\"dataframe\">\n",
       "  <thead>\n",
       "    <tr style=\"text-align: right;\">\n",
       "      <th></th>\n",
       "      <th>Recencymonths</th>\n",
       "      <th>Frequencytimes</th>\n",
       "      <th>Monetaryccblood</th>\n",
       "      <th>Timemonths</th>\n",
       "      <th>donatedbloodinMarch</th>\n",
       "      <th>Probability</th>\n",
       "      <th>Predicted</th>\n",
       "    </tr>\n",
       "  </thead>\n",
       "  <tbody>\n",
       "    <tr>\n",
       "      <th>138</th>\n",
       "      <td>9.0</td>\n",
       "      <td>5.0</td>\n",
       "      <td>1250.0</td>\n",
       "      <td>19</td>\n",
       "      <td>0</td>\n",
       "      <td>0.206279</td>\n",
       "      <td>0</td>\n",
       "    </tr>\n",
       "    <tr>\n",
       "      <th>511</th>\n",
       "      <td>2.0</td>\n",
       "      <td>11.0</td>\n",
       "      <td>2750.0</td>\n",
       "      <td>26</td>\n",
       "      <td>0</td>\n",
       "      <td>0.407292</td>\n",
       "      <td>0</td>\n",
       "    </tr>\n",
       "    <tr>\n",
       "      <th>427</th>\n",
       "      <td>14.0</td>\n",
       "      <td>5.0</td>\n",
       "      <td>1250.0</td>\n",
       "      <td>74</td>\n",
       "      <td>0</td>\n",
       "      <td>0.096999</td>\n",
       "      <td>0</td>\n",
       "    </tr>\n",
       "    <tr>\n",
       "      <th>161</th>\n",
       "      <td>2.0</td>\n",
       "      <td>1.0</td>\n",
       "      <td>250.0</td>\n",
       "      <td>2</td>\n",
       "      <td>0</td>\n",
       "      <td>0.425663</td>\n",
       "      <td>0</td>\n",
       "    </tr>\n",
       "    <tr>\n",
       "      <th>307</th>\n",
       "      <td>11.0</td>\n",
       "      <td>3.0</td>\n",
       "      <td>750.0</td>\n",
       "      <td>23</td>\n",
       "      <td>0</td>\n",
       "      <td>0.161893</td>\n",
       "      <td>0</td>\n",
       "    </tr>\n",
       "  </tbody>\n",
       "</table>\n",
       "</div>"
      ],
      "text/plain": [
       "     Recencymonths  Frequencytimes  Monetaryccblood  Timemonths  \\\n",
       "138            9.0             5.0           1250.0          19   \n",
       "511            2.0            11.0           2750.0          26   \n",
       "427           14.0             5.0           1250.0          74   \n",
       "161            2.0             1.0            250.0           2   \n",
       "307           11.0             3.0            750.0          23   \n",
       "\n",
       "     donatedbloodinMarch  Probability  Predicted  \n",
       "138                    0     0.206279          0  \n",
       "511                    0     0.407292          0  \n",
       "427                    0     0.096999          0  \n",
       "161                    0     0.425663          0  \n",
       "307                    0     0.161893          0  "
      ]
     },
     "execution_count": 168,
     "metadata": {},
     "output_type": "execute_result"
    }
   ],
   "source": [
    "test['Predicted']=np.where(test['Probability'] >= 0.7,1,0) \n",
    "test.head()"
   ]
  },
  {
   "cell_type": "markdown",
   "id": "b2ead039",
   "metadata": {},
   "source": [
    "# Step 9 : Model Performance Metrics on Test data "
   ]
  },
  {
   "cell_type": "code",
   "execution_count": 169,
   "id": "81a4a089",
   "metadata": {},
   "outputs": [
    {
     "name": "stdout",
     "output_type": "stream",
     "text": [
      "[[165  60]\n",
      " [  0   0]]\n"
     ]
    }
   ],
   "source": [
    "from sklearn.metrics import confusion_matrix\n",
    "matrix = confusion_matrix(test['Predicted'],test['donatedbloodinMarch'])\n",
    "print(matrix)"
   ]
  },
  {
   "cell_type": "code",
   "execution_count": 170,
   "id": "fa9ceee6",
   "metadata": {},
   "outputs": [
    {
     "data": {
      "text/plain": [
       "73.33333333333333"
      ]
     },
     "execution_count": 170,
     "metadata": {},
     "output_type": "execute_result"
    }
   ],
   "source": [
    "Accuracy_test=((165+0)/(225)*100)\n",
    "Accuracy_test"
   ]
  },
  {
   "cell_type": "markdown",
   "id": "2104c48c",
   "metadata": {},
   "source": [
    "* Accuracy of Model Performance on Test data is 73% , So we say Good Model Performance "
   ]
  },
  {
   "cell_type": "code",
   "execution_count": 171,
   "id": "fdc06f3c",
   "metadata": {},
   "outputs": [
    {
     "name": "stdout",
     "output_type": "stream",
     "text": [
      "              precision    recall  f1-score   support\n",
      "\n",
      "           0       0.73      1.00      0.85       165\n",
      "           1       0.00      0.00      0.00        60\n",
      "\n",
      "    accuracy                           0.73       225\n",
      "   macro avg       0.37      0.50      0.42       225\n",
      "weighted avg       0.54      0.73      0.62       225\n",
      "\n"
     ]
    }
   ],
   "source": [
    "from sklearn.metrics import classification_report\n",
    "print(classification_report(test['donatedbloodinMarch'],test['Predicted']))"
   ]
  },
  {
   "cell_type": "markdown",
   "id": "9a2ae132",
   "metadata": {},
   "source": [
    "* Accuracy of Bad Customer Capture by Model is 00% \n",
    "* Accuracy of Good Customer Capture by Model is 100% \n",
    "* Accuracy of Predicted Good Customer And often Correct is 60% \n"
   ]
  },
  {
   "cell_type": "code",
   "execution_count": 172,
   "id": "0383a024",
   "metadata": {},
   "outputs": [
    {
     "data": {
      "text/plain": [
       "Intercept       -0.009161\n",
       "Recencymonths   -0.142055\n",
       "Timemonths      -0.003150\n",
       "dtype: float64"
      ]
     },
     "execution_count": 172,
     "metadata": {},
     "output_type": "execute_result"
    }
   ],
   "source": [
    "model.params"
   ]
  },
  {
   "cell_type": "code",
   "execution_count": 173,
   "id": "549781db",
   "metadata": {},
   "outputs": [
    {
     "data": {
      "text/html": [
       "<div>\n",
       "<style scoped>\n",
       "    .dataframe tbody tr th:only-of-type {\n",
       "        vertical-align: middle;\n",
       "    }\n",
       "\n",
       "    .dataframe tbody tr th {\n",
       "        vertical-align: top;\n",
       "    }\n",
       "\n",
       "    .dataframe thead th {\n",
       "        text-align: right;\n",
       "    }\n",
       "</style>\n",
       "<table border=\"1\" class=\"dataframe\">\n",
       "  <thead>\n",
       "    <tr style=\"text-align: right;\">\n",
       "      <th></th>\n",
       "      <th>Recencymonths</th>\n",
       "      <th>Frequencytimes</th>\n",
       "      <th>Monetaryccblood</th>\n",
       "      <th>Timemonths</th>\n",
       "      <th>donatedbloodinMarch</th>\n",
       "      <th>Probability</th>\n",
       "      <th>Predicted</th>\n",
       "    </tr>\n",
       "  </thead>\n",
       "  <tbody>\n",
       "    <tr>\n",
       "      <th>240</th>\n",
       "      <td>8.0</td>\n",
       "      <td>8.0</td>\n",
       "      <td>2000.0</td>\n",
       "      <td>52</td>\n",
       "      <td>1</td>\n",
       "      <td>0.212587</td>\n",
       "      <td>0</td>\n",
       "    </tr>\n",
       "    <tr>\n",
       "      <th>675</th>\n",
       "      <td>16.0</td>\n",
       "      <td>3.0</td>\n",
       "      <td>750.0</td>\n",
       "      <td>23</td>\n",
       "      <td>0</td>\n",
       "      <td>0.086710</td>\n",
       "      <td>0</td>\n",
       "    </tr>\n",
       "    <tr>\n",
       "      <th>503</th>\n",
       "      <td>2.0</td>\n",
       "      <td>14.5</td>\n",
       "      <td>3625.0</td>\n",
       "      <td>98</td>\n",
       "      <td>0</td>\n",
       "      <td>0.353893</td>\n",
       "      <td>0</td>\n",
       "    </tr>\n",
       "    <tr>\n",
       "      <th>731</th>\n",
       "      <td>14.0</td>\n",
       "      <td>3.0</td>\n",
       "      <td>750.0</td>\n",
       "      <td>79</td>\n",
       "      <td>0</td>\n",
       "      <td>0.095628</td>\n",
       "      <td>0</td>\n",
       "    </tr>\n",
       "    <tr>\n",
       "      <th>574</th>\n",
       "      <td>2.0</td>\n",
       "      <td>2.0</td>\n",
       "      <td>500.0</td>\n",
       "      <td>11</td>\n",
       "      <td>1</td>\n",
       "      <td>0.418747</td>\n",
       "      <td>0</td>\n",
       "    </tr>\n",
       "  </tbody>\n",
       "</table>\n",
       "</div>"
      ],
      "text/plain": [
       "     Recencymonths  Frequencytimes  Monetaryccblood  Timemonths  \\\n",
       "240            8.0             8.0           2000.0          52   \n",
       "675           16.0             3.0            750.0          23   \n",
       "503            2.0            14.5           3625.0          98   \n",
       "731           14.0             3.0            750.0          79   \n",
       "574            2.0             2.0            500.0          11   \n",
       "\n",
       "     donatedbloodinMarch  Probability  Predicted  \n",
       "240                    1     0.212587          0  \n",
       "675                    0     0.086710          0  \n",
       "503                    0     0.353893          0  \n",
       "731                    0     0.095628          0  \n",
       "574                    1     0.418747          0  "
      ]
     },
     "execution_count": 173,
     "metadata": {},
     "output_type": "execute_result"
    }
   ],
   "source": [
    "train.sort_values(by='Predicted',ascending=False,inplace=True)\n",
    "\n",
    "train.head()"
   ]
  },
  {
   "cell_type": "markdown",
   "id": "ba47f0be",
   "metadata": {},
   "source": [
    "# Finish "
   ]
  }
 ],
 "metadata": {
  "kernelspec": {
   "display_name": "Python 3 (ipykernel)",
   "language": "python",
   "name": "python3"
  },
  "language_info": {
   "codemirror_mode": {
    "name": "ipython",
    "version": 3
   },
   "file_extension": ".py",
   "mimetype": "text/x-python",
   "name": "python",
   "nbconvert_exporter": "python",
   "pygments_lexer": "ipython3",
   "version": "3.9.12"
  }
 },
 "nbformat": 4,
 "nbformat_minor": 5
}
