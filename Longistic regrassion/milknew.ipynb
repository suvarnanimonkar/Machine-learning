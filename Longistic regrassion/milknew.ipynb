{
 "cells": [
  {
   "cell_type": "code",
   "execution_count": 1,
   "id": "c365e48b",
   "metadata": {},
   "outputs": [
    {
     "data": {
      "text/html": [
       "        <script type=\"text/javascript\">\n",
       "        window.PlotlyConfig = {MathJaxConfig: 'local'};\n",
       "        if (window.MathJax) {MathJax.Hub.Config({SVG: {font: \"STIX-Web\"}});}\n",
       "        if (typeof require !== 'undefined') {\n",
       "        require.undef(\"plotly\");\n",
       "        requirejs.config({\n",
       "            paths: {\n",
       "                'plotly': ['https://cdn.plot.ly/plotly-2.9.0.min']\n",
       "            }\n",
       "        });\n",
       "        require(['plotly'], function(Plotly) {\n",
       "            window._Plotly = Plotly;\n",
       "        });\n",
       "        }\n",
       "        </script>\n",
       "        "
      ]
     },
     "metadata": {},
     "output_type": "display_data"
    }
   ],
   "source": [
    "#Importing libraries\n",
    "import numpy as np # linear algebra\n",
    "import pandas as pd # data processing, CSV file I/O \n",
    "import os\n",
    "import itertools\n",
    "import warnings\n",
    "warnings.filterwarnings(\"ignore\")\n",
    "import io\n",
    "\n",
    "################# visualization #################\n",
    "import matplotlib.pyplot as plt \n",
    "from PIL import  Image\n",
    "import seaborn as sns \n",
    "import plotly.offline as py\n",
    "py.init_notebook_mode(connected=True)\n",
    "import plotly.graph_objs as go\n",
    "import plotly.tools as tls\n",
    "import plotly.figure_factory as ff"
   ]
  },
  {
   "cell_type": "code",
   "execution_count": 2,
   "id": "f1afa732",
   "metadata": {},
   "outputs": [
    {
     "data": {
      "text/html": [
       "<div>\n",
       "<style scoped>\n",
       "    .dataframe tbody tr th:only-of-type {\n",
       "        vertical-align: middle;\n",
       "    }\n",
       "\n",
       "    .dataframe tbody tr th {\n",
       "        vertical-align: top;\n",
       "    }\n",
       "\n",
       "    .dataframe thead th {\n",
       "        text-align: right;\n",
       "    }\n",
       "</style>\n",
       "<table border=\"1\" class=\"dataframe\">\n",
       "  <thead>\n",
       "    <tr style=\"text-align: right;\">\n",
       "      <th></th>\n",
       "      <th>pH</th>\n",
       "      <th>Temprature</th>\n",
       "      <th>Taste</th>\n",
       "      <th>Odor</th>\n",
       "      <th>Fat</th>\n",
       "      <th>Turbidity</th>\n",
       "      <th>Colour</th>\n",
       "      <th>Grade</th>\n",
       "    </tr>\n",
       "  </thead>\n",
       "  <tbody>\n",
       "    <tr>\n",
       "      <th>0</th>\n",
       "      <td>6.6</td>\n",
       "      <td>35</td>\n",
       "      <td>1</td>\n",
       "      <td>0</td>\n",
       "      <td>1</td>\n",
       "      <td>0</td>\n",
       "      <td>254</td>\n",
       "      <td>high</td>\n",
       "    </tr>\n",
       "    <tr>\n",
       "      <th>1</th>\n",
       "      <td>6.6</td>\n",
       "      <td>36</td>\n",
       "      <td>0</td>\n",
       "      <td>1</td>\n",
       "      <td>0</td>\n",
       "      <td>1</td>\n",
       "      <td>253</td>\n",
       "      <td>high</td>\n",
       "    </tr>\n",
       "    <tr>\n",
       "      <th>2</th>\n",
       "      <td>8.5</td>\n",
       "      <td>70</td>\n",
       "      <td>1</td>\n",
       "      <td>1</td>\n",
       "      <td>1</td>\n",
       "      <td>1</td>\n",
       "      <td>246</td>\n",
       "      <td>low</td>\n",
       "    </tr>\n",
       "    <tr>\n",
       "      <th>3</th>\n",
       "      <td>9.5</td>\n",
       "      <td>34</td>\n",
       "      <td>1</td>\n",
       "      <td>1</td>\n",
       "      <td>0</td>\n",
       "      <td>1</td>\n",
       "      <td>255</td>\n",
       "      <td>low</td>\n",
       "    </tr>\n",
       "    <tr>\n",
       "      <th>4</th>\n",
       "      <td>6.6</td>\n",
       "      <td>37</td>\n",
       "      <td>0</td>\n",
       "      <td>0</td>\n",
       "      <td>0</td>\n",
       "      <td>0</td>\n",
       "      <td>255</td>\n",
       "      <td>medium</td>\n",
       "    </tr>\n",
       "  </tbody>\n",
       "</table>\n",
       "</div>"
      ],
      "text/plain": [
       "    pH  Temprature  Taste  Odor  Fat   Turbidity  Colour   Grade\n",
       "0  6.6          35      1     0     1          0     254    high\n",
       "1  6.6          36      0     1     0          1     253    high\n",
       "2  8.5          70      1     1     1          1     246     low\n",
       "3  9.5          34      1     1     0          1     255     low\n",
       "4  6.6          37      0     0     0          0     255  medium"
      ]
     },
     "execution_count": 2,
     "metadata": {},
     "output_type": "execute_result"
    }
   ],
   "source": [
    "import pandas as pd\n",
    "df = pd.read_csv (r\"C:\\Users\\suvar\\Desktop\\Longistic regrassion\\milknew.csv\")\n",
    "\n",
    "#first few rows\n",
    "df.head()"
   ]
  },
  {
   "cell_type": "markdown",
   "id": "8dc7b16e",
   "metadata": {},
   "source": [
    "# 2. Data Pre-Processing \n",
    "\n",
    "1. Data Type and conversion\n",
    "2. Identifying & Treatment Missing Value "
   ]
  },
  {
   "cell_type": "code",
   "execution_count": 3,
   "id": "3a34f008",
   "metadata": {},
   "outputs": [
    {
     "name": "stdout",
     "output_type": "stream",
     "text": [
      "<class 'pandas.core.frame.DataFrame'>\n",
      "RangeIndex: 1059 entries, 0 to 1058\n",
      "Data columns (total 8 columns):\n",
      " #   Column      Non-Null Count  Dtype  \n",
      "---  ------      --------------  -----  \n",
      " 0   pH          1059 non-null   float64\n",
      " 1   Temprature  1059 non-null   int64  \n",
      " 2   Taste       1059 non-null   int64  \n",
      " 3   Odor        1059 non-null   int64  \n",
      " 4   Fat         1059 non-null   int64  \n",
      " 5   Turbidity   1059 non-null   int64  \n",
      " 6   Colour      1059 non-null   int64  \n",
      " 7   Grade       1059 non-null   object \n",
      "dtypes: float64(1), int64(6), object(1)\n",
      "memory usage: 66.3+ KB\n"
     ]
    }
   ],
   "source": [
    "df.info()"
   ]
  },
  {
   "cell_type": "code",
   "execution_count": 4,
   "id": "13953b34",
   "metadata": {},
   "outputs": [
    {
     "data": {
      "text/plain": [
       "pH            0\n",
       "Temprature    0\n",
       "Taste         0\n",
       "Odor          0\n",
       "Fat           0\n",
       "Turbidity     0\n",
       "Colour        0\n",
       "Grade         0\n",
       "dtype: int64"
      ]
     },
     "execution_count": 4,
     "metadata": {},
     "output_type": "execute_result"
    }
   ],
   "source": [
    "df.isnull().sum()"
   ]
  },
  {
   "cell_type": "code",
   "execution_count": 5,
   "id": "35dc9595",
   "metadata": {},
   "outputs": [
    {
     "data": {
      "text/plain": [
       "0    601\n",
       "1    458\n",
       "Name: Odor, dtype: int64"
      ]
     },
     "execution_count": 5,
     "metadata": {},
     "output_type": "execute_result"
    }
   ],
   "source": [
    "df.Odor.value_counts(dropna=False)"
   ]
  },
  {
   "cell_type": "code",
   "execution_count": 6,
   "id": "04b19021",
   "metadata": {},
   "outputs": [
    {
     "data": {
      "text/html": [
       "<div>\n",
       "<style scoped>\n",
       "    .dataframe tbody tr th:only-of-type {\n",
       "        vertical-align: middle;\n",
       "    }\n",
       "\n",
       "    .dataframe tbody tr th {\n",
       "        vertical-align: top;\n",
       "    }\n",
       "\n",
       "    .dataframe thead th {\n",
       "        text-align: right;\n",
       "    }\n",
       "</style>\n",
       "<table border=\"1\" class=\"dataframe\">\n",
       "  <thead>\n",
       "    <tr style=\"text-align: right;\">\n",
       "      <th></th>\n",
       "      <th>pH</th>\n",
       "      <th>Temprature</th>\n",
       "      <th>Taste</th>\n",
       "      <th>Odor</th>\n",
       "      <th>Fat</th>\n",
       "      <th>Turbidity</th>\n",
       "      <th>Colour</th>\n",
       "      <th>Grade</th>\n",
       "    </tr>\n",
       "  </thead>\n",
       "  <tbody>\n",
       "    <tr>\n",
       "      <th>0</th>\n",
       "      <td>6.6</td>\n",
       "      <td>35</td>\n",
       "      <td>1</td>\n",
       "      <td>0</td>\n",
       "      <td>1</td>\n",
       "      <td>0</td>\n",
       "      <td>254</td>\n",
       "      <td>high</td>\n",
       "    </tr>\n",
       "    <tr>\n",
       "      <th>1</th>\n",
       "      <td>6.6</td>\n",
       "      <td>36</td>\n",
       "      <td>0</td>\n",
       "      <td>1</td>\n",
       "      <td>0</td>\n",
       "      <td>1</td>\n",
       "      <td>253</td>\n",
       "      <td>high</td>\n",
       "    </tr>\n",
       "    <tr>\n",
       "      <th>2</th>\n",
       "      <td>8.5</td>\n",
       "      <td>70</td>\n",
       "      <td>1</td>\n",
       "      <td>1</td>\n",
       "      <td>1</td>\n",
       "      <td>1</td>\n",
       "      <td>246</td>\n",
       "      <td>low</td>\n",
       "    </tr>\n",
       "    <tr>\n",
       "      <th>3</th>\n",
       "      <td>9.5</td>\n",
       "      <td>34</td>\n",
       "      <td>1</td>\n",
       "      <td>1</td>\n",
       "      <td>0</td>\n",
       "      <td>1</td>\n",
       "      <td>255</td>\n",
       "      <td>low</td>\n",
       "    </tr>\n",
       "    <tr>\n",
       "      <th>4</th>\n",
       "      <td>6.6</td>\n",
       "      <td>37</td>\n",
       "      <td>0</td>\n",
       "      <td>0</td>\n",
       "      <td>0</td>\n",
       "      <td>0</td>\n",
       "      <td>255</td>\n",
       "      <td>medium</td>\n",
       "    </tr>\n",
       "  </tbody>\n",
       "</table>\n",
       "</div>"
      ],
      "text/plain": [
       "    pH  Temprature  Taste  Odor  Fat   Turbidity  Colour   Grade\n",
       "0  6.6          35      1     0     1          0     254    high\n",
       "1  6.6          36      0     1     0          1     253    high\n",
       "2  8.5          70      1     1     1          1     246     low\n",
       "3  9.5          34      1     1     0          1     255     low\n",
       "4  6.6          37      0     0     0          0     255  medium"
      ]
     },
     "execution_count": 6,
     "metadata": {},
     "output_type": "execute_result"
    }
   ],
   "source": [
    "df.head()"
   ]
  },
  {
   "cell_type": "markdown",
   "id": "074a7828",
   "metadata": {},
   "source": [
    "# Data Visualization"
   ]
  },
  {
   "cell_type": "markdown",
   "id": "90e199ee",
   "metadata": {},
   "source": [
    "#### Bad Rate Analysis "
   ]
  },
  {
   "cell_type": "code",
   "execution_count": 8,
   "id": "443c9bfb",
   "metadata": {},
   "outputs": [
    {
     "data": {
      "text/plain": [
       "1    585\n",
       "0    474\n",
       "Name: Taste, dtype: int64"
      ]
     },
     "execution_count": 8,
     "metadata": {},
     "output_type": "execute_result"
    }
   ],
   "source": [
    "df.Taste.value_counts()"
   ]
  },
  {
   "cell_type": "code",
   "execution_count": 9,
   "id": "e50a69c9",
   "metadata": {},
   "outputs": [
    {
     "data": {
      "text/plain": [
       "45.3257790368272"
      ]
     },
     "execution_count": 9,
     "metadata": {},
     "output_type": "execute_result"
    }
   ],
   "source": [
    "(480/1059)*100"
   ]
  },
  {
   "cell_type": "code",
   "execution_count": 11,
   "id": "768ebda2",
   "metadata": {},
   "outputs": [
    {
     "data": {
      "application/vnd.plotly.v1+json": {
       "config": {
        "plotlyServerURL": "https://plot.ly"
       },
       "data": [
        {
         "customdata": [
          [
           1
          ],
          [
           0
          ],
          [
           1
          ],
          [
           1
          ],
          [
           0
          ],
          [
           1
          ],
          [
           1
          ],
          [
           1
          ],
          [
           1
          ],
          [
           1
          ],
          [
           1
          ],
          [
           0
          ],
          [
           0
          ],
          [
           1
          ],
          [
           0
          ],
          [
           1
          ],
          [
           1
          ],
          [
           1
          ],
          [
           1
          ],
          [
           1
          ],
          [
           0
          ],
          [
           0
          ],
          [
           0
          ],
          [
           1
          ],
          [
           1
          ],
          [
           0
          ],
          [
           0
          ],
          [
           0
          ],
          [
           0
          ],
          [
           1
          ],
          [
           0
          ],
          [
           0
          ],
          [
           1
          ],
          [
           1
          ],
          [
           1
          ],
          [
           0
          ],
          [
           0
          ],
          [
           0
          ],
          [
           0
          ],
          [
           1
          ],
          [
           0
          ],
          [
           1
          ],
          [
           1
          ],
          [
           1
          ],
          [
           0
          ],
          [
           0
          ],
          [
           0
          ],
          [
           1
          ],
          [
           1
          ],
          [
           0
          ],
          [
           1
          ],
          [
           1
          ],
          [
           0
          ],
          [
           1
          ],
          [
           1
          ],
          [
           1
          ],
          [
           0
          ],
          [
           0
          ],
          [
           1
          ],
          [
           0
          ],
          [
           1
          ],
          [
           1
          ],
          [
           1
          ],
          [
           1
          ],
          [
           0
          ],
          [
           0
          ],
          [
           0
          ],
          [
           1
          ],
          [
           1
          ],
          [
           1
          ],
          [
           1
          ],
          [
           1
          ],
          [
           1
          ],
          [
           0
          ],
          [
           1
          ],
          [
           1
          ],
          [
           1
          ],
          [
           0
          ],
          [
           0
          ],
          [
           0
          ],
          [
           0
          ],
          [
           1
          ],
          [
           0
          ],
          [
           0
          ],
          [
           0
          ],
          [
           1
          ],
          [
           0
          ],
          [
           1
          ],
          [
           1
          ],
          [
           1
          ],
          [
           0
          ],
          [
           1
          ],
          [
           0
          ],
          [
           1
          ],
          [
           1
          ],
          [
           0
          ],
          [
           1
          ],
          [
           0
          ],
          [
           1
          ],
          [
           1
          ],
          [
           0
          ],
          [
           1
          ],
          [
           1
          ],
          [
           1
          ],
          [
           0
          ],
          [
           0
          ],
          [
           1
          ],
          [
           0
          ],
          [
           1
          ],
          [
           1
          ],
          [
           1
          ],
          [
           1
          ],
          [
           0
          ],
          [
           1
          ],
          [
           0
          ],
          [
           1
          ],
          [
           1
          ],
          [
           1
          ],
          [
           1
          ],
          [
           1
          ],
          [
           0
          ],
          [
           0
          ],
          [
           0
          ],
          [
           1
          ],
          [
           1
          ],
          [
           0
          ],
          [
           0
          ],
          [
           1
          ],
          [
           0
          ],
          [
           0
          ],
          [
           0
          ],
          [
           1
          ],
          [
           1
          ],
          [
           0
          ],
          [
           0
          ],
          [
           0
          ],
          [
           0
          ],
          [
           1
          ],
          [
           0
          ],
          [
           0
          ],
          [
           0
          ],
          [
           1
          ],
          [
           0
          ],
          [
           1
          ],
          [
           1
          ],
          [
           1
          ],
          [
           0
          ],
          [
           0
          ],
          [
           0
          ],
          [
           1
          ],
          [
           1
          ],
          [
           0
          ],
          [
           1
          ],
          [
           0
          ],
          [
           1
          ],
          [
           1
          ],
          [
           0
          ],
          [
           1
          ],
          [
           1
          ],
          [
           1
          ],
          [
           0
          ],
          [
           0
          ],
          [
           1
          ],
          [
           0
          ],
          [
           1
          ],
          [
           1
          ],
          [
           1
          ],
          [
           0
          ],
          [
           0
          ],
          [
           0
          ],
          [
           0
          ],
          [
           1
          ],
          [
           0
          ],
          [
           1
          ],
          [
           1
          ],
          [
           1
          ],
          [
           0
          ],
          [
           0
          ],
          [
           0
          ],
          [
           1
          ],
          [
           1
          ],
          [
           0
          ],
          [
           1
          ],
          [
           1
          ],
          [
           0
          ],
          [
           1
          ],
          [
           1
          ],
          [
           1
          ],
          [
           0
          ],
          [
           0
          ],
          [
           1
          ],
          [
           0
          ],
          [
           1
          ],
          [
           1
          ],
          [
           1
          ],
          [
           1
          ],
          [
           0
          ],
          [
           0
          ],
          [
           0
          ],
          [
           1
          ],
          [
           1
          ],
          [
           1
          ],
          [
           1
          ],
          [
           1
          ],
          [
           0
          ],
          [
           1
          ],
          [
           1
          ],
          [
           1
          ],
          [
           1
          ],
          [
           1
          ],
          [
           1
          ],
          [
           0
          ],
          [
           0
          ],
          [
           1
          ],
          [
           0
          ],
          [
           1
          ],
          [
           1
          ],
          [
           1
          ],
          [
           1
          ],
          [
           0
          ],
          [
           0
          ],
          [
           0
          ],
          [
           1
          ],
          [
           1
          ],
          [
           1
          ],
          [
           1
          ],
          [
           1
          ],
          [
           0
          ],
          [
           0
          ],
          [
           0
          ],
          [
           1
          ],
          [
           1
          ],
          [
           0
          ],
          [
           0
          ],
          [
           0
          ],
          [
           0
          ],
          [
           1
          ],
          [
           0
          ],
          [
           0
          ],
          [
           0
          ],
          [
           1
          ],
          [
           0
          ],
          [
           1
          ],
          [
           1
          ],
          [
           1
          ],
          [
           1
          ],
          [
           1
          ],
          [
           1
          ],
          [
           0
          ],
          [
           0
          ],
          [
           0
          ],
          [
           1
          ],
          [
           1
          ],
          [
           1
          ],
          [
           1
          ],
          [
           1
          ],
          [
           0
          ],
          [
           0
          ],
          [
           0
          ],
          [
           1
          ],
          [
           1
          ],
          [
           0
          ],
          [
           0
          ],
          [
           1
          ],
          [
           0
          ],
          [
           0
          ],
          [
           0
          ],
          [
           1
          ],
          [
           1
          ],
          [
           0
          ],
          [
           0
          ],
          [
           0
          ],
          [
           1
          ],
          [
           1
          ],
          [
           0
          ],
          [
           0
          ],
          [
           0
          ],
          [
           1
          ],
          [
           1
          ],
          [
           0
          ],
          [
           1
          ],
          [
           0
          ],
          [
           1
          ],
          [
           1
          ],
          [
           0
          ],
          [
           1
          ],
          [
           1
          ],
          [
           1
          ],
          [
           0
          ],
          [
           0
          ],
          [
           1
          ],
          [
           0
          ],
          [
           1
          ],
          [
           1
          ],
          [
           1
          ],
          [
           0
          ],
          [
           0
          ],
          [
           0
          ],
          [
           0
          ],
          [
           1
          ],
          [
           0
          ],
          [
           1
          ],
          [
           1
          ],
          [
           1
          ],
          [
           0
          ],
          [
           0
          ],
          [
           0
          ],
          [
           1
          ],
          [
           1
          ],
          [
           0
          ],
          [
           1
          ],
          [
           1
          ],
          [
           0
          ],
          [
           1
          ],
          [
           1
          ],
          [
           1
          ],
          [
           0
          ],
          [
           0
          ],
          [
           1
          ],
          [
           0
          ],
          [
           1
          ],
          [
           1
          ],
          [
           1
          ],
          [
           1
          ],
          [
           0
          ],
          [
           0
          ],
          [
           0
          ],
          [
           1
          ],
          [
           1
          ],
          [
           1
          ],
          [
           1
          ],
          [
           1
          ],
          [
           0
          ],
          [
           1
          ],
          [
           1
          ],
          [
           0
          ],
          [
           1
          ],
          [
           1
          ],
          [
           1
          ],
          [
           0
          ],
          [
           0
          ],
          [
           1
          ],
          [
           0
          ],
          [
           1
          ],
          [
           1
          ],
          [
           1
          ],
          [
           1
          ],
          [
           0
          ],
          [
           0
          ],
          [
           0
          ],
          [
           1
          ],
          [
           1
          ],
          [
           1
          ],
          [
           1
          ],
          [
           1
          ],
          [
           0
          ],
          [
           0
          ],
          [
           0
          ],
          [
           1
          ],
          [
           1
          ],
          [
           0
          ],
          [
           0
          ],
          [
           0
          ],
          [
           0
          ],
          [
           1
          ],
          [
           0
          ],
          [
           0
          ],
          [
           0
          ],
          [
           1
          ],
          [
           0
          ],
          [
           1
          ],
          [
           1
          ],
          [
           1
          ],
          [
           1
          ],
          [
           1
          ],
          [
           1
          ],
          [
           0
          ],
          [
           0
          ],
          [
           0
          ],
          [
           1
          ],
          [
           1
          ],
          [
           1
          ],
          [
           1
          ],
          [
           1
          ],
          [
           0
          ],
          [
           0
          ],
          [
           0
          ],
          [
           1
          ],
          [
           1
          ],
          [
           1
          ],
          [
           1
          ],
          [
           1
          ],
          [
           0
          ],
          [
           0
          ],
          [
           0
          ],
          [
           1
          ],
          [
           1
          ],
          [
           0
          ],
          [
           0
          ],
          [
           0
          ],
          [
           0
          ],
          [
           1
          ],
          [
           0
          ],
          [
           0
          ],
          [
           0
          ],
          [
           1
          ],
          [
           0
          ],
          [
           1
          ],
          [
           1
          ],
          [
           1
          ],
          [
           0
          ],
          [
           0
          ],
          [
           0
          ],
          [
           1
          ],
          [
           1
          ],
          [
           0
          ],
          [
           1
          ],
          [
           0
          ],
          [
           1
          ],
          [
           1
          ],
          [
           0
          ],
          [
           1
          ],
          [
           1
          ],
          [
           1
          ],
          [
           0
          ],
          [
           0
          ],
          [
           1
          ],
          [
           0
          ],
          [
           1
          ],
          [
           1
          ],
          [
           1
          ],
          [
           1
          ],
          [
           0
          ],
          [
           0
          ],
          [
           0
          ],
          [
           1
          ],
          [
           1
          ],
          [
           1
          ],
          [
           1
          ],
          [
           1
          ],
          [
           0
          ],
          [
           0
          ],
          [
           0
          ],
          [
           1
          ],
          [
           1
          ],
          [
           0
          ],
          [
           0
          ],
          [
           1
          ],
          [
           0
          ],
          [
           0
          ],
          [
           0
          ],
          [
           1
          ],
          [
           1
          ],
          [
           0
          ],
          [
           0
          ],
          [
           0
          ],
          [
           1
          ],
          [
           1
          ],
          [
           0
          ],
          [
           1
          ],
          [
           0
          ],
          [
           1
          ],
          [
           1
          ],
          [
           0
          ],
          [
           1
          ],
          [
           1
          ],
          [
           1
          ],
          [
           0
          ],
          [
           0
          ],
          [
           1
          ],
          [
           0
          ],
          [
           1
          ],
          [
           1
          ],
          [
           1
          ],
          [
           1
          ],
          [
           0
          ],
          [
           0
          ],
          [
           0
          ],
          [
           1
          ],
          [
           1
          ],
          [
           1
          ],
          [
           1
          ],
          [
           1
          ],
          [
           0
          ],
          [
           0
          ],
          [
           0
          ],
          [
           1
          ],
          [
           1
          ],
          [
           0
          ],
          [
           0
          ],
          [
           1
          ],
          [
           0
          ],
          [
           0
          ],
          [
           0
          ],
          [
           1
          ],
          [
           1
          ],
          [
           0
          ],
          [
           0
          ],
          [
           0
          ],
          [
           0
          ],
          [
           1
          ],
          [
           0
          ],
          [
           0
          ],
          [
           0
          ],
          [
           1
          ],
          [
           0
          ],
          [
           1
          ],
          [
           1
          ],
          [
           1
          ],
          [
           0
          ],
          [
           0
          ],
          [
           0
          ],
          [
           1
          ],
          [
           1
          ],
          [
           0
          ],
          [
           1
          ],
          [
           0
          ],
          [
           1
          ],
          [
           1
          ],
          [
           0
          ],
          [
           1
          ],
          [
           1
          ],
          [
           1
          ],
          [
           0
          ],
          [
           0
          ],
          [
           1
          ],
          [
           0
          ],
          [
           1
          ],
          [
           1
          ],
          [
           1
          ],
          [
           0
          ],
          [
           0
          ],
          [
           0
          ],
          [
           0
          ],
          [
           1
          ],
          [
           0
          ],
          [
           1
          ],
          [
           1
          ],
          [
           1
          ],
          [
           0
          ],
          [
           0
          ],
          [
           0
          ],
          [
           1
          ],
          [
           1
          ],
          [
           0
          ],
          [
           1
          ],
          [
           1
          ],
          [
           1
          ],
          [
           1
          ],
          [
           1
          ],
          [
           1
          ],
          [
           1
          ],
          [
           1
          ],
          [
           0
          ],
          [
           0
          ],
          [
           0
          ],
          [
           1
          ],
          [
           1
          ],
          [
           1
          ],
          [
           1
          ],
          [
           1
          ],
          [
           0
          ],
          [
           0
          ],
          [
           0
          ],
          [
           1
          ],
          [
           1
          ],
          [
           0
          ],
          [
           0
          ],
          [
           0
          ],
          [
           0
          ],
          [
           1
          ],
          [
           0
          ],
          [
           0
          ],
          [
           0
          ],
          [
           1
          ],
          [
           0
          ],
          [
           1
          ],
          [
           1
          ],
          [
           1
          ],
          [
           1
          ],
          [
           1
          ],
          [
           1
          ],
          [
           0
          ],
          [
           1
          ],
          [
           0
          ],
          [
           1
          ],
          [
           1
          ],
          [
           1
          ],
          [
           0
          ],
          [
           0
          ],
          [
           0
          ],
          [
           1
          ],
          [
           1
          ],
          [
           0
          ],
          [
           1
          ],
          [
           0
          ],
          [
           1
          ],
          [
           1
          ],
          [
           0
          ],
          [
           1
          ],
          [
           1
          ],
          [
           1
          ],
          [
           0
          ],
          [
           0
          ],
          [
           1
          ],
          [
           0
          ],
          [
           1
          ],
          [
           1
          ],
          [
           1
          ],
          [
           0
          ],
          [
           0
          ],
          [
           0
          ],
          [
           0
          ],
          [
           1
          ],
          [
           0
          ],
          [
           1
          ],
          [
           1
          ],
          [
           1
          ],
          [
           0
          ],
          [
           0
          ],
          [
           0
          ],
          [
           1
          ],
          [
           1
          ],
          [
           0
          ],
          [
           1
          ],
          [
           1
          ],
          [
           1
          ],
          [
           1
          ],
          [
           1
          ],
          [
           1
          ],
          [
           1
          ],
          [
           1
          ],
          [
           0
          ],
          [
           0
          ],
          [
           0
          ],
          [
           1
          ],
          [
           1
          ],
          [
           1
          ],
          [
           1
          ],
          [
           1
          ],
          [
           0
          ],
          [
           0
          ],
          [
           0
          ],
          [
           1
          ],
          [
           1
          ],
          [
           0
          ],
          [
           0
          ],
          [
           0
          ],
          [
           0
          ],
          [
           1
          ],
          [
           0
          ],
          [
           0
          ],
          [
           0
          ],
          [
           1
          ],
          [
           0
          ],
          [
           1
          ],
          [
           1
          ],
          [
           1
          ],
          [
           0
          ],
          [
           0
          ],
          [
           0
          ],
          [
           1
          ],
          [
           1
          ],
          [
           1
          ],
          [
           1
          ],
          [
           1
          ],
          [
           0
          ],
          [
           1
          ],
          [
           1
          ],
          [
           0
          ],
          [
           1
          ],
          [
           1
          ],
          [
           1
          ],
          [
           0
          ],
          [
           0
          ],
          [
           1
          ],
          [
           0
          ],
          [
           1
          ],
          [
           1
          ],
          [
           1
          ],
          [
           1
          ],
          [
           0
          ],
          [
           0
          ],
          [
           0
          ],
          [
           1
          ],
          [
           1
          ],
          [
           1
          ],
          [
           1
          ],
          [
           1
          ],
          [
           0
          ],
          [
           0
          ],
          [
           0
          ],
          [
           1
          ],
          [
           1
          ],
          [
           0
          ],
          [
           0
          ],
          [
           0
          ],
          [
           0
          ],
          [
           1
          ],
          [
           0
          ],
          [
           0
          ],
          [
           0
          ],
          [
           1
          ],
          [
           0
          ],
          [
           1
          ],
          [
           1
          ],
          [
           1
          ],
          [
           1
          ],
          [
           1
          ],
          [
           1
          ],
          [
           0
          ],
          [
           0
          ],
          [
           0
          ],
          [
           1
          ],
          [
           1
          ],
          [
           1
          ],
          [
           1
          ],
          [
           1
          ],
          [
           0
          ],
          [
           0
          ],
          [
           0
          ],
          [
           1
          ],
          [
           1
          ],
          [
           1
          ],
          [
           1
          ],
          [
           1
          ],
          [
           0
          ],
          [
           0
          ],
          [
           0
          ],
          [
           1
          ],
          [
           1
          ],
          [
           0
          ],
          [
           1
          ],
          [
           1
          ],
          [
           1
          ],
          [
           0
          ],
          [
           0
          ],
          [
           1
          ],
          [
           0
          ],
          [
           1
          ],
          [
           1
          ],
          [
           1
          ],
          [
           0
          ],
          [
           0
          ],
          [
           0
          ],
          [
           0
          ],
          [
           1
          ],
          [
           0
          ],
          [
           1
          ],
          [
           1
          ],
          [
           1
          ],
          [
           0
          ],
          [
           0
          ],
          [
           0
          ],
          [
           1
          ],
          [
           1
          ],
          [
           0
          ],
          [
           1
          ],
          [
           1
          ],
          [
           0
          ],
          [
           1
          ],
          [
           1
          ],
          [
           1
          ],
          [
           0
          ],
          [
           0
          ],
          [
           1
          ],
          [
           0
          ],
          [
           1
          ],
          [
           1
          ],
          [
           1
          ],
          [
           1
          ],
          [
           0
          ],
          [
           0
          ],
          [
           0
          ],
          [
           1
          ],
          [
           1
          ],
          [
           1
          ],
          [
           1
          ],
          [
           1
          ],
          [
           0
          ],
          [
           1
          ],
          [
           1
          ],
          [
           0
          ],
          [
           1
          ],
          [
           1
          ],
          [
           1
          ],
          [
           0
          ],
          [
           0
          ],
          [
           1
          ],
          [
           0
          ],
          [
           1
          ],
          [
           1
          ],
          [
           1
          ],
          [
           1
          ],
          [
           0
          ],
          [
           0
          ],
          [
           0
          ],
          [
           1
          ],
          [
           1
          ],
          [
           1
          ],
          [
           1
          ],
          [
           1
          ],
          [
           0
          ],
          [
           0
          ],
          [
           0
          ],
          [
           1
          ],
          [
           1
          ],
          [
           0
          ],
          [
           0
          ],
          [
           0
          ],
          [
           0
          ],
          [
           1
          ],
          [
           0
          ],
          [
           0
          ],
          [
           0
          ],
          [
           1
          ],
          [
           0
          ],
          [
           1
          ],
          [
           1
          ],
          [
           1
          ],
          [
           1
          ],
          [
           0
          ],
          [
           1
          ],
          [
           0
          ],
          [
           0
          ],
          [
           0
          ],
          [
           1
          ],
          [
           1
          ],
          [
           1
          ],
          [
           1
          ],
          [
           1
          ],
          [
           0
          ],
          [
           0
          ],
          [
           0
          ],
          [
           1
          ],
          [
           1
          ],
          [
           1
          ],
          [
           1
          ],
          [
           1
          ],
          [
           0
          ],
          [
           0
          ],
          [
           0
          ],
          [
           1
          ],
          [
           1
          ],
          [
           0
          ],
          [
           0
          ],
          [
           0
          ],
          [
           0
          ],
          [
           1
          ],
          [
           0
          ],
          [
           0
          ],
          [
           0
          ],
          [
           1
          ],
          [
           0
          ],
          [
           1
          ],
          [
           1
          ],
          [
           1
          ],
          [
           0
          ],
          [
           0
          ],
          [
           0
          ],
          [
           1
          ],
          [
           1
          ],
          [
           1
          ],
          [
           1
          ],
          [
           0
          ],
          [
           0
          ],
          [
           0
          ],
          [
           1
          ],
          [
           1
          ],
          [
           0
          ],
          [
           1
          ],
          [
           1
          ],
          [
           1
          ],
          [
           1
          ],
          [
           1
          ],
          [
           1
          ],
          [
           1
          ],
          [
           1
          ],
          [
           0
          ],
          [
           0
          ],
          [
           0
          ],
          [
           1
          ],
          [
           1
          ],
          [
           1
          ],
          [
           1
          ],
          [
           1
          ],
          [
           0
          ],
          [
           0
          ],
          [
           0
          ],
          [
           1
          ],
          [
           1
          ],
          [
           1
          ],
          [
           0
          ],
          [
           0
          ],
          [
           0
          ],
          [
           1
          ],
          [
           0
          ],
          [
           1
          ],
          [
           1
          ],
          [
           0
          ],
          [
           0
          ],
          [
           0
          ],
          [
           0
          ],
          [
           1
          ],
          [
           1
          ],
          [
           1
          ],
          [
           1
          ],
          [
           1
          ],
          [
           0
          ],
          [
           1
          ],
          [
           1
          ],
          [
           0
          ],
          [
           1
          ],
          [
           1
          ],
          [
           1
          ],
          [
           0
          ],
          [
           0
          ],
          [
           1
          ],
          [
           1
          ],
          [
           0
          ],
          [
           0
          ],
          [
           0
          ],
          [
           0
          ],
          [
           1
          ],
          [
           0
          ],
          [
           1
          ],
          [
           1
          ],
          [
           1
          ],
          [
           0
          ],
          [
           0
          ],
          [
           0
          ],
          [
           1
          ],
          [
           1
          ],
          [
           0
          ],
          [
           1
          ],
          [
           1
          ],
          [
           0
          ],
          [
           1
          ],
          [
           1
          ],
          [
           1
          ],
          [
           0
          ],
          [
           0
          ],
          [
           1
          ],
          [
           1
          ],
          [
           1
          ],
          [
           0
          ],
          [
           0
          ],
          [
           0
          ],
          [
           1
          ],
          [
           1
          ],
          [
           0
          ],
          [
           0
          ],
          [
           0
          ],
          [
           0
          ],
          [
           1
          ],
          [
           0
          ],
          [
           0
          ],
          [
           1
          ],
          [
           1
          ],
          [
           0
          ],
          [
           1
          ],
          [
           1
          ],
          [
           1
          ],
          [
           1
          ],
          [
           1
          ],
          [
           1
          ],
          [
           0
          ],
          [
           1
          ],
          [
           1
          ],
          [
           1
          ],
          [
           1
          ],
          [
           1
          ],
          [
           1
          ],
          [
           0
          ],
          [
           0
          ],
          [
           0
          ],
          [
           1
          ],
          [
           1
          ],
          [
           1
          ],
          [
           1
          ],
          [
           1
          ],
          [
           0
          ],
          [
           0
          ],
          [
           0
          ],
          [
           1
          ],
          [
           1
          ],
          [
           0
          ],
          [
           0
          ],
          [
           0
          ],
          [
           0
          ],
          [
           1
          ],
          [
           0
          ],
          [
           0
          ],
          [
           0
          ],
          [
           1
          ],
          [
           0
          ],
          [
           1
          ],
          [
           1
          ],
          [
           0
          ],
          [
           0
          ],
          [
           0
          ],
          [
           0
          ],
          [
           1
          ],
          [
           1
          ],
          [
           1
          ],
          [
           1
          ],
          [
           1
          ],
          [
           0
          ],
          [
           1
          ],
          [
           1
          ],
          [
           1
          ],
          [
           0
          ],
          [
           0
          ],
          [
           0
          ],
          [
           1
          ],
          [
           1
          ],
          [
           1
          ],
          [
           1
          ],
          [
           1
          ],
          [
           0
          ],
          [
           0
          ],
          [
           0
          ],
          [
           1
          ],
          [
           1
          ],
          [
           0
          ],
          [
           0
          ],
          [
           0
          ],
          [
           0
          ],
          [
           1
          ],
          [
           0
          ],
          [
           0
          ],
          [
           0
          ],
          [
           1
          ],
          [
           0
          ],
          [
           1
          ],
          [
           1
          ],
          [
           1
          ],
          [
           0
          ],
          [
           0
          ],
          [
           0
          ],
          [
           1
          ],
          [
           1
          ],
          [
           1
          ],
          [
           1
          ],
          [
           0
          ],
          [
           0
          ],
          [
           0
          ],
          [
           1
          ],
          [
           1
          ],
          [
           0
          ],
          [
           1
          ],
          [
           1
          ],
          [
           1
          ],
          [
           1
          ],
          [
           1
          ],
          [
           1
          ],
          [
           1
          ],
          [
           1
          ],
          [
           0
          ]
         ],
         "domain": {
          "x": [
           0,
           1
          ],
          "y": [
           0,
           1
          ]
         },
         "hovertemplate": "Taste=%{customdata[0]}<extra></extra>",
         "labels": [
          1,
          0,
          1,
          1,
          0,
          1,
          1,
          1,
          1,
          1,
          1,
          0,
          0,
          1,
          0,
          1,
          1,
          1,
          1,
          1,
          0,
          0,
          0,
          1,
          1,
          0,
          0,
          0,
          0,
          1,
          0,
          0,
          1,
          1,
          1,
          0,
          0,
          0,
          0,
          1,
          0,
          1,
          1,
          1,
          0,
          0,
          0,
          1,
          1,
          0,
          1,
          1,
          0,
          1,
          1,
          1,
          0,
          0,
          1,
          0,
          1,
          1,
          1,
          1,
          0,
          0,
          0,
          1,
          1,
          1,
          1,
          1,
          1,
          0,
          1,
          1,
          1,
          0,
          0,
          0,
          0,
          1,
          0,
          0,
          0,
          1,
          0,
          1,
          1,
          1,
          0,
          1,
          0,
          1,
          1,
          0,
          1,
          0,
          1,
          1,
          0,
          1,
          1,
          1,
          0,
          0,
          1,
          0,
          1,
          1,
          1,
          1,
          0,
          1,
          0,
          1,
          1,
          1,
          1,
          1,
          0,
          0,
          0,
          1,
          1,
          0,
          0,
          1,
          0,
          0,
          0,
          1,
          1,
          0,
          0,
          0,
          0,
          1,
          0,
          0,
          0,
          1,
          0,
          1,
          1,
          1,
          0,
          0,
          0,
          1,
          1,
          0,
          1,
          0,
          1,
          1,
          0,
          1,
          1,
          1,
          0,
          0,
          1,
          0,
          1,
          1,
          1,
          0,
          0,
          0,
          0,
          1,
          0,
          1,
          1,
          1,
          0,
          0,
          0,
          1,
          1,
          0,
          1,
          1,
          0,
          1,
          1,
          1,
          0,
          0,
          1,
          0,
          1,
          1,
          1,
          1,
          0,
          0,
          0,
          1,
          1,
          1,
          1,
          1,
          0,
          1,
          1,
          1,
          1,
          1,
          1,
          0,
          0,
          1,
          0,
          1,
          1,
          1,
          1,
          0,
          0,
          0,
          1,
          1,
          1,
          1,
          1,
          0,
          0,
          0,
          1,
          1,
          0,
          0,
          0,
          0,
          1,
          0,
          0,
          0,
          1,
          0,
          1,
          1,
          1,
          1,
          1,
          1,
          0,
          0,
          0,
          1,
          1,
          1,
          1,
          1,
          0,
          0,
          0,
          1,
          1,
          0,
          0,
          1,
          0,
          0,
          0,
          1,
          1,
          0,
          0,
          0,
          1,
          1,
          0,
          0,
          0,
          1,
          1,
          0,
          1,
          0,
          1,
          1,
          0,
          1,
          1,
          1,
          0,
          0,
          1,
          0,
          1,
          1,
          1,
          0,
          0,
          0,
          0,
          1,
          0,
          1,
          1,
          1,
          0,
          0,
          0,
          1,
          1,
          0,
          1,
          1,
          0,
          1,
          1,
          1,
          0,
          0,
          1,
          0,
          1,
          1,
          1,
          1,
          0,
          0,
          0,
          1,
          1,
          1,
          1,
          1,
          0,
          1,
          1,
          0,
          1,
          1,
          1,
          0,
          0,
          1,
          0,
          1,
          1,
          1,
          1,
          0,
          0,
          0,
          1,
          1,
          1,
          1,
          1,
          0,
          0,
          0,
          1,
          1,
          0,
          0,
          0,
          0,
          1,
          0,
          0,
          0,
          1,
          0,
          1,
          1,
          1,
          1,
          1,
          1,
          0,
          0,
          0,
          1,
          1,
          1,
          1,
          1,
          0,
          0,
          0,
          1,
          1,
          1,
          1,
          1,
          0,
          0,
          0,
          1,
          1,
          0,
          0,
          0,
          0,
          1,
          0,
          0,
          0,
          1,
          0,
          1,
          1,
          1,
          0,
          0,
          0,
          1,
          1,
          0,
          1,
          0,
          1,
          1,
          0,
          1,
          1,
          1,
          0,
          0,
          1,
          0,
          1,
          1,
          1,
          1,
          0,
          0,
          0,
          1,
          1,
          1,
          1,
          1,
          0,
          0,
          0,
          1,
          1,
          0,
          0,
          1,
          0,
          0,
          0,
          1,
          1,
          0,
          0,
          0,
          1,
          1,
          0,
          1,
          0,
          1,
          1,
          0,
          1,
          1,
          1,
          0,
          0,
          1,
          0,
          1,
          1,
          1,
          1,
          0,
          0,
          0,
          1,
          1,
          1,
          1,
          1,
          0,
          0,
          0,
          1,
          1,
          0,
          0,
          1,
          0,
          0,
          0,
          1,
          1,
          0,
          0,
          0,
          0,
          1,
          0,
          0,
          0,
          1,
          0,
          1,
          1,
          1,
          0,
          0,
          0,
          1,
          1,
          0,
          1,
          0,
          1,
          1,
          0,
          1,
          1,
          1,
          0,
          0,
          1,
          0,
          1,
          1,
          1,
          0,
          0,
          0,
          0,
          1,
          0,
          1,
          1,
          1,
          0,
          0,
          0,
          1,
          1,
          0,
          1,
          1,
          1,
          1,
          1,
          1,
          1,
          1,
          0,
          0,
          0,
          1,
          1,
          1,
          1,
          1,
          0,
          0,
          0,
          1,
          1,
          0,
          0,
          0,
          0,
          1,
          0,
          0,
          0,
          1,
          0,
          1,
          1,
          1,
          1,
          1,
          1,
          0,
          1,
          0,
          1,
          1,
          1,
          0,
          0,
          0,
          1,
          1,
          0,
          1,
          0,
          1,
          1,
          0,
          1,
          1,
          1,
          0,
          0,
          1,
          0,
          1,
          1,
          1,
          0,
          0,
          0,
          0,
          1,
          0,
          1,
          1,
          1,
          0,
          0,
          0,
          1,
          1,
          0,
          1,
          1,
          1,
          1,
          1,
          1,
          1,
          1,
          0,
          0,
          0,
          1,
          1,
          1,
          1,
          1,
          0,
          0,
          0,
          1,
          1,
          0,
          0,
          0,
          0,
          1,
          0,
          0,
          0,
          1,
          0,
          1,
          1,
          1,
          0,
          0,
          0,
          1,
          1,
          1,
          1,
          1,
          0,
          1,
          1,
          0,
          1,
          1,
          1,
          0,
          0,
          1,
          0,
          1,
          1,
          1,
          1,
          0,
          0,
          0,
          1,
          1,
          1,
          1,
          1,
          0,
          0,
          0,
          1,
          1,
          0,
          0,
          0,
          0,
          1,
          0,
          0,
          0,
          1,
          0,
          1,
          1,
          1,
          1,
          1,
          1,
          0,
          0,
          0,
          1,
          1,
          1,
          1,
          1,
          0,
          0,
          0,
          1,
          1,
          1,
          1,
          1,
          0,
          0,
          0,
          1,
          1,
          0,
          1,
          1,
          1,
          0,
          0,
          1,
          0,
          1,
          1,
          1,
          0,
          0,
          0,
          0,
          1,
          0,
          1,
          1,
          1,
          0,
          0,
          0,
          1,
          1,
          0,
          1,
          1,
          0,
          1,
          1,
          1,
          0,
          0,
          1,
          0,
          1,
          1,
          1,
          1,
          0,
          0,
          0,
          1,
          1,
          1,
          1,
          1,
          0,
          1,
          1,
          0,
          1,
          1,
          1,
          0,
          0,
          1,
          0,
          1,
          1,
          1,
          1,
          0,
          0,
          0,
          1,
          1,
          1,
          1,
          1,
          0,
          0,
          0,
          1,
          1,
          0,
          0,
          0,
          0,
          1,
          0,
          0,
          0,
          1,
          0,
          1,
          1,
          1,
          1,
          0,
          1,
          0,
          0,
          0,
          1,
          1,
          1,
          1,
          1,
          0,
          0,
          0,
          1,
          1,
          1,
          1,
          1,
          0,
          0,
          0,
          1,
          1,
          0,
          0,
          0,
          0,
          1,
          0,
          0,
          0,
          1,
          0,
          1,
          1,
          1,
          0,
          0,
          0,
          1,
          1,
          1,
          1,
          0,
          0,
          0,
          1,
          1,
          0,
          1,
          1,
          1,
          1,
          1,
          1,
          1,
          1,
          0,
          0,
          0,
          1,
          1,
          1,
          1,
          1,
          0,
          0,
          0,
          1,
          1,
          1,
          0,
          0,
          0,
          1,
          0,
          1,
          1,
          0,
          0,
          0,
          0,
          1,
          1,
          1,
          1,
          1,
          0,
          1,
          1,
          0,
          1,
          1,
          1,
          0,
          0,
          1,
          1,
          0,
          0,
          0,
          0,
          1,
          0,
          1,
          1,
          1,
          0,
          0,
          0,
          1,
          1,
          0,
          1,
          1,
          0,
          1,
          1,
          1,
          0,
          0,
          1,
          1,
          1,
          0,
          0,
          0,
          1,
          1,
          0,
          0,
          0,
          0,
          1,
          0,
          0,
          1,
          1,
          0,
          1,
          1,
          1,
          1,
          1,
          1,
          0,
          1,
          1,
          1,
          1,
          1,
          1,
          0,
          0,
          0,
          1,
          1,
          1,
          1,
          1,
          0,
          0,
          0,
          1,
          1,
          0,
          0,
          0,
          0,
          1,
          0,
          0,
          0,
          1,
          0,
          1,
          1,
          0,
          0,
          0,
          0,
          1,
          1,
          1,
          1,
          1,
          0,
          1,
          1,
          1,
          0,
          0,
          0,
          1,
          1,
          1,
          1,
          1,
          0,
          0,
          0,
          1,
          1,
          0,
          0,
          0,
          0,
          1,
          0,
          0,
          0,
          1,
          0,
          1,
          1,
          1,
          0,
          0,
          0,
          1,
          1,
          1,
          1,
          0,
          0,
          0,
          1,
          1,
          0,
          1,
          1,
          1,
          1,
          1,
          1,
          1,
          1,
          0
         ],
         "legendgroup": "",
         "marker": {
          "colors": [
           "green",
           "red",
           "green",
           "green",
           "red",
           "green",
           "green",
           "green",
           "green",
           "green",
           "green",
           "red",
           "red",
           "green",
           "red",
           "green",
           "green",
           "green",
           "green",
           "green",
           "red",
           "red",
           "red",
           "green",
           "green",
           "red",
           "red",
           "red",
           "red",
           "green",
           "red",
           "red",
           "green",
           "green",
           "green",
           "red",
           "red",
           "red",
           "red",
           "green",
           "red",
           "green",
           "green",
           "green",
           "red",
           "red",
           "red",
           "green",
           "green",
           "red",
           "green",
           "green",
           "red",
           "green",
           "green",
           "green",
           "red",
           "red",
           "green",
           "red",
           "green",
           "green",
           "green",
           "green",
           "red",
           "red",
           "red",
           "green",
           "green",
           "green",
           "green",
           "green",
           "green",
           "red",
           "green",
           "green",
           "green",
           "red",
           "red",
           "red",
           "red",
           "green",
           "red",
           "red",
           "red",
           "green",
           "red",
           "green",
           "green",
           "green",
           "red",
           "green",
           "red",
           "green",
           "green",
           "red",
           "green",
           "red",
           "green",
           "green",
           "red",
           "green",
           "green",
           "green",
           "red",
           "red",
           "green",
           "red",
           "green",
           "green",
           "green",
           "green",
           "red",
           "green",
           "red",
           "green",
           "green",
           "green",
           "green",
           "green",
           "red",
           "red",
           "red",
           "green",
           "green",
           "red",
           "red",
           "green",
           "red",
           "red",
           "red",
           "green",
           "green",
           "red",
           "red",
           "red",
           "red",
           "green",
           "red",
           "red",
           "red",
           "green",
           "red",
           "green",
           "green",
           "green",
           "red",
           "red",
           "red",
           "green",
           "green",
           "red",
           "green",
           "red",
           "green",
           "green",
           "red",
           "green",
           "green",
           "green",
           "red",
           "red",
           "green",
           "red",
           "green",
           "green",
           "green",
           "red",
           "red",
           "red",
           "red",
           "green",
           "red",
           "green",
           "green",
           "green",
           "red",
           "red",
           "red",
           "green",
           "green",
           "red",
           "green",
           "green",
           "red",
           "green",
           "green",
           "green",
           "red",
           "red",
           "green",
           "red",
           "green",
           "green",
           "green",
           "green",
           "red",
           "red",
           "red",
           "green",
           "green",
           "green",
           "green",
           "green",
           "red",
           "green",
           "green",
           "green",
           "green",
           "green",
           "green",
           "red",
           "red",
           "green",
           "red",
           "green",
           "green",
           "green",
           "green",
           "red",
           "red",
           "red",
           "green",
           "green",
           "green",
           "green",
           "green",
           "red",
           "red",
           "red",
           "green",
           "green",
           "red",
           "red",
           "red",
           "red",
           "green",
           "red",
           "red",
           "red",
           "green",
           "red",
           "green",
           "green",
           "green",
           "green",
           "green",
           "green",
           "red",
           "red",
           "red",
           "green",
           "green",
           "green",
           "green",
           "green",
           "red",
           "red",
           "red",
           "green",
           "green",
           "red",
           "red",
           "green",
           "red",
           "red",
           "red",
           "green",
           "green",
           "red",
           "red",
           "red",
           "green",
           "green",
           "red",
           "red",
           "red",
           "green",
           "green",
           "red",
           "green",
           "red",
           "green",
           "green",
           "red",
           "green",
           "green",
           "green",
           "red",
           "red",
           "green",
           "red",
           "green",
           "green",
           "green",
           "red",
           "red",
           "red",
           "red",
           "green",
           "red",
           "green",
           "green",
           "green",
           "red",
           "red",
           "red",
           "green",
           "green",
           "red",
           "green",
           "green",
           "red",
           "green",
           "green",
           "green",
           "red",
           "red",
           "green",
           "red",
           "green",
           "green",
           "green",
           "green",
           "red",
           "red",
           "red",
           "green",
           "green",
           "green",
           "green",
           "green",
           "red",
           "green",
           "green",
           "red",
           "green",
           "green",
           "green",
           "red",
           "red",
           "green",
           "red",
           "green",
           "green",
           "green",
           "green",
           "red",
           "red",
           "red",
           "green",
           "green",
           "green",
           "green",
           "green",
           "red",
           "red",
           "red",
           "green",
           "green",
           "red",
           "red",
           "red",
           "red",
           "green",
           "red",
           "red",
           "red",
           "green",
           "red",
           "green",
           "green",
           "green",
           "green",
           "green",
           "green",
           "red",
           "red",
           "red",
           "green",
           "green",
           "green",
           "green",
           "green",
           "red",
           "red",
           "red",
           "green",
           "green",
           "green",
           "green",
           "green",
           "red",
           "red",
           "red",
           "green",
           "green",
           "red",
           "red",
           "red",
           "red",
           "green",
           "red",
           "red",
           "red",
           "green",
           "red",
           "green",
           "green",
           "green",
           "red",
           "red",
           "red",
           "green",
           "green",
           "red",
           "green",
           "red",
           "green",
           "green",
           "red",
           "green",
           "green",
           "green",
           "red",
           "red",
           "green",
           "red",
           "green",
           "green",
           "green",
           "green",
           "red",
           "red",
           "red",
           "green",
           "green",
           "green",
           "green",
           "green",
           "red",
           "red",
           "red",
           "green",
           "green",
           "red",
           "red",
           "green",
           "red",
           "red",
           "red",
           "green",
           "green",
           "red",
           "red",
           "red",
           "green",
           "green",
           "red",
           "green",
           "red",
           "green",
           "green",
           "red",
           "green",
           "green",
           "green",
           "red",
           "red",
           "green",
           "red",
           "green",
           "green",
           "green",
           "green",
           "red",
           "red",
           "red",
           "green",
           "green",
           "green",
           "green",
           "green",
           "red",
           "red",
           "red",
           "green",
           "green",
           "red",
           "red",
           "green",
           "red",
           "red",
           "red",
           "green",
           "green",
           "red",
           "red",
           "red",
           "red",
           "green",
           "red",
           "red",
           "red",
           "green",
           "red",
           "green",
           "green",
           "green",
           "red",
           "red",
           "red",
           "green",
           "green",
           "red",
           "green",
           "red",
           "green",
           "green",
           "red",
           "green",
           "green",
           "green",
           "red",
           "red",
           "green",
           "red",
           "green",
           "green",
           "green",
           "red",
           "red",
           "red",
           "red",
           "green",
           "red",
           "green",
           "green",
           "green",
           "red",
           "red",
           "red",
           "green",
           "green",
           "red",
           "green",
           "green",
           "green",
           "green",
           "green",
           "green",
           "green",
           "green",
           "red",
           "red",
           "red",
           "green",
           "green",
           "green",
           "green",
           "green",
           "red",
           "red",
           "red",
           "green",
           "green",
           "red",
           "red",
           "red",
           "red",
           "green",
           "red",
           "red",
           "red",
           "green",
           "red",
           "green",
           "green",
           "green",
           "green",
           "green",
           "green",
           "red",
           "green",
           "red",
           "green",
           "green",
           "green",
           "red",
           "red",
           "red",
           "green",
           "green",
           "red",
           "green",
           "red",
           "green",
           "green",
           "red",
           "green",
           "green",
           "green",
           "red",
           "red",
           "green",
           "red",
           "green",
           "green",
           "green",
           "red",
           "red",
           "red",
           "red",
           "green",
           "red",
           "green",
           "green",
           "green",
           "red",
           "red",
           "red",
           "green",
           "green",
           "red",
           "green",
           "green",
           "green",
           "green",
           "green",
           "green",
           "green",
           "green",
           "red",
           "red",
           "red",
           "green",
           "green",
           "green",
           "green",
           "green",
           "red",
           "red",
           "red",
           "green",
           "green",
           "red",
           "red",
           "red",
           "red",
           "green",
           "red",
           "red",
           "red",
           "green",
           "red",
           "green",
           "green",
           "green",
           "red",
           "red",
           "red",
           "green",
           "green",
           "green",
           "green",
           "green",
           "red",
           "green",
           "green",
           "red",
           "green",
           "green",
           "green",
           "red",
           "red",
           "green",
           "red",
           "green",
           "green",
           "green",
           "green",
           "red",
           "red",
           "red",
           "green",
           "green",
           "green",
           "green",
           "green",
           "red",
           "red",
           "red",
           "green",
           "green",
           "red",
           "red",
           "red",
           "red",
           "green",
           "red",
           "red",
           "red",
           "green",
           "red",
           "green",
           "green",
           "green",
           "green",
           "green",
           "green",
           "red",
           "red",
           "red",
           "green",
           "green",
           "green",
           "green",
           "green",
           "red",
           "red",
           "red",
           "green",
           "green",
           "green",
           "green",
           "green",
           "red",
           "red",
           "red",
           "green",
           "green",
           "red",
           "green",
           "green",
           "green",
           "red",
           "red",
           "green",
           "red",
           "green",
           "green",
           "green",
           "red",
           "red",
           "red",
           "red",
           "green",
           "red",
           "green",
           "green",
           "green",
           "red",
           "red",
           "red",
           "green",
           "green",
           "red",
           "green",
           "green",
           "red",
           "green",
           "green",
           "green",
           "red",
           "red",
           "green",
           "red",
           "green",
           "green",
           "green",
           "green",
           "red",
           "red",
           "red",
           "green",
           "green",
           "green",
           "green",
           "green",
           "red",
           "green",
           "green",
           "red",
           "green",
           "green",
           "green",
           "red",
           "red",
           "green",
           "red",
           "green",
           "green",
           "green",
           "green",
           "red",
           "red",
           "red",
           "green",
           "green",
           "green",
           "green",
           "green",
           "red",
           "red",
           "red",
           "green",
           "green",
           "red",
           "red",
           "red",
           "red",
           "green",
           "red",
           "red",
           "red",
           "green",
           "red",
           "green",
           "green",
           "green",
           "green",
           "red",
           "green",
           "red",
           "red",
           "red",
           "green",
           "green",
           "green",
           "green",
           "green",
           "red",
           "red",
           "red",
           "green",
           "green",
           "green",
           "green",
           "green",
           "red",
           "red",
           "red",
           "green",
           "green",
           "red",
           "red",
           "red",
           "red",
           "green",
           "red",
           "red",
           "red",
           "green",
           "red",
           "green",
           "green",
           "green",
           "red",
           "red",
           "red",
           "green",
           "green",
           "green",
           "green",
           "red",
           "red",
           "red",
           "green",
           "green",
           "red",
           "green",
           "green",
           "green",
           "green",
           "green",
           "green",
           "green",
           "green",
           "red",
           "red",
           "red",
           "green",
           "green",
           "green",
           "green",
           "green",
           "red",
           "red",
           "red",
           "green",
           "green",
           "green",
           "red",
           "red",
           "red",
           "green",
           "red",
           "green",
           "green",
           "red",
           "red",
           "red",
           "red",
           "green",
           "green",
           "green",
           "green",
           "green",
           "red",
           "green",
           "green",
           "red",
           "green",
           "green",
           "green",
           "red",
           "red",
           "green",
           "green",
           "red",
           "red",
           "red",
           "red",
           "green",
           "red",
           "green",
           "green",
           "green",
           "red",
           "red",
           "red",
           "green",
           "green",
           "red",
           "green",
           "green",
           "red",
           "green",
           "green",
           "green",
           "red",
           "red",
           "green",
           "green",
           "green",
           "red",
           "red",
           "red",
           "green",
           "green",
           "red",
           "red",
           "red",
           "red",
           "green",
           "red",
           "red",
           "green",
           "green",
           "red",
           "green",
           "green",
           "green",
           "green",
           "green",
           "green",
           "red",
           "green",
           "green",
           "green",
           "green",
           "green",
           "green",
           "red",
           "red",
           "red",
           "green",
           "green",
           "green",
           "green",
           "green",
           "red",
           "red",
           "red",
           "green",
           "green",
           "red",
           "red",
           "red",
           "red",
           "green",
           "red",
           "red",
           "red",
           "green",
           "red",
           "green",
           "green",
           "red",
           "red",
           "red",
           "red",
           "green",
           "green",
           "green",
           "green",
           "green",
           "red",
           "green",
           "green",
           "green",
           "red",
           "red",
           "red",
           "green",
           "green",
           "green",
           "green",
           "green",
           "red",
           "red",
           "red",
           "green",
           "green",
           "red",
           "red",
           "red",
           "red",
           "green",
           "red",
           "red",
           "red",
           "green",
           "red",
           "green",
           "green",
           "green",
           "red",
           "red",
           "red",
           "green",
           "green",
           "green",
           "green",
           "red",
           "red",
           "red",
           "green",
           "green",
           "red",
           "green",
           "green",
           "green",
           "green",
           "green",
           "green",
           "green",
           "green",
           "red"
          ]
         },
         "name": "",
         "showlegend": true,
         "type": "pie"
        }
       ],
       "layout": {
        "legend": {
         "tracegroupgap": 0
        },
        "margin": {
         "t": 60
        },
        "template": {
         "data": {
          "bar": [
           {
            "error_x": {
             "color": "#2a3f5f"
            },
            "error_y": {
             "color": "#2a3f5f"
            },
            "marker": {
             "line": {
              "color": "#E5ECF6",
              "width": 0.5
             },
             "pattern": {
              "fillmode": "overlay",
              "size": 10,
              "solidity": 0.2
             }
            },
            "type": "bar"
           }
          ],
          "barpolar": [
           {
            "marker": {
             "line": {
              "color": "#E5ECF6",
              "width": 0.5
             },
             "pattern": {
              "fillmode": "overlay",
              "size": 10,
              "solidity": 0.2
             }
            },
            "type": "barpolar"
           }
          ],
          "carpet": [
           {
            "aaxis": {
             "endlinecolor": "#2a3f5f",
             "gridcolor": "white",
             "linecolor": "white",
             "minorgridcolor": "white",
             "startlinecolor": "#2a3f5f"
            },
            "baxis": {
             "endlinecolor": "#2a3f5f",
             "gridcolor": "white",
             "linecolor": "white",
             "minorgridcolor": "white",
             "startlinecolor": "#2a3f5f"
            },
            "type": "carpet"
           }
          ],
          "choropleth": [
           {
            "colorbar": {
             "outlinewidth": 0,
             "ticks": ""
            },
            "type": "choropleth"
           }
          ],
          "contour": [
           {
            "colorbar": {
             "outlinewidth": 0,
             "ticks": ""
            },
            "colorscale": [
             [
              0,
              "#0d0887"
             ],
             [
              0.1111111111111111,
              "#46039f"
             ],
             [
              0.2222222222222222,
              "#7201a8"
             ],
             [
              0.3333333333333333,
              "#9c179e"
             ],
             [
              0.4444444444444444,
              "#bd3786"
             ],
             [
              0.5555555555555556,
              "#d8576b"
             ],
             [
              0.6666666666666666,
              "#ed7953"
             ],
             [
              0.7777777777777778,
              "#fb9f3a"
             ],
             [
              0.8888888888888888,
              "#fdca26"
             ],
             [
              1,
              "#f0f921"
             ]
            ],
            "type": "contour"
           }
          ],
          "contourcarpet": [
           {
            "colorbar": {
             "outlinewidth": 0,
             "ticks": ""
            },
            "type": "contourcarpet"
           }
          ],
          "heatmap": [
           {
            "colorbar": {
             "outlinewidth": 0,
             "ticks": ""
            },
            "colorscale": [
             [
              0,
              "#0d0887"
             ],
             [
              0.1111111111111111,
              "#46039f"
             ],
             [
              0.2222222222222222,
              "#7201a8"
             ],
             [
              0.3333333333333333,
              "#9c179e"
             ],
             [
              0.4444444444444444,
              "#bd3786"
             ],
             [
              0.5555555555555556,
              "#d8576b"
             ],
             [
              0.6666666666666666,
              "#ed7953"
             ],
             [
              0.7777777777777778,
              "#fb9f3a"
             ],
             [
              0.8888888888888888,
              "#fdca26"
             ],
             [
              1,
              "#f0f921"
             ]
            ],
            "type": "heatmap"
           }
          ],
          "heatmapgl": [
           {
            "colorbar": {
             "outlinewidth": 0,
             "ticks": ""
            },
            "colorscale": [
             [
              0,
              "#0d0887"
             ],
             [
              0.1111111111111111,
              "#46039f"
             ],
             [
              0.2222222222222222,
              "#7201a8"
             ],
             [
              0.3333333333333333,
              "#9c179e"
             ],
             [
              0.4444444444444444,
              "#bd3786"
             ],
             [
              0.5555555555555556,
              "#d8576b"
             ],
             [
              0.6666666666666666,
              "#ed7953"
             ],
             [
              0.7777777777777778,
              "#fb9f3a"
             ],
             [
              0.8888888888888888,
              "#fdca26"
             ],
             [
              1,
              "#f0f921"
             ]
            ],
            "type": "heatmapgl"
           }
          ],
          "histogram": [
           {
            "marker": {
             "pattern": {
              "fillmode": "overlay",
              "size": 10,
              "solidity": 0.2
             }
            },
            "type": "histogram"
           }
          ],
          "histogram2d": [
           {
            "colorbar": {
             "outlinewidth": 0,
             "ticks": ""
            },
            "colorscale": [
             [
              0,
              "#0d0887"
             ],
             [
              0.1111111111111111,
              "#46039f"
             ],
             [
              0.2222222222222222,
              "#7201a8"
             ],
             [
              0.3333333333333333,
              "#9c179e"
             ],
             [
              0.4444444444444444,
              "#bd3786"
             ],
             [
              0.5555555555555556,
              "#d8576b"
             ],
             [
              0.6666666666666666,
              "#ed7953"
             ],
             [
              0.7777777777777778,
              "#fb9f3a"
             ],
             [
              0.8888888888888888,
              "#fdca26"
             ],
             [
              1,
              "#f0f921"
             ]
            ],
            "type": "histogram2d"
           }
          ],
          "histogram2dcontour": [
           {
            "colorbar": {
             "outlinewidth": 0,
             "ticks": ""
            },
            "colorscale": [
             [
              0,
              "#0d0887"
             ],
             [
              0.1111111111111111,
              "#46039f"
             ],
             [
              0.2222222222222222,
              "#7201a8"
             ],
             [
              0.3333333333333333,
              "#9c179e"
             ],
             [
              0.4444444444444444,
              "#bd3786"
             ],
             [
              0.5555555555555556,
              "#d8576b"
             ],
             [
              0.6666666666666666,
              "#ed7953"
             ],
             [
              0.7777777777777778,
              "#fb9f3a"
             ],
             [
              0.8888888888888888,
              "#fdca26"
             ],
             [
              1,
              "#f0f921"
             ]
            ],
            "type": "histogram2dcontour"
           }
          ],
          "mesh3d": [
           {
            "colorbar": {
             "outlinewidth": 0,
             "ticks": ""
            },
            "type": "mesh3d"
           }
          ],
          "parcoords": [
           {
            "line": {
             "colorbar": {
              "outlinewidth": 0,
              "ticks": ""
             }
            },
            "type": "parcoords"
           }
          ],
          "pie": [
           {
            "automargin": true,
            "type": "pie"
           }
          ],
          "scatter": [
           {
            "marker": {
             "colorbar": {
              "outlinewidth": 0,
              "ticks": ""
             }
            },
            "type": "scatter"
           }
          ],
          "scatter3d": [
           {
            "line": {
             "colorbar": {
              "outlinewidth": 0,
              "ticks": ""
             }
            },
            "marker": {
             "colorbar": {
              "outlinewidth": 0,
              "ticks": ""
             }
            },
            "type": "scatter3d"
           }
          ],
          "scattercarpet": [
           {
            "marker": {
             "colorbar": {
              "outlinewidth": 0,
              "ticks": ""
             }
            },
            "type": "scattercarpet"
           }
          ],
          "scattergeo": [
           {
            "marker": {
             "colorbar": {
              "outlinewidth": 0,
              "ticks": ""
             }
            },
            "type": "scattergeo"
           }
          ],
          "scattergl": [
           {
            "marker": {
             "colorbar": {
              "outlinewidth": 0,
              "ticks": ""
             }
            },
            "type": "scattergl"
           }
          ],
          "scattermapbox": [
           {
            "marker": {
             "colorbar": {
              "outlinewidth": 0,
              "ticks": ""
             }
            },
            "type": "scattermapbox"
           }
          ],
          "scatterpolar": [
           {
            "marker": {
             "colorbar": {
              "outlinewidth": 0,
              "ticks": ""
             }
            },
            "type": "scatterpolar"
           }
          ],
          "scatterpolargl": [
           {
            "marker": {
             "colorbar": {
              "outlinewidth": 0,
              "ticks": ""
             }
            },
            "type": "scatterpolargl"
           }
          ],
          "scatterternary": [
           {
            "marker": {
             "colorbar": {
              "outlinewidth": 0,
              "ticks": ""
             }
            },
            "type": "scatterternary"
           }
          ],
          "surface": [
           {
            "colorbar": {
             "outlinewidth": 0,
             "ticks": ""
            },
            "colorscale": [
             [
              0,
              "#0d0887"
             ],
             [
              0.1111111111111111,
              "#46039f"
             ],
             [
              0.2222222222222222,
              "#7201a8"
             ],
             [
              0.3333333333333333,
              "#9c179e"
             ],
             [
              0.4444444444444444,
              "#bd3786"
             ],
             [
              0.5555555555555556,
              "#d8576b"
             ],
             [
              0.6666666666666666,
              "#ed7953"
             ],
             [
              0.7777777777777778,
              "#fb9f3a"
             ],
             [
              0.8888888888888888,
              "#fdca26"
             ],
             [
              1,
              "#f0f921"
             ]
            ],
            "type": "surface"
           }
          ],
          "table": [
           {
            "cells": {
             "fill": {
              "color": "#EBF0F8"
             },
             "line": {
              "color": "white"
             }
            },
            "header": {
             "fill": {
              "color": "#C8D4E3"
             },
             "line": {
              "color": "white"
             }
            },
            "type": "table"
           }
          ]
         },
         "layout": {
          "annotationdefaults": {
           "arrowcolor": "#2a3f5f",
           "arrowhead": 0,
           "arrowwidth": 1
          },
          "autotypenumbers": "strict",
          "coloraxis": {
           "colorbar": {
            "outlinewidth": 0,
            "ticks": ""
           }
          },
          "colorscale": {
           "diverging": [
            [
             0,
             "#8e0152"
            ],
            [
             0.1,
             "#c51b7d"
            ],
            [
             0.2,
             "#de77ae"
            ],
            [
             0.3,
             "#f1b6da"
            ],
            [
             0.4,
             "#fde0ef"
            ],
            [
             0.5,
             "#f7f7f7"
            ],
            [
             0.6,
             "#e6f5d0"
            ],
            [
             0.7,
             "#b8e186"
            ],
            [
             0.8,
             "#7fbc41"
            ],
            [
             0.9,
             "#4d9221"
            ],
            [
             1,
             "#276419"
            ]
           ],
           "sequential": [
            [
             0,
             "#0d0887"
            ],
            [
             0.1111111111111111,
             "#46039f"
            ],
            [
             0.2222222222222222,
             "#7201a8"
            ],
            [
             0.3333333333333333,
             "#9c179e"
            ],
            [
             0.4444444444444444,
             "#bd3786"
            ],
            [
             0.5555555555555556,
             "#d8576b"
            ],
            [
             0.6666666666666666,
             "#ed7953"
            ],
            [
             0.7777777777777778,
             "#fb9f3a"
            ],
            [
             0.8888888888888888,
             "#fdca26"
            ],
            [
             1,
             "#f0f921"
            ]
           ],
           "sequentialminus": [
            [
             0,
             "#0d0887"
            ],
            [
             0.1111111111111111,
             "#46039f"
            ],
            [
             0.2222222222222222,
             "#7201a8"
            ],
            [
             0.3333333333333333,
             "#9c179e"
            ],
            [
             0.4444444444444444,
             "#bd3786"
            ],
            [
             0.5555555555555556,
             "#d8576b"
            ],
            [
             0.6666666666666666,
             "#ed7953"
            ],
            [
             0.7777777777777778,
             "#fb9f3a"
            ],
            [
             0.8888888888888888,
             "#fdca26"
            ],
            [
             1,
             "#f0f921"
            ]
           ]
          },
          "colorway": [
           "#636efa",
           "#EF553B",
           "#00cc96",
           "#ab63fa",
           "#FFA15A",
           "#19d3f3",
           "#FF6692",
           "#B6E880",
           "#FF97FF",
           "#FECB52"
          ],
          "font": {
           "color": "#2a3f5f"
          },
          "geo": {
           "bgcolor": "white",
           "lakecolor": "white",
           "landcolor": "#E5ECF6",
           "showlakes": true,
           "showland": true,
           "subunitcolor": "white"
          },
          "hoverlabel": {
           "align": "left"
          },
          "hovermode": "closest",
          "mapbox": {
           "style": "light"
          },
          "paper_bgcolor": "white",
          "plot_bgcolor": "#E5ECF6",
          "polar": {
           "angularaxis": {
            "gridcolor": "white",
            "linecolor": "white",
            "ticks": ""
           },
           "bgcolor": "#E5ECF6",
           "radialaxis": {
            "gridcolor": "white",
            "linecolor": "white",
            "ticks": ""
           }
          },
          "scene": {
           "xaxis": {
            "backgroundcolor": "#E5ECF6",
            "gridcolor": "white",
            "gridwidth": 2,
            "linecolor": "white",
            "showbackground": true,
            "ticks": "",
            "zerolinecolor": "white"
           },
           "yaxis": {
            "backgroundcolor": "#E5ECF6",
            "gridcolor": "white",
            "gridwidth": 2,
            "linecolor": "white",
            "showbackground": true,
            "ticks": "",
            "zerolinecolor": "white"
           },
           "zaxis": {
            "backgroundcolor": "#E5ECF6",
            "gridcolor": "white",
            "gridwidth": 2,
            "linecolor": "white",
            "showbackground": true,
            "ticks": "",
            "zerolinecolor": "white"
           }
          },
          "shapedefaults": {
           "line": {
            "color": "#2a3f5f"
           }
          },
          "ternary": {
           "aaxis": {
            "gridcolor": "white",
            "linecolor": "white",
            "ticks": ""
           },
           "baxis": {
            "gridcolor": "white",
            "linecolor": "white",
            "ticks": ""
           },
           "bgcolor": "#E5ECF6",
           "caxis": {
            "gridcolor": "white",
            "linecolor": "white",
            "ticks": ""
           }
          },
          "title": {
           "x": 0.05
          },
          "xaxis": {
           "automargin": true,
           "gridcolor": "white",
           "linecolor": "white",
           "ticks": "",
           "title": {
            "standoff": 15
           },
           "zerolinecolor": "white",
           "zerolinewidth": 2
          },
          "yaxis": {
           "automargin": true,
           "gridcolor": "white",
           "linecolor": "white",
           "ticks": "",
           "title": {
            "standoff": 15
           },
           "zerolinecolor": "white",
           "zerolinewidth": 2
          }
         }
        }
       }
      },
      "text/html": [
       "<div>                            <div id=\"bced221f-bdbb-4094-80ca-f0df46b269f4\" class=\"plotly-graph-div\" style=\"height:525px; width:100%;\"></div>            <script type=\"text/javascript\">                require([\"plotly\"], function(Plotly) {                    window.PLOTLYENV=window.PLOTLYENV || {};                                    if (document.getElementById(\"bced221f-bdbb-4094-80ca-f0df46b269f4\")) {                    Plotly.newPlot(                        \"bced221f-bdbb-4094-80ca-f0df46b269f4\",                        [{\"customdata\":[[1],[0],[1],[1],[0],[1],[1],[1],[1],[1],[1],[0],[0],[1],[0],[1],[1],[1],[1],[1],[0],[0],[0],[1],[1],[0],[0],[0],[0],[1],[0],[0],[1],[1],[1],[0],[0],[0],[0],[1],[0],[1],[1],[1],[0],[0],[0],[1],[1],[0],[1],[1],[0],[1],[1],[1],[0],[0],[1],[0],[1],[1],[1],[1],[0],[0],[0],[1],[1],[1],[1],[1],[1],[0],[1],[1],[1],[0],[0],[0],[0],[1],[0],[0],[0],[1],[0],[1],[1],[1],[0],[1],[0],[1],[1],[0],[1],[0],[1],[1],[0],[1],[1],[1],[0],[0],[1],[0],[1],[1],[1],[1],[0],[1],[0],[1],[1],[1],[1],[1],[0],[0],[0],[1],[1],[0],[0],[1],[0],[0],[0],[1],[1],[0],[0],[0],[0],[1],[0],[0],[0],[1],[0],[1],[1],[1],[0],[0],[0],[1],[1],[0],[1],[0],[1],[1],[0],[1],[1],[1],[0],[0],[1],[0],[1],[1],[1],[0],[0],[0],[0],[1],[0],[1],[1],[1],[0],[0],[0],[1],[1],[0],[1],[1],[0],[1],[1],[1],[0],[0],[1],[0],[1],[1],[1],[1],[0],[0],[0],[1],[1],[1],[1],[1],[0],[1],[1],[1],[1],[1],[1],[0],[0],[1],[0],[1],[1],[1],[1],[0],[0],[0],[1],[1],[1],[1],[1],[0],[0],[0],[1],[1],[0],[0],[0],[0],[1],[0],[0],[0],[1],[0],[1],[1],[1],[1],[1],[1],[0],[0],[0],[1],[1],[1],[1],[1],[0],[0],[0],[1],[1],[0],[0],[1],[0],[0],[0],[1],[1],[0],[0],[0],[1],[1],[0],[0],[0],[1],[1],[0],[1],[0],[1],[1],[0],[1],[1],[1],[0],[0],[1],[0],[1],[1],[1],[0],[0],[0],[0],[1],[0],[1],[1],[1],[0],[0],[0],[1],[1],[0],[1],[1],[0],[1],[1],[1],[0],[0],[1],[0],[1],[1],[1],[1],[0],[0],[0],[1],[1],[1],[1],[1],[0],[1],[1],[0],[1],[1],[1],[0],[0],[1],[0],[1],[1],[1],[1],[0],[0],[0],[1],[1],[1],[1],[1],[0],[0],[0],[1],[1],[0],[0],[0],[0],[1],[0],[0],[0],[1],[0],[1],[1],[1],[1],[1],[1],[0],[0],[0],[1],[1],[1],[1],[1],[0],[0],[0],[1],[1],[1],[1],[1],[0],[0],[0],[1],[1],[0],[0],[0],[0],[1],[0],[0],[0],[1],[0],[1],[1],[1],[0],[0],[0],[1],[1],[0],[1],[0],[1],[1],[0],[1],[1],[1],[0],[0],[1],[0],[1],[1],[1],[1],[0],[0],[0],[1],[1],[1],[1],[1],[0],[0],[0],[1],[1],[0],[0],[1],[0],[0],[0],[1],[1],[0],[0],[0],[1],[1],[0],[1],[0],[1],[1],[0],[1],[1],[1],[0],[0],[1],[0],[1],[1],[1],[1],[0],[0],[0],[1],[1],[1],[1],[1],[0],[0],[0],[1],[1],[0],[0],[1],[0],[0],[0],[1],[1],[0],[0],[0],[0],[1],[0],[0],[0],[1],[0],[1],[1],[1],[0],[0],[0],[1],[1],[0],[1],[0],[1],[1],[0],[1],[1],[1],[0],[0],[1],[0],[1],[1],[1],[0],[0],[0],[0],[1],[0],[1],[1],[1],[0],[0],[0],[1],[1],[0],[1],[1],[1],[1],[1],[1],[1],[1],[0],[0],[0],[1],[1],[1],[1],[1],[0],[0],[0],[1],[1],[0],[0],[0],[0],[1],[0],[0],[0],[1],[0],[1],[1],[1],[1],[1],[1],[0],[1],[0],[1],[1],[1],[0],[0],[0],[1],[1],[0],[1],[0],[1],[1],[0],[1],[1],[1],[0],[0],[1],[0],[1],[1],[1],[0],[0],[0],[0],[1],[0],[1],[1],[1],[0],[0],[0],[1],[1],[0],[1],[1],[1],[1],[1],[1],[1],[1],[0],[0],[0],[1],[1],[1],[1],[1],[0],[0],[0],[1],[1],[0],[0],[0],[0],[1],[0],[0],[0],[1],[0],[1],[1],[1],[0],[0],[0],[1],[1],[1],[1],[1],[0],[1],[1],[0],[1],[1],[1],[0],[0],[1],[0],[1],[1],[1],[1],[0],[0],[0],[1],[1],[1],[1],[1],[0],[0],[0],[1],[1],[0],[0],[0],[0],[1],[0],[0],[0],[1],[0],[1],[1],[1],[1],[1],[1],[0],[0],[0],[1],[1],[1],[1],[1],[0],[0],[0],[1],[1],[1],[1],[1],[0],[0],[0],[1],[1],[0],[1],[1],[1],[0],[0],[1],[0],[1],[1],[1],[0],[0],[0],[0],[1],[0],[1],[1],[1],[0],[0],[0],[1],[1],[0],[1],[1],[0],[1],[1],[1],[0],[0],[1],[0],[1],[1],[1],[1],[0],[0],[0],[1],[1],[1],[1],[1],[0],[1],[1],[0],[1],[1],[1],[0],[0],[1],[0],[1],[1],[1],[1],[0],[0],[0],[1],[1],[1],[1],[1],[0],[0],[0],[1],[1],[0],[0],[0],[0],[1],[0],[0],[0],[1],[0],[1],[1],[1],[1],[0],[1],[0],[0],[0],[1],[1],[1],[1],[1],[0],[0],[0],[1],[1],[1],[1],[1],[0],[0],[0],[1],[1],[0],[0],[0],[0],[1],[0],[0],[0],[1],[0],[1],[1],[1],[0],[0],[0],[1],[1],[1],[1],[0],[0],[0],[1],[1],[0],[1],[1],[1],[1],[1],[1],[1],[1],[0],[0],[0],[1],[1],[1],[1],[1],[0],[0],[0],[1],[1],[1],[0],[0],[0],[1],[0],[1],[1],[0],[0],[0],[0],[1],[1],[1],[1],[1],[0],[1],[1],[0],[1],[1],[1],[0],[0],[1],[1],[0],[0],[0],[0],[1],[0],[1],[1],[1],[0],[0],[0],[1],[1],[0],[1],[1],[0],[1],[1],[1],[0],[0],[1],[1],[1],[0],[0],[0],[1],[1],[0],[0],[0],[0],[1],[0],[0],[1],[1],[0],[1],[1],[1],[1],[1],[1],[0],[1],[1],[1],[1],[1],[1],[0],[0],[0],[1],[1],[1],[1],[1],[0],[0],[0],[1],[1],[0],[0],[0],[0],[1],[0],[0],[0],[1],[0],[1],[1],[0],[0],[0],[0],[1],[1],[1],[1],[1],[0],[1],[1],[1],[0],[0],[0],[1],[1],[1],[1],[1],[0],[0],[0],[1],[1],[0],[0],[0],[0],[1],[0],[0],[0],[1],[0],[1],[1],[1],[0],[0],[0],[1],[1],[1],[1],[0],[0],[0],[1],[1],[0],[1],[1],[1],[1],[1],[1],[1],[1],[0]],\"domain\":{\"x\":[0.0,1.0],\"y\":[0.0,1.0]},\"hovertemplate\":\"Taste=%{customdata[0]}<extra></extra>\",\"labels\":[1,0,1,1,0,1,1,1,1,1,1,0,0,1,0,1,1,1,1,1,0,0,0,1,1,0,0,0,0,1,0,0,1,1,1,0,0,0,0,1,0,1,1,1,0,0,0,1,1,0,1,1,0,1,1,1,0,0,1,0,1,1,1,1,0,0,0,1,1,1,1,1,1,0,1,1,1,0,0,0,0,1,0,0,0,1,0,1,1,1,0,1,0,1,1,0,1,0,1,1,0,1,1,1,0,0,1,0,1,1,1,1,0,1,0,1,1,1,1,1,0,0,0,1,1,0,0,1,0,0,0,1,1,0,0,0,0,1,0,0,0,1,0,1,1,1,0,0,0,1,1,0,1,0,1,1,0,1,1,1,0,0,1,0,1,1,1,0,0,0,0,1,0,1,1,1,0,0,0,1,1,0,1,1,0,1,1,1,0,0,1,0,1,1,1,1,0,0,0,1,1,1,1,1,0,1,1,1,1,1,1,0,0,1,0,1,1,1,1,0,0,0,1,1,1,1,1,0,0,0,1,1,0,0,0,0,1,0,0,0,1,0,1,1,1,1,1,1,0,0,0,1,1,1,1,1,0,0,0,1,1,0,0,1,0,0,0,1,1,0,0,0,1,1,0,0,0,1,1,0,1,0,1,1,0,1,1,1,0,0,1,0,1,1,1,0,0,0,0,1,0,1,1,1,0,0,0,1,1,0,1,1,0,1,1,1,0,0,1,0,1,1,1,1,0,0,0,1,1,1,1,1,0,1,1,0,1,1,1,0,0,1,0,1,1,1,1,0,0,0,1,1,1,1,1,0,0,0,1,1,0,0,0,0,1,0,0,0,1,0,1,1,1,1,1,1,0,0,0,1,1,1,1,1,0,0,0,1,1,1,1,1,0,0,0,1,1,0,0,0,0,1,0,0,0,1,0,1,1,1,0,0,0,1,1,0,1,0,1,1,0,1,1,1,0,0,1,0,1,1,1,1,0,0,0,1,1,1,1,1,0,0,0,1,1,0,0,1,0,0,0,1,1,0,0,0,1,1,0,1,0,1,1,0,1,1,1,0,0,1,0,1,1,1,1,0,0,0,1,1,1,1,1,0,0,0,1,1,0,0,1,0,0,0,1,1,0,0,0,0,1,0,0,0,1,0,1,1,1,0,0,0,1,1,0,1,0,1,1,0,1,1,1,0,0,1,0,1,1,1,0,0,0,0,1,0,1,1,1,0,0,0,1,1,0,1,1,1,1,1,1,1,1,0,0,0,1,1,1,1,1,0,0,0,1,1,0,0,0,0,1,0,0,0,1,0,1,1,1,1,1,1,0,1,0,1,1,1,0,0,0,1,1,0,1,0,1,1,0,1,1,1,0,0,1,0,1,1,1,0,0,0,0,1,0,1,1,1,0,0,0,1,1,0,1,1,1,1,1,1,1,1,0,0,0,1,1,1,1,1,0,0,0,1,1,0,0,0,0,1,0,0,0,1,0,1,1,1,0,0,0,1,1,1,1,1,0,1,1,0,1,1,1,0,0,1,0,1,1,1,1,0,0,0,1,1,1,1,1,0,0,0,1,1,0,0,0,0,1,0,0,0,1,0,1,1,1,1,1,1,0,0,0,1,1,1,1,1,0,0,0,1,1,1,1,1,0,0,0,1,1,0,1,1,1,0,0,1,0,1,1,1,0,0,0,0,1,0,1,1,1,0,0,0,1,1,0,1,1,0,1,1,1,0,0,1,0,1,1,1,1,0,0,0,1,1,1,1,1,0,1,1,0,1,1,1,0,0,1,0,1,1,1,1,0,0,0,1,1,1,1,1,0,0,0,1,1,0,0,0,0,1,0,0,0,1,0,1,1,1,1,0,1,0,0,0,1,1,1,1,1,0,0,0,1,1,1,1,1,0,0,0,1,1,0,0,0,0,1,0,0,0,1,0,1,1,1,0,0,0,1,1,1,1,0,0,0,1,1,0,1,1,1,1,1,1,1,1,0,0,0,1,1,1,1,1,0,0,0,1,1,1,0,0,0,1,0,1,1,0,0,0,0,1,1,1,1,1,0,1,1,0,1,1,1,0,0,1,1,0,0,0,0,1,0,1,1,1,0,0,0,1,1,0,1,1,0,1,1,1,0,0,1,1,1,0,0,0,1,1,0,0,0,0,1,0,0,1,1,0,1,1,1,1,1,1,0,1,1,1,1,1,1,0,0,0,1,1,1,1,1,0,0,0,1,1,0,0,0,0,1,0,0,0,1,0,1,1,0,0,0,0,1,1,1,1,1,0,1,1,1,0,0,0,1,1,1,1,1,0,0,0,1,1,0,0,0,0,1,0,0,0,1,0,1,1,1,0,0,0,1,1,1,1,0,0,0,1,1,0,1,1,1,1,1,1,1,1,0],\"legendgroup\":\"\",\"marker\":{\"colors\":[\"green\",\"red\",\"green\",\"green\",\"red\",\"green\",\"green\",\"green\",\"green\",\"green\",\"green\",\"red\",\"red\",\"green\",\"red\",\"green\",\"green\",\"green\",\"green\",\"green\",\"red\",\"red\",\"red\",\"green\",\"green\",\"red\",\"red\",\"red\",\"red\",\"green\",\"red\",\"red\",\"green\",\"green\",\"green\",\"red\",\"red\",\"red\",\"red\",\"green\",\"red\",\"green\",\"green\",\"green\",\"red\",\"red\",\"red\",\"green\",\"green\",\"red\",\"green\",\"green\",\"red\",\"green\",\"green\",\"green\",\"red\",\"red\",\"green\",\"red\",\"green\",\"green\",\"green\",\"green\",\"red\",\"red\",\"red\",\"green\",\"green\",\"green\",\"green\",\"green\",\"green\",\"red\",\"green\",\"green\",\"green\",\"red\",\"red\",\"red\",\"red\",\"green\",\"red\",\"red\",\"red\",\"green\",\"red\",\"green\",\"green\",\"green\",\"red\",\"green\",\"red\",\"green\",\"green\",\"red\",\"green\",\"red\",\"green\",\"green\",\"red\",\"green\",\"green\",\"green\",\"red\",\"red\",\"green\",\"red\",\"green\",\"green\",\"green\",\"green\",\"red\",\"green\",\"red\",\"green\",\"green\",\"green\",\"green\",\"green\",\"red\",\"red\",\"red\",\"green\",\"green\",\"red\",\"red\",\"green\",\"red\",\"red\",\"red\",\"green\",\"green\",\"red\",\"red\",\"red\",\"red\",\"green\",\"red\",\"red\",\"red\",\"green\",\"red\",\"green\",\"green\",\"green\",\"red\",\"red\",\"red\",\"green\",\"green\",\"red\",\"green\",\"red\",\"green\",\"green\",\"red\",\"green\",\"green\",\"green\",\"red\",\"red\",\"green\",\"red\",\"green\",\"green\",\"green\",\"red\",\"red\",\"red\",\"red\",\"green\",\"red\",\"green\",\"green\",\"green\",\"red\",\"red\",\"red\",\"green\",\"green\",\"red\",\"green\",\"green\",\"red\",\"green\",\"green\",\"green\",\"red\",\"red\",\"green\",\"red\",\"green\",\"green\",\"green\",\"green\",\"red\",\"red\",\"red\",\"green\",\"green\",\"green\",\"green\",\"green\",\"red\",\"green\",\"green\",\"green\",\"green\",\"green\",\"green\",\"red\",\"red\",\"green\",\"red\",\"green\",\"green\",\"green\",\"green\",\"red\",\"red\",\"red\",\"green\",\"green\",\"green\",\"green\",\"green\",\"red\",\"red\",\"red\",\"green\",\"green\",\"red\",\"red\",\"red\",\"red\",\"green\",\"red\",\"red\",\"red\",\"green\",\"red\",\"green\",\"green\",\"green\",\"green\",\"green\",\"green\",\"red\",\"red\",\"red\",\"green\",\"green\",\"green\",\"green\",\"green\",\"red\",\"red\",\"red\",\"green\",\"green\",\"red\",\"red\",\"green\",\"red\",\"red\",\"red\",\"green\",\"green\",\"red\",\"red\",\"red\",\"green\",\"green\",\"red\",\"red\",\"red\",\"green\",\"green\",\"red\",\"green\",\"red\",\"green\",\"green\",\"red\",\"green\",\"green\",\"green\",\"red\",\"red\",\"green\",\"red\",\"green\",\"green\",\"green\",\"red\",\"red\",\"red\",\"red\",\"green\",\"red\",\"green\",\"green\",\"green\",\"red\",\"red\",\"red\",\"green\",\"green\",\"red\",\"green\",\"green\",\"red\",\"green\",\"green\",\"green\",\"red\",\"red\",\"green\",\"red\",\"green\",\"green\",\"green\",\"green\",\"red\",\"red\",\"red\",\"green\",\"green\",\"green\",\"green\",\"green\",\"red\",\"green\",\"green\",\"red\",\"green\",\"green\",\"green\",\"red\",\"red\",\"green\",\"red\",\"green\",\"green\",\"green\",\"green\",\"red\",\"red\",\"red\",\"green\",\"green\",\"green\",\"green\",\"green\",\"red\",\"red\",\"red\",\"green\",\"green\",\"red\",\"red\",\"red\",\"red\",\"green\",\"red\",\"red\",\"red\",\"green\",\"red\",\"green\",\"green\",\"green\",\"green\",\"green\",\"green\",\"red\",\"red\",\"red\",\"green\",\"green\",\"green\",\"green\",\"green\",\"red\",\"red\",\"red\",\"green\",\"green\",\"green\",\"green\",\"green\",\"red\",\"red\",\"red\",\"green\",\"green\",\"red\",\"red\",\"red\",\"red\",\"green\",\"red\",\"red\",\"red\",\"green\",\"red\",\"green\",\"green\",\"green\",\"red\",\"red\",\"red\",\"green\",\"green\",\"red\",\"green\",\"red\",\"green\",\"green\",\"red\",\"green\",\"green\",\"green\",\"red\",\"red\",\"green\",\"red\",\"green\",\"green\",\"green\",\"green\",\"red\",\"red\",\"red\",\"green\",\"green\",\"green\",\"green\",\"green\",\"red\",\"red\",\"red\",\"green\",\"green\",\"red\",\"red\",\"green\",\"red\",\"red\",\"red\",\"green\",\"green\",\"red\",\"red\",\"red\",\"green\",\"green\",\"red\",\"green\",\"red\",\"green\",\"green\",\"red\",\"green\",\"green\",\"green\",\"red\",\"red\",\"green\",\"red\",\"green\",\"green\",\"green\",\"green\",\"red\",\"red\",\"red\",\"green\",\"green\",\"green\",\"green\",\"green\",\"red\",\"red\",\"red\",\"green\",\"green\",\"red\",\"red\",\"green\",\"red\",\"red\",\"red\",\"green\",\"green\",\"red\",\"red\",\"red\",\"red\",\"green\",\"red\",\"red\",\"red\",\"green\",\"red\",\"green\",\"green\",\"green\",\"red\",\"red\",\"red\",\"green\",\"green\",\"red\",\"green\",\"red\",\"green\",\"green\",\"red\",\"green\",\"green\",\"green\",\"red\",\"red\",\"green\",\"red\",\"green\",\"green\",\"green\",\"red\",\"red\",\"red\",\"red\",\"green\",\"red\",\"green\",\"green\",\"green\",\"red\",\"red\",\"red\",\"green\",\"green\",\"red\",\"green\",\"green\",\"green\",\"green\",\"green\",\"green\",\"green\",\"green\",\"red\",\"red\",\"red\",\"green\",\"green\",\"green\",\"green\",\"green\",\"red\",\"red\",\"red\",\"green\",\"green\",\"red\",\"red\",\"red\",\"red\",\"green\",\"red\",\"red\",\"red\",\"green\",\"red\",\"green\",\"green\",\"green\",\"green\",\"green\",\"green\",\"red\",\"green\",\"red\",\"green\",\"green\",\"green\",\"red\",\"red\",\"red\",\"green\",\"green\",\"red\",\"green\",\"red\",\"green\",\"green\",\"red\",\"green\",\"green\",\"green\",\"red\",\"red\",\"green\",\"red\",\"green\",\"green\",\"green\",\"red\",\"red\",\"red\",\"red\",\"green\",\"red\",\"green\",\"green\",\"green\",\"red\",\"red\",\"red\",\"green\",\"green\",\"red\",\"green\",\"green\",\"green\",\"green\",\"green\",\"green\",\"green\",\"green\",\"red\",\"red\",\"red\",\"green\",\"green\",\"green\",\"green\",\"green\",\"red\",\"red\",\"red\",\"green\",\"green\",\"red\",\"red\",\"red\",\"red\",\"green\",\"red\",\"red\",\"red\",\"green\",\"red\",\"green\",\"green\",\"green\",\"red\",\"red\",\"red\",\"green\",\"green\",\"green\",\"green\",\"green\",\"red\",\"green\",\"green\",\"red\",\"green\",\"green\",\"green\",\"red\",\"red\",\"green\",\"red\",\"green\",\"green\",\"green\",\"green\",\"red\",\"red\",\"red\",\"green\",\"green\",\"green\",\"green\",\"green\",\"red\",\"red\",\"red\",\"green\",\"green\",\"red\",\"red\",\"red\",\"red\",\"green\",\"red\",\"red\",\"red\",\"green\",\"red\",\"green\",\"green\",\"green\",\"green\",\"green\",\"green\",\"red\",\"red\",\"red\",\"green\",\"green\",\"green\",\"green\",\"green\",\"red\",\"red\",\"red\",\"green\",\"green\",\"green\",\"green\",\"green\",\"red\",\"red\",\"red\",\"green\",\"green\",\"red\",\"green\",\"green\",\"green\",\"red\",\"red\",\"green\",\"red\",\"green\",\"green\",\"green\",\"red\",\"red\",\"red\",\"red\",\"green\",\"red\",\"green\",\"green\",\"green\",\"red\",\"red\",\"red\",\"green\",\"green\",\"red\",\"green\",\"green\",\"red\",\"green\",\"green\",\"green\",\"red\",\"red\",\"green\",\"red\",\"green\",\"green\",\"green\",\"green\",\"red\",\"red\",\"red\",\"green\",\"green\",\"green\",\"green\",\"green\",\"red\",\"green\",\"green\",\"red\",\"green\",\"green\",\"green\",\"red\",\"red\",\"green\",\"red\",\"green\",\"green\",\"green\",\"green\",\"red\",\"red\",\"red\",\"green\",\"green\",\"green\",\"green\",\"green\",\"red\",\"red\",\"red\",\"green\",\"green\",\"red\",\"red\",\"red\",\"red\",\"green\",\"red\",\"red\",\"red\",\"green\",\"red\",\"green\",\"green\",\"green\",\"green\",\"red\",\"green\",\"red\",\"red\",\"red\",\"green\",\"green\",\"green\",\"green\",\"green\",\"red\",\"red\",\"red\",\"green\",\"green\",\"green\",\"green\",\"green\",\"red\",\"red\",\"red\",\"green\",\"green\",\"red\",\"red\",\"red\",\"red\",\"green\",\"red\",\"red\",\"red\",\"green\",\"red\",\"green\",\"green\",\"green\",\"red\",\"red\",\"red\",\"green\",\"green\",\"green\",\"green\",\"red\",\"red\",\"red\",\"green\",\"green\",\"red\",\"green\",\"green\",\"green\",\"green\",\"green\",\"green\",\"green\",\"green\",\"red\",\"red\",\"red\",\"green\",\"green\",\"green\",\"green\",\"green\",\"red\",\"red\",\"red\",\"green\",\"green\",\"green\",\"red\",\"red\",\"red\",\"green\",\"red\",\"green\",\"green\",\"red\",\"red\",\"red\",\"red\",\"green\",\"green\",\"green\",\"green\",\"green\",\"red\",\"green\",\"green\",\"red\",\"green\",\"green\",\"green\",\"red\",\"red\",\"green\",\"green\",\"red\",\"red\",\"red\",\"red\",\"green\",\"red\",\"green\",\"green\",\"green\",\"red\",\"red\",\"red\",\"green\",\"green\",\"red\",\"green\",\"green\",\"red\",\"green\",\"green\",\"green\",\"red\",\"red\",\"green\",\"green\",\"green\",\"red\",\"red\",\"red\",\"green\",\"green\",\"red\",\"red\",\"red\",\"red\",\"green\",\"red\",\"red\",\"green\",\"green\",\"red\",\"green\",\"green\",\"green\",\"green\",\"green\",\"green\",\"red\",\"green\",\"green\",\"green\",\"green\",\"green\",\"green\",\"red\",\"red\",\"red\",\"green\",\"green\",\"green\",\"green\",\"green\",\"red\",\"red\",\"red\",\"green\",\"green\",\"red\",\"red\",\"red\",\"red\",\"green\",\"red\",\"red\",\"red\",\"green\",\"red\",\"green\",\"green\",\"red\",\"red\",\"red\",\"red\",\"green\",\"green\",\"green\",\"green\",\"green\",\"red\",\"green\",\"green\",\"green\",\"red\",\"red\",\"red\",\"green\",\"green\",\"green\",\"green\",\"green\",\"red\",\"red\",\"red\",\"green\",\"green\",\"red\",\"red\",\"red\",\"red\",\"green\",\"red\",\"red\",\"red\",\"green\",\"red\",\"green\",\"green\",\"green\",\"red\",\"red\",\"red\",\"green\",\"green\",\"green\",\"green\",\"red\",\"red\",\"red\",\"green\",\"green\",\"red\",\"green\",\"green\",\"green\",\"green\",\"green\",\"green\",\"green\",\"green\",\"red\"]},\"name\":\"\",\"showlegend\":true,\"type\":\"pie\"}],                        {\"template\":{\"data\":{\"bar\":[{\"error_x\":{\"color\":\"#2a3f5f\"},\"error_y\":{\"color\":\"#2a3f5f\"},\"marker\":{\"line\":{\"color\":\"#E5ECF6\",\"width\":0.5},\"pattern\":{\"fillmode\":\"overlay\",\"size\":10,\"solidity\":0.2}},\"type\":\"bar\"}],\"barpolar\":[{\"marker\":{\"line\":{\"color\":\"#E5ECF6\",\"width\":0.5},\"pattern\":{\"fillmode\":\"overlay\",\"size\":10,\"solidity\":0.2}},\"type\":\"barpolar\"}],\"carpet\":[{\"aaxis\":{\"endlinecolor\":\"#2a3f5f\",\"gridcolor\":\"white\",\"linecolor\":\"white\",\"minorgridcolor\":\"white\",\"startlinecolor\":\"#2a3f5f\"},\"baxis\":{\"endlinecolor\":\"#2a3f5f\",\"gridcolor\":\"white\",\"linecolor\":\"white\",\"minorgridcolor\":\"white\",\"startlinecolor\":\"#2a3f5f\"},\"type\":\"carpet\"}],\"choropleth\":[{\"colorbar\":{\"outlinewidth\":0,\"ticks\":\"\"},\"type\":\"choropleth\"}],\"contour\":[{\"colorbar\":{\"outlinewidth\":0,\"ticks\":\"\"},\"colorscale\":[[0.0,\"#0d0887\"],[0.1111111111111111,\"#46039f\"],[0.2222222222222222,\"#7201a8\"],[0.3333333333333333,\"#9c179e\"],[0.4444444444444444,\"#bd3786\"],[0.5555555555555556,\"#d8576b\"],[0.6666666666666666,\"#ed7953\"],[0.7777777777777778,\"#fb9f3a\"],[0.8888888888888888,\"#fdca26\"],[1.0,\"#f0f921\"]],\"type\":\"contour\"}],\"contourcarpet\":[{\"colorbar\":{\"outlinewidth\":0,\"ticks\":\"\"},\"type\":\"contourcarpet\"}],\"heatmap\":[{\"colorbar\":{\"outlinewidth\":0,\"ticks\":\"\"},\"colorscale\":[[0.0,\"#0d0887\"],[0.1111111111111111,\"#46039f\"],[0.2222222222222222,\"#7201a8\"],[0.3333333333333333,\"#9c179e\"],[0.4444444444444444,\"#bd3786\"],[0.5555555555555556,\"#d8576b\"],[0.6666666666666666,\"#ed7953\"],[0.7777777777777778,\"#fb9f3a\"],[0.8888888888888888,\"#fdca26\"],[1.0,\"#f0f921\"]],\"type\":\"heatmap\"}],\"heatmapgl\":[{\"colorbar\":{\"outlinewidth\":0,\"ticks\":\"\"},\"colorscale\":[[0.0,\"#0d0887\"],[0.1111111111111111,\"#46039f\"],[0.2222222222222222,\"#7201a8\"],[0.3333333333333333,\"#9c179e\"],[0.4444444444444444,\"#bd3786\"],[0.5555555555555556,\"#d8576b\"],[0.6666666666666666,\"#ed7953\"],[0.7777777777777778,\"#fb9f3a\"],[0.8888888888888888,\"#fdca26\"],[1.0,\"#f0f921\"]],\"type\":\"heatmapgl\"}],\"histogram\":[{\"marker\":{\"pattern\":{\"fillmode\":\"overlay\",\"size\":10,\"solidity\":0.2}},\"type\":\"histogram\"}],\"histogram2d\":[{\"colorbar\":{\"outlinewidth\":0,\"ticks\":\"\"},\"colorscale\":[[0.0,\"#0d0887\"],[0.1111111111111111,\"#46039f\"],[0.2222222222222222,\"#7201a8\"],[0.3333333333333333,\"#9c179e\"],[0.4444444444444444,\"#bd3786\"],[0.5555555555555556,\"#d8576b\"],[0.6666666666666666,\"#ed7953\"],[0.7777777777777778,\"#fb9f3a\"],[0.8888888888888888,\"#fdca26\"],[1.0,\"#f0f921\"]],\"type\":\"histogram2d\"}],\"histogram2dcontour\":[{\"colorbar\":{\"outlinewidth\":0,\"ticks\":\"\"},\"colorscale\":[[0.0,\"#0d0887\"],[0.1111111111111111,\"#46039f\"],[0.2222222222222222,\"#7201a8\"],[0.3333333333333333,\"#9c179e\"],[0.4444444444444444,\"#bd3786\"],[0.5555555555555556,\"#d8576b\"],[0.6666666666666666,\"#ed7953\"],[0.7777777777777778,\"#fb9f3a\"],[0.8888888888888888,\"#fdca26\"],[1.0,\"#f0f921\"]],\"type\":\"histogram2dcontour\"}],\"mesh3d\":[{\"colorbar\":{\"outlinewidth\":0,\"ticks\":\"\"},\"type\":\"mesh3d\"}],\"parcoords\":[{\"line\":{\"colorbar\":{\"outlinewidth\":0,\"ticks\":\"\"}},\"type\":\"parcoords\"}],\"pie\":[{\"automargin\":true,\"type\":\"pie\"}],\"scatter\":[{\"marker\":{\"colorbar\":{\"outlinewidth\":0,\"ticks\":\"\"}},\"type\":\"scatter\"}],\"scatter3d\":[{\"line\":{\"colorbar\":{\"outlinewidth\":0,\"ticks\":\"\"}},\"marker\":{\"colorbar\":{\"outlinewidth\":0,\"ticks\":\"\"}},\"type\":\"scatter3d\"}],\"scattercarpet\":[{\"marker\":{\"colorbar\":{\"outlinewidth\":0,\"ticks\":\"\"}},\"type\":\"scattercarpet\"}],\"scattergeo\":[{\"marker\":{\"colorbar\":{\"outlinewidth\":0,\"ticks\":\"\"}},\"type\":\"scattergeo\"}],\"scattergl\":[{\"marker\":{\"colorbar\":{\"outlinewidth\":0,\"ticks\":\"\"}},\"type\":\"scattergl\"}],\"scattermapbox\":[{\"marker\":{\"colorbar\":{\"outlinewidth\":0,\"ticks\":\"\"}},\"type\":\"scattermapbox\"}],\"scatterpolar\":[{\"marker\":{\"colorbar\":{\"outlinewidth\":0,\"ticks\":\"\"}},\"type\":\"scatterpolar\"}],\"scatterpolargl\":[{\"marker\":{\"colorbar\":{\"outlinewidth\":0,\"ticks\":\"\"}},\"type\":\"scatterpolargl\"}],\"scatterternary\":[{\"marker\":{\"colorbar\":{\"outlinewidth\":0,\"ticks\":\"\"}},\"type\":\"scatterternary\"}],\"surface\":[{\"colorbar\":{\"outlinewidth\":0,\"ticks\":\"\"},\"colorscale\":[[0.0,\"#0d0887\"],[0.1111111111111111,\"#46039f\"],[0.2222222222222222,\"#7201a8\"],[0.3333333333333333,\"#9c179e\"],[0.4444444444444444,\"#bd3786\"],[0.5555555555555556,\"#d8576b\"],[0.6666666666666666,\"#ed7953\"],[0.7777777777777778,\"#fb9f3a\"],[0.8888888888888888,\"#fdca26\"],[1.0,\"#f0f921\"]],\"type\":\"surface\"}],\"table\":[{\"cells\":{\"fill\":{\"color\":\"#EBF0F8\"},\"line\":{\"color\":\"white\"}},\"header\":{\"fill\":{\"color\":\"#C8D4E3\"},\"line\":{\"color\":\"white\"}},\"type\":\"table\"}]},\"layout\":{\"annotationdefaults\":{\"arrowcolor\":\"#2a3f5f\",\"arrowhead\":0,\"arrowwidth\":1},\"autotypenumbers\":\"strict\",\"coloraxis\":{\"colorbar\":{\"outlinewidth\":0,\"ticks\":\"\"}},\"colorscale\":{\"diverging\":[[0,\"#8e0152\"],[0.1,\"#c51b7d\"],[0.2,\"#de77ae\"],[0.3,\"#f1b6da\"],[0.4,\"#fde0ef\"],[0.5,\"#f7f7f7\"],[0.6,\"#e6f5d0\"],[0.7,\"#b8e186\"],[0.8,\"#7fbc41\"],[0.9,\"#4d9221\"],[1,\"#276419\"]],\"sequential\":[[0.0,\"#0d0887\"],[0.1111111111111111,\"#46039f\"],[0.2222222222222222,\"#7201a8\"],[0.3333333333333333,\"#9c179e\"],[0.4444444444444444,\"#bd3786\"],[0.5555555555555556,\"#d8576b\"],[0.6666666666666666,\"#ed7953\"],[0.7777777777777778,\"#fb9f3a\"],[0.8888888888888888,\"#fdca26\"],[1.0,\"#f0f921\"]],\"sequentialminus\":[[0.0,\"#0d0887\"],[0.1111111111111111,\"#46039f\"],[0.2222222222222222,\"#7201a8\"],[0.3333333333333333,\"#9c179e\"],[0.4444444444444444,\"#bd3786\"],[0.5555555555555556,\"#d8576b\"],[0.6666666666666666,\"#ed7953\"],[0.7777777777777778,\"#fb9f3a\"],[0.8888888888888888,\"#fdca26\"],[1.0,\"#f0f921\"]]},\"colorway\":[\"#636efa\",\"#EF553B\",\"#00cc96\",\"#ab63fa\",\"#FFA15A\",\"#19d3f3\",\"#FF6692\",\"#B6E880\",\"#FF97FF\",\"#FECB52\"],\"font\":{\"color\":\"#2a3f5f\"},\"geo\":{\"bgcolor\":\"white\",\"lakecolor\":\"white\",\"landcolor\":\"#E5ECF6\",\"showlakes\":true,\"showland\":true,\"subunitcolor\":\"white\"},\"hoverlabel\":{\"align\":\"left\"},\"hovermode\":\"closest\",\"mapbox\":{\"style\":\"light\"},\"paper_bgcolor\":\"white\",\"plot_bgcolor\":\"#E5ECF6\",\"polar\":{\"angularaxis\":{\"gridcolor\":\"white\",\"linecolor\":\"white\",\"ticks\":\"\"},\"bgcolor\":\"#E5ECF6\",\"radialaxis\":{\"gridcolor\":\"white\",\"linecolor\":\"white\",\"ticks\":\"\"}},\"scene\":{\"xaxis\":{\"backgroundcolor\":\"#E5ECF6\",\"gridcolor\":\"white\",\"gridwidth\":2,\"linecolor\":\"white\",\"showbackground\":true,\"ticks\":\"\",\"zerolinecolor\":\"white\"},\"yaxis\":{\"backgroundcolor\":\"#E5ECF6\",\"gridcolor\":\"white\",\"gridwidth\":2,\"linecolor\":\"white\",\"showbackground\":true,\"ticks\":\"\",\"zerolinecolor\":\"white\"},\"zaxis\":{\"backgroundcolor\":\"#E5ECF6\",\"gridcolor\":\"white\",\"gridwidth\":2,\"linecolor\":\"white\",\"showbackground\":true,\"ticks\":\"\",\"zerolinecolor\":\"white\"}},\"shapedefaults\":{\"line\":{\"color\":\"#2a3f5f\"}},\"ternary\":{\"aaxis\":{\"gridcolor\":\"white\",\"linecolor\":\"white\",\"ticks\":\"\"},\"baxis\":{\"gridcolor\":\"white\",\"linecolor\":\"white\",\"ticks\":\"\"},\"bgcolor\":\"#E5ECF6\",\"caxis\":{\"gridcolor\":\"white\",\"linecolor\":\"white\",\"ticks\":\"\"}},\"title\":{\"x\":0.05},\"xaxis\":{\"automargin\":true,\"gridcolor\":\"white\",\"linecolor\":\"white\",\"ticks\":\"\",\"title\":{\"standoff\":15},\"zerolinecolor\":\"white\",\"zerolinewidth\":2},\"yaxis\":{\"automargin\":true,\"gridcolor\":\"white\",\"linecolor\":\"white\",\"ticks\":\"\",\"title\":{\"standoff\":15},\"zerolinecolor\":\"white\",\"zerolinewidth\":2}}},\"legend\":{\"tracegroupgap\":0},\"margin\":{\"t\":60}},                        {\"responsive\": true}                    ).then(function(){\n",
       "                            \n",
       "var gd = document.getElementById('bced221f-bdbb-4094-80ca-f0df46b269f4');\n",
       "var x = new MutationObserver(function (mutations, observer) {{\n",
       "        var display = window.getComputedStyle(gd).display;\n",
       "        if (!display || display === 'none') {{\n",
       "            console.log([gd, 'removed!']);\n",
       "            Plotly.purge(gd);\n",
       "            observer.disconnect();\n",
       "        }}\n",
       "}});\n",
       "\n",
       "// Listen for the removal of the full notebook cells\n",
       "var notebookContainer = gd.closest('#notebook-container');\n",
       "if (notebookContainer) {{\n",
       "    x.observe(notebookContainer, {childList: true});\n",
       "}}\n",
       "\n",
       "// Listen for the clearing of the current output cell\n",
       "var outputEl = gd.closest('.output');\n",
       "if (outputEl) {{\n",
       "    x.observe(outputEl, {childList: true});\n",
       "}}\n",
       "\n",
       "                        })                };                });            </script>        </div>"
      ]
     },
     "metadata": {},
     "output_type": "display_data"
    }
   ],
   "source": [
    "import plotly.express as px\n",
    "\n",
    "fig = px.pie(df,names='Taste',color='Taste',\n",
    "             color_discrete_map={0:'red',\n",
    "                                 1:'green'})\n",
    "fig.show()"
   ]
  },
  {
   "cell_type": "markdown",
   "id": "0e339dd5",
   "metadata": {},
   "source": [
    "### Reject customer data  = Bad Customer"
   ]
  },
  {
   "cell_type": "code",
   "execution_count": 12,
   "id": "0ea480ce",
   "metadata": {},
   "outputs": [
    {
     "data": {
      "text/html": [
       "<div>\n",
       "<style scoped>\n",
       "    .dataframe tbody tr th:only-of-type {\n",
       "        vertical-align: middle;\n",
       "    }\n",
       "\n",
       "    .dataframe tbody tr th {\n",
       "        vertical-align: top;\n",
       "    }\n",
       "\n",
       "    .dataframe thead th {\n",
       "        text-align: right;\n",
       "    }\n",
       "</style>\n",
       "<table border=\"1\" class=\"dataframe\">\n",
       "  <thead>\n",
       "    <tr style=\"text-align: right;\">\n",
       "      <th></th>\n",
       "      <th>pH</th>\n",
       "      <th>Temprature</th>\n",
       "      <th>Taste</th>\n",
       "      <th>Odor</th>\n",
       "      <th>Fat</th>\n",
       "      <th>Turbidity</th>\n",
       "      <th>Colour</th>\n",
       "      <th>Grade</th>\n",
       "    </tr>\n",
       "  </thead>\n",
       "  <tbody>\n",
       "    <tr>\n",
       "      <th>1</th>\n",
       "      <td>6.6</td>\n",
       "      <td>36</td>\n",
       "      <td>0</td>\n",
       "      <td>1</td>\n",
       "      <td>0</td>\n",
       "      <td>1</td>\n",
       "      <td>253</td>\n",
       "      <td>high</td>\n",
       "    </tr>\n",
       "    <tr>\n",
       "      <th>4</th>\n",
       "      <td>6.6</td>\n",
       "      <td>37</td>\n",
       "      <td>0</td>\n",
       "      <td>0</td>\n",
       "      <td>0</td>\n",
       "      <td>0</td>\n",
       "      <td>255</td>\n",
       "      <td>medium</td>\n",
       "    </tr>\n",
       "    <tr>\n",
       "      <th>11</th>\n",
       "      <td>5.6</td>\n",
       "      <td>50</td>\n",
       "      <td>0</td>\n",
       "      <td>1</td>\n",
       "      <td>1</td>\n",
       "      <td>1</td>\n",
       "      <td>255</td>\n",
       "      <td>low</td>\n",
       "    </tr>\n",
       "    <tr>\n",
       "      <th>12</th>\n",
       "      <td>8.6</td>\n",
       "      <td>55</td>\n",
       "      <td>0</td>\n",
       "      <td>1</td>\n",
       "      <td>1</td>\n",
       "      <td>1</td>\n",
       "      <td>255</td>\n",
       "      <td>low</td>\n",
       "    </tr>\n",
       "    <tr>\n",
       "      <th>14</th>\n",
       "      <td>6.8</td>\n",
       "      <td>45</td>\n",
       "      <td>0</td>\n",
       "      <td>1</td>\n",
       "      <td>1</td>\n",
       "      <td>1</td>\n",
       "      <td>255</td>\n",
       "      <td>high</td>\n",
       "    </tr>\n",
       "    <tr>\n",
       "      <th>...</th>\n",
       "      <td>...</td>\n",
       "      <td>...</td>\n",
       "      <td>...</td>\n",
       "      <td>...</td>\n",
       "      <td>...</td>\n",
       "      <td>...</td>\n",
       "      <td>...</td>\n",
       "      <td>...</td>\n",
       "    </tr>\n",
       "    <tr>\n",
       "      <th>1044</th>\n",
       "      <td>6.6</td>\n",
       "      <td>50</td>\n",
       "      <td>0</td>\n",
       "      <td>0</td>\n",
       "      <td>0</td>\n",
       "      <td>1</td>\n",
       "      <td>250</td>\n",
       "      <td>low</td>\n",
       "    </tr>\n",
       "    <tr>\n",
       "      <th>1045</th>\n",
       "      <td>6.5</td>\n",
       "      <td>36</td>\n",
       "      <td>0</td>\n",
       "      <td>0</td>\n",
       "      <td>0</td>\n",
       "      <td>0</td>\n",
       "      <td>247</td>\n",
       "      <td>medium</td>\n",
       "    </tr>\n",
       "    <tr>\n",
       "      <th>1046</th>\n",
       "      <td>6.6</td>\n",
       "      <td>38</td>\n",
       "      <td>0</td>\n",
       "      <td>0</td>\n",
       "      <td>0</td>\n",
       "      <td>0</td>\n",
       "      <td>255</td>\n",
       "      <td>medium</td>\n",
       "    </tr>\n",
       "    <tr>\n",
       "      <th>1049</th>\n",
       "      <td>6.5</td>\n",
       "      <td>37</td>\n",
       "      <td>0</td>\n",
       "      <td>0</td>\n",
       "      <td>0</td>\n",
       "      <td>0</td>\n",
       "      <td>255</td>\n",
       "      <td>medium</td>\n",
       "    </tr>\n",
       "    <tr>\n",
       "      <th>1058</th>\n",
       "      <td>8.6</td>\n",
       "      <td>55</td>\n",
       "      <td>0</td>\n",
       "      <td>1</td>\n",
       "      <td>1</td>\n",
       "      <td>1</td>\n",
       "      <td>255</td>\n",
       "      <td>low</td>\n",
       "    </tr>\n",
       "  </tbody>\n",
       "</table>\n",
       "<p>474 rows × 8 columns</p>\n",
       "</div>"
      ],
      "text/plain": [
       "       pH  Temprature  Taste  Odor  Fat   Turbidity  Colour   Grade\n",
       "1     6.6          36      0     1     0          1     253    high\n",
       "4     6.6          37      0     0     0          0     255  medium\n",
       "11    5.6          50      0     1     1          1     255     low\n",
       "12    8.6          55      0     1     1          1     255     low\n",
       "14    6.8          45      0     1     1          1     255    high\n",
       "...   ...         ...    ...   ...   ...        ...     ...     ...\n",
       "1044  6.6          50      0     0     0          1     250     low\n",
       "1045  6.5          36      0     0     0          0     247  medium\n",
       "1046  6.6          38      0     0     0          0     255  medium\n",
       "1049  6.5          37      0     0     0          0     255  medium\n",
       "1058  8.6          55      0     1     1          1     255     low\n",
       "\n",
       "[474 rows x 8 columns]"
      ]
     },
     "execution_count": 12,
     "metadata": {},
     "output_type": "execute_result"
    }
   ],
   "source": [
    "df_Yes= df[df[\"Taste\"] == 0]  # 269\n",
    "\n",
    "df_Yes"
   ]
  },
  {
   "cell_type": "code",
   "execution_count": 13,
   "id": "ba963221",
   "metadata": {},
   "outputs": [
    {
     "data": {
      "application/vnd.plotly.v1+json": {
       "config": {
        "plotlyServerURL": "https://plot.ly"
       },
       "data": [
        {
         "branchvalues": "total",
         "domain": {
          "x": [
           0,
           1
          ],
          "y": [
           0,
           1
          ]
         },
         "hovertemplate": "labels=%{label}<br>count=%{value}<br>parent=%{parent}<br>id=%{id}<extra></extra>",
         "ids": [
          "6.6/34",
          "6.8/34",
          "6.6/35",
          "6.5/36",
          "6.6/36",
          "6.8/36",
          "6.5/37",
          "6.6/37",
          "4.5/38",
          "6.6/38",
          "6.8/38",
          "6.5/40",
          "6.6/40",
          "6.8/41",
          "6.6/43",
          "6.4/45",
          "6.6/45",
          "6.8/45",
          "5.6/50",
          "6.6/50",
          "6.8/50",
          "6.8/55",
          "8.6/55",
          "4.5/60",
          "7.4/65",
          "8.5/70",
          "4.5",
          "5.6",
          "6.4",
          "6.5",
          "6.6",
          "6.8",
          "7.4",
          "8.5",
          "8.6"
         ],
         "labels": [
          "34",
          "34",
          "35",
          "36",
          "36",
          "36",
          "37",
          "37",
          "38",
          "38",
          "38",
          "40",
          "40",
          "41",
          "43",
          "45",
          "45",
          "45",
          "50",
          "50",
          "50",
          "55",
          "55",
          "60",
          "65",
          "70",
          "4.5",
          "5.6",
          "6.4",
          "6.5",
          "6.6",
          "6.8",
          "7.4",
          "8.5",
          "8.6"
         ],
         "name": "",
         "parents": [
          "6.6",
          "6.8",
          "6.6",
          "6.5",
          "6.6",
          "6.8",
          "6.5",
          "6.6",
          "4.5",
          "6.6",
          "6.8",
          "6.5",
          "6.6",
          "6.8",
          "6.6",
          "6.4",
          "6.6",
          "6.8",
          "5.6",
          "6.6",
          "6.8",
          "6.8",
          "8.6",
          "4.5",
          "7.4",
          "8.5",
          "",
          "",
          "",
          "",
          "",
          "",
          "",
          "",
          ""
         ],
         "type": "sunburst",
         "values": [
          1,
          15,
          8,
          44,
          1,
          20,
          44,
          1,
          18,
          29,
          7,
          2,
          1,
          22,
          2,
          1,
          33,
          74,
          19,
          21,
          8,
          4,
          40,
          16,
          22,
          21,
          34,
          19,
          1,
          90,
          97,
          150,
          22,
          21,
          40
         ]
        }
       ],
       "layout": {
        "legend": {
         "tracegroupgap": 0
        },
        "margin": {
         "t": 60
        },
        "template": {
         "data": {
          "bar": [
           {
            "error_x": {
             "color": "#2a3f5f"
            },
            "error_y": {
             "color": "#2a3f5f"
            },
            "marker": {
             "line": {
              "color": "#E5ECF6",
              "width": 0.5
             },
             "pattern": {
              "fillmode": "overlay",
              "size": 10,
              "solidity": 0.2
             }
            },
            "type": "bar"
           }
          ],
          "barpolar": [
           {
            "marker": {
             "line": {
              "color": "#E5ECF6",
              "width": 0.5
             },
             "pattern": {
              "fillmode": "overlay",
              "size": 10,
              "solidity": 0.2
             }
            },
            "type": "barpolar"
           }
          ],
          "carpet": [
           {
            "aaxis": {
             "endlinecolor": "#2a3f5f",
             "gridcolor": "white",
             "linecolor": "white",
             "minorgridcolor": "white",
             "startlinecolor": "#2a3f5f"
            },
            "baxis": {
             "endlinecolor": "#2a3f5f",
             "gridcolor": "white",
             "linecolor": "white",
             "minorgridcolor": "white",
             "startlinecolor": "#2a3f5f"
            },
            "type": "carpet"
           }
          ],
          "choropleth": [
           {
            "colorbar": {
             "outlinewidth": 0,
             "ticks": ""
            },
            "type": "choropleth"
           }
          ],
          "contour": [
           {
            "colorbar": {
             "outlinewidth": 0,
             "ticks": ""
            },
            "colorscale": [
             [
              0,
              "#0d0887"
             ],
             [
              0.1111111111111111,
              "#46039f"
             ],
             [
              0.2222222222222222,
              "#7201a8"
             ],
             [
              0.3333333333333333,
              "#9c179e"
             ],
             [
              0.4444444444444444,
              "#bd3786"
             ],
             [
              0.5555555555555556,
              "#d8576b"
             ],
             [
              0.6666666666666666,
              "#ed7953"
             ],
             [
              0.7777777777777778,
              "#fb9f3a"
             ],
             [
              0.8888888888888888,
              "#fdca26"
             ],
             [
              1,
              "#f0f921"
             ]
            ],
            "type": "contour"
           }
          ],
          "contourcarpet": [
           {
            "colorbar": {
             "outlinewidth": 0,
             "ticks": ""
            },
            "type": "contourcarpet"
           }
          ],
          "heatmap": [
           {
            "colorbar": {
             "outlinewidth": 0,
             "ticks": ""
            },
            "colorscale": [
             [
              0,
              "#0d0887"
             ],
             [
              0.1111111111111111,
              "#46039f"
             ],
             [
              0.2222222222222222,
              "#7201a8"
             ],
             [
              0.3333333333333333,
              "#9c179e"
             ],
             [
              0.4444444444444444,
              "#bd3786"
             ],
             [
              0.5555555555555556,
              "#d8576b"
             ],
             [
              0.6666666666666666,
              "#ed7953"
             ],
             [
              0.7777777777777778,
              "#fb9f3a"
             ],
             [
              0.8888888888888888,
              "#fdca26"
             ],
             [
              1,
              "#f0f921"
             ]
            ],
            "type": "heatmap"
           }
          ],
          "heatmapgl": [
           {
            "colorbar": {
             "outlinewidth": 0,
             "ticks": ""
            },
            "colorscale": [
             [
              0,
              "#0d0887"
             ],
             [
              0.1111111111111111,
              "#46039f"
             ],
             [
              0.2222222222222222,
              "#7201a8"
             ],
             [
              0.3333333333333333,
              "#9c179e"
             ],
             [
              0.4444444444444444,
              "#bd3786"
             ],
             [
              0.5555555555555556,
              "#d8576b"
             ],
             [
              0.6666666666666666,
              "#ed7953"
             ],
             [
              0.7777777777777778,
              "#fb9f3a"
             ],
             [
              0.8888888888888888,
              "#fdca26"
             ],
             [
              1,
              "#f0f921"
             ]
            ],
            "type": "heatmapgl"
           }
          ],
          "histogram": [
           {
            "marker": {
             "pattern": {
              "fillmode": "overlay",
              "size": 10,
              "solidity": 0.2
             }
            },
            "type": "histogram"
           }
          ],
          "histogram2d": [
           {
            "colorbar": {
             "outlinewidth": 0,
             "ticks": ""
            },
            "colorscale": [
             [
              0,
              "#0d0887"
             ],
             [
              0.1111111111111111,
              "#46039f"
             ],
             [
              0.2222222222222222,
              "#7201a8"
             ],
             [
              0.3333333333333333,
              "#9c179e"
             ],
             [
              0.4444444444444444,
              "#bd3786"
             ],
             [
              0.5555555555555556,
              "#d8576b"
             ],
             [
              0.6666666666666666,
              "#ed7953"
             ],
             [
              0.7777777777777778,
              "#fb9f3a"
             ],
             [
              0.8888888888888888,
              "#fdca26"
             ],
             [
              1,
              "#f0f921"
             ]
            ],
            "type": "histogram2d"
           }
          ],
          "histogram2dcontour": [
           {
            "colorbar": {
             "outlinewidth": 0,
             "ticks": ""
            },
            "colorscale": [
             [
              0,
              "#0d0887"
             ],
             [
              0.1111111111111111,
              "#46039f"
             ],
             [
              0.2222222222222222,
              "#7201a8"
             ],
             [
              0.3333333333333333,
              "#9c179e"
             ],
             [
              0.4444444444444444,
              "#bd3786"
             ],
             [
              0.5555555555555556,
              "#d8576b"
             ],
             [
              0.6666666666666666,
              "#ed7953"
             ],
             [
              0.7777777777777778,
              "#fb9f3a"
             ],
             [
              0.8888888888888888,
              "#fdca26"
             ],
             [
              1,
              "#f0f921"
             ]
            ],
            "type": "histogram2dcontour"
           }
          ],
          "mesh3d": [
           {
            "colorbar": {
             "outlinewidth": 0,
             "ticks": ""
            },
            "type": "mesh3d"
           }
          ],
          "parcoords": [
           {
            "line": {
             "colorbar": {
              "outlinewidth": 0,
              "ticks": ""
             }
            },
            "type": "parcoords"
           }
          ],
          "pie": [
           {
            "automargin": true,
            "type": "pie"
           }
          ],
          "scatter": [
           {
            "marker": {
             "colorbar": {
              "outlinewidth": 0,
              "ticks": ""
             }
            },
            "type": "scatter"
           }
          ],
          "scatter3d": [
           {
            "line": {
             "colorbar": {
              "outlinewidth": 0,
              "ticks": ""
             }
            },
            "marker": {
             "colorbar": {
              "outlinewidth": 0,
              "ticks": ""
             }
            },
            "type": "scatter3d"
           }
          ],
          "scattercarpet": [
           {
            "marker": {
             "colorbar": {
              "outlinewidth": 0,
              "ticks": ""
             }
            },
            "type": "scattercarpet"
           }
          ],
          "scattergeo": [
           {
            "marker": {
             "colorbar": {
              "outlinewidth": 0,
              "ticks": ""
             }
            },
            "type": "scattergeo"
           }
          ],
          "scattergl": [
           {
            "marker": {
             "colorbar": {
              "outlinewidth": 0,
              "ticks": ""
             }
            },
            "type": "scattergl"
           }
          ],
          "scattermapbox": [
           {
            "marker": {
             "colorbar": {
              "outlinewidth": 0,
              "ticks": ""
             }
            },
            "type": "scattermapbox"
           }
          ],
          "scatterpolar": [
           {
            "marker": {
             "colorbar": {
              "outlinewidth": 0,
              "ticks": ""
             }
            },
            "type": "scatterpolar"
           }
          ],
          "scatterpolargl": [
           {
            "marker": {
             "colorbar": {
              "outlinewidth": 0,
              "ticks": ""
             }
            },
            "type": "scatterpolargl"
           }
          ],
          "scatterternary": [
           {
            "marker": {
             "colorbar": {
              "outlinewidth": 0,
              "ticks": ""
             }
            },
            "type": "scatterternary"
           }
          ],
          "surface": [
           {
            "colorbar": {
             "outlinewidth": 0,
             "ticks": ""
            },
            "colorscale": [
             [
              0,
              "#0d0887"
             ],
             [
              0.1111111111111111,
              "#46039f"
             ],
             [
              0.2222222222222222,
              "#7201a8"
             ],
             [
              0.3333333333333333,
              "#9c179e"
             ],
             [
              0.4444444444444444,
              "#bd3786"
             ],
             [
              0.5555555555555556,
              "#d8576b"
             ],
             [
              0.6666666666666666,
              "#ed7953"
             ],
             [
              0.7777777777777778,
              "#fb9f3a"
             ],
             [
              0.8888888888888888,
              "#fdca26"
             ],
             [
              1,
              "#f0f921"
             ]
            ],
            "type": "surface"
           }
          ],
          "table": [
           {
            "cells": {
             "fill": {
              "color": "#EBF0F8"
             },
             "line": {
              "color": "white"
             }
            },
            "header": {
             "fill": {
              "color": "#C8D4E3"
             },
             "line": {
              "color": "white"
             }
            },
            "type": "table"
           }
          ]
         },
         "layout": {
          "annotationdefaults": {
           "arrowcolor": "#2a3f5f",
           "arrowhead": 0,
           "arrowwidth": 1
          },
          "autotypenumbers": "strict",
          "coloraxis": {
           "colorbar": {
            "outlinewidth": 0,
            "ticks": ""
           }
          },
          "colorscale": {
           "diverging": [
            [
             0,
             "#8e0152"
            ],
            [
             0.1,
             "#c51b7d"
            ],
            [
             0.2,
             "#de77ae"
            ],
            [
             0.3,
             "#f1b6da"
            ],
            [
             0.4,
             "#fde0ef"
            ],
            [
             0.5,
             "#f7f7f7"
            ],
            [
             0.6,
             "#e6f5d0"
            ],
            [
             0.7,
             "#b8e186"
            ],
            [
             0.8,
             "#7fbc41"
            ],
            [
             0.9,
             "#4d9221"
            ],
            [
             1,
             "#276419"
            ]
           ],
           "sequential": [
            [
             0,
             "#0d0887"
            ],
            [
             0.1111111111111111,
             "#46039f"
            ],
            [
             0.2222222222222222,
             "#7201a8"
            ],
            [
             0.3333333333333333,
             "#9c179e"
            ],
            [
             0.4444444444444444,
             "#bd3786"
            ],
            [
             0.5555555555555556,
             "#d8576b"
            ],
            [
             0.6666666666666666,
             "#ed7953"
            ],
            [
             0.7777777777777778,
             "#fb9f3a"
            ],
            [
             0.8888888888888888,
             "#fdca26"
            ],
            [
             1,
             "#f0f921"
            ]
           ],
           "sequentialminus": [
            [
             0,
             "#0d0887"
            ],
            [
             0.1111111111111111,
             "#46039f"
            ],
            [
             0.2222222222222222,
             "#7201a8"
            ],
            [
             0.3333333333333333,
             "#9c179e"
            ],
            [
             0.4444444444444444,
             "#bd3786"
            ],
            [
             0.5555555555555556,
             "#d8576b"
            ],
            [
             0.6666666666666666,
             "#ed7953"
            ],
            [
             0.7777777777777778,
             "#fb9f3a"
            ],
            [
             0.8888888888888888,
             "#fdca26"
            ],
            [
             1,
             "#f0f921"
            ]
           ]
          },
          "colorway": [
           "#636efa",
           "#EF553B",
           "#00cc96",
           "#ab63fa",
           "#FFA15A",
           "#19d3f3",
           "#FF6692",
           "#B6E880",
           "#FF97FF",
           "#FECB52"
          ],
          "font": {
           "color": "#2a3f5f"
          },
          "geo": {
           "bgcolor": "white",
           "lakecolor": "white",
           "landcolor": "#E5ECF6",
           "showlakes": true,
           "showland": true,
           "subunitcolor": "white"
          },
          "hoverlabel": {
           "align": "left"
          },
          "hovermode": "closest",
          "mapbox": {
           "style": "light"
          },
          "paper_bgcolor": "white",
          "plot_bgcolor": "#E5ECF6",
          "polar": {
           "angularaxis": {
            "gridcolor": "white",
            "linecolor": "white",
            "ticks": ""
           },
           "bgcolor": "#E5ECF6",
           "radialaxis": {
            "gridcolor": "white",
            "linecolor": "white",
            "ticks": ""
           }
          },
          "scene": {
           "xaxis": {
            "backgroundcolor": "#E5ECF6",
            "gridcolor": "white",
            "gridwidth": 2,
            "linecolor": "white",
            "showbackground": true,
            "ticks": "",
            "zerolinecolor": "white"
           },
           "yaxis": {
            "backgroundcolor": "#E5ECF6",
            "gridcolor": "white",
            "gridwidth": 2,
            "linecolor": "white",
            "showbackground": true,
            "ticks": "",
            "zerolinecolor": "white"
           },
           "zaxis": {
            "backgroundcolor": "#E5ECF6",
            "gridcolor": "white",
            "gridwidth": 2,
            "linecolor": "white",
            "showbackground": true,
            "ticks": "",
            "zerolinecolor": "white"
           }
          },
          "shapedefaults": {
           "line": {
            "color": "#2a3f5f"
           }
          },
          "ternary": {
           "aaxis": {
            "gridcolor": "white",
            "linecolor": "white",
            "ticks": ""
           },
           "baxis": {
            "gridcolor": "white",
            "linecolor": "white",
            "ticks": ""
           },
           "bgcolor": "#E5ECF6",
           "caxis": {
            "gridcolor": "white",
            "linecolor": "white",
            "ticks": ""
           }
          },
          "title": {
           "x": 0.05
          },
          "xaxis": {
           "automargin": true,
           "gridcolor": "white",
           "linecolor": "white",
           "ticks": "",
           "title": {
            "standoff": 15
           },
           "zerolinecolor": "white",
           "zerolinewidth": 2
          },
          "yaxis": {
           "automargin": true,
           "gridcolor": "white",
           "linecolor": "white",
           "ticks": "",
           "title": {
            "standoff": 15
           },
           "zerolinecolor": "white",
           "zerolinewidth": 2
          }
         }
        }
       }
      },
      "text/html": [
       "<div>                            <div id=\"58b47a4b-8505-49d2-8f9d-c55394762bfb\" class=\"plotly-graph-div\" style=\"height:525px; width:100%;\"></div>            <script type=\"text/javascript\">                require([\"plotly\"], function(Plotly) {                    window.PLOTLYENV=window.PLOTLYENV || {};                                    if (document.getElementById(\"58b47a4b-8505-49d2-8f9d-c55394762bfb\")) {                    Plotly.newPlot(                        \"58b47a4b-8505-49d2-8f9d-c55394762bfb\",                        [{\"branchvalues\":\"total\",\"domain\":{\"x\":[0.0,1.0],\"y\":[0.0,1.0]},\"hovertemplate\":\"labels=%{label}<br>count=%{value}<br>parent=%{parent}<br>id=%{id}<extra></extra>\",\"ids\":[\"6.6/34\",\"6.8/34\",\"6.6/35\",\"6.5/36\",\"6.6/36\",\"6.8/36\",\"6.5/37\",\"6.6/37\",\"4.5/38\",\"6.6/38\",\"6.8/38\",\"6.5/40\",\"6.6/40\",\"6.8/41\",\"6.6/43\",\"6.4/45\",\"6.6/45\",\"6.8/45\",\"5.6/50\",\"6.6/50\",\"6.8/50\",\"6.8/55\",\"8.6/55\",\"4.5/60\",\"7.4/65\",\"8.5/70\",\"4.5\",\"5.6\",\"6.4\",\"6.5\",\"6.6\",\"6.8\",\"7.4\",\"8.5\",\"8.6\"],\"labels\":[\"34\",\"34\",\"35\",\"36\",\"36\",\"36\",\"37\",\"37\",\"38\",\"38\",\"38\",\"40\",\"40\",\"41\",\"43\",\"45\",\"45\",\"45\",\"50\",\"50\",\"50\",\"55\",\"55\",\"60\",\"65\",\"70\",\"4.5\",\"5.6\",\"6.4\",\"6.5\",\"6.6\",\"6.8\",\"7.4\",\"8.5\",\"8.6\"],\"name\":\"\",\"parents\":[\"6.6\",\"6.8\",\"6.6\",\"6.5\",\"6.6\",\"6.8\",\"6.5\",\"6.6\",\"4.5\",\"6.6\",\"6.8\",\"6.5\",\"6.6\",\"6.8\",\"6.6\",\"6.4\",\"6.6\",\"6.8\",\"5.6\",\"6.6\",\"6.8\",\"6.8\",\"8.6\",\"4.5\",\"7.4\",\"8.5\",\"\",\"\",\"\",\"\",\"\",\"\",\"\",\"\",\"\"],\"values\":[1,15,8,44,1,20,44,1,18,29,7,2,1,22,2,1,33,74,19,21,8,4,40,16,22,21,34,19,1,90,97,150,22,21,40],\"type\":\"sunburst\"}],                        {\"template\":{\"data\":{\"bar\":[{\"error_x\":{\"color\":\"#2a3f5f\"},\"error_y\":{\"color\":\"#2a3f5f\"},\"marker\":{\"line\":{\"color\":\"#E5ECF6\",\"width\":0.5},\"pattern\":{\"fillmode\":\"overlay\",\"size\":10,\"solidity\":0.2}},\"type\":\"bar\"}],\"barpolar\":[{\"marker\":{\"line\":{\"color\":\"#E5ECF6\",\"width\":0.5},\"pattern\":{\"fillmode\":\"overlay\",\"size\":10,\"solidity\":0.2}},\"type\":\"barpolar\"}],\"carpet\":[{\"aaxis\":{\"endlinecolor\":\"#2a3f5f\",\"gridcolor\":\"white\",\"linecolor\":\"white\",\"minorgridcolor\":\"white\",\"startlinecolor\":\"#2a3f5f\"},\"baxis\":{\"endlinecolor\":\"#2a3f5f\",\"gridcolor\":\"white\",\"linecolor\":\"white\",\"minorgridcolor\":\"white\",\"startlinecolor\":\"#2a3f5f\"},\"type\":\"carpet\"}],\"choropleth\":[{\"colorbar\":{\"outlinewidth\":0,\"ticks\":\"\"},\"type\":\"choropleth\"}],\"contour\":[{\"colorbar\":{\"outlinewidth\":0,\"ticks\":\"\"},\"colorscale\":[[0.0,\"#0d0887\"],[0.1111111111111111,\"#46039f\"],[0.2222222222222222,\"#7201a8\"],[0.3333333333333333,\"#9c179e\"],[0.4444444444444444,\"#bd3786\"],[0.5555555555555556,\"#d8576b\"],[0.6666666666666666,\"#ed7953\"],[0.7777777777777778,\"#fb9f3a\"],[0.8888888888888888,\"#fdca26\"],[1.0,\"#f0f921\"]],\"type\":\"contour\"}],\"contourcarpet\":[{\"colorbar\":{\"outlinewidth\":0,\"ticks\":\"\"},\"type\":\"contourcarpet\"}],\"heatmap\":[{\"colorbar\":{\"outlinewidth\":0,\"ticks\":\"\"},\"colorscale\":[[0.0,\"#0d0887\"],[0.1111111111111111,\"#46039f\"],[0.2222222222222222,\"#7201a8\"],[0.3333333333333333,\"#9c179e\"],[0.4444444444444444,\"#bd3786\"],[0.5555555555555556,\"#d8576b\"],[0.6666666666666666,\"#ed7953\"],[0.7777777777777778,\"#fb9f3a\"],[0.8888888888888888,\"#fdca26\"],[1.0,\"#f0f921\"]],\"type\":\"heatmap\"}],\"heatmapgl\":[{\"colorbar\":{\"outlinewidth\":0,\"ticks\":\"\"},\"colorscale\":[[0.0,\"#0d0887\"],[0.1111111111111111,\"#46039f\"],[0.2222222222222222,\"#7201a8\"],[0.3333333333333333,\"#9c179e\"],[0.4444444444444444,\"#bd3786\"],[0.5555555555555556,\"#d8576b\"],[0.6666666666666666,\"#ed7953\"],[0.7777777777777778,\"#fb9f3a\"],[0.8888888888888888,\"#fdca26\"],[1.0,\"#f0f921\"]],\"type\":\"heatmapgl\"}],\"histogram\":[{\"marker\":{\"pattern\":{\"fillmode\":\"overlay\",\"size\":10,\"solidity\":0.2}},\"type\":\"histogram\"}],\"histogram2d\":[{\"colorbar\":{\"outlinewidth\":0,\"ticks\":\"\"},\"colorscale\":[[0.0,\"#0d0887\"],[0.1111111111111111,\"#46039f\"],[0.2222222222222222,\"#7201a8\"],[0.3333333333333333,\"#9c179e\"],[0.4444444444444444,\"#bd3786\"],[0.5555555555555556,\"#d8576b\"],[0.6666666666666666,\"#ed7953\"],[0.7777777777777778,\"#fb9f3a\"],[0.8888888888888888,\"#fdca26\"],[1.0,\"#f0f921\"]],\"type\":\"histogram2d\"}],\"histogram2dcontour\":[{\"colorbar\":{\"outlinewidth\":0,\"ticks\":\"\"},\"colorscale\":[[0.0,\"#0d0887\"],[0.1111111111111111,\"#46039f\"],[0.2222222222222222,\"#7201a8\"],[0.3333333333333333,\"#9c179e\"],[0.4444444444444444,\"#bd3786\"],[0.5555555555555556,\"#d8576b\"],[0.6666666666666666,\"#ed7953\"],[0.7777777777777778,\"#fb9f3a\"],[0.8888888888888888,\"#fdca26\"],[1.0,\"#f0f921\"]],\"type\":\"histogram2dcontour\"}],\"mesh3d\":[{\"colorbar\":{\"outlinewidth\":0,\"ticks\":\"\"},\"type\":\"mesh3d\"}],\"parcoords\":[{\"line\":{\"colorbar\":{\"outlinewidth\":0,\"ticks\":\"\"}},\"type\":\"parcoords\"}],\"pie\":[{\"automargin\":true,\"type\":\"pie\"}],\"scatter\":[{\"marker\":{\"colorbar\":{\"outlinewidth\":0,\"ticks\":\"\"}},\"type\":\"scatter\"}],\"scatter3d\":[{\"line\":{\"colorbar\":{\"outlinewidth\":0,\"ticks\":\"\"}},\"marker\":{\"colorbar\":{\"outlinewidth\":0,\"ticks\":\"\"}},\"type\":\"scatter3d\"}],\"scattercarpet\":[{\"marker\":{\"colorbar\":{\"outlinewidth\":0,\"ticks\":\"\"}},\"type\":\"scattercarpet\"}],\"scattergeo\":[{\"marker\":{\"colorbar\":{\"outlinewidth\":0,\"ticks\":\"\"}},\"type\":\"scattergeo\"}],\"scattergl\":[{\"marker\":{\"colorbar\":{\"outlinewidth\":0,\"ticks\":\"\"}},\"type\":\"scattergl\"}],\"scattermapbox\":[{\"marker\":{\"colorbar\":{\"outlinewidth\":0,\"ticks\":\"\"}},\"type\":\"scattermapbox\"}],\"scatterpolar\":[{\"marker\":{\"colorbar\":{\"outlinewidth\":0,\"ticks\":\"\"}},\"type\":\"scatterpolar\"}],\"scatterpolargl\":[{\"marker\":{\"colorbar\":{\"outlinewidth\":0,\"ticks\":\"\"}},\"type\":\"scatterpolargl\"}],\"scatterternary\":[{\"marker\":{\"colorbar\":{\"outlinewidth\":0,\"ticks\":\"\"}},\"type\":\"scatterternary\"}],\"surface\":[{\"colorbar\":{\"outlinewidth\":0,\"ticks\":\"\"},\"colorscale\":[[0.0,\"#0d0887\"],[0.1111111111111111,\"#46039f\"],[0.2222222222222222,\"#7201a8\"],[0.3333333333333333,\"#9c179e\"],[0.4444444444444444,\"#bd3786\"],[0.5555555555555556,\"#d8576b\"],[0.6666666666666666,\"#ed7953\"],[0.7777777777777778,\"#fb9f3a\"],[0.8888888888888888,\"#fdca26\"],[1.0,\"#f0f921\"]],\"type\":\"surface\"}],\"table\":[{\"cells\":{\"fill\":{\"color\":\"#EBF0F8\"},\"line\":{\"color\":\"white\"}},\"header\":{\"fill\":{\"color\":\"#C8D4E3\"},\"line\":{\"color\":\"white\"}},\"type\":\"table\"}]},\"layout\":{\"annotationdefaults\":{\"arrowcolor\":\"#2a3f5f\",\"arrowhead\":0,\"arrowwidth\":1},\"autotypenumbers\":\"strict\",\"coloraxis\":{\"colorbar\":{\"outlinewidth\":0,\"ticks\":\"\"}},\"colorscale\":{\"diverging\":[[0,\"#8e0152\"],[0.1,\"#c51b7d\"],[0.2,\"#de77ae\"],[0.3,\"#f1b6da\"],[0.4,\"#fde0ef\"],[0.5,\"#f7f7f7\"],[0.6,\"#e6f5d0\"],[0.7,\"#b8e186\"],[0.8,\"#7fbc41\"],[0.9,\"#4d9221\"],[1,\"#276419\"]],\"sequential\":[[0.0,\"#0d0887\"],[0.1111111111111111,\"#46039f\"],[0.2222222222222222,\"#7201a8\"],[0.3333333333333333,\"#9c179e\"],[0.4444444444444444,\"#bd3786\"],[0.5555555555555556,\"#d8576b\"],[0.6666666666666666,\"#ed7953\"],[0.7777777777777778,\"#fb9f3a\"],[0.8888888888888888,\"#fdca26\"],[1.0,\"#f0f921\"]],\"sequentialminus\":[[0.0,\"#0d0887\"],[0.1111111111111111,\"#46039f\"],[0.2222222222222222,\"#7201a8\"],[0.3333333333333333,\"#9c179e\"],[0.4444444444444444,\"#bd3786\"],[0.5555555555555556,\"#d8576b\"],[0.6666666666666666,\"#ed7953\"],[0.7777777777777778,\"#fb9f3a\"],[0.8888888888888888,\"#fdca26\"],[1.0,\"#f0f921\"]]},\"colorway\":[\"#636efa\",\"#EF553B\",\"#00cc96\",\"#ab63fa\",\"#FFA15A\",\"#19d3f3\",\"#FF6692\",\"#B6E880\",\"#FF97FF\",\"#FECB52\"],\"font\":{\"color\":\"#2a3f5f\"},\"geo\":{\"bgcolor\":\"white\",\"lakecolor\":\"white\",\"landcolor\":\"#E5ECF6\",\"showlakes\":true,\"showland\":true,\"subunitcolor\":\"white\"},\"hoverlabel\":{\"align\":\"left\"},\"hovermode\":\"closest\",\"mapbox\":{\"style\":\"light\"},\"paper_bgcolor\":\"white\",\"plot_bgcolor\":\"#E5ECF6\",\"polar\":{\"angularaxis\":{\"gridcolor\":\"white\",\"linecolor\":\"white\",\"ticks\":\"\"},\"bgcolor\":\"#E5ECF6\",\"radialaxis\":{\"gridcolor\":\"white\",\"linecolor\":\"white\",\"ticks\":\"\"}},\"scene\":{\"xaxis\":{\"backgroundcolor\":\"#E5ECF6\",\"gridcolor\":\"white\",\"gridwidth\":2,\"linecolor\":\"white\",\"showbackground\":true,\"ticks\":\"\",\"zerolinecolor\":\"white\"},\"yaxis\":{\"backgroundcolor\":\"#E5ECF6\",\"gridcolor\":\"white\",\"gridwidth\":2,\"linecolor\":\"white\",\"showbackground\":true,\"ticks\":\"\",\"zerolinecolor\":\"white\"},\"zaxis\":{\"backgroundcolor\":\"#E5ECF6\",\"gridcolor\":\"white\",\"gridwidth\":2,\"linecolor\":\"white\",\"showbackground\":true,\"ticks\":\"\",\"zerolinecolor\":\"white\"}},\"shapedefaults\":{\"line\":{\"color\":\"#2a3f5f\"}},\"ternary\":{\"aaxis\":{\"gridcolor\":\"white\",\"linecolor\":\"white\",\"ticks\":\"\"},\"baxis\":{\"gridcolor\":\"white\",\"linecolor\":\"white\",\"ticks\":\"\"},\"bgcolor\":\"#E5ECF6\",\"caxis\":{\"gridcolor\":\"white\",\"linecolor\":\"white\",\"ticks\":\"\"}},\"title\":{\"x\":0.05},\"xaxis\":{\"automargin\":true,\"gridcolor\":\"white\",\"linecolor\":\"white\",\"ticks\":\"\",\"title\":{\"standoff\":15},\"zerolinecolor\":\"white\",\"zerolinewidth\":2},\"yaxis\":{\"automargin\":true,\"gridcolor\":\"white\",\"linecolor\":\"white\",\"ticks\":\"\",\"title\":{\"standoff\":15},\"zerolinecolor\":\"white\",\"zerolinewidth\":2}}},\"legend\":{\"tracegroupgap\":0},\"margin\":{\"t\":60}},                        {\"responsive\": true}                    ).then(function(){\n",
       "                            \n",
       "var gd = document.getElementById('58b47a4b-8505-49d2-8f9d-c55394762bfb');\n",
       "var x = new MutationObserver(function (mutations, observer) {{\n",
       "        var display = window.getComputedStyle(gd).display;\n",
       "        if (!display || display === 'none') {{\n",
       "            console.log([gd, 'removed!']);\n",
       "            Plotly.purge(gd);\n",
       "            observer.disconnect();\n",
       "        }}\n",
       "}});\n",
       "\n",
       "// Listen for the removal of the full notebook cells\n",
       "var notebookContainer = gd.closest('#notebook-container');\n",
       "if (notebookContainer) {{\n",
       "    x.observe(notebookContainer, {childList: true});\n",
       "}}\n",
       "\n",
       "// Listen for the clearing of the current output cell\n",
       "var outputEl = gd.closest('.output');\n",
       "if (outputEl) {{\n",
       "    x.observe(outputEl, {childList: true});\n",
       "}}\n",
       "\n",
       "                        })                };                });            </script>        </div>"
      ]
     },
     "metadata": {},
     "output_type": "display_data"
    }
   ],
   "source": [
    "fig = px.sunburst(df_Yes, path=[\"pH\",\"Temprature\"])\n",
    "fig.show()"
   ]
  },
  {
   "cell_type": "markdown",
   "id": "2c8ac978",
   "metadata": {},
   "source": [
    "# 5. Breaking Data into Two Part\n",
    " * Quantitative Variable\n",
    " * Qualitative Variable\n",
    " \n"
   ]
  },
  {
   "cell_type": "code",
   "execution_count": 14,
   "id": "2a97930a",
   "metadata": {},
   "outputs": [
    {
     "data": {
      "text/plain": [
       "['pH', 'Temprature', 'Taste', 'Odor', 'Fat ', 'Turbidity', 'Colour']"
      ]
     },
     "execution_count": 14,
     "metadata": {},
     "output_type": "execute_result"
    }
   ],
   "source": [
    "df.select_dtypes(include=[np.number]).columns.tolist()"
   ]
  },
  {
   "cell_type": "code",
   "execution_count": 15,
   "id": "d8271557",
   "metadata": {},
   "outputs": [
    {
     "data": {
      "text/html": [
       "<div>\n",
       "<style scoped>\n",
       "    .dataframe tbody tr th:only-of-type {\n",
       "        vertical-align: middle;\n",
       "    }\n",
       "\n",
       "    .dataframe tbody tr th {\n",
       "        vertical-align: top;\n",
       "    }\n",
       "\n",
       "    .dataframe thead th {\n",
       "        text-align: right;\n",
       "    }\n",
       "</style>\n",
       "<table border=\"1\" class=\"dataframe\">\n",
       "  <thead>\n",
       "    <tr style=\"text-align: right;\">\n",
       "      <th></th>\n",
       "      <th>pH</th>\n",
       "      <th>Temprature</th>\n",
       "      <th>Taste</th>\n",
       "      <th>Odor</th>\n",
       "      <th>Fat</th>\n",
       "      <th>Turbidity</th>\n",
       "      <th>Colour</th>\n",
       "    </tr>\n",
       "  </thead>\n",
       "  <tbody>\n",
       "    <tr>\n",
       "      <th>0</th>\n",
       "      <td>6.6</td>\n",
       "      <td>35</td>\n",
       "      <td>1</td>\n",
       "      <td>0</td>\n",
       "      <td>1</td>\n",
       "      <td>0</td>\n",
       "      <td>254</td>\n",
       "    </tr>\n",
       "    <tr>\n",
       "      <th>1</th>\n",
       "      <td>6.6</td>\n",
       "      <td>36</td>\n",
       "      <td>0</td>\n",
       "      <td>1</td>\n",
       "      <td>0</td>\n",
       "      <td>1</td>\n",
       "      <td>253</td>\n",
       "    </tr>\n",
       "    <tr>\n",
       "      <th>2</th>\n",
       "      <td>8.5</td>\n",
       "      <td>70</td>\n",
       "      <td>1</td>\n",
       "      <td>1</td>\n",
       "      <td>1</td>\n",
       "      <td>1</td>\n",
       "      <td>246</td>\n",
       "    </tr>\n",
       "  </tbody>\n",
       "</table>\n",
       "</div>"
      ],
      "text/plain": [
       "    pH  Temprature  Taste  Odor  Fat   Turbidity  Colour\n",
       "0  6.6          35      1     0     1          0     254\n",
       "1  6.6          36      0     1     0          1     253\n",
       "2  8.5          70      1     1     1          1     246"
      ]
     },
     "execution_count": 15,
     "metadata": {},
     "output_type": "execute_result"
    }
   ],
   "source": [
    "# Qualitative Variable\n",
    "Quantitative_Variable = df[df.select_dtypes(include=[np.number]).columns.tolist()]\n",
    "Quantitative_Variable.head(3)"
   ]
  },
  {
   "cell_type": "code",
   "execution_count": 16,
   "id": "4dca5912",
   "metadata": {},
   "outputs": [
    {
     "data": {
      "text/html": [
       "<div>\n",
       "<style scoped>\n",
       "    .dataframe tbody tr th:only-of-type {\n",
       "        vertical-align: middle;\n",
       "    }\n",
       "\n",
       "    .dataframe tbody tr th {\n",
       "        vertical-align: top;\n",
       "    }\n",
       "\n",
       "    .dataframe thead th {\n",
       "        text-align: right;\n",
       "    }\n",
       "</style>\n",
       "<table border=\"1\" class=\"dataframe\">\n",
       "  <thead>\n",
       "    <tr style=\"text-align: right;\">\n",
       "      <th></th>\n",
       "      <th>Grade</th>\n",
       "    </tr>\n",
       "  </thead>\n",
       "  <tbody>\n",
       "    <tr>\n",
       "      <th>0</th>\n",
       "      <td>high</td>\n",
       "    </tr>\n",
       "    <tr>\n",
       "      <th>1</th>\n",
       "      <td>high</td>\n",
       "    </tr>\n",
       "    <tr>\n",
       "      <th>2</th>\n",
       "      <td>low</td>\n",
       "    </tr>\n",
       "  </tbody>\n",
       "</table>\n",
       "</div>"
      ],
      "text/plain": [
       "  Grade\n",
       "0  high\n",
       "1  high\n",
       "2   low"
      ]
     },
     "execution_count": 16,
     "metadata": {},
     "output_type": "execute_result"
    }
   ],
   "source": [
    "Qualitative_Variable = df[df.select_dtypes(include=['object']).columns.tolist()]\n",
    "Qualitative_Variable.head(3)"
   ]
  },
  {
   "cell_type": "markdown",
   "id": "0f63d8d3",
   "metadata": {},
   "source": [
    "### Converting qualitative Variable into number"
   ]
  },
  {
   "cell_type": "code",
   "execution_count": 17,
   "id": "90b7a854",
   "metadata": {},
   "outputs": [
    {
     "data": {
      "text/html": [
       "<div>\n",
       "<style scoped>\n",
       "    .dataframe tbody tr th:only-of-type {\n",
       "        vertical-align: middle;\n",
       "    }\n",
       "\n",
       "    .dataframe tbody tr th {\n",
       "        vertical-align: top;\n",
       "    }\n",
       "\n",
       "    .dataframe thead th {\n",
       "        text-align: right;\n",
       "    }\n",
       "</style>\n",
       "<table border=\"1\" class=\"dataframe\">\n",
       "  <thead>\n",
       "    <tr style=\"text-align: right;\">\n",
       "      <th></th>\n",
       "      <th>Grade</th>\n",
       "    </tr>\n",
       "  </thead>\n",
       "  <tbody>\n",
       "    <tr>\n",
       "      <th>0</th>\n",
       "      <td>0</td>\n",
       "    </tr>\n",
       "    <tr>\n",
       "      <th>1</th>\n",
       "      <td>0</td>\n",
       "    </tr>\n",
       "    <tr>\n",
       "      <th>2</th>\n",
       "      <td>1</td>\n",
       "    </tr>\n",
       "    <tr>\n",
       "      <th>3</th>\n",
       "      <td>1</td>\n",
       "    </tr>\n",
       "    <tr>\n",
       "      <th>4</th>\n",
       "      <td>2</td>\n",
       "    </tr>\n",
       "  </tbody>\n",
       "</table>\n",
       "</div>"
      ],
      "text/plain": [
       "   Grade\n",
       "0      0\n",
       "1      0\n",
       "2      1\n",
       "3      1\n",
       "4      2"
      ]
     },
     "execution_count": 17,
     "metadata": {},
     "output_type": "execute_result"
    }
   ],
   "source": [
    "from sklearn.preprocessing import LabelEncoder\n",
    "Qualitative_Variable=Qualitative_Variable.apply(LabelEncoder().fit_transform) # label in ascending order\n",
    "Qualitative_Variable.head()"
   ]
  },
  {
   "cell_type": "markdown",
   "id": "c2738cd0",
   "metadata": {},
   "source": [
    "## Combining the data set "
   ]
  },
  {
   "cell_type": "code",
   "execution_count": 18,
   "id": "8b0e5cb0",
   "metadata": {},
   "outputs": [
    {
     "data": {
      "text/html": [
       "<div>\n",
       "<style scoped>\n",
       "    .dataframe tbody tr th:only-of-type {\n",
       "        vertical-align: middle;\n",
       "    }\n",
       "\n",
       "    .dataframe tbody tr th {\n",
       "        vertical-align: top;\n",
       "    }\n",
       "\n",
       "    .dataframe thead th {\n",
       "        text-align: right;\n",
       "    }\n",
       "</style>\n",
       "<table border=\"1\" class=\"dataframe\">\n",
       "  <thead>\n",
       "    <tr style=\"text-align: right;\">\n",
       "      <th></th>\n",
       "      <th>Grade</th>\n",
       "      <th>pH</th>\n",
       "      <th>Temprature</th>\n",
       "      <th>Taste</th>\n",
       "      <th>Odor</th>\n",
       "      <th>Fat</th>\n",
       "      <th>Turbidity</th>\n",
       "      <th>Colour</th>\n",
       "    </tr>\n",
       "  </thead>\n",
       "  <tbody>\n",
       "    <tr>\n",
       "      <th>0</th>\n",
       "      <td>0</td>\n",
       "      <td>6.6</td>\n",
       "      <td>35</td>\n",
       "      <td>1</td>\n",
       "      <td>0</td>\n",
       "      <td>1</td>\n",
       "      <td>0</td>\n",
       "      <td>254</td>\n",
       "    </tr>\n",
       "    <tr>\n",
       "      <th>1</th>\n",
       "      <td>0</td>\n",
       "      <td>6.6</td>\n",
       "      <td>36</td>\n",
       "      <td>0</td>\n",
       "      <td>1</td>\n",
       "      <td>0</td>\n",
       "      <td>1</td>\n",
       "      <td>253</td>\n",
       "    </tr>\n",
       "    <tr>\n",
       "      <th>2</th>\n",
       "      <td>1</td>\n",
       "      <td>8.5</td>\n",
       "      <td>70</td>\n",
       "      <td>1</td>\n",
       "      <td>1</td>\n",
       "      <td>1</td>\n",
       "      <td>1</td>\n",
       "      <td>246</td>\n",
       "    </tr>\n",
       "    <tr>\n",
       "      <th>3</th>\n",
       "      <td>1</td>\n",
       "      <td>9.5</td>\n",
       "      <td>34</td>\n",
       "      <td>1</td>\n",
       "      <td>1</td>\n",
       "      <td>0</td>\n",
       "      <td>1</td>\n",
       "      <td>255</td>\n",
       "    </tr>\n",
       "    <tr>\n",
       "      <th>4</th>\n",
       "      <td>2</td>\n",
       "      <td>6.6</td>\n",
       "      <td>37</td>\n",
       "      <td>0</td>\n",
       "      <td>0</td>\n",
       "      <td>0</td>\n",
       "      <td>0</td>\n",
       "      <td>255</td>\n",
       "    </tr>\n",
       "  </tbody>\n",
       "</table>\n",
       "</div>"
      ],
      "text/plain": [
       "   Grade   pH  Temprature  Taste  Odor  Fat   Turbidity  Colour\n",
       "0      0  6.6          35      1     0     1          0     254\n",
       "1      0  6.6          36      0     1     0          1     253\n",
       "2      1  8.5          70      1     1     1          1     246\n",
       "3      1  9.5          34      1     1     0          1     255\n",
       "4      2  6.6          37      0     0     0          0     255"
      ]
     },
     "execution_count": 18,
     "metadata": {},
     "output_type": "execute_result"
    }
   ],
   "source": [
    "Final_combined = pd.concat([Qualitative_Variable, Quantitative_Variable],axis=1)\n",
    "Final_combined.head()"
   ]
  },
  {
   "cell_type": "markdown",
   "id": "23d9e084",
   "metadata": {},
   "source": [
    "# Data Partition "
   ]
  },
  {
   "cell_type": "code",
   "execution_count": 19,
   "id": "933ead95",
   "metadata": {},
   "outputs": [],
   "source": [
    "from sklearn.model_selection import train_test_split\n",
    "\n",
    "# define our input variable (X) & output variable\n",
    "X = Final_combined.drop('Taste', axis = 1)\n",
    "Y = Final_combined[['Taste']]\n",
    "# Split X and y into X_\n",
    "X_train, X_test, y_train, y_test = train_test_split(X, Y, test_size=0.20, random_state=56)"
   ]
  },
  {
   "cell_type": "markdown",
   "id": "26b21043",
   "metadata": {},
   "source": [
    "# Model building "
   ]
  },
  {
   "cell_type": "markdown",
   "id": "88582b57",
   "metadata": {},
   "source": [
    "# Hypothesis\n",
    "\n",
    "* H0 :- There is no log linear relationship between Taste and all independent Variable\n",
    "\n",
    "Vs \n",
    "\n",
    "* H1 :- There is log linear relationship between Taste and all independent Variable\n",
    "\n",
    "Alpha = 0.05 (5%)"
   ]
  },
  {
   "cell_type": "markdown",
   "id": "545fb1ef",
   "metadata": {},
   "source": [
    "# Method 1 - Logistics Regression\n",
    "#Needed to run the logistic regression\n",
    "import statsmodels.formula.api as smf\n",
    "result=smf.logit(\"Taste~C(Grade)+C(pH)+C(Temprature)+C(Odor)+C(Fat)+C(Turbidity)+C(Colour)+Age+Dependents+LoanAmount+Cibil_Score+ApplicantIncome\",data=train).fit()\n",
    "print(result.summary2())"
   ]
  },
  {
   "cell_type": "markdown",
   "id": "d5e0a708",
   "metadata": {},
   "source": [
    "# Method 2 - Logistics Regression"
   ]
  },
  {
   "cell_type": "code",
   "execution_count": 20,
   "id": "05a373b4",
   "metadata": {},
   "outputs": [],
   "source": [
    "from sklearn.linear_model import LogisticRegression\n",
    "from sklearn import metrics\n",
    "logreg = LogisticRegression()\n",
    "output=logreg.fit(X_train, y_train) # model"
   ]
  },
  {
   "cell_type": "code",
   "execution_count": 21,
   "id": "fcc57a09",
   "metadata": {},
   "outputs": [
    {
     "data": {
      "text/plain": [
       "array([6.53081773])"
      ]
     },
     "execution_count": 21,
     "metadata": {},
     "output_type": "execute_result"
    }
   ],
   "source": [
    "output.intercept_  # beto "
   ]
  },
  {
   "cell_type": "code",
   "execution_count": 22,
   "id": "a6e775e8",
   "metadata": {},
   "outputs": [
    {
     "data": {
      "text/plain": [
       "array([[-0.14644355, -0.01123506, -0.02099987, -0.87260834,  1.61556775,\n",
       "         0.08228747, -0.02353013]])"
      ]
     },
     "execution_count": 22,
     "metadata": {},
     "output_type": "execute_result"
    }
   ],
   "source": [
    "output.coef_  # Beta 1 -- "
   ]
  },
  {
   "cell_type": "code",
   "execution_count": 23,
   "id": "941da402",
   "metadata": {},
   "outputs": [
    {
     "data": {
      "text/plain": [
       "7"
      ]
     },
     "execution_count": 23,
     "metadata": {},
     "output_type": "execute_result"
    }
   ],
   "source": [
    "output.n_features_in_"
   ]
  },
  {
   "cell_type": "code",
   "execution_count": 24,
   "id": "413c8a74",
   "metadata": {},
   "outputs": [
    {
     "data": {
      "text/plain": [
       "array(['Grade', 'pH', 'Temprature', 'Odor', 'Fat ', 'Turbidity', 'Colour'],\n",
       "      dtype=object)"
      ]
     },
     "execution_count": 24,
     "metadata": {},
     "output_type": "execute_result"
    }
   ],
   "source": [
    "output.feature_names_in_"
   ]
  },
  {
   "cell_type": "markdown",
   "id": "91dbf1e0",
   "metadata": {},
   "source": [
    "* We Reject Ho\n",
    "* There is log linear relationship between Taste and Grade,pH,Temprature,Odor,Fat,Turbidity,Colour"
   ]
  },
  {
   "cell_type": "markdown",
   "id": "bea51b19",
   "metadata": {},
   "source": [
    "# Step 6 : Predictions on Train Dataset\n"
   ]
  },
  {
   "cell_type": "code",
   "execution_count": 25,
   "id": "74a81e92",
   "metadata": {},
   "outputs": [
    {
     "data": {
      "text/html": [
       "<div>\n",
       "<style scoped>\n",
       "    .dataframe tbody tr th:only-of-type {\n",
       "        vertical-align: middle;\n",
       "    }\n",
       "\n",
       "    .dataframe tbody tr th {\n",
       "        vertical-align: top;\n",
       "    }\n",
       "\n",
       "    .dataframe thead th {\n",
       "        text-align: right;\n",
       "    }\n",
       "</style>\n",
       "<table border=\"1\" class=\"dataframe\">\n",
       "  <thead>\n",
       "    <tr style=\"text-align: right;\">\n",
       "      <th></th>\n",
       "      <th>Grade</th>\n",
       "      <th>pH</th>\n",
       "      <th>Temprature</th>\n",
       "      <th>Odor</th>\n",
       "      <th>Fat</th>\n",
       "      <th>Turbidity</th>\n",
       "      <th>Colour</th>\n",
       "      <th>Taste</th>\n",
       "    </tr>\n",
       "  </thead>\n",
       "  <tbody>\n",
       "    <tr>\n",
       "      <th>620</th>\n",
       "      <td>2</td>\n",
       "      <td>6.6</td>\n",
       "      <td>38</td>\n",
       "      <td>0</td>\n",
       "      <td>0</td>\n",
       "      <td>0</td>\n",
       "      <td>255</td>\n",
       "      <td>0</td>\n",
       "    </tr>\n",
       "    <tr>\n",
       "      <th>20</th>\n",
       "      <td>0</td>\n",
       "      <td>6.6</td>\n",
       "      <td>45</td>\n",
       "      <td>1</td>\n",
       "      <td>1</td>\n",
       "      <td>1</td>\n",
       "      <td>250</td>\n",
       "      <td>0</td>\n",
       "    </tr>\n",
       "    <tr>\n",
       "      <th>207</th>\n",
       "      <td>1</td>\n",
       "      <td>4.5</td>\n",
       "      <td>60</td>\n",
       "      <td>1</td>\n",
       "      <td>1</td>\n",
       "      <td>1</td>\n",
       "      <td>250</td>\n",
       "      <td>1</td>\n",
       "    </tr>\n",
       "    <tr>\n",
       "      <th>107</th>\n",
       "      <td>1</td>\n",
       "      <td>6.8</td>\n",
       "      <td>50</td>\n",
       "      <td>0</td>\n",
       "      <td>1</td>\n",
       "      <td>0</td>\n",
       "      <td>255</td>\n",
       "      <td>0</td>\n",
       "    </tr>\n",
       "    <tr>\n",
       "      <th>888</th>\n",
       "      <td>1</td>\n",
       "      <td>4.5</td>\n",
       "      <td>38</td>\n",
       "      <td>1</td>\n",
       "      <td>1</td>\n",
       "      <td>1</td>\n",
       "      <td>255</td>\n",
       "      <td>0</td>\n",
       "    </tr>\n",
       "  </tbody>\n",
       "</table>\n",
       "</div>"
      ],
      "text/plain": [
       "     Grade   pH  Temprature  Odor  Fat   Turbidity  Colour  Taste\n",
       "620      2  6.6          38     0     0          0     255      0\n",
       "20       0  6.6          45     1     1          1     250      0\n",
       "207      1  4.5          60     1     1          1     250      1\n",
       "107      1  6.8          50     0     1          0     255      0\n",
       "888      1  4.5          38     1     1          1     255      0"
      ]
     },
     "execution_count": 25,
     "metadata": {},
     "output_type": "execute_result"
    }
   ],
   "source": [
    "train=pd.concat([X_train,y_train],axis=1)\n",
    "train.head()"
   ]
  },
  {
   "cell_type": "code",
   "execution_count": 26,
   "id": "e57ebeda",
   "metadata": {},
   "outputs": [
    {
     "data": {
      "text/html": [
       "<div>\n",
       "<style scoped>\n",
       "    .dataframe tbody tr th:only-of-type {\n",
       "        vertical-align: middle;\n",
       "    }\n",
       "\n",
       "    .dataframe tbody tr th {\n",
       "        vertical-align: top;\n",
       "    }\n",
       "\n",
       "    .dataframe thead th {\n",
       "        text-align: right;\n",
       "    }\n",
       "</style>\n",
       "<table border=\"1\" class=\"dataframe\">\n",
       "  <thead>\n",
       "    <tr style=\"text-align: right;\">\n",
       "      <th></th>\n",
       "      <th>Grade</th>\n",
       "      <th>pH</th>\n",
       "      <th>Temprature</th>\n",
       "      <th>Odor</th>\n",
       "      <th>Fat</th>\n",
       "      <th>Turbidity</th>\n",
       "      <th>Colour</th>\n",
       "      <th>Taste</th>\n",
       "      <th>Predicted</th>\n",
       "    </tr>\n",
       "  </thead>\n",
       "  <tbody>\n",
       "    <tr>\n",
       "      <th>620</th>\n",
       "      <td>2</td>\n",
       "      <td>6.6</td>\n",
       "      <td>38</td>\n",
       "      <td>0</td>\n",
       "      <td>0</td>\n",
       "      <td>0</td>\n",
       "      <td>255</td>\n",
       "      <td>0</td>\n",
       "      <td>0</td>\n",
       "    </tr>\n",
       "    <tr>\n",
       "      <th>20</th>\n",
       "      <td>0</td>\n",
       "      <td>6.6</td>\n",
       "      <td>45</td>\n",
       "      <td>1</td>\n",
       "      <td>1</td>\n",
       "      <td>1</td>\n",
       "      <td>250</td>\n",
       "      <td>0</td>\n",
       "      <td>1</td>\n",
       "    </tr>\n",
       "    <tr>\n",
       "      <th>207</th>\n",
       "      <td>1</td>\n",
       "      <td>4.5</td>\n",
       "      <td>60</td>\n",
       "      <td>1</td>\n",
       "      <td>1</td>\n",
       "      <td>1</td>\n",
       "      <td>250</td>\n",
       "      <td>1</td>\n",
       "      <td>1</td>\n",
       "    </tr>\n",
       "    <tr>\n",
       "      <th>107</th>\n",
       "      <td>1</td>\n",
       "      <td>6.8</td>\n",
       "      <td>50</td>\n",
       "      <td>0</td>\n",
       "      <td>1</td>\n",
       "      <td>0</td>\n",
       "      <td>255</td>\n",
       "      <td>0</td>\n",
       "      <td>1</td>\n",
       "    </tr>\n",
       "    <tr>\n",
       "      <th>888</th>\n",
       "      <td>1</td>\n",
       "      <td>4.5</td>\n",
       "      <td>38</td>\n",
       "      <td>1</td>\n",
       "      <td>1</td>\n",
       "      <td>1</td>\n",
       "      <td>255</td>\n",
       "      <td>0</td>\n",
       "      <td>1</td>\n",
       "    </tr>\n",
       "  </tbody>\n",
       "</table>\n",
       "</div>"
      ],
      "text/plain": [
       "     Grade   pH  Temprature  Odor  Fat   Turbidity  Colour  Taste  Predicted\n",
       "620      2  6.6          38     0     0          0     255      0          0\n",
       "20       0  6.6          45     1     1          1     250      0          1\n",
       "207      1  4.5          60     1     1          1     250      1          1\n",
       "107      1  6.8          50     0     1          0     255      0          1\n",
       "888      1  4.5          38     1     1          1     255      0          1"
      ]
     },
     "execution_count": 26,
     "metadata": {},
     "output_type": "execute_result"
    }
   ],
   "source": [
    "train['Predicted']=output.predict(X_train)\n",
    "train.head()"
   ]
  },
  {
   "cell_type": "markdown",
   "id": "137d029d",
   "metadata": {},
   "source": [
    "train['Predicted']=np.where(train['Probability'] >= 0.7,1,0) \n",
    "train.head()"
   ]
  },
  {
   "cell_type": "markdown",
   "id": "92445977",
   "metadata": {},
   "source": [
    "# Step 7 : Model Performance Metrics"
   ]
  },
  {
   "cell_type": "code",
   "execution_count": 27,
   "id": "39c3d261",
   "metadata": {},
   "outputs": [
    {
     "data": {
      "text/plain": [
       "array([[210,  85],\n",
       "       [173, 379]], dtype=int64)"
      ]
     },
     "execution_count": 27,
     "metadata": {},
     "output_type": "execute_result"
    }
   ],
   "source": [
    "from sklearn.metrics import confusion_matrix\n",
    "matrix = confusion_matrix(train['Predicted'], train['Taste'])\n",
    "matrix"
   ]
  },
  {
   "cell_type": "code",
   "execution_count": 28,
   "id": "81894bc1",
   "metadata": {},
   "outputs": [
    {
     "name": "stdout",
     "output_type": "stream",
     "text": [
      "71.78276269185359\n"
     ]
    }
   ],
   "source": [
    "Accuracy_Train=((229+379)/(847)*100)\n",
    "print(Accuracy_Train)"
   ]
  },
  {
   "cell_type": "code",
   "execution_count": 29,
   "id": "ed0bbe88",
   "metadata": {},
   "outputs": [
    {
     "name": "stdout",
     "output_type": "stream",
     "text": [
      "              precision    recall  f1-score   support\n",
      "\n",
      "           0       0.71      0.55      0.62       383\n",
      "           1       0.69      0.82      0.75       464\n",
      "\n",
      "    accuracy                           0.70       847\n",
      "   macro avg       0.70      0.68      0.68       847\n",
      "weighted avg       0.70      0.70      0.69       847\n",
      "\n"
     ]
    }
   ],
   "source": [
    "from sklearn.metrics import classification_report\n",
    "print(classification_report(train['Taste'],train['Predicted']))"
   ]
  },
  {
   "cell_type": "markdown",
   "id": "b9094ae3",
   "metadata": {},
   "source": [
    "* Accuracy of  Model is 70%,Hence Model is good Fit \n",
    "* Accuracy of Bad Customer Capture by Model is 82% ( Sensitivity )\n",
    "* Accuracy of Good Customer Capture by Model is 55% (Specificity)"
   ]
  },
  {
   "cell_type": "markdown",
   "id": "d1e9c31d",
   "metadata": {},
   "source": [
    "# Step 8 : Predictions on Test Dataset"
   ]
  },
  {
   "cell_type": "code",
   "execution_count": 30,
   "id": "97e49e96",
   "metadata": {},
   "outputs": [
    {
     "data": {
      "text/html": [
       "<div>\n",
       "<style scoped>\n",
       "    .dataframe tbody tr th:only-of-type {\n",
       "        vertical-align: middle;\n",
       "    }\n",
       "\n",
       "    .dataframe tbody tr th {\n",
       "        vertical-align: top;\n",
       "    }\n",
       "\n",
       "    .dataframe thead th {\n",
       "        text-align: right;\n",
       "    }\n",
       "</style>\n",
       "<table border=\"1\" class=\"dataframe\">\n",
       "  <thead>\n",
       "    <tr style=\"text-align: right;\">\n",
       "      <th></th>\n",
       "      <th>Grade</th>\n",
       "      <th>pH</th>\n",
       "      <th>Temprature</th>\n",
       "      <th>Odor</th>\n",
       "      <th>Fat</th>\n",
       "      <th>Turbidity</th>\n",
       "      <th>Colour</th>\n",
       "      <th>Taste</th>\n",
       "    </tr>\n",
       "  </thead>\n",
       "  <tbody>\n",
       "    <tr>\n",
       "      <th>847</th>\n",
       "      <td>1</td>\n",
       "      <td>6.5</td>\n",
       "      <td>37</td>\n",
       "      <td>1</td>\n",
       "      <td>1</td>\n",
       "      <td>1</td>\n",
       "      <td>245</td>\n",
       "      <td>0</td>\n",
       "    </tr>\n",
       "    <tr>\n",
       "      <th>931</th>\n",
       "      <td>0</td>\n",
       "      <td>6.8</td>\n",
       "      <td>45</td>\n",
       "      <td>1</td>\n",
       "      <td>1</td>\n",
       "      <td>0</td>\n",
       "      <td>245</td>\n",
       "      <td>1</td>\n",
       "    </tr>\n",
       "    <tr>\n",
       "      <th>764</th>\n",
       "      <td>1</td>\n",
       "      <td>8.6</td>\n",
       "      <td>55</td>\n",
       "      <td>1</td>\n",
       "      <td>1</td>\n",
       "      <td>1</td>\n",
       "      <td>255</td>\n",
       "      <td>0</td>\n",
       "    </tr>\n",
       "    <tr>\n",
       "      <th>1053</th>\n",
       "      <td>1</td>\n",
       "      <td>8.1</td>\n",
       "      <td>66</td>\n",
       "      <td>0</td>\n",
       "      <td>1</td>\n",
       "      <td>1</td>\n",
       "      <td>255</td>\n",
       "      <td>1</td>\n",
       "    </tr>\n",
       "    <tr>\n",
       "      <th>431</th>\n",
       "      <td>0</td>\n",
       "      <td>6.6</td>\n",
       "      <td>43</td>\n",
       "      <td>0</td>\n",
       "      <td>1</td>\n",
       "      <td>1</td>\n",
       "      <td>250</td>\n",
       "      <td>1</td>\n",
       "    </tr>\n",
       "  </tbody>\n",
       "</table>\n",
       "</div>"
      ],
      "text/plain": [
       "      Grade   pH  Temprature  Odor  Fat   Turbidity  Colour  Taste\n",
       "847       1  6.5          37     1     1          1     245      0\n",
       "931       0  6.8          45     1     1          0     245      1\n",
       "764       1  8.6          55     1     1          1     255      0\n",
       "1053      1  8.1          66     0     1          1     255      1\n",
       "431       0  6.6          43     0     1          1     250      1"
      ]
     },
     "execution_count": 30,
     "metadata": {},
     "output_type": "execute_result"
    }
   ],
   "source": [
    "test=pd.concat([X_test,y_test],axis=1)\n",
    "test.head()"
   ]
  },
  {
   "cell_type": "code",
   "execution_count": 31,
   "id": "cb9c2972",
   "metadata": {},
   "outputs": [
    {
     "data": {
      "text/html": [
       "<div>\n",
       "<style scoped>\n",
       "    .dataframe tbody tr th:only-of-type {\n",
       "        vertical-align: middle;\n",
       "    }\n",
       "\n",
       "    .dataframe tbody tr th {\n",
       "        vertical-align: top;\n",
       "    }\n",
       "\n",
       "    .dataframe thead th {\n",
       "        text-align: right;\n",
       "    }\n",
       "</style>\n",
       "<table border=\"1\" class=\"dataframe\">\n",
       "  <thead>\n",
       "    <tr style=\"text-align: right;\">\n",
       "      <th></th>\n",
       "      <th>Grade</th>\n",
       "      <th>pH</th>\n",
       "      <th>Temprature</th>\n",
       "      <th>Odor</th>\n",
       "      <th>Fat</th>\n",
       "      <th>Turbidity</th>\n",
       "      <th>Colour</th>\n",
       "      <th>Taste</th>\n",
       "      <th>Predicted</th>\n",
       "    </tr>\n",
       "  </thead>\n",
       "  <tbody>\n",
       "    <tr>\n",
       "      <th>847</th>\n",
       "      <td>1</td>\n",
       "      <td>6.5</td>\n",
       "      <td>37</td>\n",
       "      <td>1</td>\n",
       "      <td>1</td>\n",
       "      <td>1</td>\n",
       "      <td>245</td>\n",
       "      <td>0</td>\n",
       "      <td>1</td>\n",
       "    </tr>\n",
       "    <tr>\n",
       "      <th>931</th>\n",
       "      <td>0</td>\n",
       "      <td>6.8</td>\n",
       "      <td>45</td>\n",
       "      <td>1</td>\n",
       "      <td>1</td>\n",
       "      <td>0</td>\n",
       "      <td>245</td>\n",
       "      <td>1</td>\n",
       "      <td>1</td>\n",
       "    </tr>\n",
       "    <tr>\n",
       "      <th>764</th>\n",
       "      <td>1</td>\n",
       "      <td>8.6</td>\n",
       "      <td>55</td>\n",
       "      <td>1</td>\n",
       "      <td>1</td>\n",
       "      <td>1</td>\n",
       "      <td>255</td>\n",
       "      <td>0</td>\n",
       "      <td>0</td>\n",
       "    </tr>\n",
       "    <tr>\n",
       "      <th>1053</th>\n",
       "      <td>1</td>\n",
       "      <td>8.1</td>\n",
       "      <td>66</td>\n",
       "      <td>0</td>\n",
       "      <td>1</td>\n",
       "      <td>1</td>\n",
       "      <td>255</td>\n",
       "      <td>1</td>\n",
       "      <td>1</td>\n",
       "    </tr>\n",
       "    <tr>\n",
       "      <th>431</th>\n",
       "      <td>0</td>\n",
       "      <td>6.6</td>\n",
       "      <td>43</td>\n",
       "      <td>0</td>\n",
       "      <td>1</td>\n",
       "      <td>1</td>\n",
       "      <td>250</td>\n",
       "      <td>1</td>\n",
       "      <td>1</td>\n",
       "    </tr>\n",
       "  </tbody>\n",
       "</table>\n",
       "</div>"
      ],
      "text/plain": [
       "      Grade   pH  Temprature  Odor  Fat   Turbidity  Colour  Taste  Predicted\n",
       "847       1  6.5          37     1     1          1     245      0          1\n",
       "931       0  6.8          45     1     1          0     245      1          1\n",
       "764       1  8.6          55     1     1          1     255      0          0\n",
       "1053      1  8.1          66     0     1          1     255      1          1\n",
       "431       0  6.6          43     0     1          1     250      1          1"
      ]
     },
     "execution_count": 31,
     "metadata": {},
     "output_type": "execute_result"
    }
   ],
   "source": [
    "test['Predicted']=output.predict(X_test)\n",
    "test.head()"
   ]
  },
  {
   "cell_type": "markdown",
   "id": "3f6ac3c0",
   "metadata": {},
   "source": [
    "# Step 9 : Model Performance Metrics on Test data "
   ]
  },
  {
   "cell_type": "code",
   "execution_count": 32,
   "id": "15d0aaa4",
   "metadata": {},
   "outputs": [
    {
     "name": "stdout",
     "output_type": "stream",
     "text": [
      "[[61 28]\n",
      " [30 93]]\n"
     ]
    }
   ],
   "source": [
    "from sklearn.metrics import confusion_matrix\n",
    "matrix = confusion_matrix(test['Predicted'],test['Taste'])\n",
    "print(matrix)"
   ]
  },
  {
   "cell_type": "code",
   "execution_count": 33,
   "id": "759a4705",
   "metadata": {},
   "outputs": [
    {
     "data": {
      "text/plain": [
       "72.64150943396226"
      ]
     },
     "execution_count": 33,
     "metadata": {},
     "output_type": "execute_result"
    }
   ],
   "source": [
    "Accuracy_test=((61+93)/(212)*100)\n",
    "Accuracy_test"
   ]
  },
  {
   "cell_type": "code",
   "execution_count": 34,
   "id": "7c43a106",
   "metadata": {},
   "outputs": [
    {
     "name": "stdout",
     "output_type": "stream",
     "text": [
      "              precision    recall  f1-score   support\n",
      "\n",
      "           0       0.69      0.67      0.68        91\n",
      "           1       0.76      0.77      0.76       121\n",
      "\n",
      "    accuracy                           0.73       212\n",
      "   macro avg       0.72      0.72      0.72       212\n",
      "weighted avg       0.73      0.73      0.73       212\n",
      "\n"
     ]
    }
   ],
   "source": [
    "from sklearn.metrics import classification_report\n",
    "print(classification_report(test['Taste'],test['Predicted']))"
   ]
  },
  {
   "cell_type": "markdown",
   "id": "6f3fafc7",
   "metadata": {},
   "source": [
    "* Accuracy of  Model is 73%,Hence Model is good Fit \n",
    "* Accuracy of Bad Customer Capture by Model is 77% ( Sensitivity )\n",
    "* Accuracy of Good Customer Capture by Model is 67% "
   ]
  },
  {
   "cell_type": "markdown",
   "id": "2c898d02",
   "metadata": {},
   "source": [
    "# Coefficient \n",
    "\n",
    "* For future Prediction below 4 variable data is mandatory \n",
    "\n",
    "* Note :- If anyone is not present output will not be reliable "
   ]
  },
  {
   "cell_type": "code",
   "execution_count": 35,
   "id": "73df8130",
   "metadata": {},
   "outputs": [
    {
     "data": {
      "text/html": [
       "<div>\n",
       "<style scoped>\n",
       "    .dataframe tbody tr th:only-of-type {\n",
       "        vertical-align: middle;\n",
       "    }\n",
       "\n",
       "    .dataframe tbody tr th {\n",
       "        vertical-align: top;\n",
       "    }\n",
       "\n",
       "    .dataframe thead th {\n",
       "        text-align: right;\n",
       "    }\n",
       "</style>\n",
       "<table border=\"1\" class=\"dataframe\">\n",
       "  <thead>\n",
       "    <tr style=\"text-align: right;\">\n",
       "      <th></th>\n",
       "      <th>Coefficient</th>\n",
       "    </tr>\n",
       "  </thead>\n",
       "  <tbody>\n",
       "    <tr>\n",
       "      <th>Intercept</th>\n",
       "      <td>6.530818</td>\n",
       "    </tr>\n",
       "  </tbody>\n",
       "</table>\n",
       "</div>"
      ],
      "text/plain": [
       "           Coefficient\n",
       "Intercept     6.530818"
      ]
     },
     "execution_count": 35,
     "metadata": {},
     "output_type": "execute_result"
    }
   ],
   "source": [
    "Model_Values=pd.DataFrame(output.intercept_,index=['Intercept'],columns=['Coefficient'])\n",
    "Model_Values"
   ]
  },
  {
   "cell_type": "code",
   "execution_count": 36,
   "id": "54840a31",
   "metadata": {},
   "outputs": [
    {
     "data": {
      "text/html": [
       "<div>\n",
       "<style scoped>\n",
       "    .dataframe tbody tr th:only-of-type {\n",
       "        vertical-align: middle;\n",
       "    }\n",
       "\n",
       "    .dataframe tbody tr th {\n",
       "        vertical-align: top;\n",
       "    }\n",
       "\n",
       "    .dataframe thead th {\n",
       "        text-align: right;\n",
       "    }\n",
       "</style>\n",
       "<table border=\"1\" class=\"dataframe\">\n",
       "  <thead>\n",
       "    <tr style=\"text-align: right;\">\n",
       "      <th></th>\n",
       "      <th>Coefficient</th>\n",
       "    </tr>\n",
       "  </thead>\n",
       "  <tbody>\n",
       "    <tr>\n",
       "      <th>pH</th>\n",
       "      <td>-0.146444</td>\n",
       "    </tr>\n",
       "    <tr>\n",
       "      <th>Temprature</th>\n",
       "      <td>-0.011235</td>\n",
       "    </tr>\n",
       "    <tr>\n",
       "      <th>Odor</th>\n",
       "      <td>-0.021000</td>\n",
       "    </tr>\n",
       "    <tr>\n",
       "      <th>Fat</th>\n",
       "      <td>-0.872608</td>\n",
       "    </tr>\n",
       "    <tr>\n",
       "      <th>Turbidity</th>\n",
       "      <td>1.615568</td>\n",
       "    </tr>\n",
       "    <tr>\n",
       "      <th>Colour</th>\n",
       "      <td>0.082287</td>\n",
       "    </tr>\n",
       "    <tr>\n",
       "      <th>Grade</th>\n",
       "      <td>-0.023530</td>\n",
       "    </tr>\n",
       "  </tbody>\n",
       "</table>\n",
       "</div>"
      ],
      "text/plain": [
       "            Coefficient\n",
       "pH            -0.146444\n",
       "Temprature    -0.011235\n",
       "Odor          -0.021000\n",
       "Fat           -0.872608\n",
       "Turbidity      1.615568\n",
       "Colour         0.082287\n",
       "Grade         -0.023530"
      ]
     },
     "execution_count": 36,
     "metadata": {},
     "output_type": "execute_result"
    }
   ],
   "source": [
    "rows=[\"pH\",\"Temprature\",\"Odor\",\"Fat\",\"Turbidity\",\"Colour\",\"Grade\"]\n",
    "\n",
    "abc=pd.DataFrame(output.coef_.T,index=rows,columns=['Coefficient'])\n",
    "abc"
   ]
  },
  {
   "cell_type": "code",
   "execution_count": 37,
   "id": "fda68a8e",
   "metadata": {},
   "outputs": [
    {
     "data": {
      "text/html": [
       "<div>\n",
       "<style scoped>\n",
       "    .dataframe tbody tr th:only-of-type {\n",
       "        vertical-align: middle;\n",
       "    }\n",
       "\n",
       "    .dataframe tbody tr th {\n",
       "        vertical-align: top;\n",
       "    }\n",
       "\n",
       "    .dataframe thead th {\n",
       "        text-align: right;\n",
       "    }\n",
       "</style>\n",
       "<table border=\"1\" class=\"dataframe\">\n",
       "  <thead>\n",
       "    <tr style=\"text-align: right;\">\n",
       "      <th></th>\n",
       "      <th>Coefficient</th>\n",
       "    </tr>\n",
       "  </thead>\n",
       "  <tbody>\n",
       "    <tr>\n",
       "      <th>Intercept</th>\n",
       "      <td>6.530818</td>\n",
       "    </tr>\n",
       "    <tr>\n",
       "      <th>pH</th>\n",
       "      <td>-0.146444</td>\n",
       "    </tr>\n",
       "    <tr>\n",
       "      <th>Temprature</th>\n",
       "      <td>-0.011235</td>\n",
       "    </tr>\n",
       "    <tr>\n",
       "      <th>Odor</th>\n",
       "      <td>-0.021000</td>\n",
       "    </tr>\n",
       "    <tr>\n",
       "      <th>Fat</th>\n",
       "      <td>-0.872608</td>\n",
       "    </tr>\n",
       "    <tr>\n",
       "      <th>Turbidity</th>\n",
       "      <td>1.615568</td>\n",
       "    </tr>\n",
       "    <tr>\n",
       "      <th>Colour</th>\n",
       "      <td>0.082287</td>\n",
       "    </tr>\n",
       "    <tr>\n",
       "      <th>Grade</th>\n",
       "      <td>-0.023530</td>\n",
       "    </tr>\n",
       "  </tbody>\n",
       "</table>\n",
       "</div>"
      ],
      "text/plain": [
       "            Coefficient\n",
       "Intercept      6.530818\n",
       "pH            -0.146444\n",
       "Temprature    -0.011235\n",
       "Odor          -0.021000\n",
       "Fat           -0.872608\n",
       "Turbidity      1.615568\n",
       "Colour         0.082287\n",
       "Grade         -0.023530"
      ]
     },
     "execution_count": 37,
     "metadata": {},
     "output_type": "execute_result"
    }
   ],
   "source": [
    "Model_Values.append(abc)"
   ]
  },
  {
   "cell_type": "markdown",
   "id": "77f99ce9",
   "metadata": {},
   "source": [
    "# Finish"
   ]
  },
  {
   "cell_type": "code",
   "execution_count": null,
   "id": "b0a80f1e",
   "metadata": {},
   "outputs": [],
   "source": []
  }
 ],
 "metadata": {
  "kernelspec": {
   "display_name": "Python 3 (ipykernel)",
   "language": "python",
   "name": "python3"
  },
  "language_info": {
   "codemirror_mode": {
    "name": "ipython",
    "version": 3
   },
   "file_extension": ".py",
   "mimetype": "text/x-python",
   "name": "python",
   "nbconvert_exporter": "python",
   "pygments_lexer": "ipython3",
   "version": "3.9.12"
  }
 },
 "nbformat": 4,
 "nbformat_minor": 5
}
