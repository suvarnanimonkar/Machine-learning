{
 "cells": [
  {
   "cell_type": "markdown",
   "id": "2e9b4d87",
   "metadata": {},
   "source": [
    "# Objectives:\n",
    "Students Performance in Exams\n",
    "Marks secured by the students in various subjects"
   ]
  },
  {
   "cell_type": "markdown",
   "id": "e9bc38d6",
   "metadata": {},
   "source": [
    "# Step 1 :  Import Library and Dataset"
   ]
  },
  {
   "cell_type": "code",
   "execution_count": 63,
   "id": "5f995a57",
   "metadata": {},
   "outputs": [],
   "source": [
    "import pandas as pd\n",
    "import numpy as np"
   ]
  },
  {
   "cell_type": "code",
   "execution_count": 64,
   "id": "41c86a85",
   "metadata": {
    "scrolled": true
   },
   "outputs": [
    {
     "data": {
      "text/html": [
       "<div>\n",
       "<style scoped>\n",
       "    .dataframe tbody tr th:only-of-type {\n",
       "        vertical-align: middle;\n",
       "    }\n",
       "\n",
       "    .dataframe tbody tr th {\n",
       "        vertical-align: top;\n",
       "    }\n",
       "\n",
       "    .dataframe thead th {\n",
       "        text-align: right;\n",
       "    }\n",
       "</style>\n",
       "<table border=\"1\" class=\"dataframe\">\n",
       "  <thead>\n",
       "    <tr style=\"text-align: right;\">\n",
       "      <th></th>\n",
       "      <th>gender</th>\n",
       "      <th>race/ethnicity</th>\n",
       "      <th>parental level of education</th>\n",
       "      <th>lunch</th>\n",
       "      <th>test preparation course</th>\n",
       "      <th>math score</th>\n",
       "      <th>reading score</th>\n",
       "      <th>writing score</th>\n",
       "    </tr>\n",
       "  </thead>\n",
       "  <tbody>\n",
       "    <tr>\n",
       "      <th>0</th>\n",
       "      <td>male</td>\n",
       "      <td>group A</td>\n",
       "      <td>high school</td>\n",
       "      <td>standard</td>\n",
       "      <td>completed</td>\n",
       "      <td>67</td>\n",
       "      <td>67</td>\n",
       "      <td>63</td>\n",
       "    </tr>\n",
       "    <tr>\n",
       "      <th>1</th>\n",
       "      <td>female</td>\n",
       "      <td>group D</td>\n",
       "      <td>some high school</td>\n",
       "      <td>free/reduced</td>\n",
       "      <td>none</td>\n",
       "      <td>40</td>\n",
       "      <td>59</td>\n",
       "      <td>55</td>\n",
       "    </tr>\n",
       "    <tr>\n",
       "      <th>2</th>\n",
       "      <td>male</td>\n",
       "      <td>group E</td>\n",
       "      <td>some college</td>\n",
       "      <td>free/reduced</td>\n",
       "      <td>none</td>\n",
       "      <td>59</td>\n",
       "      <td>60</td>\n",
       "      <td>50</td>\n",
       "    </tr>\n",
       "    <tr>\n",
       "      <th>3</th>\n",
       "      <td>male</td>\n",
       "      <td>group B</td>\n",
       "      <td>high school</td>\n",
       "      <td>standard</td>\n",
       "      <td>none</td>\n",
       "      <td>77</td>\n",
       "      <td>78</td>\n",
       "      <td>68</td>\n",
       "    </tr>\n",
       "    <tr>\n",
       "      <th>4</th>\n",
       "      <td>male</td>\n",
       "      <td>group E</td>\n",
       "      <td>associate's degree</td>\n",
       "      <td>standard</td>\n",
       "      <td>completed</td>\n",
       "      <td>78</td>\n",
       "      <td>73</td>\n",
       "      <td>68</td>\n",
       "    </tr>\n",
       "    <tr>\n",
       "      <th>...</th>\n",
       "      <td>...</td>\n",
       "      <td>...</td>\n",
       "      <td>...</td>\n",
       "      <td>...</td>\n",
       "      <td>...</td>\n",
       "      <td>...</td>\n",
       "      <td>...</td>\n",
       "      <td>...</td>\n",
       "    </tr>\n",
       "    <tr>\n",
       "      <th>995</th>\n",
       "      <td>male</td>\n",
       "      <td>group C</td>\n",
       "      <td>high school</td>\n",
       "      <td>standard</td>\n",
       "      <td>none</td>\n",
       "      <td>73</td>\n",
       "      <td>70</td>\n",
       "      <td>65</td>\n",
       "    </tr>\n",
       "    <tr>\n",
       "      <th>996</th>\n",
       "      <td>male</td>\n",
       "      <td>group D</td>\n",
       "      <td>associate's degree</td>\n",
       "      <td>free/reduced</td>\n",
       "      <td>completed</td>\n",
       "      <td>85</td>\n",
       "      <td>91</td>\n",
       "      <td>92</td>\n",
       "    </tr>\n",
       "    <tr>\n",
       "      <th>997</th>\n",
       "      <td>female</td>\n",
       "      <td>group C</td>\n",
       "      <td>some high school</td>\n",
       "      <td>free/reduced</td>\n",
       "      <td>none</td>\n",
       "      <td>32</td>\n",
       "      <td>35</td>\n",
       "      <td>41</td>\n",
       "    </tr>\n",
       "    <tr>\n",
       "      <th>998</th>\n",
       "      <td>female</td>\n",
       "      <td>group C</td>\n",
       "      <td>some college</td>\n",
       "      <td>standard</td>\n",
       "      <td>none</td>\n",
       "      <td>73</td>\n",
       "      <td>74</td>\n",
       "      <td>82</td>\n",
       "    </tr>\n",
       "    <tr>\n",
       "      <th>999</th>\n",
       "      <td>male</td>\n",
       "      <td>group A</td>\n",
       "      <td>some college</td>\n",
       "      <td>standard</td>\n",
       "      <td>completed</td>\n",
       "      <td>65</td>\n",
       "      <td>60</td>\n",
       "      <td>62</td>\n",
       "    </tr>\n",
       "  </tbody>\n",
       "</table>\n",
       "<p>1000 rows × 8 columns</p>\n",
       "</div>"
      ],
      "text/plain": [
       "     gender race/ethnicity parental level of education         lunch  \\\n",
       "0      male        group A                 high school      standard   \n",
       "1    female        group D            some high school  free/reduced   \n",
       "2      male        group E                some college  free/reduced   \n",
       "3      male        group B                 high school      standard   \n",
       "4      male        group E          associate's degree      standard   \n",
       "..      ...            ...                         ...           ...   \n",
       "995    male        group C                 high school      standard   \n",
       "996    male        group D          associate's degree  free/reduced   \n",
       "997  female        group C            some high school  free/reduced   \n",
       "998  female        group C                some college      standard   \n",
       "999    male        group A                some college      standard   \n",
       "\n",
       "    test preparation course  math score  reading score  writing score  \n",
       "0                 completed          67             67             63  \n",
       "1                      none          40             59             55  \n",
       "2                      none          59             60             50  \n",
       "3                      none          77             78             68  \n",
       "4                 completed          78             73             68  \n",
       "..                      ...         ...            ...            ...  \n",
       "995                    none          73             70             65  \n",
       "996               completed          85             91             92  \n",
       "997                    none          32             35             41  \n",
       "998                    none          73             74             82  \n",
       "999               completed          65             60             62  \n",
       "\n",
       "[1000 rows x 8 columns]"
      ]
     },
     "execution_count": 64,
     "metadata": {},
     "output_type": "execute_result"
    }
   ],
   "source": [
    "std = pd.read_csv(r\"C:\\Users\\suvar\\Desktop\\Decision tree\\exams.csv\")\n",
    "std\n"
   ]
  },
  {
   "cell_type": "code",
   "execution_count": 65,
   "id": "d143dd10",
   "metadata": {},
   "outputs": [
    {
     "data": {
      "text/html": [
       "<div>\n",
       "<style scoped>\n",
       "    .dataframe tbody tr th:only-of-type {\n",
       "        vertical-align: middle;\n",
       "    }\n",
       "\n",
       "    .dataframe tbody tr th {\n",
       "        vertical-align: top;\n",
       "    }\n",
       "\n",
       "    .dataframe thead th {\n",
       "        text-align: right;\n",
       "    }\n",
       "</style>\n",
       "<table border=\"1\" class=\"dataframe\">\n",
       "  <thead>\n",
       "    <tr style=\"text-align: right;\">\n",
       "      <th></th>\n",
       "      <th>gender</th>\n",
       "      <th>race/ethnicity</th>\n",
       "      <th>parental level of education</th>\n",
       "      <th>lunch</th>\n",
       "      <th>test preparation course</th>\n",
       "      <th>math score</th>\n",
       "      <th>reading score</th>\n",
       "      <th>writing score</th>\n",
       "    </tr>\n",
       "  </thead>\n",
       "  <tbody>\n",
       "    <tr>\n",
       "      <th>0</th>\n",
       "      <td>male</td>\n",
       "      <td>group A</td>\n",
       "      <td>high school</td>\n",
       "      <td>standard</td>\n",
       "      <td>completed</td>\n",
       "      <td>67</td>\n",
       "      <td>67</td>\n",
       "      <td>63</td>\n",
       "    </tr>\n",
       "    <tr>\n",
       "      <th>1</th>\n",
       "      <td>female</td>\n",
       "      <td>group D</td>\n",
       "      <td>some high school</td>\n",
       "      <td>free/reduced</td>\n",
       "      <td>none</td>\n",
       "      <td>40</td>\n",
       "      <td>59</td>\n",
       "      <td>55</td>\n",
       "    </tr>\n",
       "    <tr>\n",
       "      <th>2</th>\n",
       "      <td>male</td>\n",
       "      <td>group E</td>\n",
       "      <td>some college</td>\n",
       "      <td>free/reduced</td>\n",
       "      <td>none</td>\n",
       "      <td>59</td>\n",
       "      <td>60</td>\n",
       "      <td>50</td>\n",
       "    </tr>\n",
       "    <tr>\n",
       "      <th>3</th>\n",
       "      <td>male</td>\n",
       "      <td>group B</td>\n",
       "      <td>high school</td>\n",
       "      <td>standard</td>\n",
       "      <td>none</td>\n",
       "      <td>77</td>\n",
       "      <td>78</td>\n",
       "      <td>68</td>\n",
       "    </tr>\n",
       "    <tr>\n",
       "      <th>4</th>\n",
       "      <td>male</td>\n",
       "      <td>group E</td>\n",
       "      <td>associate's degree</td>\n",
       "      <td>standard</td>\n",
       "      <td>completed</td>\n",
       "      <td>78</td>\n",
       "      <td>73</td>\n",
       "      <td>68</td>\n",
       "    </tr>\n",
       "  </tbody>\n",
       "</table>\n",
       "</div>"
      ],
      "text/plain": [
       "   gender race/ethnicity parental level of education         lunch  \\\n",
       "0    male        group A                 high school      standard   \n",
       "1  female        group D            some high school  free/reduced   \n",
       "2    male        group E                some college  free/reduced   \n",
       "3    male        group B                 high school      standard   \n",
       "4    male        group E          associate's degree      standard   \n",
       "\n",
       "  test preparation course  math score  reading score  writing score  \n",
       "0               completed          67             67             63  \n",
       "1                    none          40             59             55  \n",
       "2                    none          59             60             50  \n",
       "3                    none          77             78             68  \n",
       "4               completed          78             73             68  "
      ]
     },
     "execution_count": 65,
     "metadata": {},
     "output_type": "execute_result"
    }
   ],
   "source": [
    "std.head(5)"
   ]
  },
  {
   "cell_type": "code",
   "execution_count": 73,
   "id": "9c3e3b5e",
   "metadata": {},
   "outputs": [
    {
     "data": {
      "text/plain": [
       "Index(['race/ethnicity', 'parentallevelofeducation', 'lunch',\n",
       "       'testpreparationcourse', 'mathscore', 'readingscore', 'writingscore'],\n",
       "      dtype='object')"
      ]
     },
     "execution_count": 73,
     "metadata": {},
     "output_type": "execute_result"
    }
   ],
   "source": [
    "std.columns=['race/ethnicity','parentallevelofeducation','lunch','testpreparationcourse','mathscore','readingscore','writingscore']\n",
    "std.columns"
   ]
  },
  {
   "cell_type": "markdown",
   "id": "c66c7041",
   "metadata": {},
   "source": [
    "# Step 2 : Data Pre-Processing"
   ]
  },
  {
   "cell_type": "markdown",
   "id": "365bf693",
   "metadata": {},
   "source": [
    "### Univariate Analysis"
   ]
  },
  {
   "cell_type": "code",
   "execution_count": 74,
   "id": "47186ff1",
   "metadata": {},
   "outputs": [
    {
     "name": "stdout",
     "output_type": "stream",
     "text": [
      "<class 'pandas.core.frame.DataFrame'>\n",
      "RangeIndex: 1000 entries, 0 to 999\n",
      "Data columns (total 7 columns):\n",
      " #   Column                    Non-Null Count  Dtype \n",
      "---  ------                    --------------  ----- \n",
      " 0   race/ethnicity            1000 non-null   object\n",
      " 1   parentallevelofeducation  1000 non-null   object\n",
      " 2   lunch                     1000 non-null   object\n",
      " 3   testpreparationcourse     1000 non-null   object\n",
      " 4   mathscore                 1000 non-null   int64 \n",
      " 5   readingscore              1000 non-null   int64 \n",
      " 6   writingscore              1000 non-null   int64 \n",
      "dtypes: int64(3), object(4)\n",
      "memory usage: 54.8+ KB\n"
     ]
    }
   ],
   "source": [
    "std.info()"
   ]
  },
  {
   "cell_type": "code",
   "execution_count": 75,
   "id": "d7cdce46",
   "metadata": {},
   "outputs": [
    {
     "data": {
      "text/html": [
       "<div>\n",
       "<style scoped>\n",
       "    .dataframe tbody tr th:only-of-type {\n",
       "        vertical-align: middle;\n",
       "    }\n",
       "\n",
       "    .dataframe tbody tr th {\n",
       "        vertical-align: top;\n",
       "    }\n",
       "\n",
       "    .dataframe thead th {\n",
       "        text-align: right;\n",
       "    }\n",
       "</style>\n",
       "<table border=\"1\" class=\"dataframe\">\n",
       "  <thead>\n",
       "    <tr style=\"text-align: right;\">\n",
       "      <th></th>\n",
       "      <th>mathscore</th>\n",
       "      <th>readingscore</th>\n",
       "      <th>writingscore</th>\n",
       "    </tr>\n",
       "  </thead>\n",
       "  <tbody>\n",
       "    <tr>\n",
       "      <th>count</th>\n",
       "      <td>1000.000000</td>\n",
       "      <td>1000.000000</td>\n",
       "      <td>1000.000000</td>\n",
       "    </tr>\n",
       "    <tr>\n",
       "      <th>mean</th>\n",
       "      <td>66.396000</td>\n",
       "      <td>69.002000</td>\n",
       "      <td>67.738000</td>\n",
       "    </tr>\n",
       "    <tr>\n",
       "      <th>std</th>\n",
       "      <td>15.402871</td>\n",
       "      <td>14.737272</td>\n",
       "      <td>15.600985</td>\n",
       "    </tr>\n",
       "    <tr>\n",
       "      <th>min</th>\n",
       "      <td>13.000000</td>\n",
       "      <td>27.000000</td>\n",
       "      <td>23.000000</td>\n",
       "    </tr>\n",
       "    <tr>\n",
       "      <th>25%</th>\n",
       "      <td>56.000000</td>\n",
       "      <td>60.000000</td>\n",
       "      <td>58.000000</td>\n",
       "    </tr>\n",
       "    <tr>\n",
       "      <th>50%</th>\n",
       "      <td>66.500000</td>\n",
       "      <td>70.000000</td>\n",
       "      <td>68.000000</td>\n",
       "    </tr>\n",
       "    <tr>\n",
       "      <th>75%</th>\n",
       "      <td>77.000000</td>\n",
       "      <td>79.000000</td>\n",
       "      <td>79.000000</td>\n",
       "    </tr>\n",
       "    <tr>\n",
       "      <th>max</th>\n",
       "      <td>100.000000</td>\n",
       "      <td>100.000000</td>\n",
       "      <td>100.000000</td>\n",
       "    </tr>\n",
       "  </tbody>\n",
       "</table>\n",
       "</div>"
      ],
      "text/plain": [
       "         mathscore  readingscore  writingscore\n",
       "count  1000.000000   1000.000000   1000.000000\n",
       "mean     66.396000     69.002000     67.738000\n",
       "std      15.402871     14.737272     15.600985\n",
       "min      13.000000     27.000000     23.000000\n",
       "25%      56.000000     60.000000     58.000000\n",
       "50%      66.500000     70.000000     68.000000\n",
       "75%      77.000000     79.000000     79.000000\n",
       "max     100.000000    100.000000    100.000000"
      ]
     },
     "execution_count": 75,
     "metadata": {},
     "output_type": "execute_result"
    }
   ],
   "source": [
    "std.describe()"
   ]
  },
  {
   "cell_type": "markdown",
   "id": "550f242b",
   "metadata": {},
   "source": [
    "### Removing Irrelavent Variable\n"
   ]
  },
  {
   "cell_type": "code",
   "execution_count": 76,
   "id": "5eb0cf53",
   "metadata": {},
   "outputs": [
    {
     "data": {
      "text/plain": [
       "Index(['parentallevelofeducation', 'lunch', 'testpreparationcourse',\n",
       "       'mathscore', 'readingscore', 'writingscore'],\n",
       "      dtype='object')"
      ]
     },
     "execution_count": 76,
     "metadata": {},
     "output_type": "execute_result"
    }
   ],
   "source": [
    "std = std.drop(['race/ethnicity'],axis=1)\n",
    "std.columns"
   ]
  },
  {
   "cell_type": "code",
   "execution_count": 77,
   "id": "7accf978",
   "metadata": {},
   "outputs": [],
   "source": [
    "std['writingscore'] =std[\"writingscore\"].replace(\" \",np.nan).astype(float) \n"
   ]
  },
  {
   "cell_type": "code",
   "execution_count": 78,
   "id": "b2605dcb",
   "metadata": {},
   "outputs": [
    {
     "name": "stdout",
     "output_type": "stream",
     "text": [
      "<class 'pandas.core.frame.DataFrame'>\n",
      "RangeIndex: 1000 entries, 0 to 999\n",
      "Data columns (total 6 columns):\n",
      " #   Column                    Non-Null Count  Dtype  \n",
      "---  ------                    --------------  -----  \n",
      " 0   parentallevelofeducation  1000 non-null   object \n",
      " 1   lunch                     1000 non-null   object \n",
      " 2   testpreparationcourse     1000 non-null   object \n",
      " 3   mathscore                 1000 non-null   int64  \n",
      " 4   readingscore              1000 non-null   int64  \n",
      " 5   writingscore              1000 non-null   float64\n",
      "dtypes: float64(1), int64(2), object(3)\n",
      "memory usage: 47.0+ KB\n"
     ]
    }
   ],
   "source": [
    "std.info()"
   ]
  },
  {
   "cell_type": "markdown",
   "id": "327bf16e",
   "metadata": {},
   "source": [
    "### Checking Missing Value"
   ]
  },
  {
   "cell_type": "code",
   "execution_count": 79,
   "id": "adf5623d",
   "metadata": {},
   "outputs": [
    {
     "data": {
      "text/plain": [
       "parentallevelofeducation    0\n",
       "lunch                       0\n",
       "testpreparationcourse       0\n",
       "mathscore                   0\n",
       "readingscore                0\n",
       "writingscore                0\n",
       "dtype: int64"
      ]
     },
     "execution_count": 79,
     "metadata": {},
     "output_type": "execute_result"
    }
   ],
   "source": [
    "std.isna().sum()"
   ]
  },
  {
   "cell_type": "code",
   "execution_count": 80,
   "id": "bad7c393",
   "metadata": {},
   "outputs": [],
   "source": [
    "std.writingscore.fillna(std.writingscore.mean(),inplace=True) \n"
   ]
  },
  {
   "cell_type": "code",
   "execution_count": 81,
   "id": "384a2304",
   "metadata": {},
   "outputs": [
    {
     "data": {
      "text/plain": [
       "parentallevelofeducation    0\n",
       "lunch                       0\n",
       "testpreparationcourse       0\n",
       "mathscore                   0\n",
       "readingscore                0\n",
       "writingscore                0\n",
       "dtype: int64"
      ]
     },
     "execution_count": 81,
     "metadata": {},
     "output_type": "execute_result"
    }
   ],
   "source": [
    "std.isna().sum()"
   ]
  },
  {
   "cell_type": "code",
   "execution_count": 82,
   "id": "1c28b583",
   "metadata": {},
   "outputs": [
    {
     "data": {
      "text/html": [
       "<div>\n",
       "<style scoped>\n",
       "    .dataframe tbody tr th:only-of-type {\n",
       "        vertical-align: middle;\n",
       "    }\n",
       "\n",
       "    .dataframe tbody tr th {\n",
       "        vertical-align: top;\n",
       "    }\n",
       "\n",
       "    .dataframe thead th {\n",
       "        text-align: right;\n",
       "    }\n",
       "</style>\n",
       "<table border=\"1\" class=\"dataframe\">\n",
       "  <thead>\n",
       "    <tr style=\"text-align: right;\">\n",
       "      <th></th>\n",
       "      <th>mathscore</th>\n",
       "      <th>readingscore</th>\n",
       "      <th>writingscore</th>\n",
       "    </tr>\n",
       "  </thead>\n",
       "  <tbody>\n",
       "    <tr>\n",
       "      <th>count</th>\n",
       "      <td>1000.000000</td>\n",
       "      <td>1000.000000</td>\n",
       "      <td>1000.000000</td>\n",
       "    </tr>\n",
       "    <tr>\n",
       "      <th>mean</th>\n",
       "      <td>66.396000</td>\n",
       "      <td>69.002000</td>\n",
       "      <td>67.738000</td>\n",
       "    </tr>\n",
       "    <tr>\n",
       "      <th>std</th>\n",
       "      <td>15.402871</td>\n",
       "      <td>14.737272</td>\n",
       "      <td>15.600985</td>\n",
       "    </tr>\n",
       "    <tr>\n",
       "      <th>min</th>\n",
       "      <td>13.000000</td>\n",
       "      <td>27.000000</td>\n",
       "      <td>23.000000</td>\n",
       "    </tr>\n",
       "    <tr>\n",
       "      <th>25%</th>\n",
       "      <td>56.000000</td>\n",
       "      <td>60.000000</td>\n",
       "      <td>58.000000</td>\n",
       "    </tr>\n",
       "    <tr>\n",
       "      <th>50%</th>\n",
       "      <td>66.500000</td>\n",
       "      <td>70.000000</td>\n",
       "      <td>68.000000</td>\n",
       "    </tr>\n",
       "    <tr>\n",
       "      <th>75%</th>\n",
       "      <td>77.000000</td>\n",
       "      <td>79.000000</td>\n",
       "      <td>79.000000</td>\n",
       "    </tr>\n",
       "    <tr>\n",
       "      <th>max</th>\n",
       "      <td>100.000000</td>\n",
       "      <td>100.000000</td>\n",
       "      <td>100.000000</td>\n",
       "    </tr>\n",
       "  </tbody>\n",
       "</table>\n",
       "</div>"
      ],
      "text/plain": [
       "         mathscore  readingscore  writingscore\n",
       "count  1000.000000   1000.000000   1000.000000\n",
       "mean     66.396000     69.002000     67.738000\n",
       "std      15.402871     14.737272     15.600985\n",
       "min      13.000000     27.000000     23.000000\n",
       "25%      56.000000     60.000000     58.000000\n",
       "50%      66.500000     70.000000     68.000000\n",
       "75%      77.000000     79.000000     79.000000\n",
       "max     100.000000    100.000000    100.000000"
      ]
     },
     "execution_count": 82,
     "metadata": {},
     "output_type": "execute_result"
    }
   ],
   "source": [
    "std.describe() # describe works for number by default "
   ]
  },
  {
   "cell_type": "code",
   "execution_count": 83,
   "id": "fa11244d",
   "metadata": {},
   "outputs": [
    {
     "data": {
      "text/html": [
       "<div>\n",
       "<style scoped>\n",
       "    .dataframe tbody tr th:only-of-type {\n",
       "        vertical-align: middle;\n",
       "    }\n",
       "\n",
       "    .dataframe tbody tr th {\n",
       "        vertical-align: top;\n",
       "    }\n",
       "\n",
       "    .dataframe thead th {\n",
       "        text-align: right;\n",
       "    }\n",
       "</style>\n",
       "<table border=\"1\" class=\"dataframe\">\n",
       "  <thead>\n",
       "    <tr style=\"text-align: right;\">\n",
       "      <th></th>\n",
       "      <th>parentallevelofeducation</th>\n",
       "      <th>lunch</th>\n",
       "      <th>testpreparationcourse</th>\n",
       "      <th>mathscore</th>\n",
       "      <th>readingscore</th>\n",
       "      <th>writingscore</th>\n",
       "    </tr>\n",
       "  </thead>\n",
       "  <tbody>\n",
       "    <tr>\n",
       "      <th>0</th>\n",
       "      <td>high school</td>\n",
       "      <td>standard</td>\n",
       "      <td>completed</td>\n",
       "      <td>67</td>\n",
       "      <td>67</td>\n",
       "      <td>63.0</td>\n",
       "    </tr>\n",
       "    <tr>\n",
       "      <th>1</th>\n",
       "      <td>some high school</td>\n",
       "      <td>free/reduced</td>\n",
       "      <td>none</td>\n",
       "      <td>40</td>\n",
       "      <td>59</td>\n",
       "      <td>55.0</td>\n",
       "    </tr>\n",
       "    <tr>\n",
       "      <th>2</th>\n",
       "      <td>some college</td>\n",
       "      <td>free/reduced</td>\n",
       "      <td>none</td>\n",
       "      <td>59</td>\n",
       "      <td>60</td>\n",
       "      <td>50.0</td>\n",
       "    </tr>\n",
       "    <tr>\n",
       "      <th>3</th>\n",
       "      <td>high school</td>\n",
       "      <td>standard</td>\n",
       "      <td>none</td>\n",
       "      <td>77</td>\n",
       "      <td>78</td>\n",
       "      <td>68.0</td>\n",
       "    </tr>\n",
       "    <tr>\n",
       "      <th>4</th>\n",
       "      <td>associate's degree</td>\n",
       "      <td>standard</td>\n",
       "      <td>completed</td>\n",
       "      <td>78</td>\n",
       "      <td>73</td>\n",
       "      <td>68.0</td>\n",
       "    </tr>\n",
       "  </tbody>\n",
       "</table>\n",
       "</div>"
      ],
      "text/plain": [
       "  parentallevelofeducation         lunch testpreparationcourse  mathscore  \\\n",
       "0              high school      standard             completed         67   \n",
       "1         some high school  free/reduced                  none         40   \n",
       "2             some college  free/reduced                  none         59   \n",
       "3              high school      standard                  none         77   \n",
       "4       associate's degree      standard             completed         78   \n",
       "\n",
       "   readingscore  writingscore  \n",
       "0            67          63.0  \n",
       "1            59          55.0  \n",
       "2            60          50.0  \n",
       "3            78          68.0  \n",
       "4            73          68.0  "
      ]
     },
     "execution_count": 83,
     "metadata": {},
     "output_type": "execute_result"
    }
   ],
   "source": [
    "std.head()"
   ]
  },
  {
   "cell_type": "code",
   "execution_count": 95,
   "id": "5f29a253",
   "metadata": {},
   "outputs": [
    {
     "data": {
      "text/plain": [
       "standard        652\n",
       "free/reduced    348\n",
       "Name: lunch, dtype: int64"
      ]
     },
     "execution_count": 95,
     "metadata": {},
     "output_type": "execute_result"
    }
   ],
   "source": [
    "std.lunch.value_counts(ascending=False)"
   ]
  },
  {
   "cell_type": "code",
   "execution_count": 96,
   "id": "db8de818",
   "metadata": {},
   "outputs": [
    {
     "data": {
      "text/plain": [
       "1000"
      ]
     },
     "execution_count": 96,
     "metadata": {},
     "output_type": "execute_result"
    }
   ],
   "source": [
    "652 + 348"
   ]
  },
  {
   "cell_type": "code",
   "execution_count": 97,
   "id": "395d6566",
   "metadata": {},
   "outputs": [],
   "source": [
    "std.testpreparationcourse=std.testpreparationcourse.replace({'test preparetion course' : 'none'})"
   ]
  },
  {
   "cell_type": "code",
   "execution_count": 98,
   "id": "99c1f35b",
   "metadata": {},
   "outputs": [
    {
     "data": {
      "text/plain": [
       "none         665\n",
       "completed    335\n",
       "Name: testpreparationcourse, dtype: int64"
      ]
     },
     "execution_count": 98,
     "metadata": {},
     "output_type": "execute_result"
    }
   ],
   "source": [
    "std.testpreparationcourse.value_counts()"
   ]
  },
  {
   "cell_type": "markdown",
   "id": "2e0f3e60",
   "metadata": {},
   "source": [
    "# Churn Rate Analysis\n"
   ]
  },
  {
   "cell_type": "code",
   "execution_count": 101,
   "id": "199de3f5",
   "metadata": {},
   "outputs": [
    {
     "data": {
      "application/vnd.plotly.v1+json": {
       "config": {
        "plotlyServerURL": "https://plot.ly"
       },
       "data": [
        {
         "customdata": [
          [
           "completed"
          ],
          [
           "none"
          ],
          [
           "none"
          ],
          [
           "none"
          ],
          [
           "completed"
          ],
          [
           "none"
          ],
          [
           "none"
          ],
          [
           "completed"
          ],
          [
           "none"
          ],
          [
           "none"
          ],
          [
           "completed"
          ],
          [
           "completed"
          ],
          [
           "completed"
          ],
          [
           "completed"
          ],
          [
           "completed"
          ],
          [
           "none"
          ],
          [
           "none"
          ],
          [
           "completed"
          ],
          [
           "none"
          ],
          [
           "none"
          ],
          [
           "none"
          ],
          [
           "none"
          ],
          [
           "completed"
          ],
          [
           "none"
          ],
          [
           "none"
          ],
          [
           "none"
          ],
          [
           "none"
          ],
          [
           "none"
          ],
          [
           "completed"
          ],
          [
           "none"
          ],
          [
           "none"
          ],
          [
           "none"
          ],
          [
           "completed"
          ],
          [
           "completed"
          ],
          [
           "completed"
          ],
          [
           "none"
          ],
          [
           "completed"
          ],
          [
           "none"
          ],
          [
           "completed"
          ],
          [
           "none"
          ],
          [
           "none"
          ],
          [
           "none"
          ],
          [
           "completed"
          ],
          [
           "none"
          ],
          [
           "none"
          ],
          [
           "none"
          ],
          [
           "none"
          ],
          [
           "completed"
          ],
          [
           "none"
          ],
          [
           "completed"
          ],
          [
           "none"
          ],
          [
           "none"
          ],
          [
           "none"
          ],
          [
           "none"
          ],
          [
           "none"
          ],
          [
           "completed"
          ],
          [
           "completed"
          ],
          [
           "completed"
          ],
          [
           "none"
          ],
          [
           "none"
          ],
          [
           "none"
          ],
          [
           "none"
          ],
          [
           "completed"
          ],
          [
           "completed"
          ],
          [
           "completed"
          ],
          [
           "completed"
          ],
          [
           "none"
          ],
          [
           "none"
          ],
          [
           "none"
          ],
          [
           "none"
          ],
          [
           "completed"
          ],
          [
           "none"
          ],
          [
           "none"
          ],
          [
           "completed"
          ],
          [
           "none"
          ],
          [
           "none"
          ],
          [
           "none"
          ],
          [
           "none"
          ],
          [
           "none"
          ],
          [
           "none"
          ],
          [
           "none"
          ],
          [
           "none"
          ],
          [
           "none"
          ],
          [
           "completed"
          ],
          [
           "none"
          ],
          [
           "none"
          ],
          [
           "none"
          ],
          [
           "none"
          ],
          [
           "none"
          ],
          [
           "none"
          ],
          [
           "none"
          ],
          [
           "none"
          ],
          [
           "none"
          ],
          [
           "completed"
          ],
          [
           "none"
          ],
          [
           "completed"
          ],
          [
           "completed"
          ],
          [
           "none"
          ],
          [
           "none"
          ],
          [
           "none"
          ],
          [
           "completed"
          ],
          [
           "completed"
          ],
          [
           "none"
          ],
          [
           "none"
          ],
          [
           "none"
          ],
          [
           "none"
          ],
          [
           "none"
          ],
          [
           "none"
          ],
          [
           "none"
          ],
          [
           "none"
          ],
          [
           "completed"
          ],
          [
           "none"
          ],
          [
           "none"
          ],
          [
           "none"
          ],
          [
           "none"
          ],
          [
           "completed"
          ],
          [
           "none"
          ],
          [
           "completed"
          ],
          [
           "none"
          ],
          [
           "completed"
          ],
          [
           "completed"
          ],
          [
           "completed"
          ],
          [
           "completed"
          ],
          [
           "completed"
          ],
          [
           "none"
          ],
          [
           "none"
          ],
          [
           "none"
          ],
          [
           "none"
          ],
          [
           "completed"
          ],
          [
           "completed"
          ],
          [
           "completed"
          ],
          [
           "completed"
          ],
          [
           "none"
          ],
          [
           "none"
          ],
          [
           "none"
          ],
          [
           "none"
          ],
          [
           "completed"
          ],
          [
           "completed"
          ],
          [
           "none"
          ],
          [
           "none"
          ],
          [
           "none"
          ],
          [
           "none"
          ],
          [
           "none"
          ],
          [
           "none"
          ],
          [
           "completed"
          ],
          [
           "none"
          ],
          [
           "completed"
          ],
          [
           "none"
          ],
          [
           "completed"
          ],
          [
           "none"
          ],
          [
           "completed"
          ],
          [
           "none"
          ],
          [
           "none"
          ],
          [
           "none"
          ],
          [
           "none"
          ],
          [
           "none"
          ],
          [
           "none"
          ],
          [
           "none"
          ],
          [
           "none"
          ],
          [
           "none"
          ],
          [
           "completed"
          ],
          [
           "none"
          ],
          [
           "none"
          ],
          [
           "completed"
          ],
          [
           "completed"
          ],
          [
           "completed"
          ],
          [
           "none"
          ],
          [
           "completed"
          ],
          [
           "none"
          ],
          [
           "none"
          ],
          [
           "none"
          ],
          [
           "none"
          ],
          [
           "completed"
          ],
          [
           "completed"
          ],
          [
           "completed"
          ],
          [
           "none"
          ],
          [
           "none"
          ],
          [
           "none"
          ],
          [
           "completed"
          ],
          [
           "completed"
          ],
          [
           "none"
          ],
          [
           "none"
          ],
          [
           "none"
          ],
          [
           "none"
          ],
          [
           "completed"
          ],
          [
           "none"
          ],
          [
           "none"
          ],
          [
           "none"
          ],
          [
           "none"
          ],
          [
           "completed"
          ],
          [
           "completed"
          ],
          [
           "none"
          ],
          [
           "none"
          ],
          [
           "completed"
          ],
          [
           "none"
          ],
          [
           "none"
          ],
          [
           "none"
          ],
          [
           "none"
          ],
          [
           "completed"
          ],
          [
           "none"
          ],
          [
           "completed"
          ],
          [
           "none"
          ],
          [
           "none"
          ],
          [
           "completed"
          ],
          [
           "none"
          ],
          [
           "completed"
          ],
          [
           "completed"
          ],
          [
           "none"
          ],
          [
           "none"
          ],
          [
           "none"
          ],
          [
           "completed"
          ],
          [
           "none"
          ],
          [
           "completed"
          ],
          [
           "none"
          ],
          [
           "completed"
          ],
          [
           "none"
          ],
          [
           "none"
          ],
          [
           "none"
          ],
          [
           "completed"
          ],
          [
           "none"
          ],
          [
           "none"
          ],
          [
           "completed"
          ],
          [
           "none"
          ],
          [
           "none"
          ],
          [
           "none"
          ],
          [
           "none"
          ],
          [
           "completed"
          ],
          [
           "none"
          ],
          [
           "none"
          ],
          [
           "completed"
          ],
          [
           "none"
          ],
          [
           "none"
          ],
          [
           "none"
          ],
          [
           "none"
          ],
          [
           "none"
          ],
          [
           "completed"
          ],
          [
           "none"
          ],
          [
           "none"
          ],
          [
           "none"
          ],
          [
           "completed"
          ],
          [
           "none"
          ],
          [
           "completed"
          ],
          [
           "none"
          ],
          [
           "none"
          ],
          [
           "none"
          ],
          [
           "none"
          ],
          [
           "completed"
          ],
          [
           "none"
          ],
          [
           "completed"
          ],
          [
           "none"
          ],
          [
           "none"
          ],
          [
           "none"
          ],
          [
           "none"
          ],
          [
           "none"
          ],
          [
           "none"
          ],
          [
           "none"
          ],
          [
           "none"
          ],
          [
           "none"
          ],
          [
           "none"
          ],
          [
           "completed"
          ],
          [
           "none"
          ],
          [
           "none"
          ],
          [
           "none"
          ],
          [
           "none"
          ],
          [
           "completed"
          ],
          [
           "none"
          ],
          [
           "none"
          ],
          [
           "none"
          ],
          [
           "none"
          ],
          [
           "none"
          ],
          [
           "none"
          ],
          [
           "none"
          ],
          [
           "completed"
          ],
          [
           "none"
          ],
          [
           "completed"
          ],
          [
           "none"
          ],
          [
           "none"
          ],
          [
           "none"
          ],
          [
           "none"
          ],
          [
           "completed"
          ],
          [
           "none"
          ],
          [
           "completed"
          ],
          [
           "completed"
          ],
          [
           "none"
          ],
          [
           "none"
          ],
          [
           "none"
          ],
          [
           "none"
          ],
          [
           "none"
          ],
          [
           "none"
          ],
          [
           "completed"
          ],
          [
           "none"
          ],
          [
           "completed"
          ],
          [
           "completed"
          ],
          [
           "none"
          ],
          [
           "completed"
          ],
          [
           "none"
          ],
          [
           "none"
          ],
          [
           "none"
          ],
          [
           "none"
          ],
          [
           "none"
          ],
          [
           "none"
          ],
          [
           "none"
          ],
          [
           "none"
          ],
          [
           "none"
          ],
          [
           "none"
          ],
          [
           "none"
          ],
          [
           "none"
          ],
          [
           "none"
          ],
          [
           "none"
          ],
          [
           "completed"
          ],
          [
           "completed"
          ],
          [
           "none"
          ],
          [
           "none"
          ],
          [
           "completed"
          ],
          [
           "none"
          ],
          [
           "completed"
          ],
          [
           "completed"
          ],
          [
           "none"
          ],
          [
           "none"
          ],
          [
           "none"
          ],
          [
           "completed"
          ],
          [
           "completed"
          ],
          [
           "none"
          ],
          [
           "completed"
          ],
          [
           "none"
          ],
          [
           "none"
          ],
          [
           "completed"
          ],
          [
           "none"
          ],
          [
           "completed"
          ],
          [
           "completed"
          ],
          [
           "none"
          ],
          [
           "completed"
          ],
          [
           "none"
          ],
          [
           "none"
          ],
          [
           "none"
          ],
          [
           "completed"
          ],
          [
           "none"
          ],
          [
           "none"
          ],
          [
           "none"
          ],
          [
           "completed"
          ],
          [
           "none"
          ],
          [
           "none"
          ],
          [
           "none"
          ],
          [
           "none"
          ],
          [
           "completed"
          ],
          [
           "none"
          ],
          [
           "none"
          ],
          [
           "none"
          ],
          [
           "completed"
          ],
          [
           "completed"
          ],
          [
           "none"
          ],
          [
           "none"
          ],
          [
           "completed"
          ],
          [
           "completed"
          ],
          [
           "none"
          ],
          [
           "none"
          ],
          [
           "completed"
          ],
          [
           "none"
          ],
          [
           "completed"
          ],
          [
           "completed"
          ],
          [
           "none"
          ],
          [
           "none"
          ],
          [
           "completed"
          ],
          [
           "completed"
          ],
          [
           "none"
          ],
          [
           "none"
          ],
          [
           "none"
          ],
          [
           "none"
          ],
          [
           "none"
          ],
          [
           "none"
          ],
          [
           "completed"
          ],
          [
           "completed"
          ],
          [
           "completed"
          ],
          [
           "completed"
          ],
          [
           "none"
          ],
          [
           "none"
          ],
          [
           "none"
          ],
          [
           "none"
          ],
          [
           "completed"
          ],
          [
           "none"
          ],
          [
           "none"
          ],
          [
           "completed"
          ],
          [
           "completed"
          ],
          [
           "completed"
          ],
          [
           "completed"
          ],
          [
           "none"
          ],
          [
           "none"
          ],
          [
           "completed"
          ],
          [
           "completed"
          ],
          [
           "none"
          ],
          [
           "none"
          ],
          [
           "none"
          ],
          [
           "none"
          ],
          [
           "none"
          ],
          [
           "none"
          ],
          [
           "none"
          ],
          [
           "none"
          ],
          [
           "completed"
          ],
          [
           "completed"
          ],
          [
           "completed"
          ],
          [
           "completed"
          ],
          [
           "completed"
          ],
          [
           "completed"
          ],
          [
           "completed"
          ],
          [
           "none"
          ],
          [
           "none"
          ],
          [
           "none"
          ],
          [
           "completed"
          ],
          [
           "none"
          ],
          [
           "none"
          ],
          [
           "none"
          ],
          [
           "none"
          ],
          [
           "none"
          ],
          [
           "completed"
          ],
          [
           "none"
          ],
          [
           "none"
          ],
          [
           "none"
          ],
          [
           "none"
          ],
          [
           "none"
          ],
          [
           "none"
          ],
          [
           "none"
          ],
          [
           "none"
          ],
          [
           "none"
          ],
          [
           "none"
          ],
          [
           "none"
          ],
          [
           "none"
          ],
          [
           "none"
          ],
          [
           "none"
          ],
          [
           "none"
          ],
          [
           "completed"
          ],
          [
           "none"
          ],
          [
           "none"
          ],
          [
           "none"
          ],
          [
           "completed"
          ],
          [
           "none"
          ],
          [
           "none"
          ],
          [
           "none"
          ],
          [
           "none"
          ],
          [
           "none"
          ],
          [
           "none"
          ],
          [
           "completed"
          ],
          [
           "completed"
          ],
          [
           "completed"
          ],
          [
           "none"
          ],
          [
           "completed"
          ],
          [
           "none"
          ],
          [
           "none"
          ],
          [
           "none"
          ],
          [
           "none"
          ],
          [
           "none"
          ],
          [
           "completed"
          ],
          [
           "none"
          ],
          [
           "completed"
          ],
          [
           "none"
          ],
          [
           "completed"
          ],
          [
           "none"
          ],
          [
           "completed"
          ],
          [
           "none"
          ],
          [
           "completed"
          ],
          [
           "completed"
          ],
          [
           "completed"
          ],
          [
           "completed"
          ],
          [
           "completed"
          ],
          [
           "none"
          ],
          [
           "none"
          ],
          [
           "completed"
          ],
          [
           "completed"
          ],
          [
           "completed"
          ],
          [
           "none"
          ],
          [
           "none"
          ],
          [
           "none"
          ],
          [
           "none"
          ],
          [
           "none"
          ],
          [
           "none"
          ],
          [
           "none"
          ],
          [
           "completed"
          ],
          [
           "none"
          ],
          [
           "none"
          ],
          [
           "completed"
          ],
          [
           "none"
          ],
          [
           "none"
          ],
          [
           "none"
          ],
          [
           "none"
          ],
          [
           "none"
          ],
          [
           "completed"
          ],
          [
           "none"
          ],
          [
           "none"
          ],
          [
           "none"
          ],
          [
           "none"
          ],
          [
           "none"
          ],
          [
           "none"
          ],
          [
           "completed"
          ],
          [
           "none"
          ],
          [
           "none"
          ],
          [
           "none"
          ],
          [
           "none"
          ],
          [
           "none"
          ],
          [
           "none"
          ],
          [
           "completed"
          ],
          [
           "completed"
          ],
          [
           "none"
          ],
          [
           "none"
          ],
          [
           "none"
          ],
          [
           "none"
          ],
          [
           "completed"
          ],
          [
           "none"
          ],
          [
           "none"
          ],
          [
           "completed"
          ],
          [
           "none"
          ],
          [
           "none"
          ],
          [
           "none"
          ],
          [
           "none"
          ],
          [
           "none"
          ],
          [
           "completed"
          ],
          [
           "none"
          ],
          [
           "none"
          ],
          [
           "none"
          ],
          [
           "none"
          ],
          [
           "completed"
          ],
          [
           "none"
          ],
          [
           "none"
          ],
          [
           "completed"
          ],
          [
           "none"
          ],
          [
           "none"
          ],
          [
           "none"
          ],
          [
           "none"
          ],
          [
           "none"
          ],
          [
           "completed"
          ],
          [
           "completed"
          ],
          [
           "none"
          ],
          [
           "none"
          ],
          [
           "none"
          ],
          [
           "none"
          ],
          [
           "completed"
          ],
          [
           "completed"
          ],
          [
           "none"
          ],
          [
           "completed"
          ],
          [
           "completed"
          ],
          [
           "none"
          ],
          [
           "none"
          ],
          [
           "completed"
          ],
          [
           "completed"
          ],
          [
           "none"
          ],
          [
           "completed"
          ],
          [
           "none"
          ],
          [
           "completed"
          ],
          [
           "completed"
          ],
          [
           "none"
          ],
          [
           "none"
          ],
          [
           "none"
          ],
          [
           "completed"
          ],
          [
           "none"
          ],
          [
           "completed"
          ],
          [
           "none"
          ],
          [
           "completed"
          ],
          [
           "none"
          ],
          [
           "none"
          ],
          [
           "none"
          ],
          [
           "none"
          ],
          [
           "none"
          ],
          [
           "none"
          ],
          [
           "none"
          ],
          [
           "none"
          ],
          [
           "completed"
          ],
          [
           "completed"
          ],
          [
           "none"
          ],
          [
           "none"
          ],
          [
           "completed"
          ],
          [
           "none"
          ],
          [
           "none"
          ],
          [
           "none"
          ],
          [
           "completed"
          ],
          [
           "none"
          ],
          [
           "none"
          ],
          [
           "completed"
          ],
          [
           "completed"
          ],
          [
           "completed"
          ],
          [
           "none"
          ],
          [
           "none"
          ],
          [
           "none"
          ],
          [
           "completed"
          ],
          [
           "none"
          ],
          [
           "completed"
          ],
          [
           "none"
          ],
          [
           "none"
          ],
          [
           "completed"
          ],
          [
           "completed"
          ],
          [
           "none"
          ],
          [
           "none"
          ],
          [
           "none"
          ],
          [
           "none"
          ],
          [
           "completed"
          ],
          [
           "none"
          ],
          [
           "completed"
          ],
          [
           "none"
          ],
          [
           "none"
          ],
          [
           "completed"
          ],
          [
           "none"
          ],
          [
           "none"
          ],
          [
           "completed"
          ],
          [
           "none"
          ],
          [
           "none"
          ],
          [
           "none"
          ],
          [
           "completed"
          ],
          [
           "completed"
          ],
          [
           "none"
          ],
          [
           "completed"
          ],
          [
           "none"
          ],
          [
           "none"
          ],
          [
           "none"
          ],
          [
           "none"
          ],
          [
           "completed"
          ],
          [
           "none"
          ],
          [
           "completed"
          ],
          [
           "none"
          ],
          [
           "none"
          ],
          [
           "completed"
          ],
          [
           "completed"
          ],
          [
           "none"
          ],
          [
           "none"
          ],
          [
           "none"
          ],
          [
           "none"
          ],
          [
           "completed"
          ],
          [
           "completed"
          ],
          [
           "none"
          ],
          [
           "none"
          ],
          [
           "completed"
          ],
          [
           "none"
          ],
          [
           "none"
          ],
          [
           "none"
          ],
          [
           "none"
          ],
          [
           "none"
          ],
          [
           "none"
          ],
          [
           "none"
          ],
          [
           "completed"
          ],
          [
           "none"
          ],
          [
           "none"
          ],
          [
           "none"
          ],
          [
           "none"
          ],
          [
           "none"
          ],
          [
           "none"
          ],
          [
           "none"
          ],
          [
           "completed"
          ],
          [
           "none"
          ],
          [
           "none"
          ],
          [
           "completed"
          ],
          [
           "completed"
          ],
          [
           "completed"
          ],
          [
           "completed"
          ],
          [
           "none"
          ],
          [
           "none"
          ],
          [
           "completed"
          ],
          [
           "completed"
          ],
          [
           "none"
          ],
          [
           "none"
          ],
          [
           "completed"
          ],
          [
           "none"
          ],
          [
           "completed"
          ],
          [
           "none"
          ],
          [
           "none"
          ],
          [
           "completed"
          ],
          [
           "none"
          ],
          [
           "none"
          ],
          [
           "completed"
          ],
          [
           "none"
          ],
          [
           "none"
          ],
          [
           "completed"
          ],
          [
           "none"
          ],
          [
           "none"
          ],
          [
           "none"
          ],
          [
           "none"
          ],
          [
           "none"
          ],
          [
           "none"
          ],
          [
           "none"
          ],
          [
           "none"
          ],
          [
           "none"
          ],
          [
           "none"
          ],
          [
           "none"
          ],
          [
           "none"
          ],
          [
           "none"
          ],
          [
           "none"
          ],
          [
           "completed"
          ],
          [
           "none"
          ],
          [
           "none"
          ],
          [
           "none"
          ],
          [
           "completed"
          ],
          [
           "completed"
          ],
          [
           "completed"
          ],
          [
           "completed"
          ],
          [
           "none"
          ],
          [
           "completed"
          ],
          [
           "none"
          ],
          [
           "none"
          ],
          [
           "none"
          ],
          [
           "completed"
          ],
          [
           "completed"
          ],
          [
           "completed"
          ],
          [
           "none"
          ],
          [
           "completed"
          ],
          [
           "completed"
          ],
          [
           "none"
          ],
          [
           "completed"
          ],
          [
           "none"
          ],
          [
           "none"
          ],
          [
           "none"
          ],
          [
           "none"
          ],
          [
           "none"
          ],
          [
           "none"
          ],
          [
           "completed"
          ],
          [
           "none"
          ],
          [
           "none"
          ],
          [
           "none"
          ],
          [
           "completed"
          ],
          [
           "none"
          ],
          [
           "completed"
          ],
          [
           "none"
          ],
          [
           "completed"
          ],
          [
           "none"
          ],
          [
           "completed"
          ],
          [
           "completed"
          ],
          [
           "none"
          ],
          [
           "completed"
          ],
          [
           "completed"
          ],
          [
           "none"
          ],
          [
           "completed"
          ],
          [
           "none"
          ],
          [
           "none"
          ],
          [
           "none"
          ],
          [
           "completed"
          ],
          [
           "none"
          ],
          [
           "none"
          ],
          [
           "none"
          ],
          [
           "none"
          ],
          [
           "none"
          ],
          [
           "none"
          ],
          [
           "completed"
          ],
          [
           "completed"
          ],
          [
           "none"
          ],
          [
           "none"
          ],
          [
           "completed"
          ],
          [
           "none"
          ],
          [
           "completed"
          ],
          [
           "none"
          ],
          [
           "completed"
          ],
          [
           "none"
          ],
          [
           "none"
          ],
          [
           "none"
          ],
          [
           "none"
          ],
          [
           "none"
          ],
          [
           "none"
          ],
          [
           "none"
          ],
          [
           "completed"
          ],
          [
           "none"
          ],
          [
           "none"
          ],
          [
           "completed"
          ],
          [
           "none"
          ],
          [
           "none"
          ],
          [
           "none"
          ],
          [
           "completed"
          ],
          [
           "none"
          ],
          [
           "none"
          ],
          [
           "completed"
          ],
          [
           "none"
          ],
          [
           "completed"
          ],
          [
           "none"
          ],
          [
           "completed"
          ],
          [
           "none"
          ],
          [
           "none"
          ],
          [
           "none"
          ],
          [
           "none"
          ],
          [
           "none"
          ],
          [
           "completed"
          ],
          [
           "completed"
          ],
          [
           "none"
          ],
          [
           "none"
          ],
          [
           "none"
          ],
          [
           "none"
          ],
          [
           "none"
          ],
          [
           "none"
          ],
          [
           "none"
          ],
          [
           "completed"
          ],
          [
           "none"
          ],
          [
           "none"
          ],
          [
           "completed"
          ],
          [
           "completed"
          ],
          [
           "completed"
          ],
          [
           "completed"
          ],
          [
           "none"
          ],
          [
           "none"
          ],
          [
           "none"
          ],
          [
           "none"
          ],
          [
           "completed"
          ],
          [
           "completed"
          ],
          [
           "completed"
          ],
          [
           "completed"
          ],
          [
           "none"
          ],
          [
           "completed"
          ],
          [
           "completed"
          ],
          [
           "none"
          ],
          [
           "none"
          ],
          [
           "completed"
          ],
          [
           "none"
          ],
          [
           "completed"
          ],
          [
           "none"
          ],
          [
           "none"
          ],
          [
           "none"
          ],
          [
           "none"
          ],
          [
           "none"
          ],
          [
           "none"
          ],
          [
           "none"
          ],
          [
           "none"
          ],
          [
           "none"
          ],
          [
           "none"
          ],
          [
           "none"
          ],
          [
           "none"
          ],
          [
           "completed"
          ],
          [
           "completed"
          ],
          [
           "none"
          ],
          [
           "none"
          ],
          [
           "none"
          ],
          [
           "none"
          ],
          [
           "none"
          ],
          [
           "completed"
          ],
          [
           "none"
          ],
          [
           "completed"
          ],
          [
           "completed"
          ],
          [
           "completed"
          ],
          [
           "none"
          ],
          [
           "completed"
          ],
          [
           "none"
          ],
          [
           "none"
          ],
          [
           "completed"
          ],
          [
           "none"
          ],
          [
           "none"
          ],
          [
           "none"
          ],
          [
           "none"
          ],
          [
           "completed"
          ],
          [
           "completed"
          ],
          [
           "completed"
          ],
          [
           "completed"
          ],
          [
           "none"
          ],
          [
           "none"
          ],
          [
           "completed"
          ],
          [
           "completed"
          ],
          [
           "none"
          ],
          [
           "none"
          ],
          [
           "completed"
          ],
          [
           "none"
          ],
          [
           "none"
          ],
          [
           "completed"
          ],
          [
           "none"
          ],
          [
           "completed"
          ],
          [
           "none"
          ],
          [
           "completed"
          ],
          [
           "completed"
          ],
          [
           "none"
          ],
          [
           "none"
          ],
          [
           "none"
          ],
          [
           "none"
          ],
          [
           "completed"
          ],
          [
           "none"
          ],
          [
           "none"
          ],
          [
           "completed"
          ],
          [
           "none"
          ],
          [
           "completed"
          ],
          [
           "completed"
          ],
          [
           "none"
          ],
          [
           "none"
          ],
          [
           "none"
          ],
          [
           "none"
          ],
          [
           "none"
          ],
          [
           "none"
          ],
          [
           "completed"
          ],
          [
           "none"
          ],
          [
           "none"
          ],
          [
           "none"
          ],
          [
           "none"
          ],
          [
           "completed"
          ],
          [
           "none"
          ],
          [
           "none"
          ],
          [
           "completed"
          ],
          [
           "none"
          ],
          [
           "none"
          ],
          [
           "none"
          ],
          [
           "completed"
          ],
          [
           "none"
          ],
          [
           "none"
          ],
          [
           "completed"
          ],
          [
           "none"
          ],
          [
           "none"
          ],
          [
           "none"
          ],
          [
           "completed"
          ],
          [
           "none"
          ],
          [
           "completed"
          ],
          [
           "none"
          ],
          [
           "none"
          ],
          [
           "none"
          ],
          [
           "none"
          ],
          [
           "completed"
          ],
          [
           "none"
          ],
          [
           "none"
          ],
          [
           "none"
          ],
          [
           "completed"
          ],
          [
           "none"
          ],
          [
           "none"
          ],
          [
           "completed"
          ],
          [
           "none"
          ],
          [
           "none"
          ],
          [
           "completed"
          ],
          [
           "completed"
          ],
          [
           "none"
          ],
          [
           "none"
          ],
          [
           "none"
          ],
          [
           "completed"
          ],
          [
           "none"
          ],
          [
           "none"
          ],
          [
           "none"
          ],
          [
           "none"
          ],
          [
           "none"
          ],
          [
           "none"
          ],
          [
           "none"
          ],
          [
           "completed"
          ],
          [
           "none"
          ],
          [
           "none"
          ],
          [
           "none"
          ],
          [
           "completed"
          ],
          [
           "none"
          ],
          [
           "completed"
          ],
          [
           "none"
          ],
          [
           "none"
          ],
          [
           "completed"
          ],
          [
           "none"
          ],
          [
           "completed"
          ],
          [
           "none"
          ],
          [
           "none"
          ],
          [
           "none"
          ],
          [
           "completed"
          ],
          [
           "none"
          ],
          [
           "none"
          ],
          [
           "none"
          ],
          [
           "completed"
          ],
          [
           "none"
          ],
          [
           "completed"
          ],
          [
           "none"
          ],
          [
           "completed"
          ],
          [
           "none"
          ],
          [
           "completed"
          ],
          [
           "completed"
          ],
          [
           "completed"
          ],
          [
           "none"
          ],
          [
           "completed"
          ],
          [
           "completed"
          ],
          [
           "none"
          ],
          [
           "completed"
          ],
          [
           "none"
          ],
          [
           "completed"
          ],
          [
           "completed"
          ],
          [
           "none"
          ],
          [
           "none"
          ],
          [
           "completed"
          ],
          [
           "completed"
          ],
          [
           "none"
          ],
          [
           "completed"
          ],
          [
           "completed"
          ],
          [
           "none"
          ],
          [
           "none"
          ],
          [
           "completed"
          ],
          [
           "none"
          ],
          [
           "none"
          ],
          [
           "none"
          ],
          [
           "completed"
          ],
          [
           "none"
          ],
          [
           "none"
          ],
          [
           "none"
          ],
          [
           "none"
          ],
          [
           "none"
          ],
          [
           "completed"
          ],
          [
           "completed"
          ],
          [
           "none"
          ],
          [
           "completed"
          ],
          [
           "none"
          ],
          [
           "none"
          ],
          [
           "completed"
          ],
          [
           "none"
          ],
          [
           "none"
          ],
          [
           "none"
          ],
          [
           "none"
          ],
          [
           "completed"
          ],
          [
           "none"
          ],
          [
           "completed"
          ],
          [
           "none"
          ],
          [
           "none"
          ],
          [
           "none"
          ],
          [
           "none"
          ],
          [
           "completed"
          ],
          [
           "none"
          ],
          [
           "completed"
          ],
          [
           "none"
          ],
          [
           "none"
          ],
          [
           "completed"
          ]
         ],
         "domain": {
          "x": [
           0,
           1
          ],
          "y": [
           0,
           1
          ]
         },
         "hovertemplate": "testpreparationcourse=%{customdata[0]}<extra></extra>",
         "labels": [
          "completed",
          "none",
          "none",
          "none",
          "completed",
          "none",
          "none",
          "completed",
          "none",
          "none",
          "completed",
          "completed",
          "completed",
          "completed",
          "completed",
          "none",
          "none",
          "completed",
          "none",
          "none",
          "none",
          "none",
          "completed",
          "none",
          "none",
          "none",
          "none",
          "none",
          "completed",
          "none",
          "none",
          "none",
          "completed",
          "completed",
          "completed",
          "none",
          "completed",
          "none",
          "completed",
          "none",
          "none",
          "none",
          "completed",
          "none",
          "none",
          "none",
          "none",
          "completed",
          "none",
          "completed",
          "none",
          "none",
          "none",
          "none",
          "none",
          "completed",
          "completed",
          "completed",
          "none",
          "none",
          "none",
          "none",
          "completed",
          "completed",
          "completed",
          "completed",
          "none",
          "none",
          "none",
          "none",
          "completed",
          "none",
          "none",
          "completed",
          "none",
          "none",
          "none",
          "none",
          "none",
          "none",
          "none",
          "none",
          "none",
          "completed",
          "none",
          "none",
          "none",
          "none",
          "none",
          "none",
          "none",
          "none",
          "none",
          "completed",
          "none",
          "completed",
          "completed",
          "none",
          "none",
          "none",
          "completed",
          "completed",
          "none",
          "none",
          "none",
          "none",
          "none",
          "none",
          "none",
          "none",
          "completed",
          "none",
          "none",
          "none",
          "none",
          "completed",
          "none",
          "completed",
          "none",
          "completed",
          "completed",
          "completed",
          "completed",
          "completed",
          "none",
          "none",
          "none",
          "none",
          "completed",
          "completed",
          "completed",
          "completed",
          "none",
          "none",
          "none",
          "none",
          "completed",
          "completed",
          "none",
          "none",
          "none",
          "none",
          "none",
          "none",
          "completed",
          "none",
          "completed",
          "none",
          "completed",
          "none",
          "completed",
          "none",
          "none",
          "none",
          "none",
          "none",
          "none",
          "none",
          "none",
          "none",
          "completed",
          "none",
          "none",
          "completed",
          "completed",
          "completed",
          "none",
          "completed",
          "none",
          "none",
          "none",
          "none",
          "completed",
          "completed",
          "completed",
          "none",
          "none",
          "none",
          "completed",
          "completed",
          "none",
          "none",
          "none",
          "none",
          "completed",
          "none",
          "none",
          "none",
          "none",
          "completed",
          "completed",
          "none",
          "none",
          "completed",
          "none",
          "none",
          "none",
          "none",
          "completed",
          "none",
          "completed",
          "none",
          "none",
          "completed",
          "none",
          "completed",
          "completed",
          "none",
          "none",
          "none",
          "completed",
          "none",
          "completed",
          "none",
          "completed",
          "none",
          "none",
          "none",
          "completed",
          "none",
          "none",
          "completed",
          "none",
          "none",
          "none",
          "none",
          "completed",
          "none",
          "none",
          "completed",
          "none",
          "none",
          "none",
          "none",
          "none",
          "completed",
          "none",
          "none",
          "none",
          "completed",
          "none",
          "completed",
          "none",
          "none",
          "none",
          "none",
          "completed",
          "none",
          "completed",
          "none",
          "none",
          "none",
          "none",
          "none",
          "none",
          "none",
          "none",
          "none",
          "none",
          "completed",
          "none",
          "none",
          "none",
          "none",
          "completed",
          "none",
          "none",
          "none",
          "none",
          "none",
          "none",
          "none",
          "completed",
          "none",
          "completed",
          "none",
          "none",
          "none",
          "none",
          "completed",
          "none",
          "completed",
          "completed",
          "none",
          "none",
          "none",
          "none",
          "none",
          "none",
          "completed",
          "none",
          "completed",
          "completed",
          "none",
          "completed",
          "none",
          "none",
          "none",
          "none",
          "none",
          "none",
          "none",
          "none",
          "none",
          "none",
          "none",
          "none",
          "none",
          "none",
          "completed",
          "completed",
          "none",
          "none",
          "completed",
          "none",
          "completed",
          "completed",
          "none",
          "none",
          "none",
          "completed",
          "completed",
          "none",
          "completed",
          "none",
          "none",
          "completed",
          "none",
          "completed",
          "completed",
          "none",
          "completed",
          "none",
          "none",
          "none",
          "completed",
          "none",
          "none",
          "none",
          "completed",
          "none",
          "none",
          "none",
          "none",
          "completed",
          "none",
          "none",
          "none",
          "completed",
          "completed",
          "none",
          "none",
          "completed",
          "completed",
          "none",
          "none",
          "completed",
          "none",
          "completed",
          "completed",
          "none",
          "none",
          "completed",
          "completed",
          "none",
          "none",
          "none",
          "none",
          "none",
          "none",
          "completed",
          "completed",
          "completed",
          "completed",
          "none",
          "none",
          "none",
          "none",
          "completed",
          "none",
          "none",
          "completed",
          "completed",
          "completed",
          "completed",
          "none",
          "none",
          "completed",
          "completed",
          "none",
          "none",
          "none",
          "none",
          "none",
          "none",
          "none",
          "none",
          "completed",
          "completed",
          "completed",
          "completed",
          "completed",
          "completed",
          "completed",
          "none",
          "none",
          "none",
          "completed",
          "none",
          "none",
          "none",
          "none",
          "none",
          "completed",
          "none",
          "none",
          "none",
          "none",
          "none",
          "none",
          "none",
          "none",
          "none",
          "none",
          "none",
          "none",
          "none",
          "none",
          "none",
          "completed",
          "none",
          "none",
          "none",
          "completed",
          "none",
          "none",
          "none",
          "none",
          "none",
          "none",
          "completed",
          "completed",
          "completed",
          "none",
          "completed",
          "none",
          "none",
          "none",
          "none",
          "none",
          "completed",
          "none",
          "completed",
          "none",
          "completed",
          "none",
          "completed",
          "none",
          "completed",
          "completed",
          "completed",
          "completed",
          "completed",
          "none",
          "none",
          "completed",
          "completed",
          "completed",
          "none",
          "none",
          "none",
          "none",
          "none",
          "none",
          "none",
          "completed",
          "none",
          "none",
          "completed",
          "none",
          "none",
          "none",
          "none",
          "none",
          "completed",
          "none",
          "none",
          "none",
          "none",
          "none",
          "none",
          "completed",
          "none",
          "none",
          "none",
          "none",
          "none",
          "none",
          "completed",
          "completed",
          "none",
          "none",
          "none",
          "none",
          "completed",
          "none",
          "none",
          "completed",
          "none",
          "none",
          "none",
          "none",
          "none",
          "completed",
          "none",
          "none",
          "none",
          "none",
          "completed",
          "none",
          "none",
          "completed",
          "none",
          "none",
          "none",
          "none",
          "none",
          "completed",
          "completed",
          "none",
          "none",
          "none",
          "none",
          "completed",
          "completed",
          "none",
          "completed",
          "completed",
          "none",
          "none",
          "completed",
          "completed",
          "none",
          "completed",
          "none",
          "completed",
          "completed",
          "none",
          "none",
          "none",
          "completed",
          "none",
          "completed",
          "none",
          "completed",
          "none",
          "none",
          "none",
          "none",
          "none",
          "none",
          "none",
          "none",
          "completed",
          "completed",
          "none",
          "none",
          "completed",
          "none",
          "none",
          "none",
          "completed",
          "none",
          "none",
          "completed",
          "completed",
          "completed",
          "none",
          "none",
          "none",
          "completed",
          "none",
          "completed",
          "none",
          "none",
          "completed",
          "completed",
          "none",
          "none",
          "none",
          "none",
          "completed",
          "none",
          "completed",
          "none",
          "none",
          "completed",
          "none",
          "none",
          "completed",
          "none",
          "none",
          "none",
          "completed",
          "completed",
          "none",
          "completed",
          "none",
          "none",
          "none",
          "none",
          "completed",
          "none",
          "completed",
          "none",
          "none",
          "completed",
          "completed",
          "none",
          "none",
          "none",
          "none",
          "completed",
          "completed",
          "none",
          "none",
          "completed",
          "none",
          "none",
          "none",
          "none",
          "none",
          "none",
          "none",
          "completed",
          "none",
          "none",
          "none",
          "none",
          "none",
          "none",
          "none",
          "completed",
          "none",
          "none",
          "completed",
          "completed",
          "completed",
          "completed",
          "none",
          "none",
          "completed",
          "completed",
          "none",
          "none",
          "completed",
          "none",
          "completed",
          "none",
          "none",
          "completed",
          "none",
          "none",
          "completed",
          "none",
          "none",
          "completed",
          "none",
          "none",
          "none",
          "none",
          "none",
          "none",
          "none",
          "none",
          "none",
          "none",
          "none",
          "none",
          "none",
          "none",
          "completed",
          "none",
          "none",
          "none",
          "completed",
          "completed",
          "completed",
          "completed",
          "none",
          "completed",
          "none",
          "none",
          "none",
          "completed",
          "completed",
          "completed",
          "none",
          "completed",
          "completed",
          "none",
          "completed",
          "none",
          "none",
          "none",
          "none",
          "none",
          "none",
          "completed",
          "none",
          "none",
          "none",
          "completed",
          "none",
          "completed",
          "none",
          "completed",
          "none",
          "completed",
          "completed",
          "none",
          "completed",
          "completed",
          "none",
          "completed",
          "none",
          "none",
          "none",
          "completed",
          "none",
          "none",
          "none",
          "none",
          "none",
          "none",
          "completed",
          "completed",
          "none",
          "none",
          "completed",
          "none",
          "completed",
          "none",
          "completed",
          "none",
          "none",
          "none",
          "none",
          "none",
          "none",
          "none",
          "completed",
          "none",
          "none",
          "completed",
          "none",
          "none",
          "none",
          "completed",
          "none",
          "none",
          "completed",
          "none",
          "completed",
          "none",
          "completed",
          "none",
          "none",
          "none",
          "none",
          "none",
          "completed",
          "completed",
          "none",
          "none",
          "none",
          "none",
          "none",
          "none",
          "none",
          "completed",
          "none",
          "none",
          "completed",
          "completed",
          "completed",
          "completed",
          "none",
          "none",
          "none",
          "none",
          "completed",
          "completed",
          "completed",
          "completed",
          "none",
          "completed",
          "completed",
          "none",
          "none",
          "completed",
          "none",
          "completed",
          "none",
          "none",
          "none",
          "none",
          "none",
          "none",
          "none",
          "none",
          "none",
          "none",
          "none",
          "none",
          "completed",
          "completed",
          "none",
          "none",
          "none",
          "none",
          "none",
          "completed",
          "none",
          "completed",
          "completed",
          "completed",
          "none",
          "completed",
          "none",
          "none",
          "completed",
          "none",
          "none",
          "none",
          "none",
          "completed",
          "completed",
          "completed",
          "completed",
          "none",
          "none",
          "completed",
          "completed",
          "none",
          "none",
          "completed",
          "none",
          "none",
          "completed",
          "none",
          "completed",
          "none",
          "completed",
          "completed",
          "none",
          "none",
          "none",
          "none",
          "completed",
          "none",
          "none",
          "completed",
          "none",
          "completed",
          "completed",
          "none",
          "none",
          "none",
          "none",
          "none",
          "none",
          "completed",
          "none",
          "none",
          "none",
          "none",
          "completed",
          "none",
          "none",
          "completed",
          "none",
          "none",
          "none",
          "completed",
          "none",
          "none",
          "completed",
          "none",
          "none",
          "none",
          "completed",
          "none",
          "completed",
          "none",
          "none",
          "none",
          "none",
          "completed",
          "none",
          "none",
          "none",
          "completed",
          "none",
          "none",
          "completed",
          "none",
          "none",
          "completed",
          "completed",
          "none",
          "none",
          "none",
          "completed",
          "none",
          "none",
          "none",
          "none",
          "none",
          "none",
          "none",
          "completed",
          "none",
          "none",
          "none",
          "completed",
          "none",
          "completed",
          "none",
          "none",
          "completed",
          "none",
          "completed",
          "none",
          "none",
          "none",
          "completed",
          "none",
          "none",
          "none",
          "completed",
          "none",
          "completed",
          "none",
          "completed",
          "none",
          "completed",
          "completed",
          "completed",
          "none",
          "completed",
          "completed",
          "none",
          "completed",
          "none",
          "completed",
          "completed",
          "none",
          "none",
          "completed",
          "completed",
          "none",
          "completed",
          "completed",
          "none",
          "none",
          "completed",
          "none",
          "none",
          "none",
          "completed",
          "none",
          "none",
          "none",
          "none",
          "none",
          "completed",
          "completed",
          "none",
          "completed",
          "none",
          "none",
          "completed",
          "none",
          "none",
          "none",
          "none",
          "completed",
          "none",
          "completed",
          "none",
          "none",
          "none",
          "none",
          "completed",
          "none",
          "completed",
          "none",
          "none",
          "completed"
         ],
         "legendgroup": "",
         "marker": {
          "colors": [
           "red",
           "green",
           "green",
           "green",
           "red",
           "green",
           "green",
           "red",
           "green",
           "green",
           "red",
           "red",
           "red",
           "red",
           "red",
           "green",
           "green",
           "red",
           "green",
           "green",
           "green",
           "green",
           "red",
           "green",
           "green",
           "green",
           "green",
           "green",
           "red",
           "green",
           "green",
           "green",
           "red",
           "red",
           "red",
           "green",
           "red",
           "green",
           "red",
           "green",
           "green",
           "green",
           "red",
           "green",
           "green",
           "green",
           "green",
           "red",
           "green",
           "red",
           "green",
           "green",
           "green",
           "green",
           "green",
           "red",
           "red",
           "red",
           "green",
           "green",
           "green",
           "green",
           "red",
           "red",
           "red",
           "red",
           "green",
           "green",
           "green",
           "green",
           "red",
           "green",
           "green",
           "red",
           "green",
           "green",
           "green",
           "green",
           "green",
           "green",
           "green",
           "green",
           "green",
           "red",
           "green",
           "green",
           "green",
           "green",
           "green",
           "green",
           "green",
           "green",
           "green",
           "red",
           "green",
           "red",
           "red",
           "green",
           "green",
           "green",
           "red",
           "red",
           "green",
           "green",
           "green",
           "green",
           "green",
           "green",
           "green",
           "green",
           "red",
           "green",
           "green",
           "green",
           "green",
           "red",
           "green",
           "red",
           "green",
           "red",
           "red",
           "red",
           "red",
           "red",
           "green",
           "green",
           "green",
           "green",
           "red",
           "red",
           "red",
           "red",
           "green",
           "green",
           "green",
           "green",
           "red",
           "red",
           "green",
           "green",
           "green",
           "green",
           "green",
           "green",
           "red",
           "green",
           "red",
           "green",
           "red",
           "green",
           "red",
           "green",
           "green",
           "green",
           "green",
           "green",
           "green",
           "green",
           "green",
           "green",
           "red",
           "green",
           "green",
           "red",
           "red",
           "red",
           "green",
           "red",
           "green",
           "green",
           "green",
           "green",
           "red",
           "red",
           "red",
           "green",
           "green",
           "green",
           "red",
           "red",
           "green",
           "green",
           "green",
           "green",
           "red",
           "green",
           "green",
           "green",
           "green",
           "red",
           "red",
           "green",
           "green",
           "red",
           "green",
           "green",
           "green",
           "green",
           "red",
           "green",
           "red",
           "green",
           "green",
           "red",
           "green",
           "red",
           "red",
           "green",
           "green",
           "green",
           "red",
           "green",
           "red",
           "green",
           "red",
           "green",
           "green",
           "green",
           "red",
           "green",
           "green",
           "red",
           "green",
           "green",
           "green",
           "green",
           "red",
           "green",
           "green",
           "red",
           "green",
           "green",
           "green",
           "green",
           "green",
           "red",
           "green",
           "green",
           "green",
           "red",
           "green",
           "red",
           "green",
           "green",
           "green",
           "green",
           "red",
           "green",
           "red",
           "green",
           "green",
           "green",
           "green",
           "green",
           "green",
           "green",
           "green",
           "green",
           "green",
           "red",
           "green",
           "green",
           "green",
           "green",
           "red",
           "green",
           "green",
           "green",
           "green",
           "green",
           "green",
           "green",
           "red",
           "green",
           "red",
           "green",
           "green",
           "green",
           "green",
           "red",
           "green",
           "red",
           "red",
           "green",
           "green",
           "green",
           "green",
           "green",
           "green",
           "red",
           "green",
           "red",
           "red",
           "green",
           "red",
           "green",
           "green",
           "green",
           "green",
           "green",
           "green",
           "green",
           "green",
           "green",
           "green",
           "green",
           "green",
           "green",
           "green",
           "red",
           "red",
           "green",
           "green",
           "red",
           "green",
           "red",
           "red",
           "green",
           "green",
           "green",
           "red",
           "red",
           "green",
           "red",
           "green",
           "green",
           "red",
           "green",
           "red",
           "red",
           "green",
           "red",
           "green",
           "green",
           "green",
           "red",
           "green",
           "green",
           "green",
           "red",
           "green",
           "green",
           "green",
           "green",
           "red",
           "green",
           "green",
           "green",
           "red",
           "red",
           "green",
           "green",
           "red",
           "red",
           "green",
           "green",
           "red",
           "green",
           "red",
           "red",
           "green",
           "green",
           "red",
           "red",
           "green",
           "green",
           "green",
           "green",
           "green",
           "green",
           "red",
           "red",
           "red",
           "red",
           "green",
           "green",
           "green",
           "green",
           "red",
           "green",
           "green",
           "red",
           "red",
           "red",
           "red",
           "green",
           "green",
           "red",
           "red",
           "green",
           "green",
           "green",
           "green",
           "green",
           "green",
           "green",
           "green",
           "red",
           "red",
           "red",
           "red",
           "red",
           "red",
           "red",
           "green",
           "green",
           "green",
           "red",
           "green",
           "green",
           "green",
           "green",
           "green",
           "red",
           "green",
           "green",
           "green",
           "green",
           "green",
           "green",
           "green",
           "green",
           "green",
           "green",
           "green",
           "green",
           "green",
           "green",
           "green",
           "red",
           "green",
           "green",
           "green",
           "red",
           "green",
           "green",
           "green",
           "green",
           "green",
           "green",
           "red",
           "red",
           "red",
           "green",
           "red",
           "green",
           "green",
           "green",
           "green",
           "green",
           "red",
           "green",
           "red",
           "green",
           "red",
           "green",
           "red",
           "green",
           "red",
           "red",
           "red",
           "red",
           "red",
           "green",
           "green",
           "red",
           "red",
           "red",
           "green",
           "green",
           "green",
           "green",
           "green",
           "green",
           "green",
           "red",
           "green",
           "green",
           "red",
           "green",
           "green",
           "green",
           "green",
           "green",
           "red",
           "green",
           "green",
           "green",
           "green",
           "green",
           "green",
           "red",
           "green",
           "green",
           "green",
           "green",
           "green",
           "green",
           "red",
           "red",
           "green",
           "green",
           "green",
           "green",
           "red",
           "green",
           "green",
           "red",
           "green",
           "green",
           "green",
           "green",
           "green",
           "red",
           "green",
           "green",
           "green",
           "green",
           "red",
           "green",
           "green",
           "red",
           "green",
           "green",
           "green",
           "green",
           "green",
           "red",
           "red",
           "green",
           "green",
           "green",
           "green",
           "red",
           "red",
           "green",
           "red",
           "red",
           "green",
           "green",
           "red",
           "red",
           "green",
           "red",
           "green",
           "red",
           "red",
           "green",
           "green",
           "green",
           "red",
           "green",
           "red",
           "green",
           "red",
           "green",
           "green",
           "green",
           "green",
           "green",
           "green",
           "green",
           "green",
           "red",
           "red",
           "green",
           "green",
           "red",
           "green",
           "green",
           "green",
           "red",
           "green",
           "green",
           "red",
           "red",
           "red",
           "green",
           "green",
           "green",
           "red",
           "green",
           "red",
           "green",
           "green",
           "red",
           "red",
           "green",
           "green",
           "green",
           "green",
           "red",
           "green",
           "red",
           "green",
           "green",
           "red",
           "green",
           "green",
           "red",
           "green",
           "green",
           "green",
           "red",
           "red",
           "green",
           "red",
           "green",
           "green",
           "green",
           "green",
           "red",
           "green",
           "red",
           "green",
           "green",
           "red",
           "red",
           "green",
           "green",
           "green",
           "green",
           "red",
           "red",
           "green",
           "green",
           "red",
           "green",
           "green",
           "green",
           "green",
           "green",
           "green",
           "green",
           "red",
           "green",
           "green",
           "green",
           "green",
           "green",
           "green",
           "green",
           "red",
           "green",
           "green",
           "red",
           "red",
           "red",
           "red",
           "green",
           "green",
           "red",
           "red",
           "green",
           "green",
           "red",
           "green",
           "red",
           "green",
           "green",
           "red",
           "green",
           "green",
           "red",
           "green",
           "green",
           "red",
           "green",
           "green",
           "green",
           "green",
           "green",
           "green",
           "green",
           "green",
           "green",
           "green",
           "green",
           "green",
           "green",
           "green",
           "red",
           "green",
           "green",
           "green",
           "red",
           "red",
           "red",
           "red",
           "green",
           "red",
           "green",
           "green",
           "green",
           "red",
           "red",
           "red",
           "green",
           "red",
           "red",
           "green",
           "red",
           "green",
           "green",
           "green",
           "green",
           "green",
           "green",
           "red",
           "green",
           "green",
           "green",
           "red",
           "green",
           "red",
           "green",
           "red",
           "green",
           "red",
           "red",
           "green",
           "red",
           "red",
           "green",
           "red",
           "green",
           "green",
           "green",
           "red",
           "green",
           "green",
           "green",
           "green",
           "green",
           "green",
           "red",
           "red",
           "green",
           "green",
           "red",
           "green",
           "red",
           "green",
           "red",
           "green",
           "green",
           "green",
           "green",
           "green",
           "green",
           "green",
           "red",
           "green",
           "green",
           "red",
           "green",
           "green",
           "green",
           "red",
           "green",
           "green",
           "red",
           "green",
           "red",
           "green",
           "red",
           "green",
           "green",
           "green",
           "green",
           "green",
           "red",
           "red",
           "green",
           "green",
           "green",
           "green",
           "green",
           "green",
           "green",
           "red",
           "green",
           "green",
           "red",
           "red",
           "red",
           "red",
           "green",
           "green",
           "green",
           "green",
           "red",
           "red",
           "red",
           "red",
           "green",
           "red",
           "red",
           "green",
           "green",
           "red",
           "green",
           "red",
           "green",
           "green",
           "green",
           "green",
           "green",
           "green",
           "green",
           "green",
           "green",
           "green",
           "green",
           "green",
           "red",
           "red",
           "green",
           "green",
           "green",
           "green",
           "green",
           "red",
           "green",
           "red",
           "red",
           "red",
           "green",
           "red",
           "green",
           "green",
           "red",
           "green",
           "green",
           "green",
           "green",
           "red",
           "red",
           "red",
           "red",
           "green",
           "green",
           "red",
           "red",
           "green",
           "green",
           "red",
           "green",
           "green",
           "red",
           "green",
           "red",
           "green",
           "red",
           "red",
           "green",
           "green",
           "green",
           "green",
           "red",
           "green",
           "green",
           "red",
           "green",
           "red",
           "red",
           "green",
           "green",
           "green",
           "green",
           "green",
           "green",
           "red",
           "green",
           "green",
           "green",
           "green",
           "red",
           "green",
           "green",
           "red",
           "green",
           "green",
           "green",
           "red",
           "green",
           "green",
           "red",
           "green",
           "green",
           "green",
           "red",
           "green",
           "red",
           "green",
           "green",
           "green",
           "green",
           "red",
           "green",
           "green",
           "green",
           "red",
           "green",
           "green",
           "red",
           "green",
           "green",
           "red",
           "red",
           "green",
           "green",
           "green",
           "red",
           "green",
           "green",
           "green",
           "green",
           "green",
           "green",
           "green",
           "red",
           "green",
           "green",
           "green",
           "red",
           "green",
           "red",
           "green",
           "green",
           "red",
           "green",
           "red",
           "green",
           "green",
           "green",
           "red",
           "green",
           "green",
           "green",
           "red",
           "green",
           "red",
           "green",
           "red",
           "green",
           "red",
           "red",
           "red",
           "green",
           "red",
           "red",
           "green",
           "red",
           "green",
           "red",
           "red",
           "green",
           "green",
           "red",
           "red",
           "green",
           "red",
           "red",
           "green",
           "green",
           "red",
           "green",
           "green",
           "green",
           "red",
           "green",
           "green",
           "green",
           "green",
           "green",
           "red",
           "red",
           "green",
           "red",
           "green",
           "green",
           "red",
           "green",
           "green",
           "green",
           "green",
           "red",
           "green",
           "red",
           "green",
           "green",
           "green",
           "green",
           "red",
           "green",
           "red",
           "green",
           "green",
           "red"
          ]
         },
         "name": "",
         "showlegend": true,
         "type": "pie"
        }
       ],
       "layout": {
        "legend": {
         "tracegroupgap": 0
        },
        "margin": {
         "t": 60
        },
        "template": {
         "data": {
          "bar": [
           {
            "error_x": {
             "color": "#2a3f5f"
            },
            "error_y": {
             "color": "#2a3f5f"
            },
            "marker": {
             "line": {
              "color": "#E5ECF6",
              "width": 0.5
             },
             "pattern": {
              "fillmode": "overlay",
              "size": 10,
              "solidity": 0.2
             }
            },
            "type": "bar"
           }
          ],
          "barpolar": [
           {
            "marker": {
             "line": {
              "color": "#E5ECF6",
              "width": 0.5
             },
             "pattern": {
              "fillmode": "overlay",
              "size": 10,
              "solidity": 0.2
             }
            },
            "type": "barpolar"
           }
          ],
          "carpet": [
           {
            "aaxis": {
             "endlinecolor": "#2a3f5f",
             "gridcolor": "white",
             "linecolor": "white",
             "minorgridcolor": "white",
             "startlinecolor": "#2a3f5f"
            },
            "baxis": {
             "endlinecolor": "#2a3f5f",
             "gridcolor": "white",
             "linecolor": "white",
             "minorgridcolor": "white",
             "startlinecolor": "#2a3f5f"
            },
            "type": "carpet"
           }
          ],
          "choropleth": [
           {
            "colorbar": {
             "outlinewidth": 0,
             "ticks": ""
            },
            "type": "choropleth"
           }
          ],
          "contour": [
           {
            "colorbar": {
             "outlinewidth": 0,
             "ticks": ""
            },
            "colorscale": [
             [
              0,
              "#0d0887"
             ],
             [
              0.1111111111111111,
              "#46039f"
             ],
             [
              0.2222222222222222,
              "#7201a8"
             ],
             [
              0.3333333333333333,
              "#9c179e"
             ],
             [
              0.4444444444444444,
              "#bd3786"
             ],
             [
              0.5555555555555556,
              "#d8576b"
             ],
             [
              0.6666666666666666,
              "#ed7953"
             ],
             [
              0.7777777777777778,
              "#fb9f3a"
             ],
             [
              0.8888888888888888,
              "#fdca26"
             ],
             [
              1,
              "#f0f921"
             ]
            ],
            "type": "contour"
           }
          ],
          "contourcarpet": [
           {
            "colorbar": {
             "outlinewidth": 0,
             "ticks": ""
            },
            "type": "contourcarpet"
           }
          ],
          "heatmap": [
           {
            "colorbar": {
             "outlinewidth": 0,
             "ticks": ""
            },
            "colorscale": [
             [
              0,
              "#0d0887"
             ],
             [
              0.1111111111111111,
              "#46039f"
             ],
             [
              0.2222222222222222,
              "#7201a8"
             ],
             [
              0.3333333333333333,
              "#9c179e"
             ],
             [
              0.4444444444444444,
              "#bd3786"
             ],
             [
              0.5555555555555556,
              "#d8576b"
             ],
             [
              0.6666666666666666,
              "#ed7953"
             ],
             [
              0.7777777777777778,
              "#fb9f3a"
             ],
             [
              0.8888888888888888,
              "#fdca26"
             ],
             [
              1,
              "#f0f921"
             ]
            ],
            "type": "heatmap"
           }
          ],
          "heatmapgl": [
           {
            "colorbar": {
             "outlinewidth": 0,
             "ticks": ""
            },
            "colorscale": [
             [
              0,
              "#0d0887"
             ],
             [
              0.1111111111111111,
              "#46039f"
             ],
             [
              0.2222222222222222,
              "#7201a8"
             ],
             [
              0.3333333333333333,
              "#9c179e"
             ],
             [
              0.4444444444444444,
              "#bd3786"
             ],
             [
              0.5555555555555556,
              "#d8576b"
             ],
             [
              0.6666666666666666,
              "#ed7953"
             ],
             [
              0.7777777777777778,
              "#fb9f3a"
             ],
             [
              0.8888888888888888,
              "#fdca26"
             ],
             [
              1,
              "#f0f921"
             ]
            ],
            "type": "heatmapgl"
           }
          ],
          "histogram": [
           {
            "marker": {
             "pattern": {
              "fillmode": "overlay",
              "size": 10,
              "solidity": 0.2
             }
            },
            "type": "histogram"
           }
          ],
          "histogram2d": [
           {
            "colorbar": {
             "outlinewidth": 0,
             "ticks": ""
            },
            "colorscale": [
             [
              0,
              "#0d0887"
             ],
             [
              0.1111111111111111,
              "#46039f"
             ],
             [
              0.2222222222222222,
              "#7201a8"
             ],
             [
              0.3333333333333333,
              "#9c179e"
             ],
             [
              0.4444444444444444,
              "#bd3786"
             ],
             [
              0.5555555555555556,
              "#d8576b"
             ],
             [
              0.6666666666666666,
              "#ed7953"
             ],
             [
              0.7777777777777778,
              "#fb9f3a"
             ],
             [
              0.8888888888888888,
              "#fdca26"
             ],
             [
              1,
              "#f0f921"
             ]
            ],
            "type": "histogram2d"
           }
          ],
          "histogram2dcontour": [
           {
            "colorbar": {
             "outlinewidth": 0,
             "ticks": ""
            },
            "colorscale": [
             [
              0,
              "#0d0887"
             ],
             [
              0.1111111111111111,
              "#46039f"
             ],
             [
              0.2222222222222222,
              "#7201a8"
             ],
             [
              0.3333333333333333,
              "#9c179e"
             ],
             [
              0.4444444444444444,
              "#bd3786"
             ],
             [
              0.5555555555555556,
              "#d8576b"
             ],
             [
              0.6666666666666666,
              "#ed7953"
             ],
             [
              0.7777777777777778,
              "#fb9f3a"
             ],
             [
              0.8888888888888888,
              "#fdca26"
             ],
             [
              1,
              "#f0f921"
             ]
            ],
            "type": "histogram2dcontour"
           }
          ],
          "mesh3d": [
           {
            "colorbar": {
             "outlinewidth": 0,
             "ticks": ""
            },
            "type": "mesh3d"
           }
          ],
          "parcoords": [
           {
            "line": {
             "colorbar": {
              "outlinewidth": 0,
              "ticks": ""
             }
            },
            "type": "parcoords"
           }
          ],
          "pie": [
           {
            "automargin": true,
            "type": "pie"
           }
          ],
          "scatter": [
           {
            "marker": {
             "colorbar": {
              "outlinewidth": 0,
              "ticks": ""
             }
            },
            "type": "scatter"
           }
          ],
          "scatter3d": [
           {
            "line": {
             "colorbar": {
              "outlinewidth": 0,
              "ticks": ""
             }
            },
            "marker": {
             "colorbar": {
              "outlinewidth": 0,
              "ticks": ""
             }
            },
            "type": "scatter3d"
           }
          ],
          "scattercarpet": [
           {
            "marker": {
             "colorbar": {
              "outlinewidth": 0,
              "ticks": ""
             }
            },
            "type": "scattercarpet"
           }
          ],
          "scattergeo": [
           {
            "marker": {
             "colorbar": {
              "outlinewidth": 0,
              "ticks": ""
             }
            },
            "type": "scattergeo"
           }
          ],
          "scattergl": [
           {
            "marker": {
             "colorbar": {
              "outlinewidth": 0,
              "ticks": ""
             }
            },
            "type": "scattergl"
           }
          ],
          "scattermapbox": [
           {
            "marker": {
             "colorbar": {
              "outlinewidth": 0,
              "ticks": ""
             }
            },
            "type": "scattermapbox"
           }
          ],
          "scatterpolar": [
           {
            "marker": {
             "colorbar": {
              "outlinewidth": 0,
              "ticks": ""
             }
            },
            "type": "scatterpolar"
           }
          ],
          "scatterpolargl": [
           {
            "marker": {
             "colorbar": {
              "outlinewidth": 0,
              "ticks": ""
             }
            },
            "type": "scatterpolargl"
           }
          ],
          "scatterternary": [
           {
            "marker": {
             "colorbar": {
              "outlinewidth": 0,
              "ticks": ""
             }
            },
            "type": "scatterternary"
           }
          ],
          "surface": [
           {
            "colorbar": {
             "outlinewidth": 0,
             "ticks": ""
            },
            "colorscale": [
             [
              0,
              "#0d0887"
             ],
             [
              0.1111111111111111,
              "#46039f"
             ],
             [
              0.2222222222222222,
              "#7201a8"
             ],
             [
              0.3333333333333333,
              "#9c179e"
             ],
             [
              0.4444444444444444,
              "#bd3786"
             ],
             [
              0.5555555555555556,
              "#d8576b"
             ],
             [
              0.6666666666666666,
              "#ed7953"
             ],
             [
              0.7777777777777778,
              "#fb9f3a"
             ],
             [
              0.8888888888888888,
              "#fdca26"
             ],
             [
              1,
              "#f0f921"
             ]
            ],
            "type": "surface"
           }
          ],
          "table": [
           {
            "cells": {
             "fill": {
              "color": "#EBF0F8"
             },
             "line": {
              "color": "white"
             }
            },
            "header": {
             "fill": {
              "color": "#C8D4E3"
             },
             "line": {
              "color": "white"
             }
            },
            "type": "table"
           }
          ]
         },
         "layout": {
          "annotationdefaults": {
           "arrowcolor": "#2a3f5f",
           "arrowhead": 0,
           "arrowwidth": 1
          },
          "autotypenumbers": "strict",
          "coloraxis": {
           "colorbar": {
            "outlinewidth": 0,
            "ticks": ""
           }
          },
          "colorscale": {
           "diverging": [
            [
             0,
             "#8e0152"
            ],
            [
             0.1,
             "#c51b7d"
            ],
            [
             0.2,
             "#de77ae"
            ],
            [
             0.3,
             "#f1b6da"
            ],
            [
             0.4,
             "#fde0ef"
            ],
            [
             0.5,
             "#f7f7f7"
            ],
            [
             0.6,
             "#e6f5d0"
            ],
            [
             0.7,
             "#b8e186"
            ],
            [
             0.8,
             "#7fbc41"
            ],
            [
             0.9,
             "#4d9221"
            ],
            [
             1,
             "#276419"
            ]
           ],
           "sequential": [
            [
             0,
             "#0d0887"
            ],
            [
             0.1111111111111111,
             "#46039f"
            ],
            [
             0.2222222222222222,
             "#7201a8"
            ],
            [
             0.3333333333333333,
             "#9c179e"
            ],
            [
             0.4444444444444444,
             "#bd3786"
            ],
            [
             0.5555555555555556,
             "#d8576b"
            ],
            [
             0.6666666666666666,
             "#ed7953"
            ],
            [
             0.7777777777777778,
             "#fb9f3a"
            ],
            [
             0.8888888888888888,
             "#fdca26"
            ],
            [
             1,
             "#f0f921"
            ]
           ],
           "sequentialminus": [
            [
             0,
             "#0d0887"
            ],
            [
             0.1111111111111111,
             "#46039f"
            ],
            [
             0.2222222222222222,
             "#7201a8"
            ],
            [
             0.3333333333333333,
             "#9c179e"
            ],
            [
             0.4444444444444444,
             "#bd3786"
            ],
            [
             0.5555555555555556,
             "#d8576b"
            ],
            [
             0.6666666666666666,
             "#ed7953"
            ],
            [
             0.7777777777777778,
             "#fb9f3a"
            ],
            [
             0.8888888888888888,
             "#fdca26"
            ],
            [
             1,
             "#f0f921"
            ]
           ]
          },
          "colorway": [
           "#636efa",
           "#EF553B",
           "#00cc96",
           "#ab63fa",
           "#FFA15A",
           "#19d3f3",
           "#FF6692",
           "#B6E880",
           "#FF97FF",
           "#FECB52"
          ],
          "font": {
           "color": "#2a3f5f"
          },
          "geo": {
           "bgcolor": "white",
           "lakecolor": "white",
           "landcolor": "#E5ECF6",
           "showlakes": true,
           "showland": true,
           "subunitcolor": "white"
          },
          "hoverlabel": {
           "align": "left"
          },
          "hovermode": "closest",
          "mapbox": {
           "style": "light"
          },
          "paper_bgcolor": "white",
          "plot_bgcolor": "#E5ECF6",
          "polar": {
           "angularaxis": {
            "gridcolor": "white",
            "linecolor": "white",
            "ticks": ""
           },
           "bgcolor": "#E5ECF6",
           "radialaxis": {
            "gridcolor": "white",
            "linecolor": "white",
            "ticks": ""
           }
          },
          "scene": {
           "xaxis": {
            "backgroundcolor": "#E5ECF6",
            "gridcolor": "white",
            "gridwidth": 2,
            "linecolor": "white",
            "showbackground": true,
            "ticks": "",
            "zerolinecolor": "white"
           },
           "yaxis": {
            "backgroundcolor": "#E5ECF6",
            "gridcolor": "white",
            "gridwidth": 2,
            "linecolor": "white",
            "showbackground": true,
            "ticks": "",
            "zerolinecolor": "white"
           },
           "zaxis": {
            "backgroundcolor": "#E5ECF6",
            "gridcolor": "white",
            "gridwidth": 2,
            "linecolor": "white",
            "showbackground": true,
            "ticks": "",
            "zerolinecolor": "white"
           }
          },
          "shapedefaults": {
           "line": {
            "color": "#2a3f5f"
           }
          },
          "ternary": {
           "aaxis": {
            "gridcolor": "white",
            "linecolor": "white",
            "ticks": ""
           },
           "baxis": {
            "gridcolor": "white",
            "linecolor": "white",
            "ticks": ""
           },
           "bgcolor": "#E5ECF6",
           "caxis": {
            "gridcolor": "white",
            "linecolor": "white",
            "ticks": ""
           }
          },
          "title": {
           "x": 0.05
          },
          "xaxis": {
           "automargin": true,
           "gridcolor": "white",
           "linecolor": "white",
           "ticks": "",
           "title": {
            "standoff": 15
           },
           "zerolinecolor": "white",
           "zerolinewidth": 2
          },
          "yaxis": {
           "automargin": true,
           "gridcolor": "white",
           "linecolor": "white",
           "ticks": "",
           "title": {
            "standoff": 15
           },
           "zerolinecolor": "white",
           "zerolinewidth": 2
          }
         }
        }
       }
      },
      "text/html": [
       "<div>                            <div id=\"13d665c3-82f8-4731-ada3-dc0e2b895e57\" class=\"plotly-graph-div\" style=\"height:525px; width:100%;\"></div>            <script type=\"text/javascript\">                require([\"plotly\"], function(Plotly) {                    window.PLOTLYENV=window.PLOTLYENV || {};                                    if (document.getElementById(\"13d665c3-82f8-4731-ada3-dc0e2b895e57\")) {                    Plotly.newPlot(                        \"13d665c3-82f8-4731-ada3-dc0e2b895e57\",                        [{\"customdata\":[[\"completed\"],[\"none\"],[\"none\"],[\"none\"],[\"completed\"],[\"none\"],[\"none\"],[\"completed\"],[\"none\"],[\"none\"],[\"completed\"],[\"completed\"],[\"completed\"],[\"completed\"],[\"completed\"],[\"none\"],[\"none\"],[\"completed\"],[\"none\"],[\"none\"],[\"none\"],[\"none\"],[\"completed\"],[\"none\"],[\"none\"],[\"none\"],[\"none\"],[\"none\"],[\"completed\"],[\"none\"],[\"none\"],[\"none\"],[\"completed\"],[\"completed\"],[\"completed\"],[\"none\"],[\"completed\"],[\"none\"],[\"completed\"],[\"none\"],[\"none\"],[\"none\"],[\"completed\"],[\"none\"],[\"none\"],[\"none\"],[\"none\"],[\"completed\"],[\"none\"],[\"completed\"],[\"none\"],[\"none\"],[\"none\"],[\"none\"],[\"none\"],[\"completed\"],[\"completed\"],[\"completed\"],[\"none\"],[\"none\"],[\"none\"],[\"none\"],[\"completed\"],[\"completed\"],[\"completed\"],[\"completed\"],[\"none\"],[\"none\"],[\"none\"],[\"none\"],[\"completed\"],[\"none\"],[\"none\"],[\"completed\"],[\"none\"],[\"none\"],[\"none\"],[\"none\"],[\"none\"],[\"none\"],[\"none\"],[\"none\"],[\"none\"],[\"completed\"],[\"none\"],[\"none\"],[\"none\"],[\"none\"],[\"none\"],[\"none\"],[\"none\"],[\"none\"],[\"none\"],[\"completed\"],[\"none\"],[\"completed\"],[\"completed\"],[\"none\"],[\"none\"],[\"none\"],[\"completed\"],[\"completed\"],[\"none\"],[\"none\"],[\"none\"],[\"none\"],[\"none\"],[\"none\"],[\"none\"],[\"none\"],[\"completed\"],[\"none\"],[\"none\"],[\"none\"],[\"none\"],[\"completed\"],[\"none\"],[\"completed\"],[\"none\"],[\"completed\"],[\"completed\"],[\"completed\"],[\"completed\"],[\"completed\"],[\"none\"],[\"none\"],[\"none\"],[\"none\"],[\"completed\"],[\"completed\"],[\"completed\"],[\"completed\"],[\"none\"],[\"none\"],[\"none\"],[\"none\"],[\"completed\"],[\"completed\"],[\"none\"],[\"none\"],[\"none\"],[\"none\"],[\"none\"],[\"none\"],[\"completed\"],[\"none\"],[\"completed\"],[\"none\"],[\"completed\"],[\"none\"],[\"completed\"],[\"none\"],[\"none\"],[\"none\"],[\"none\"],[\"none\"],[\"none\"],[\"none\"],[\"none\"],[\"none\"],[\"completed\"],[\"none\"],[\"none\"],[\"completed\"],[\"completed\"],[\"completed\"],[\"none\"],[\"completed\"],[\"none\"],[\"none\"],[\"none\"],[\"none\"],[\"completed\"],[\"completed\"],[\"completed\"],[\"none\"],[\"none\"],[\"none\"],[\"completed\"],[\"completed\"],[\"none\"],[\"none\"],[\"none\"],[\"none\"],[\"completed\"],[\"none\"],[\"none\"],[\"none\"],[\"none\"],[\"completed\"],[\"completed\"],[\"none\"],[\"none\"],[\"completed\"],[\"none\"],[\"none\"],[\"none\"],[\"none\"],[\"completed\"],[\"none\"],[\"completed\"],[\"none\"],[\"none\"],[\"completed\"],[\"none\"],[\"completed\"],[\"completed\"],[\"none\"],[\"none\"],[\"none\"],[\"completed\"],[\"none\"],[\"completed\"],[\"none\"],[\"completed\"],[\"none\"],[\"none\"],[\"none\"],[\"completed\"],[\"none\"],[\"none\"],[\"completed\"],[\"none\"],[\"none\"],[\"none\"],[\"none\"],[\"completed\"],[\"none\"],[\"none\"],[\"completed\"],[\"none\"],[\"none\"],[\"none\"],[\"none\"],[\"none\"],[\"completed\"],[\"none\"],[\"none\"],[\"none\"],[\"completed\"],[\"none\"],[\"completed\"],[\"none\"],[\"none\"],[\"none\"],[\"none\"],[\"completed\"],[\"none\"],[\"completed\"],[\"none\"],[\"none\"],[\"none\"],[\"none\"],[\"none\"],[\"none\"],[\"none\"],[\"none\"],[\"none\"],[\"none\"],[\"completed\"],[\"none\"],[\"none\"],[\"none\"],[\"none\"],[\"completed\"],[\"none\"],[\"none\"],[\"none\"],[\"none\"],[\"none\"],[\"none\"],[\"none\"],[\"completed\"],[\"none\"],[\"completed\"],[\"none\"],[\"none\"],[\"none\"],[\"none\"],[\"completed\"],[\"none\"],[\"completed\"],[\"completed\"],[\"none\"],[\"none\"],[\"none\"],[\"none\"],[\"none\"],[\"none\"],[\"completed\"],[\"none\"],[\"completed\"],[\"completed\"],[\"none\"],[\"completed\"],[\"none\"],[\"none\"],[\"none\"],[\"none\"],[\"none\"],[\"none\"],[\"none\"],[\"none\"],[\"none\"],[\"none\"],[\"none\"],[\"none\"],[\"none\"],[\"none\"],[\"completed\"],[\"completed\"],[\"none\"],[\"none\"],[\"completed\"],[\"none\"],[\"completed\"],[\"completed\"],[\"none\"],[\"none\"],[\"none\"],[\"completed\"],[\"completed\"],[\"none\"],[\"completed\"],[\"none\"],[\"none\"],[\"completed\"],[\"none\"],[\"completed\"],[\"completed\"],[\"none\"],[\"completed\"],[\"none\"],[\"none\"],[\"none\"],[\"completed\"],[\"none\"],[\"none\"],[\"none\"],[\"completed\"],[\"none\"],[\"none\"],[\"none\"],[\"none\"],[\"completed\"],[\"none\"],[\"none\"],[\"none\"],[\"completed\"],[\"completed\"],[\"none\"],[\"none\"],[\"completed\"],[\"completed\"],[\"none\"],[\"none\"],[\"completed\"],[\"none\"],[\"completed\"],[\"completed\"],[\"none\"],[\"none\"],[\"completed\"],[\"completed\"],[\"none\"],[\"none\"],[\"none\"],[\"none\"],[\"none\"],[\"none\"],[\"completed\"],[\"completed\"],[\"completed\"],[\"completed\"],[\"none\"],[\"none\"],[\"none\"],[\"none\"],[\"completed\"],[\"none\"],[\"none\"],[\"completed\"],[\"completed\"],[\"completed\"],[\"completed\"],[\"none\"],[\"none\"],[\"completed\"],[\"completed\"],[\"none\"],[\"none\"],[\"none\"],[\"none\"],[\"none\"],[\"none\"],[\"none\"],[\"none\"],[\"completed\"],[\"completed\"],[\"completed\"],[\"completed\"],[\"completed\"],[\"completed\"],[\"completed\"],[\"none\"],[\"none\"],[\"none\"],[\"completed\"],[\"none\"],[\"none\"],[\"none\"],[\"none\"],[\"none\"],[\"completed\"],[\"none\"],[\"none\"],[\"none\"],[\"none\"],[\"none\"],[\"none\"],[\"none\"],[\"none\"],[\"none\"],[\"none\"],[\"none\"],[\"none\"],[\"none\"],[\"none\"],[\"none\"],[\"completed\"],[\"none\"],[\"none\"],[\"none\"],[\"completed\"],[\"none\"],[\"none\"],[\"none\"],[\"none\"],[\"none\"],[\"none\"],[\"completed\"],[\"completed\"],[\"completed\"],[\"none\"],[\"completed\"],[\"none\"],[\"none\"],[\"none\"],[\"none\"],[\"none\"],[\"completed\"],[\"none\"],[\"completed\"],[\"none\"],[\"completed\"],[\"none\"],[\"completed\"],[\"none\"],[\"completed\"],[\"completed\"],[\"completed\"],[\"completed\"],[\"completed\"],[\"none\"],[\"none\"],[\"completed\"],[\"completed\"],[\"completed\"],[\"none\"],[\"none\"],[\"none\"],[\"none\"],[\"none\"],[\"none\"],[\"none\"],[\"completed\"],[\"none\"],[\"none\"],[\"completed\"],[\"none\"],[\"none\"],[\"none\"],[\"none\"],[\"none\"],[\"completed\"],[\"none\"],[\"none\"],[\"none\"],[\"none\"],[\"none\"],[\"none\"],[\"completed\"],[\"none\"],[\"none\"],[\"none\"],[\"none\"],[\"none\"],[\"none\"],[\"completed\"],[\"completed\"],[\"none\"],[\"none\"],[\"none\"],[\"none\"],[\"completed\"],[\"none\"],[\"none\"],[\"completed\"],[\"none\"],[\"none\"],[\"none\"],[\"none\"],[\"none\"],[\"completed\"],[\"none\"],[\"none\"],[\"none\"],[\"none\"],[\"completed\"],[\"none\"],[\"none\"],[\"completed\"],[\"none\"],[\"none\"],[\"none\"],[\"none\"],[\"none\"],[\"completed\"],[\"completed\"],[\"none\"],[\"none\"],[\"none\"],[\"none\"],[\"completed\"],[\"completed\"],[\"none\"],[\"completed\"],[\"completed\"],[\"none\"],[\"none\"],[\"completed\"],[\"completed\"],[\"none\"],[\"completed\"],[\"none\"],[\"completed\"],[\"completed\"],[\"none\"],[\"none\"],[\"none\"],[\"completed\"],[\"none\"],[\"completed\"],[\"none\"],[\"completed\"],[\"none\"],[\"none\"],[\"none\"],[\"none\"],[\"none\"],[\"none\"],[\"none\"],[\"none\"],[\"completed\"],[\"completed\"],[\"none\"],[\"none\"],[\"completed\"],[\"none\"],[\"none\"],[\"none\"],[\"completed\"],[\"none\"],[\"none\"],[\"completed\"],[\"completed\"],[\"completed\"],[\"none\"],[\"none\"],[\"none\"],[\"completed\"],[\"none\"],[\"completed\"],[\"none\"],[\"none\"],[\"completed\"],[\"completed\"],[\"none\"],[\"none\"],[\"none\"],[\"none\"],[\"completed\"],[\"none\"],[\"completed\"],[\"none\"],[\"none\"],[\"completed\"],[\"none\"],[\"none\"],[\"completed\"],[\"none\"],[\"none\"],[\"none\"],[\"completed\"],[\"completed\"],[\"none\"],[\"completed\"],[\"none\"],[\"none\"],[\"none\"],[\"none\"],[\"completed\"],[\"none\"],[\"completed\"],[\"none\"],[\"none\"],[\"completed\"],[\"completed\"],[\"none\"],[\"none\"],[\"none\"],[\"none\"],[\"completed\"],[\"completed\"],[\"none\"],[\"none\"],[\"completed\"],[\"none\"],[\"none\"],[\"none\"],[\"none\"],[\"none\"],[\"none\"],[\"none\"],[\"completed\"],[\"none\"],[\"none\"],[\"none\"],[\"none\"],[\"none\"],[\"none\"],[\"none\"],[\"completed\"],[\"none\"],[\"none\"],[\"completed\"],[\"completed\"],[\"completed\"],[\"completed\"],[\"none\"],[\"none\"],[\"completed\"],[\"completed\"],[\"none\"],[\"none\"],[\"completed\"],[\"none\"],[\"completed\"],[\"none\"],[\"none\"],[\"completed\"],[\"none\"],[\"none\"],[\"completed\"],[\"none\"],[\"none\"],[\"completed\"],[\"none\"],[\"none\"],[\"none\"],[\"none\"],[\"none\"],[\"none\"],[\"none\"],[\"none\"],[\"none\"],[\"none\"],[\"none\"],[\"none\"],[\"none\"],[\"none\"],[\"completed\"],[\"none\"],[\"none\"],[\"none\"],[\"completed\"],[\"completed\"],[\"completed\"],[\"completed\"],[\"none\"],[\"completed\"],[\"none\"],[\"none\"],[\"none\"],[\"completed\"],[\"completed\"],[\"completed\"],[\"none\"],[\"completed\"],[\"completed\"],[\"none\"],[\"completed\"],[\"none\"],[\"none\"],[\"none\"],[\"none\"],[\"none\"],[\"none\"],[\"completed\"],[\"none\"],[\"none\"],[\"none\"],[\"completed\"],[\"none\"],[\"completed\"],[\"none\"],[\"completed\"],[\"none\"],[\"completed\"],[\"completed\"],[\"none\"],[\"completed\"],[\"completed\"],[\"none\"],[\"completed\"],[\"none\"],[\"none\"],[\"none\"],[\"completed\"],[\"none\"],[\"none\"],[\"none\"],[\"none\"],[\"none\"],[\"none\"],[\"completed\"],[\"completed\"],[\"none\"],[\"none\"],[\"completed\"],[\"none\"],[\"completed\"],[\"none\"],[\"completed\"],[\"none\"],[\"none\"],[\"none\"],[\"none\"],[\"none\"],[\"none\"],[\"none\"],[\"completed\"],[\"none\"],[\"none\"],[\"completed\"],[\"none\"],[\"none\"],[\"none\"],[\"completed\"],[\"none\"],[\"none\"],[\"completed\"],[\"none\"],[\"completed\"],[\"none\"],[\"completed\"],[\"none\"],[\"none\"],[\"none\"],[\"none\"],[\"none\"],[\"completed\"],[\"completed\"],[\"none\"],[\"none\"],[\"none\"],[\"none\"],[\"none\"],[\"none\"],[\"none\"],[\"completed\"],[\"none\"],[\"none\"],[\"completed\"],[\"completed\"],[\"completed\"],[\"completed\"],[\"none\"],[\"none\"],[\"none\"],[\"none\"],[\"completed\"],[\"completed\"],[\"completed\"],[\"completed\"],[\"none\"],[\"completed\"],[\"completed\"],[\"none\"],[\"none\"],[\"completed\"],[\"none\"],[\"completed\"],[\"none\"],[\"none\"],[\"none\"],[\"none\"],[\"none\"],[\"none\"],[\"none\"],[\"none\"],[\"none\"],[\"none\"],[\"none\"],[\"none\"],[\"completed\"],[\"completed\"],[\"none\"],[\"none\"],[\"none\"],[\"none\"],[\"none\"],[\"completed\"],[\"none\"],[\"completed\"],[\"completed\"],[\"completed\"],[\"none\"],[\"completed\"],[\"none\"],[\"none\"],[\"completed\"],[\"none\"],[\"none\"],[\"none\"],[\"none\"],[\"completed\"],[\"completed\"],[\"completed\"],[\"completed\"],[\"none\"],[\"none\"],[\"completed\"],[\"completed\"],[\"none\"],[\"none\"],[\"completed\"],[\"none\"],[\"none\"],[\"completed\"],[\"none\"],[\"completed\"],[\"none\"],[\"completed\"],[\"completed\"],[\"none\"],[\"none\"],[\"none\"],[\"none\"],[\"completed\"],[\"none\"],[\"none\"],[\"completed\"],[\"none\"],[\"completed\"],[\"completed\"],[\"none\"],[\"none\"],[\"none\"],[\"none\"],[\"none\"],[\"none\"],[\"completed\"],[\"none\"],[\"none\"],[\"none\"],[\"none\"],[\"completed\"],[\"none\"],[\"none\"],[\"completed\"],[\"none\"],[\"none\"],[\"none\"],[\"completed\"],[\"none\"],[\"none\"],[\"completed\"],[\"none\"],[\"none\"],[\"none\"],[\"completed\"],[\"none\"],[\"completed\"],[\"none\"],[\"none\"],[\"none\"],[\"none\"],[\"completed\"],[\"none\"],[\"none\"],[\"none\"],[\"completed\"],[\"none\"],[\"none\"],[\"completed\"],[\"none\"],[\"none\"],[\"completed\"],[\"completed\"],[\"none\"],[\"none\"],[\"none\"],[\"completed\"],[\"none\"],[\"none\"],[\"none\"],[\"none\"],[\"none\"],[\"none\"],[\"none\"],[\"completed\"],[\"none\"],[\"none\"],[\"none\"],[\"completed\"],[\"none\"],[\"completed\"],[\"none\"],[\"none\"],[\"completed\"],[\"none\"],[\"completed\"],[\"none\"],[\"none\"],[\"none\"],[\"completed\"],[\"none\"],[\"none\"],[\"none\"],[\"completed\"],[\"none\"],[\"completed\"],[\"none\"],[\"completed\"],[\"none\"],[\"completed\"],[\"completed\"],[\"completed\"],[\"none\"],[\"completed\"],[\"completed\"],[\"none\"],[\"completed\"],[\"none\"],[\"completed\"],[\"completed\"],[\"none\"],[\"none\"],[\"completed\"],[\"completed\"],[\"none\"],[\"completed\"],[\"completed\"],[\"none\"],[\"none\"],[\"completed\"],[\"none\"],[\"none\"],[\"none\"],[\"completed\"],[\"none\"],[\"none\"],[\"none\"],[\"none\"],[\"none\"],[\"completed\"],[\"completed\"],[\"none\"],[\"completed\"],[\"none\"],[\"none\"],[\"completed\"],[\"none\"],[\"none\"],[\"none\"],[\"none\"],[\"completed\"],[\"none\"],[\"completed\"],[\"none\"],[\"none\"],[\"none\"],[\"none\"],[\"completed\"],[\"none\"],[\"completed\"],[\"none\"],[\"none\"],[\"completed\"]],\"domain\":{\"x\":[0.0,1.0],\"y\":[0.0,1.0]},\"hovertemplate\":\"testpreparationcourse=%{customdata[0]}<extra></extra>\",\"labels\":[\"completed\",\"none\",\"none\",\"none\",\"completed\",\"none\",\"none\",\"completed\",\"none\",\"none\",\"completed\",\"completed\",\"completed\",\"completed\",\"completed\",\"none\",\"none\",\"completed\",\"none\",\"none\",\"none\",\"none\",\"completed\",\"none\",\"none\",\"none\",\"none\",\"none\",\"completed\",\"none\",\"none\",\"none\",\"completed\",\"completed\",\"completed\",\"none\",\"completed\",\"none\",\"completed\",\"none\",\"none\",\"none\",\"completed\",\"none\",\"none\",\"none\",\"none\",\"completed\",\"none\",\"completed\",\"none\",\"none\",\"none\",\"none\",\"none\",\"completed\",\"completed\",\"completed\",\"none\",\"none\",\"none\",\"none\",\"completed\",\"completed\",\"completed\",\"completed\",\"none\",\"none\",\"none\",\"none\",\"completed\",\"none\",\"none\",\"completed\",\"none\",\"none\",\"none\",\"none\",\"none\",\"none\",\"none\",\"none\",\"none\",\"completed\",\"none\",\"none\",\"none\",\"none\",\"none\",\"none\",\"none\",\"none\",\"none\",\"completed\",\"none\",\"completed\",\"completed\",\"none\",\"none\",\"none\",\"completed\",\"completed\",\"none\",\"none\",\"none\",\"none\",\"none\",\"none\",\"none\",\"none\",\"completed\",\"none\",\"none\",\"none\",\"none\",\"completed\",\"none\",\"completed\",\"none\",\"completed\",\"completed\",\"completed\",\"completed\",\"completed\",\"none\",\"none\",\"none\",\"none\",\"completed\",\"completed\",\"completed\",\"completed\",\"none\",\"none\",\"none\",\"none\",\"completed\",\"completed\",\"none\",\"none\",\"none\",\"none\",\"none\",\"none\",\"completed\",\"none\",\"completed\",\"none\",\"completed\",\"none\",\"completed\",\"none\",\"none\",\"none\",\"none\",\"none\",\"none\",\"none\",\"none\",\"none\",\"completed\",\"none\",\"none\",\"completed\",\"completed\",\"completed\",\"none\",\"completed\",\"none\",\"none\",\"none\",\"none\",\"completed\",\"completed\",\"completed\",\"none\",\"none\",\"none\",\"completed\",\"completed\",\"none\",\"none\",\"none\",\"none\",\"completed\",\"none\",\"none\",\"none\",\"none\",\"completed\",\"completed\",\"none\",\"none\",\"completed\",\"none\",\"none\",\"none\",\"none\",\"completed\",\"none\",\"completed\",\"none\",\"none\",\"completed\",\"none\",\"completed\",\"completed\",\"none\",\"none\",\"none\",\"completed\",\"none\",\"completed\",\"none\",\"completed\",\"none\",\"none\",\"none\",\"completed\",\"none\",\"none\",\"completed\",\"none\",\"none\",\"none\",\"none\",\"completed\",\"none\",\"none\",\"completed\",\"none\",\"none\",\"none\",\"none\",\"none\",\"completed\",\"none\",\"none\",\"none\",\"completed\",\"none\",\"completed\",\"none\",\"none\",\"none\",\"none\",\"completed\",\"none\",\"completed\",\"none\",\"none\",\"none\",\"none\",\"none\",\"none\",\"none\",\"none\",\"none\",\"none\",\"completed\",\"none\",\"none\",\"none\",\"none\",\"completed\",\"none\",\"none\",\"none\",\"none\",\"none\",\"none\",\"none\",\"completed\",\"none\",\"completed\",\"none\",\"none\",\"none\",\"none\",\"completed\",\"none\",\"completed\",\"completed\",\"none\",\"none\",\"none\",\"none\",\"none\",\"none\",\"completed\",\"none\",\"completed\",\"completed\",\"none\",\"completed\",\"none\",\"none\",\"none\",\"none\",\"none\",\"none\",\"none\",\"none\",\"none\",\"none\",\"none\",\"none\",\"none\",\"none\",\"completed\",\"completed\",\"none\",\"none\",\"completed\",\"none\",\"completed\",\"completed\",\"none\",\"none\",\"none\",\"completed\",\"completed\",\"none\",\"completed\",\"none\",\"none\",\"completed\",\"none\",\"completed\",\"completed\",\"none\",\"completed\",\"none\",\"none\",\"none\",\"completed\",\"none\",\"none\",\"none\",\"completed\",\"none\",\"none\",\"none\",\"none\",\"completed\",\"none\",\"none\",\"none\",\"completed\",\"completed\",\"none\",\"none\",\"completed\",\"completed\",\"none\",\"none\",\"completed\",\"none\",\"completed\",\"completed\",\"none\",\"none\",\"completed\",\"completed\",\"none\",\"none\",\"none\",\"none\",\"none\",\"none\",\"completed\",\"completed\",\"completed\",\"completed\",\"none\",\"none\",\"none\",\"none\",\"completed\",\"none\",\"none\",\"completed\",\"completed\",\"completed\",\"completed\",\"none\",\"none\",\"completed\",\"completed\",\"none\",\"none\",\"none\",\"none\",\"none\",\"none\",\"none\",\"none\",\"completed\",\"completed\",\"completed\",\"completed\",\"completed\",\"completed\",\"completed\",\"none\",\"none\",\"none\",\"completed\",\"none\",\"none\",\"none\",\"none\",\"none\",\"completed\",\"none\",\"none\",\"none\",\"none\",\"none\",\"none\",\"none\",\"none\",\"none\",\"none\",\"none\",\"none\",\"none\",\"none\",\"none\",\"completed\",\"none\",\"none\",\"none\",\"completed\",\"none\",\"none\",\"none\",\"none\",\"none\",\"none\",\"completed\",\"completed\",\"completed\",\"none\",\"completed\",\"none\",\"none\",\"none\",\"none\",\"none\",\"completed\",\"none\",\"completed\",\"none\",\"completed\",\"none\",\"completed\",\"none\",\"completed\",\"completed\",\"completed\",\"completed\",\"completed\",\"none\",\"none\",\"completed\",\"completed\",\"completed\",\"none\",\"none\",\"none\",\"none\",\"none\",\"none\",\"none\",\"completed\",\"none\",\"none\",\"completed\",\"none\",\"none\",\"none\",\"none\",\"none\",\"completed\",\"none\",\"none\",\"none\",\"none\",\"none\",\"none\",\"completed\",\"none\",\"none\",\"none\",\"none\",\"none\",\"none\",\"completed\",\"completed\",\"none\",\"none\",\"none\",\"none\",\"completed\",\"none\",\"none\",\"completed\",\"none\",\"none\",\"none\",\"none\",\"none\",\"completed\",\"none\",\"none\",\"none\",\"none\",\"completed\",\"none\",\"none\",\"completed\",\"none\",\"none\",\"none\",\"none\",\"none\",\"completed\",\"completed\",\"none\",\"none\",\"none\",\"none\",\"completed\",\"completed\",\"none\",\"completed\",\"completed\",\"none\",\"none\",\"completed\",\"completed\",\"none\",\"completed\",\"none\",\"completed\",\"completed\",\"none\",\"none\",\"none\",\"completed\",\"none\",\"completed\",\"none\",\"completed\",\"none\",\"none\",\"none\",\"none\",\"none\",\"none\",\"none\",\"none\",\"completed\",\"completed\",\"none\",\"none\",\"completed\",\"none\",\"none\",\"none\",\"completed\",\"none\",\"none\",\"completed\",\"completed\",\"completed\",\"none\",\"none\",\"none\",\"completed\",\"none\",\"completed\",\"none\",\"none\",\"completed\",\"completed\",\"none\",\"none\",\"none\",\"none\",\"completed\",\"none\",\"completed\",\"none\",\"none\",\"completed\",\"none\",\"none\",\"completed\",\"none\",\"none\",\"none\",\"completed\",\"completed\",\"none\",\"completed\",\"none\",\"none\",\"none\",\"none\",\"completed\",\"none\",\"completed\",\"none\",\"none\",\"completed\",\"completed\",\"none\",\"none\",\"none\",\"none\",\"completed\",\"completed\",\"none\",\"none\",\"completed\",\"none\",\"none\",\"none\",\"none\",\"none\",\"none\",\"none\",\"completed\",\"none\",\"none\",\"none\",\"none\",\"none\",\"none\",\"none\",\"completed\",\"none\",\"none\",\"completed\",\"completed\",\"completed\",\"completed\",\"none\",\"none\",\"completed\",\"completed\",\"none\",\"none\",\"completed\",\"none\",\"completed\",\"none\",\"none\",\"completed\",\"none\",\"none\",\"completed\",\"none\",\"none\",\"completed\",\"none\",\"none\",\"none\",\"none\",\"none\",\"none\",\"none\",\"none\",\"none\",\"none\",\"none\",\"none\",\"none\",\"none\",\"completed\",\"none\",\"none\",\"none\",\"completed\",\"completed\",\"completed\",\"completed\",\"none\",\"completed\",\"none\",\"none\",\"none\",\"completed\",\"completed\",\"completed\",\"none\",\"completed\",\"completed\",\"none\",\"completed\",\"none\",\"none\",\"none\",\"none\",\"none\",\"none\",\"completed\",\"none\",\"none\",\"none\",\"completed\",\"none\",\"completed\",\"none\",\"completed\",\"none\",\"completed\",\"completed\",\"none\",\"completed\",\"completed\",\"none\",\"completed\",\"none\",\"none\",\"none\",\"completed\",\"none\",\"none\",\"none\",\"none\",\"none\",\"none\",\"completed\",\"completed\",\"none\",\"none\",\"completed\",\"none\",\"completed\",\"none\",\"completed\",\"none\",\"none\",\"none\",\"none\",\"none\",\"none\",\"none\",\"completed\",\"none\",\"none\",\"completed\",\"none\",\"none\",\"none\",\"completed\",\"none\",\"none\",\"completed\",\"none\",\"completed\",\"none\",\"completed\",\"none\",\"none\",\"none\",\"none\",\"none\",\"completed\",\"completed\",\"none\",\"none\",\"none\",\"none\",\"none\",\"none\",\"none\",\"completed\",\"none\",\"none\",\"completed\",\"completed\",\"completed\",\"completed\",\"none\",\"none\",\"none\",\"none\",\"completed\",\"completed\",\"completed\",\"completed\",\"none\",\"completed\",\"completed\",\"none\",\"none\",\"completed\",\"none\",\"completed\",\"none\",\"none\",\"none\",\"none\",\"none\",\"none\",\"none\",\"none\",\"none\",\"none\",\"none\",\"none\",\"completed\",\"completed\",\"none\",\"none\",\"none\",\"none\",\"none\",\"completed\",\"none\",\"completed\",\"completed\",\"completed\",\"none\",\"completed\",\"none\",\"none\",\"completed\",\"none\",\"none\",\"none\",\"none\",\"completed\",\"completed\",\"completed\",\"completed\",\"none\",\"none\",\"completed\",\"completed\",\"none\",\"none\",\"completed\",\"none\",\"none\",\"completed\",\"none\",\"completed\",\"none\",\"completed\",\"completed\",\"none\",\"none\",\"none\",\"none\",\"completed\",\"none\",\"none\",\"completed\",\"none\",\"completed\",\"completed\",\"none\",\"none\",\"none\",\"none\",\"none\",\"none\",\"completed\",\"none\",\"none\",\"none\",\"none\",\"completed\",\"none\",\"none\",\"completed\",\"none\",\"none\",\"none\",\"completed\",\"none\",\"none\",\"completed\",\"none\",\"none\",\"none\",\"completed\",\"none\",\"completed\",\"none\",\"none\",\"none\",\"none\",\"completed\",\"none\",\"none\",\"none\",\"completed\",\"none\",\"none\",\"completed\",\"none\",\"none\",\"completed\",\"completed\",\"none\",\"none\",\"none\",\"completed\",\"none\",\"none\",\"none\",\"none\",\"none\",\"none\",\"none\",\"completed\",\"none\",\"none\",\"none\",\"completed\",\"none\",\"completed\",\"none\",\"none\",\"completed\",\"none\",\"completed\",\"none\",\"none\",\"none\",\"completed\",\"none\",\"none\",\"none\",\"completed\",\"none\",\"completed\",\"none\",\"completed\",\"none\",\"completed\",\"completed\",\"completed\",\"none\",\"completed\",\"completed\",\"none\",\"completed\",\"none\",\"completed\",\"completed\",\"none\",\"none\",\"completed\",\"completed\",\"none\",\"completed\",\"completed\",\"none\",\"none\",\"completed\",\"none\",\"none\",\"none\",\"completed\",\"none\",\"none\",\"none\",\"none\",\"none\",\"completed\",\"completed\",\"none\",\"completed\",\"none\",\"none\",\"completed\",\"none\",\"none\",\"none\",\"none\",\"completed\",\"none\",\"completed\",\"none\",\"none\",\"none\",\"none\",\"completed\",\"none\",\"completed\",\"none\",\"none\",\"completed\"],\"legendgroup\":\"\",\"marker\":{\"colors\":[\"red\",\"green\",\"green\",\"green\",\"red\",\"green\",\"green\",\"red\",\"green\",\"green\",\"red\",\"red\",\"red\",\"red\",\"red\",\"green\",\"green\",\"red\",\"green\",\"green\",\"green\",\"green\",\"red\",\"green\",\"green\",\"green\",\"green\",\"green\",\"red\",\"green\",\"green\",\"green\",\"red\",\"red\",\"red\",\"green\",\"red\",\"green\",\"red\",\"green\",\"green\",\"green\",\"red\",\"green\",\"green\",\"green\",\"green\",\"red\",\"green\",\"red\",\"green\",\"green\",\"green\",\"green\",\"green\",\"red\",\"red\",\"red\",\"green\",\"green\",\"green\",\"green\",\"red\",\"red\",\"red\",\"red\",\"green\",\"green\",\"green\",\"green\",\"red\",\"green\",\"green\",\"red\",\"green\",\"green\",\"green\",\"green\",\"green\",\"green\",\"green\",\"green\",\"green\",\"red\",\"green\",\"green\",\"green\",\"green\",\"green\",\"green\",\"green\",\"green\",\"green\",\"red\",\"green\",\"red\",\"red\",\"green\",\"green\",\"green\",\"red\",\"red\",\"green\",\"green\",\"green\",\"green\",\"green\",\"green\",\"green\",\"green\",\"red\",\"green\",\"green\",\"green\",\"green\",\"red\",\"green\",\"red\",\"green\",\"red\",\"red\",\"red\",\"red\",\"red\",\"green\",\"green\",\"green\",\"green\",\"red\",\"red\",\"red\",\"red\",\"green\",\"green\",\"green\",\"green\",\"red\",\"red\",\"green\",\"green\",\"green\",\"green\",\"green\",\"green\",\"red\",\"green\",\"red\",\"green\",\"red\",\"green\",\"red\",\"green\",\"green\",\"green\",\"green\",\"green\",\"green\",\"green\",\"green\",\"green\",\"red\",\"green\",\"green\",\"red\",\"red\",\"red\",\"green\",\"red\",\"green\",\"green\",\"green\",\"green\",\"red\",\"red\",\"red\",\"green\",\"green\",\"green\",\"red\",\"red\",\"green\",\"green\",\"green\",\"green\",\"red\",\"green\",\"green\",\"green\",\"green\",\"red\",\"red\",\"green\",\"green\",\"red\",\"green\",\"green\",\"green\",\"green\",\"red\",\"green\",\"red\",\"green\",\"green\",\"red\",\"green\",\"red\",\"red\",\"green\",\"green\",\"green\",\"red\",\"green\",\"red\",\"green\",\"red\",\"green\",\"green\",\"green\",\"red\",\"green\",\"green\",\"red\",\"green\",\"green\",\"green\",\"green\",\"red\",\"green\",\"green\",\"red\",\"green\",\"green\",\"green\",\"green\",\"green\",\"red\",\"green\",\"green\",\"green\",\"red\",\"green\",\"red\",\"green\",\"green\",\"green\",\"green\",\"red\",\"green\",\"red\",\"green\",\"green\",\"green\",\"green\",\"green\",\"green\",\"green\",\"green\",\"green\",\"green\",\"red\",\"green\",\"green\",\"green\",\"green\",\"red\",\"green\",\"green\",\"green\",\"green\",\"green\",\"green\",\"green\",\"red\",\"green\",\"red\",\"green\",\"green\",\"green\",\"green\",\"red\",\"green\",\"red\",\"red\",\"green\",\"green\",\"green\",\"green\",\"green\",\"green\",\"red\",\"green\",\"red\",\"red\",\"green\",\"red\",\"green\",\"green\",\"green\",\"green\",\"green\",\"green\",\"green\",\"green\",\"green\",\"green\",\"green\",\"green\",\"green\",\"green\",\"red\",\"red\",\"green\",\"green\",\"red\",\"green\",\"red\",\"red\",\"green\",\"green\",\"green\",\"red\",\"red\",\"green\",\"red\",\"green\",\"green\",\"red\",\"green\",\"red\",\"red\",\"green\",\"red\",\"green\",\"green\",\"green\",\"red\",\"green\",\"green\",\"green\",\"red\",\"green\",\"green\",\"green\",\"green\",\"red\",\"green\",\"green\",\"green\",\"red\",\"red\",\"green\",\"green\",\"red\",\"red\",\"green\",\"green\",\"red\",\"green\",\"red\",\"red\",\"green\",\"green\",\"red\",\"red\",\"green\",\"green\",\"green\",\"green\",\"green\",\"green\",\"red\",\"red\",\"red\",\"red\",\"green\",\"green\",\"green\",\"green\",\"red\",\"green\",\"green\",\"red\",\"red\",\"red\",\"red\",\"green\",\"green\",\"red\",\"red\",\"green\",\"green\",\"green\",\"green\",\"green\",\"green\",\"green\",\"green\",\"red\",\"red\",\"red\",\"red\",\"red\",\"red\",\"red\",\"green\",\"green\",\"green\",\"red\",\"green\",\"green\",\"green\",\"green\",\"green\",\"red\",\"green\",\"green\",\"green\",\"green\",\"green\",\"green\",\"green\",\"green\",\"green\",\"green\",\"green\",\"green\",\"green\",\"green\",\"green\",\"red\",\"green\",\"green\",\"green\",\"red\",\"green\",\"green\",\"green\",\"green\",\"green\",\"green\",\"red\",\"red\",\"red\",\"green\",\"red\",\"green\",\"green\",\"green\",\"green\",\"green\",\"red\",\"green\",\"red\",\"green\",\"red\",\"green\",\"red\",\"green\",\"red\",\"red\",\"red\",\"red\",\"red\",\"green\",\"green\",\"red\",\"red\",\"red\",\"green\",\"green\",\"green\",\"green\",\"green\",\"green\",\"green\",\"red\",\"green\",\"green\",\"red\",\"green\",\"green\",\"green\",\"green\",\"green\",\"red\",\"green\",\"green\",\"green\",\"green\",\"green\",\"green\",\"red\",\"green\",\"green\",\"green\",\"green\",\"green\",\"green\",\"red\",\"red\",\"green\",\"green\",\"green\",\"green\",\"red\",\"green\",\"green\",\"red\",\"green\",\"green\",\"green\",\"green\",\"green\",\"red\",\"green\",\"green\",\"green\",\"green\",\"red\",\"green\",\"green\",\"red\",\"green\",\"green\",\"green\",\"green\",\"green\",\"red\",\"red\",\"green\",\"green\",\"green\",\"green\",\"red\",\"red\",\"green\",\"red\",\"red\",\"green\",\"green\",\"red\",\"red\",\"green\",\"red\",\"green\",\"red\",\"red\",\"green\",\"green\",\"green\",\"red\",\"green\",\"red\",\"green\",\"red\",\"green\",\"green\",\"green\",\"green\",\"green\",\"green\",\"green\",\"green\",\"red\",\"red\",\"green\",\"green\",\"red\",\"green\",\"green\",\"green\",\"red\",\"green\",\"green\",\"red\",\"red\",\"red\",\"green\",\"green\",\"green\",\"red\",\"green\",\"red\",\"green\",\"green\",\"red\",\"red\",\"green\",\"green\",\"green\",\"green\",\"red\",\"green\",\"red\",\"green\",\"green\",\"red\",\"green\",\"green\",\"red\",\"green\",\"green\",\"green\",\"red\",\"red\",\"green\",\"red\",\"green\",\"green\",\"green\",\"green\",\"red\",\"green\",\"red\",\"green\",\"green\",\"red\",\"red\",\"green\",\"green\",\"green\",\"green\",\"red\",\"red\",\"green\",\"green\",\"red\",\"green\",\"green\",\"green\",\"green\",\"green\",\"green\",\"green\",\"red\",\"green\",\"green\",\"green\",\"green\",\"green\",\"green\",\"green\",\"red\",\"green\",\"green\",\"red\",\"red\",\"red\",\"red\",\"green\",\"green\",\"red\",\"red\",\"green\",\"green\",\"red\",\"green\",\"red\",\"green\",\"green\",\"red\",\"green\",\"green\",\"red\",\"green\",\"green\",\"red\",\"green\",\"green\",\"green\",\"green\",\"green\",\"green\",\"green\",\"green\",\"green\",\"green\",\"green\",\"green\",\"green\",\"green\",\"red\",\"green\",\"green\",\"green\",\"red\",\"red\",\"red\",\"red\",\"green\",\"red\",\"green\",\"green\",\"green\",\"red\",\"red\",\"red\",\"green\",\"red\",\"red\",\"green\",\"red\",\"green\",\"green\",\"green\",\"green\",\"green\",\"green\",\"red\",\"green\",\"green\",\"green\",\"red\",\"green\",\"red\",\"green\",\"red\",\"green\",\"red\",\"red\",\"green\",\"red\",\"red\",\"green\",\"red\",\"green\",\"green\",\"green\",\"red\",\"green\",\"green\",\"green\",\"green\",\"green\",\"green\",\"red\",\"red\",\"green\",\"green\",\"red\",\"green\",\"red\",\"green\",\"red\",\"green\",\"green\",\"green\",\"green\",\"green\",\"green\",\"green\",\"red\",\"green\",\"green\",\"red\",\"green\",\"green\",\"green\",\"red\",\"green\",\"green\",\"red\",\"green\",\"red\",\"green\",\"red\",\"green\",\"green\",\"green\",\"green\",\"green\",\"red\",\"red\",\"green\",\"green\",\"green\",\"green\",\"green\",\"green\",\"green\",\"red\",\"green\",\"green\",\"red\",\"red\",\"red\",\"red\",\"green\",\"green\",\"green\",\"green\",\"red\",\"red\",\"red\",\"red\",\"green\",\"red\",\"red\",\"green\",\"green\",\"red\",\"green\",\"red\",\"green\",\"green\",\"green\",\"green\",\"green\",\"green\",\"green\",\"green\",\"green\",\"green\",\"green\",\"green\",\"red\",\"red\",\"green\",\"green\",\"green\",\"green\",\"green\",\"red\",\"green\",\"red\",\"red\",\"red\",\"green\",\"red\",\"green\",\"green\",\"red\",\"green\",\"green\",\"green\",\"green\",\"red\",\"red\",\"red\",\"red\",\"green\",\"green\",\"red\",\"red\",\"green\",\"green\",\"red\",\"green\",\"green\",\"red\",\"green\",\"red\",\"green\",\"red\",\"red\",\"green\",\"green\",\"green\",\"green\",\"red\",\"green\",\"green\",\"red\",\"green\",\"red\",\"red\",\"green\",\"green\",\"green\",\"green\",\"green\",\"green\",\"red\",\"green\",\"green\",\"green\",\"green\",\"red\",\"green\",\"green\",\"red\",\"green\",\"green\",\"green\",\"red\",\"green\",\"green\",\"red\",\"green\",\"green\",\"green\",\"red\",\"green\",\"red\",\"green\",\"green\",\"green\",\"green\",\"red\",\"green\",\"green\",\"green\",\"red\",\"green\",\"green\",\"red\",\"green\",\"green\",\"red\",\"red\",\"green\",\"green\",\"green\",\"red\",\"green\",\"green\",\"green\",\"green\",\"green\",\"green\",\"green\",\"red\",\"green\",\"green\",\"green\",\"red\",\"green\",\"red\",\"green\",\"green\",\"red\",\"green\",\"red\",\"green\",\"green\",\"green\",\"red\",\"green\",\"green\",\"green\",\"red\",\"green\",\"red\",\"green\",\"red\",\"green\",\"red\",\"red\",\"red\",\"green\",\"red\",\"red\",\"green\",\"red\",\"green\",\"red\",\"red\",\"green\",\"green\",\"red\",\"red\",\"green\",\"red\",\"red\",\"green\",\"green\",\"red\",\"green\",\"green\",\"green\",\"red\",\"green\",\"green\",\"green\",\"green\",\"green\",\"red\",\"red\",\"green\",\"red\",\"green\",\"green\",\"red\",\"green\",\"green\",\"green\",\"green\",\"red\",\"green\",\"red\",\"green\",\"green\",\"green\",\"green\",\"red\",\"green\",\"red\",\"green\",\"green\",\"red\"]},\"name\":\"\",\"showlegend\":true,\"type\":\"pie\"}],                        {\"template\":{\"data\":{\"bar\":[{\"error_x\":{\"color\":\"#2a3f5f\"},\"error_y\":{\"color\":\"#2a3f5f\"},\"marker\":{\"line\":{\"color\":\"#E5ECF6\",\"width\":0.5},\"pattern\":{\"fillmode\":\"overlay\",\"size\":10,\"solidity\":0.2}},\"type\":\"bar\"}],\"barpolar\":[{\"marker\":{\"line\":{\"color\":\"#E5ECF6\",\"width\":0.5},\"pattern\":{\"fillmode\":\"overlay\",\"size\":10,\"solidity\":0.2}},\"type\":\"barpolar\"}],\"carpet\":[{\"aaxis\":{\"endlinecolor\":\"#2a3f5f\",\"gridcolor\":\"white\",\"linecolor\":\"white\",\"minorgridcolor\":\"white\",\"startlinecolor\":\"#2a3f5f\"},\"baxis\":{\"endlinecolor\":\"#2a3f5f\",\"gridcolor\":\"white\",\"linecolor\":\"white\",\"minorgridcolor\":\"white\",\"startlinecolor\":\"#2a3f5f\"},\"type\":\"carpet\"}],\"choropleth\":[{\"colorbar\":{\"outlinewidth\":0,\"ticks\":\"\"},\"type\":\"choropleth\"}],\"contour\":[{\"colorbar\":{\"outlinewidth\":0,\"ticks\":\"\"},\"colorscale\":[[0.0,\"#0d0887\"],[0.1111111111111111,\"#46039f\"],[0.2222222222222222,\"#7201a8\"],[0.3333333333333333,\"#9c179e\"],[0.4444444444444444,\"#bd3786\"],[0.5555555555555556,\"#d8576b\"],[0.6666666666666666,\"#ed7953\"],[0.7777777777777778,\"#fb9f3a\"],[0.8888888888888888,\"#fdca26\"],[1.0,\"#f0f921\"]],\"type\":\"contour\"}],\"contourcarpet\":[{\"colorbar\":{\"outlinewidth\":0,\"ticks\":\"\"},\"type\":\"contourcarpet\"}],\"heatmap\":[{\"colorbar\":{\"outlinewidth\":0,\"ticks\":\"\"},\"colorscale\":[[0.0,\"#0d0887\"],[0.1111111111111111,\"#46039f\"],[0.2222222222222222,\"#7201a8\"],[0.3333333333333333,\"#9c179e\"],[0.4444444444444444,\"#bd3786\"],[0.5555555555555556,\"#d8576b\"],[0.6666666666666666,\"#ed7953\"],[0.7777777777777778,\"#fb9f3a\"],[0.8888888888888888,\"#fdca26\"],[1.0,\"#f0f921\"]],\"type\":\"heatmap\"}],\"heatmapgl\":[{\"colorbar\":{\"outlinewidth\":0,\"ticks\":\"\"},\"colorscale\":[[0.0,\"#0d0887\"],[0.1111111111111111,\"#46039f\"],[0.2222222222222222,\"#7201a8\"],[0.3333333333333333,\"#9c179e\"],[0.4444444444444444,\"#bd3786\"],[0.5555555555555556,\"#d8576b\"],[0.6666666666666666,\"#ed7953\"],[0.7777777777777778,\"#fb9f3a\"],[0.8888888888888888,\"#fdca26\"],[1.0,\"#f0f921\"]],\"type\":\"heatmapgl\"}],\"histogram\":[{\"marker\":{\"pattern\":{\"fillmode\":\"overlay\",\"size\":10,\"solidity\":0.2}},\"type\":\"histogram\"}],\"histogram2d\":[{\"colorbar\":{\"outlinewidth\":0,\"ticks\":\"\"},\"colorscale\":[[0.0,\"#0d0887\"],[0.1111111111111111,\"#46039f\"],[0.2222222222222222,\"#7201a8\"],[0.3333333333333333,\"#9c179e\"],[0.4444444444444444,\"#bd3786\"],[0.5555555555555556,\"#d8576b\"],[0.6666666666666666,\"#ed7953\"],[0.7777777777777778,\"#fb9f3a\"],[0.8888888888888888,\"#fdca26\"],[1.0,\"#f0f921\"]],\"type\":\"histogram2d\"}],\"histogram2dcontour\":[{\"colorbar\":{\"outlinewidth\":0,\"ticks\":\"\"},\"colorscale\":[[0.0,\"#0d0887\"],[0.1111111111111111,\"#46039f\"],[0.2222222222222222,\"#7201a8\"],[0.3333333333333333,\"#9c179e\"],[0.4444444444444444,\"#bd3786\"],[0.5555555555555556,\"#d8576b\"],[0.6666666666666666,\"#ed7953\"],[0.7777777777777778,\"#fb9f3a\"],[0.8888888888888888,\"#fdca26\"],[1.0,\"#f0f921\"]],\"type\":\"histogram2dcontour\"}],\"mesh3d\":[{\"colorbar\":{\"outlinewidth\":0,\"ticks\":\"\"},\"type\":\"mesh3d\"}],\"parcoords\":[{\"line\":{\"colorbar\":{\"outlinewidth\":0,\"ticks\":\"\"}},\"type\":\"parcoords\"}],\"pie\":[{\"automargin\":true,\"type\":\"pie\"}],\"scatter\":[{\"marker\":{\"colorbar\":{\"outlinewidth\":0,\"ticks\":\"\"}},\"type\":\"scatter\"}],\"scatter3d\":[{\"line\":{\"colorbar\":{\"outlinewidth\":0,\"ticks\":\"\"}},\"marker\":{\"colorbar\":{\"outlinewidth\":0,\"ticks\":\"\"}},\"type\":\"scatter3d\"}],\"scattercarpet\":[{\"marker\":{\"colorbar\":{\"outlinewidth\":0,\"ticks\":\"\"}},\"type\":\"scattercarpet\"}],\"scattergeo\":[{\"marker\":{\"colorbar\":{\"outlinewidth\":0,\"ticks\":\"\"}},\"type\":\"scattergeo\"}],\"scattergl\":[{\"marker\":{\"colorbar\":{\"outlinewidth\":0,\"ticks\":\"\"}},\"type\":\"scattergl\"}],\"scattermapbox\":[{\"marker\":{\"colorbar\":{\"outlinewidth\":0,\"ticks\":\"\"}},\"type\":\"scattermapbox\"}],\"scatterpolar\":[{\"marker\":{\"colorbar\":{\"outlinewidth\":0,\"ticks\":\"\"}},\"type\":\"scatterpolar\"}],\"scatterpolargl\":[{\"marker\":{\"colorbar\":{\"outlinewidth\":0,\"ticks\":\"\"}},\"type\":\"scatterpolargl\"}],\"scatterternary\":[{\"marker\":{\"colorbar\":{\"outlinewidth\":0,\"ticks\":\"\"}},\"type\":\"scatterternary\"}],\"surface\":[{\"colorbar\":{\"outlinewidth\":0,\"ticks\":\"\"},\"colorscale\":[[0.0,\"#0d0887\"],[0.1111111111111111,\"#46039f\"],[0.2222222222222222,\"#7201a8\"],[0.3333333333333333,\"#9c179e\"],[0.4444444444444444,\"#bd3786\"],[0.5555555555555556,\"#d8576b\"],[0.6666666666666666,\"#ed7953\"],[0.7777777777777778,\"#fb9f3a\"],[0.8888888888888888,\"#fdca26\"],[1.0,\"#f0f921\"]],\"type\":\"surface\"}],\"table\":[{\"cells\":{\"fill\":{\"color\":\"#EBF0F8\"},\"line\":{\"color\":\"white\"}},\"header\":{\"fill\":{\"color\":\"#C8D4E3\"},\"line\":{\"color\":\"white\"}},\"type\":\"table\"}]},\"layout\":{\"annotationdefaults\":{\"arrowcolor\":\"#2a3f5f\",\"arrowhead\":0,\"arrowwidth\":1},\"autotypenumbers\":\"strict\",\"coloraxis\":{\"colorbar\":{\"outlinewidth\":0,\"ticks\":\"\"}},\"colorscale\":{\"diverging\":[[0,\"#8e0152\"],[0.1,\"#c51b7d\"],[0.2,\"#de77ae\"],[0.3,\"#f1b6da\"],[0.4,\"#fde0ef\"],[0.5,\"#f7f7f7\"],[0.6,\"#e6f5d0\"],[0.7,\"#b8e186\"],[0.8,\"#7fbc41\"],[0.9,\"#4d9221\"],[1,\"#276419\"]],\"sequential\":[[0.0,\"#0d0887\"],[0.1111111111111111,\"#46039f\"],[0.2222222222222222,\"#7201a8\"],[0.3333333333333333,\"#9c179e\"],[0.4444444444444444,\"#bd3786\"],[0.5555555555555556,\"#d8576b\"],[0.6666666666666666,\"#ed7953\"],[0.7777777777777778,\"#fb9f3a\"],[0.8888888888888888,\"#fdca26\"],[1.0,\"#f0f921\"]],\"sequentialminus\":[[0.0,\"#0d0887\"],[0.1111111111111111,\"#46039f\"],[0.2222222222222222,\"#7201a8\"],[0.3333333333333333,\"#9c179e\"],[0.4444444444444444,\"#bd3786\"],[0.5555555555555556,\"#d8576b\"],[0.6666666666666666,\"#ed7953\"],[0.7777777777777778,\"#fb9f3a\"],[0.8888888888888888,\"#fdca26\"],[1.0,\"#f0f921\"]]},\"colorway\":[\"#636efa\",\"#EF553B\",\"#00cc96\",\"#ab63fa\",\"#FFA15A\",\"#19d3f3\",\"#FF6692\",\"#B6E880\",\"#FF97FF\",\"#FECB52\"],\"font\":{\"color\":\"#2a3f5f\"},\"geo\":{\"bgcolor\":\"white\",\"lakecolor\":\"white\",\"landcolor\":\"#E5ECF6\",\"showlakes\":true,\"showland\":true,\"subunitcolor\":\"white\"},\"hoverlabel\":{\"align\":\"left\"},\"hovermode\":\"closest\",\"mapbox\":{\"style\":\"light\"},\"paper_bgcolor\":\"white\",\"plot_bgcolor\":\"#E5ECF6\",\"polar\":{\"angularaxis\":{\"gridcolor\":\"white\",\"linecolor\":\"white\",\"ticks\":\"\"},\"bgcolor\":\"#E5ECF6\",\"radialaxis\":{\"gridcolor\":\"white\",\"linecolor\":\"white\",\"ticks\":\"\"}},\"scene\":{\"xaxis\":{\"backgroundcolor\":\"#E5ECF6\",\"gridcolor\":\"white\",\"gridwidth\":2,\"linecolor\":\"white\",\"showbackground\":true,\"ticks\":\"\",\"zerolinecolor\":\"white\"},\"yaxis\":{\"backgroundcolor\":\"#E5ECF6\",\"gridcolor\":\"white\",\"gridwidth\":2,\"linecolor\":\"white\",\"showbackground\":true,\"ticks\":\"\",\"zerolinecolor\":\"white\"},\"zaxis\":{\"backgroundcolor\":\"#E5ECF6\",\"gridcolor\":\"white\",\"gridwidth\":2,\"linecolor\":\"white\",\"showbackground\":true,\"ticks\":\"\",\"zerolinecolor\":\"white\"}},\"shapedefaults\":{\"line\":{\"color\":\"#2a3f5f\"}},\"ternary\":{\"aaxis\":{\"gridcolor\":\"white\",\"linecolor\":\"white\",\"ticks\":\"\"},\"baxis\":{\"gridcolor\":\"white\",\"linecolor\":\"white\",\"ticks\":\"\"},\"bgcolor\":\"#E5ECF6\",\"caxis\":{\"gridcolor\":\"white\",\"linecolor\":\"white\",\"ticks\":\"\"}},\"title\":{\"x\":0.05},\"xaxis\":{\"automargin\":true,\"gridcolor\":\"white\",\"linecolor\":\"white\",\"ticks\":\"\",\"title\":{\"standoff\":15},\"zerolinecolor\":\"white\",\"zerolinewidth\":2},\"yaxis\":{\"automargin\":true,\"gridcolor\":\"white\",\"linecolor\":\"white\",\"ticks\":\"\",\"title\":{\"standoff\":15},\"zerolinecolor\":\"white\",\"zerolinewidth\":2}}},\"legend\":{\"tracegroupgap\":0},\"margin\":{\"t\":60}},                        {\"responsive\": true}                    ).then(function(){\n",
       "                            \n",
       "var gd = document.getElementById('13d665c3-82f8-4731-ada3-dc0e2b895e57');\n",
       "var x = new MutationObserver(function (mutations, observer) {{\n",
       "        var display = window.getComputedStyle(gd).display;\n",
       "        if (!display || display === 'none') {{\n",
       "            console.log([gd, 'removed!']);\n",
       "            Plotly.purge(gd);\n",
       "            observer.disconnect();\n",
       "        }}\n",
       "}});\n",
       "\n",
       "// Listen for the removal of the full notebook cells\n",
       "var notebookContainer = gd.closest('#notebook-container');\n",
       "if (notebookContainer) {{\n",
       "    x.observe(notebookContainer, {childList: true});\n",
       "}}\n",
       "\n",
       "// Listen for the clearing of the current output cell\n",
       "var outputEl = gd.closest('.output');\n",
       "if (outputEl) {{\n",
       "    x.observe(outputEl, {childList: true});\n",
       "}}\n",
       "\n",
       "                        })                };                });            </script>        </div>"
      ]
     },
     "metadata": {},
     "output_type": "display_data"
    }
   ],
   "source": [
    "import plotly.express as px\n",
    "\n",
    "fig = px.pie(std,names='testpreparationcourse',color='testpreparationcourse',\n",
    "             color_discrete_map={'completed':'red',\n",
    "                                 'none':'green'})\n",
    "fig.show()"
   ]
  },
  {
   "cell_type": "markdown",
   "id": "fa02678c",
   "metadata": {},
   "source": [
    "# Trend Analysis"
   ]
  },
  {
   "cell_type": "code",
   "execution_count": 102,
   "id": "9bfa7a91",
   "metadata": {},
   "outputs": [
    {
     "data": {
      "text/plain": [
       "none         665\n",
       "completed    335\n",
       "Name: testpreparationcourse, dtype: int64"
      ]
     },
     "execution_count": 102,
     "metadata": {},
     "output_type": "execute_result"
    }
   ],
   "source": [
    "std.testpreparationcourse.value_counts()"
   ]
  },
  {
   "cell_type": "code",
   "execution_count": 103,
   "id": "f24eab33",
   "metadata": {},
   "outputs": [
    {
     "data": {
      "text/plain": [
       "1.9850746268656716"
      ]
     },
     "execution_count": 103,
     "metadata": {},
     "output_type": "execute_result"
    }
   ],
   "source": [
    "665/335"
   ]
  },
  {
   "cell_type": "code",
   "execution_count": 106,
   "id": "45768aa3",
   "metadata": {},
   "outputs": [
    {
     "data": {
      "text/html": [
       "<div>\n",
       "<style scoped>\n",
       "    .dataframe tbody tr th:only-of-type {\n",
       "        vertical-align: middle;\n",
       "    }\n",
       "\n",
       "    .dataframe tbody tr th {\n",
       "        vertical-align: top;\n",
       "    }\n",
       "\n",
       "    .dataframe thead th {\n",
       "        text-align: right;\n",
       "    }\n",
       "</style>\n",
       "<table border=\"1\" class=\"dataframe\">\n",
       "  <thead>\n",
       "    <tr style=\"text-align: right;\">\n",
       "      <th></th>\n",
       "      <th>parentallevelofeducation</th>\n",
       "      <th>lunch</th>\n",
       "      <th>testpreparationcourse</th>\n",
       "      <th>mathscore</th>\n",
       "      <th>readingscore</th>\n",
       "      <th>writingscore</th>\n",
       "    </tr>\n",
       "  </thead>\n",
       "  <tbody>\n",
       "    <tr>\n",
       "      <th>0</th>\n",
       "      <td>high school</td>\n",
       "      <td>standard</td>\n",
       "      <td>completed</td>\n",
       "      <td>67</td>\n",
       "      <td>67</td>\n",
       "      <td>63.0</td>\n",
       "    </tr>\n",
       "    <tr>\n",
       "      <th>4</th>\n",
       "      <td>associate's degree</td>\n",
       "      <td>standard</td>\n",
       "      <td>completed</td>\n",
       "      <td>78</td>\n",
       "      <td>73</td>\n",
       "      <td>68.0</td>\n",
       "    </tr>\n",
       "    <tr>\n",
       "      <th>7</th>\n",
       "      <td>some college</td>\n",
       "      <td>standard</td>\n",
       "      <td>completed</td>\n",
       "      <td>93</td>\n",
       "      <td>88</td>\n",
       "      <td>84.0</td>\n",
       "    </tr>\n",
       "    <tr>\n",
       "      <th>10</th>\n",
       "      <td>some college</td>\n",
       "      <td>standard</td>\n",
       "      <td>completed</td>\n",
       "      <td>99</td>\n",
       "      <td>83</td>\n",
       "      <td>85.0</td>\n",
       "    </tr>\n",
       "    <tr>\n",
       "      <th>11</th>\n",
       "      <td>high school</td>\n",
       "      <td>standard</td>\n",
       "      <td>completed</td>\n",
       "      <td>80</td>\n",
       "      <td>87</td>\n",
       "      <td>90.0</td>\n",
       "    </tr>\n",
       "    <tr>\n",
       "      <th>...</th>\n",
       "      <td>...</td>\n",
       "      <td>...</td>\n",
       "      <td>...</td>\n",
       "      <td>...</td>\n",
       "      <td>...</td>\n",
       "      <td>...</td>\n",
       "    </tr>\n",
       "    <tr>\n",
       "      <th>987</th>\n",
       "      <td>some college</td>\n",
       "      <td>standard</td>\n",
       "      <td>completed</td>\n",
       "      <td>78</td>\n",
       "      <td>78</td>\n",
       "      <td>74.0</td>\n",
       "    </tr>\n",
       "    <tr>\n",
       "      <th>989</th>\n",
       "      <td>some college</td>\n",
       "      <td>standard</td>\n",
       "      <td>completed</td>\n",
       "      <td>70</td>\n",
       "      <td>60</td>\n",
       "      <td>65.0</td>\n",
       "    </tr>\n",
       "    <tr>\n",
       "      <th>994</th>\n",
       "      <td>high school</td>\n",
       "      <td>free/reduced</td>\n",
       "      <td>completed</td>\n",
       "      <td>86</td>\n",
       "      <td>82</td>\n",
       "      <td>75.0</td>\n",
       "    </tr>\n",
       "    <tr>\n",
       "      <th>996</th>\n",
       "      <td>associate's degree</td>\n",
       "      <td>free/reduced</td>\n",
       "      <td>completed</td>\n",
       "      <td>85</td>\n",
       "      <td>91</td>\n",
       "      <td>92.0</td>\n",
       "    </tr>\n",
       "    <tr>\n",
       "      <th>999</th>\n",
       "      <td>some college</td>\n",
       "      <td>standard</td>\n",
       "      <td>completed</td>\n",
       "      <td>65</td>\n",
       "      <td>60</td>\n",
       "      <td>62.0</td>\n",
       "    </tr>\n",
       "  </tbody>\n",
       "</table>\n",
       "<p>335 rows × 6 columns</p>\n",
       "</div>"
      ],
      "text/plain": [
       "    parentallevelofeducation         lunch testpreparationcourse  mathscore  \\\n",
       "0                high school      standard             completed         67   \n",
       "4         associate's degree      standard             completed         78   \n",
       "7               some college      standard             completed         93   \n",
       "10              some college      standard             completed         99   \n",
       "11               high school      standard             completed         80   \n",
       "..                       ...           ...                   ...        ...   \n",
       "987             some college      standard             completed         78   \n",
       "989             some college      standard             completed         70   \n",
       "994              high school  free/reduced             completed         86   \n",
       "996       associate's degree  free/reduced             completed         85   \n",
       "999             some college      standard             completed         65   \n",
       "\n",
       "     readingscore  writingscore  \n",
       "0              67          63.0  \n",
       "4              73          68.0  \n",
       "7              88          84.0  \n",
       "10             83          85.0  \n",
       "11             87          90.0  \n",
       "..            ...           ...  \n",
       "987            78          74.0  \n",
       "989            60          65.0  \n",
       "994            82          75.0  \n",
       "996            91          92.0  \n",
       "999            60          62.0  \n",
       "\n",
       "[335 rows x 6 columns]"
      ]
     },
     "execution_count": 106,
     "metadata": {},
     "output_type": "execute_result"
    }
   ],
   "source": [
    "Churn_Customer= std[std[\"testpreparationcourse\"] == \"completed\"]\n",
    "Churn_Customer"
   ]
  },
  {
   "cell_type": "code",
   "execution_count": 109,
   "id": "f1d97aa5",
   "metadata": {},
   "outputs": [
    {
     "name": "stderr",
     "output_type": "stream",
     "text": [
      "C:\\Users\\suvar\\anaconda3\\lib\\site-packages\\plotly\\express\\_core.py:1637: FutureWarning:\n",
      "\n",
      "The frame.append method is deprecated and will be removed from pandas in a future version. Use pandas.concat instead.\n",
      "\n",
      "C:\\Users\\suvar\\anaconda3\\lib\\site-packages\\plotly\\express\\_core.py:1637: FutureWarning:\n",
      "\n",
      "The frame.append method is deprecated and will be removed from pandas in a future version. Use pandas.concat instead.\n",
      "\n"
     ]
    },
    {
     "data": {
      "application/vnd.plotly.v1+json": {
       "config": {
        "plotlyServerURL": "https://plot.ly"
       },
       "data": [
        {
         "branchvalues": "total",
         "domain": {
          "x": [
           0,
           1
          ],
          "y": [
           0,
           1
          ]
         },
         "hovertemplate": "labels=%{label}<br>count=%{value}<br>parent=%{parent}<br>id=%{id}<extra></extra>",
         "ids": [
          "some college/35.0",
          "some college/39.0",
          "some high school/39.0",
          "associate's degree/41.0",
          "some high school/41.0",
          "some high school/42.0",
          "some high school/43.0",
          "some high school/44.0",
          "some high school/45.0",
          "some college/46.0",
          "some college/47.0",
          "some high school/47.0",
          "some high school/48.0",
          "high school/49.0",
          "some high school/49.0",
          "some college/50.0",
          "some high school/50.0",
          "associate's degree/51.0",
          "associate's degree/52.0",
          "some college/52.0",
          "associate's degree/53.0",
          "high school/53.0",
          "some high school/53.0",
          "associate's degree/55.0",
          "some high school/55.0",
          "high school/56.0",
          "some college/56.0",
          "some high school/56.0",
          "associate's degree/57.0",
          "bachelor's degree/57.0",
          "high school/57.0",
          "some high school/58.0",
          "associate's degree/59.0",
          "high school/59.0",
          "some college/59.0",
          "associate's degree/60.0",
          "bachelor's degree/60.0",
          "some college/60.0",
          "some high school/60.0",
          "associate's degree/61.0",
          "some college/61.0",
          "some high school/61.0",
          "bachelor's degree/62.0",
          "high school/62.0",
          "some college/62.0",
          "some high school/62.0",
          "associate's degree/63.0",
          "bachelor's degree/63.0",
          "high school/63.0",
          "some college/63.0",
          "some high school/63.0",
          "high school/64.0",
          "some college/64.0",
          "associate's degree/65.0",
          "bachelor's degree/65.0",
          "high school/65.0",
          "master's degree/65.0",
          "some college/65.0",
          "some high school/65.0",
          "associate's degree/66.0",
          "high school/66.0",
          "some college/66.0",
          "some high school/66.0",
          "associate's degree/67.0",
          "bachelor's degree/67.0",
          "high school/67.0",
          "some college/67.0",
          "some high school/67.0",
          "associate's degree/68.0",
          "bachelor's degree/68.0",
          "high school/68.0",
          "master's degree/68.0",
          "some college/68.0",
          "some high school/68.0",
          "some college/69.0",
          "associate's degree/70.0",
          "bachelor's degree/70.0",
          "high school/70.0",
          "some college/70.0",
          "some high school/70.0",
          "associate's degree/71.0",
          "high school/71.0",
          "some college/71.0",
          "some high school/71.0",
          "associate's degree/72.0",
          "master's degree/72.0",
          "some college/72.0",
          "associate's degree/73.0",
          "bachelor's degree/73.0",
          "high school/73.0",
          "some college/73.0",
          "some high school/73.0",
          "associate's degree/74.0",
          "high school/74.0",
          "master's degree/74.0",
          "some college/74.0",
          "associate's degree/75.0",
          "bachelor's degree/75.0",
          "high school/75.0",
          "some college/75.0",
          "some high school/75.0",
          "associate's degree/76.0",
          "master's degree/76.0",
          "some college/76.0",
          "some high school/76.0",
          "associate's degree/77.0",
          "high school/77.0",
          "some college/77.0",
          "some high school/77.0",
          "associate's degree/78.0",
          "bachelor's degree/78.0",
          "high school/78.0",
          "some high school/78.0",
          "high school/79.0",
          "some college/79.0",
          "associate's degree/80.0",
          "high school/80.0",
          "some college/80.0",
          "associate's degree/81.0",
          "bachelor's degree/81.0",
          "some college/81.0",
          "some high school/81.0",
          "associate's degree/82.0",
          "bachelor's degree/82.0",
          "high school/82.0",
          "master's degree/82.0",
          "some college/82.0",
          "associate's degree/83.0",
          "bachelor's degree/83.0",
          "high school/83.0",
          "master's degree/83.0",
          "bachelor's degree/84.0",
          "master's degree/84.0",
          "some college/84.0",
          "associate's degree/85.0",
          "master's degree/85.0",
          "some college/85.0",
          "some high school/85.0",
          "associate's degree/86.0",
          "high school/86.0",
          "master's degree/86.0",
          "some college/86.0",
          "associate's degree/87.0",
          "some college/87.0",
          "some high school/87.0",
          "some college/88.0",
          "some high school/88.0",
          "associate's degree/89.0",
          "bachelor's degree/89.0",
          "high school/89.0",
          "master's degree/89.0",
          "some college/89.0",
          "some high school/89.0",
          "associate's degree/90.0",
          "bachelor's degree/90.0",
          "high school/90.0",
          "some college/90.0",
          "some high school/90.0",
          "associate's degree/91.0",
          "associate's degree/92.0",
          "bachelor's degree/92.0",
          "some high school/92.0",
          "bachelor's degree/93.0",
          "master's degree/93.0",
          "some college/93.0",
          "associate's degree/94.0",
          "bachelor's degree/94.0",
          "high school/94.0",
          "some college/94.0",
          "bachelor's degree/95.0",
          "high school/95.0",
          "some college/95.0",
          "associate's degree/97.0",
          "high school/97.0",
          "master's degree/97.0",
          "some college/97.0",
          "some high school/97.0",
          "master's degree/98.0",
          "bachelor's degree/99.0",
          "associate's degree/100.0",
          "bachelor's degree/100.0",
          "master's degree/100.0",
          "some college/100.0",
          "associate's degree",
          "bachelor's degree",
          "high school",
          "master's degree",
          "some college",
          "some high school"
         ],
         "labels": [
          "35.0",
          "39.0",
          "39.0",
          "41.0",
          "41.0",
          "42.0",
          "43.0",
          "44.0",
          "45.0",
          "46.0",
          "47.0",
          "47.0",
          "48.0",
          "49.0",
          "49.0",
          "50.0",
          "50.0",
          "51.0",
          "52.0",
          "52.0",
          "53.0",
          "53.0",
          "53.0",
          "55.0",
          "55.0",
          "56.0",
          "56.0",
          "56.0",
          "57.0",
          "57.0",
          "57.0",
          "58.0",
          "59.0",
          "59.0",
          "59.0",
          "60.0",
          "60.0",
          "60.0",
          "60.0",
          "61.0",
          "61.0",
          "61.0",
          "62.0",
          "62.0",
          "62.0",
          "62.0",
          "63.0",
          "63.0",
          "63.0",
          "63.0",
          "63.0",
          "64.0",
          "64.0",
          "65.0",
          "65.0",
          "65.0",
          "65.0",
          "65.0",
          "65.0",
          "66.0",
          "66.0",
          "66.0",
          "66.0",
          "67.0",
          "67.0",
          "67.0",
          "67.0",
          "67.0",
          "68.0",
          "68.0",
          "68.0",
          "68.0",
          "68.0",
          "68.0",
          "69.0",
          "70.0",
          "70.0",
          "70.0",
          "70.0",
          "70.0",
          "71.0",
          "71.0",
          "71.0",
          "71.0",
          "72.0",
          "72.0",
          "72.0",
          "73.0",
          "73.0",
          "73.0",
          "73.0",
          "73.0",
          "74.0",
          "74.0",
          "74.0",
          "74.0",
          "75.0",
          "75.0",
          "75.0",
          "75.0",
          "75.0",
          "76.0",
          "76.0",
          "76.0",
          "76.0",
          "77.0",
          "77.0",
          "77.0",
          "77.0",
          "78.0",
          "78.0",
          "78.0",
          "78.0",
          "79.0",
          "79.0",
          "80.0",
          "80.0",
          "80.0",
          "81.0",
          "81.0",
          "81.0",
          "81.0",
          "82.0",
          "82.0",
          "82.0",
          "82.0",
          "82.0",
          "83.0",
          "83.0",
          "83.0",
          "83.0",
          "84.0",
          "84.0",
          "84.0",
          "85.0",
          "85.0",
          "85.0",
          "85.0",
          "86.0",
          "86.0",
          "86.0",
          "86.0",
          "87.0",
          "87.0",
          "87.0",
          "88.0",
          "88.0",
          "89.0",
          "89.0",
          "89.0",
          "89.0",
          "89.0",
          "89.0",
          "90.0",
          "90.0",
          "90.0",
          "90.0",
          "90.0",
          "91.0",
          "92.0",
          "92.0",
          "92.0",
          "93.0",
          "93.0",
          "93.0",
          "94.0",
          "94.0",
          "94.0",
          "94.0",
          "95.0",
          "95.0",
          "95.0",
          "97.0",
          "97.0",
          "97.0",
          "97.0",
          "97.0",
          "98.0",
          "99.0",
          "100.0",
          "100.0",
          "100.0",
          "100.0",
          "associate's degree",
          "bachelor's degree",
          "high school",
          "master's degree",
          "some college",
          "some high school"
         ],
         "name": "",
         "parents": [
          "some college",
          "some college",
          "some high school",
          "associate's degree",
          "some high school",
          "some high school",
          "some high school",
          "some high school",
          "some high school",
          "some college",
          "some college",
          "some high school",
          "some high school",
          "high school",
          "some high school",
          "some college",
          "some high school",
          "associate's degree",
          "associate's degree",
          "some college",
          "associate's degree",
          "high school",
          "some high school",
          "associate's degree",
          "some high school",
          "high school",
          "some college",
          "some high school",
          "associate's degree",
          "bachelor's degree",
          "high school",
          "some high school",
          "associate's degree",
          "high school",
          "some college",
          "associate's degree",
          "bachelor's degree",
          "some college",
          "some high school",
          "associate's degree",
          "some college",
          "some high school",
          "bachelor's degree",
          "high school",
          "some college",
          "some high school",
          "associate's degree",
          "bachelor's degree",
          "high school",
          "some college",
          "some high school",
          "high school",
          "some college",
          "associate's degree",
          "bachelor's degree",
          "high school",
          "master's degree",
          "some college",
          "some high school",
          "associate's degree",
          "high school",
          "some college",
          "some high school",
          "associate's degree",
          "bachelor's degree",
          "high school",
          "some college",
          "some high school",
          "associate's degree",
          "bachelor's degree",
          "high school",
          "master's degree",
          "some college",
          "some high school",
          "some college",
          "associate's degree",
          "bachelor's degree",
          "high school",
          "some college",
          "some high school",
          "associate's degree",
          "high school",
          "some college",
          "some high school",
          "associate's degree",
          "master's degree",
          "some college",
          "associate's degree",
          "bachelor's degree",
          "high school",
          "some college",
          "some high school",
          "associate's degree",
          "high school",
          "master's degree",
          "some college",
          "associate's degree",
          "bachelor's degree",
          "high school",
          "some college",
          "some high school",
          "associate's degree",
          "master's degree",
          "some college",
          "some high school",
          "associate's degree",
          "high school",
          "some college",
          "some high school",
          "associate's degree",
          "bachelor's degree",
          "high school",
          "some high school",
          "high school",
          "some college",
          "associate's degree",
          "high school",
          "some college",
          "associate's degree",
          "bachelor's degree",
          "some college",
          "some high school",
          "associate's degree",
          "bachelor's degree",
          "high school",
          "master's degree",
          "some college",
          "associate's degree",
          "bachelor's degree",
          "high school",
          "master's degree",
          "bachelor's degree",
          "master's degree",
          "some college",
          "associate's degree",
          "master's degree",
          "some college",
          "some high school",
          "associate's degree",
          "high school",
          "master's degree",
          "some college",
          "associate's degree",
          "some college",
          "some high school",
          "some college",
          "some high school",
          "associate's degree",
          "bachelor's degree",
          "high school",
          "master's degree",
          "some college",
          "some high school",
          "associate's degree",
          "bachelor's degree",
          "high school",
          "some college",
          "some high school",
          "associate's degree",
          "associate's degree",
          "bachelor's degree",
          "some high school",
          "bachelor's degree",
          "master's degree",
          "some college",
          "associate's degree",
          "bachelor's degree",
          "high school",
          "some college",
          "bachelor's degree",
          "high school",
          "some college",
          "associate's degree",
          "high school",
          "master's degree",
          "some college",
          "some high school",
          "master's degree",
          "bachelor's degree",
          "associate's degree",
          "bachelor's degree",
          "master's degree",
          "some college",
          "",
          "",
          "",
          "",
          "",
          ""
         ],
         "type": "sunburst",
         "values": [
          1,
          1,
          1,
          1,
          1,
          1,
          2,
          1,
          2,
          1,
          1,
          1,
          1,
          1,
          1,
          1,
          1,
          1,
          1,
          1,
          1,
          1,
          2,
          2,
          1,
          2,
          2,
          1,
          1,
          1,
          1,
          1,
          1,
          2,
          2,
          1,
          1,
          1,
          1,
          1,
          1,
          3,
          1,
          1,
          4,
          4,
          1,
          1,
          4,
          1,
          1,
          6,
          2,
          3,
          1,
          1,
          1,
          1,
          2,
          1,
          1,
          4,
          3,
          1,
          2,
          1,
          1,
          1,
          3,
          2,
          3,
          1,
          1,
          2,
          2,
          5,
          1,
          2,
          1,
          2,
          3,
          2,
          5,
          2,
          1,
          1,
          3,
          3,
          1,
          3,
          4,
          4,
          1,
          1,
          1,
          3,
          2,
          3,
          2,
          4,
          3,
          3,
          1,
          3,
          3,
          3,
          2,
          2,
          1,
          4,
          2,
          2,
          1,
          3,
          2,
          1,
          2,
          2,
          3,
          1,
          2,
          1,
          4,
          2,
          3,
          1,
          1,
          2,
          1,
          2,
          2,
          3,
          1,
          2,
          2,
          1,
          2,
          1,
          1,
          1,
          1,
          2,
          3,
          3,
          1,
          1,
          3,
          3,
          2,
          1,
          1,
          3,
          1,
          2,
          1,
          2,
          2,
          2,
          1,
          1,
          2,
          2,
          3,
          1,
          1,
          1,
          1,
          2,
          1,
          2,
          1,
          3,
          1,
          2,
          1,
          1,
          2,
          1,
          1,
          6,
          4,
          4,
          1,
          75,
          39,
          57,
          19,
          82,
          63
         ]
        }
       ],
       "layout": {
        "legend": {
         "tracegroupgap": 0
        },
        "margin": {
         "t": 60
        },
        "template": {
         "data": {
          "bar": [
           {
            "error_x": {
             "color": "#2a3f5f"
            },
            "error_y": {
             "color": "#2a3f5f"
            },
            "marker": {
             "line": {
              "color": "#E5ECF6",
              "width": 0.5
             },
             "pattern": {
              "fillmode": "overlay",
              "size": 10,
              "solidity": 0.2
             }
            },
            "type": "bar"
           }
          ],
          "barpolar": [
           {
            "marker": {
             "line": {
              "color": "#E5ECF6",
              "width": 0.5
             },
             "pattern": {
              "fillmode": "overlay",
              "size": 10,
              "solidity": 0.2
             }
            },
            "type": "barpolar"
           }
          ],
          "carpet": [
           {
            "aaxis": {
             "endlinecolor": "#2a3f5f",
             "gridcolor": "white",
             "linecolor": "white",
             "minorgridcolor": "white",
             "startlinecolor": "#2a3f5f"
            },
            "baxis": {
             "endlinecolor": "#2a3f5f",
             "gridcolor": "white",
             "linecolor": "white",
             "minorgridcolor": "white",
             "startlinecolor": "#2a3f5f"
            },
            "type": "carpet"
           }
          ],
          "choropleth": [
           {
            "colorbar": {
             "outlinewidth": 0,
             "ticks": ""
            },
            "type": "choropleth"
           }
          ],
          "contour": [
           {
            "colorbar": {
             "outlinewidth": 0,
             "ticks": ""
            },
            "colorscale": [
             [
              0,
              "#0d0887"
             ],
             [
              0.1111111111111111,
              "#46039f"
             ],
             [
              0.2222222222222222,
              "#7201a8"
             ],
             [
              0.3333333333333333,
              "#9c179e"
             ],
             [
              0.4444444444444444,
              "#bd3786"
             ],
             [
              0.5555555555555556,
              "#d8576b"
             ],
             [
              0.6666666666666666,
              "#ed7953"
             ],
             [
              0.7777777777777778,
              "#fb9f3a"
             ],
             [
              0.8888888888888888,
              "#fdca26"
             ],
             [
              1,
              "#f0f921"
             ]
            ],
            "type": "contour"
           }
          ],
          "contourcarpet": [
           {
            "colorbar": {
             "outlinewidth": 0,
             "ticks": ""
            },
            "type": "contourcarpet"
           }
          ],
          "heatmap": [
           {
            "colorbar": {
             "outlinewidth": 0,
             "ticks": ""
            },
            "colorscale": [
             [
              0,
              "#0d0887"
             ],
             [
              0.1111111111111111,
              "#46039f"
             ],
             [
              0.2222222222222222,
              "#7201a8"
             ],
             [
              0.3333333333333333,
              "#9c179e"
             ],
             [
              0.4444444444444444,
              "#bd3786"
             ],
             [
              0.5555555555555556,
              "#d8576b"
             ],
             [
              0.6666666666666666,
              "#ed7953"
             ],
             [
              0.7777777777777778,
              "#fb9f3a"
             ],
             [
              0.8888888888888888,
              "#fdca26"
             ],
             [
              1,
              "#f0f921"
             ]
            ],
            "type": "heatmap"
           }
          ],
          "heatmapgl": [
           {
            "colorbar": {
             "outlinewidth": 0,
             "ticks": ""
            },
            "colorscale": [
             [
              0,
              "#0d0887"
             ],
             [
              0.1111111111111111,
              "#46039f"
             ],
             [
              0.2222222222222222,
              "#7201a8"
             ],
             [
              0.3333333333333333,
              "#9c179e"
             ],
             [
              0.4444444444444444,
              "#bd3786"
             ],
             [
              0.5555555555555556,
              "#d8576b"
             ],
             [
              0.6666666666666666,
              "#ed7953"
             ],
             [
              0.7777777777777778,
              "#fb9f3a"
             ],
             [
              0.8888888888888888,
              "#fdca26"
             ],
             [
              1,
              "#f0f921"
             ]
            ],
            "type": "heatmapgl"
           }
          ],
          "histogram": [
           {
            "marker": {
             "pattern": {
              "fillmode": "overlay",
              "size": 10,
              "solidity": 0.2
             }
            },
            "type": "histogram"
           }
          ],
          "histogram2d": [
           {
            "colorbar": {
             "outlinewidth": 0,
             "ticks": ""
            },
            "colorscale": [
             [
              0,
              "#0d0887"
             ],
             [
              0.1111111111111111,
              "#46039f"
             ],
             [
              0.2222222222222222,
              "#7201a8"
             ],
             [
              0.3333333333333333,
              "#9c179e"
             ],
             [
              0.4444444444444444,
              "#bd3786"
             ],
             [
              0.5555555555555556,
              "#d8576b"
             ],
             [
              0.6666666666666666,
              "#ed7953"
             ],
             [
              0.7777777777777778,
              "#fb9f3a"
             ],
             [
              0.8888888888888888,
              "#fdca26"
             ],
             [
              1,
              "#f0f921"
             ]
            ],
            "type": "histogram2d"
           }
          ],
          "histogram2dcontour": [
           {
            "colorbar": {
             "outlinewidth": 0,
             "ticks": ""
            },
            "colorscale": [
             [
              0,
              "#0d0887"
             ],
             [
              0.1111111111111111,
              "#46039f"
             ],
             [
              0.2222222222222222,
              "#7201a8"
             ],
             [
              0.3333333333333333,
              "#9c179e"
             ],
             [
              0.4444444444444444,
              "#bd3786"
             ],
             [
              0.5555555555555556,
              "#d8576b"
             ],
             [
              0.6666666666666666,
              "#ed7953"
             ],
             [
              0.7777777777777778,
              "#fb9f3a"
             ],
             [
              0.8888888888888888,
              "#fdca26"
             ],
             [
              1,
              "#f0f921"
             ]
            ],
            "type": "histogram2dcontour"
           }
          ],
          "mesh3d": [
           {
            "colorbar": {
             "outlinewidth": 0,
             "ticks": ""
            },
            "type": "mesh3d"
           }
          ],
          "parcoords": [
           {
            "line": {
             "colorbar": {
              "outlinewidth": 0,
              "ticks": ""
             }
            },
            "type": "parcoords"
           }
          ],
          "pie": [
           {
            "automargin": true,
            "type": "pie"
           }
          ],
          "scatter": [
           {
            "marker": {
             "colorbar": {
              "outlinewidth": 0,
              "ticks": ""
             }
            },
            "type": "scatter"
           }
          ],
          "scatter3d": [
           {
            "line": {
             "colorbar": {
              "outlinewidth": 0,
              "ticks": ""
             }
            },
            "marker": {
             "colorbar": {
              "outlinewidth": 0,
              "ticks": ""
             }
            },
            "type": "scatter3d"
           }
          ],
          "scattercarpet": [
           {
            "marker": {
             "colorbar": {
              "outlinewidth": 0,
              "ticks": ""
             }
            },
            "type": "scattercarpet"
           }
          ],
          "scattergeo": [
           {
            "marker": {
             "colorbar": {
              "outlinewidth": 0,
              "ticks": ""
             }
            },
            "type": "scattergeo"
           }
          ],
          "scattergl": [
           {
            "marker": {
             "colorbar": {
              "outlinewidth": 0,
              "ticks": ""
             }
            },
            "type": "scattergl"
           }
          ],
          "scattermapbox": [
           {
            "marker": {
             "colorbar": {
              "outlinewidth": 0,
              "ticks": ""
             }
            },
            "type": "scattermapbox"
           }
          ],
          "scatterpolar": [
           {
            "marker": {
             "colorbar": {
              "outlinewidth": 0,
              "ticks": ""
             }
            },
            "type": "scatterpolar"
           }
          ],
          "scatterpolargl": [
           {
            "marker": {
             "colorbar": {
              "outlinewidth": 0,
              "ticks": ""
             }
            },
            "type": "scatterpolargl"
           }
          ],
          "scatterternary": [
           {
            "marker": {
             "colorbar": {
              "outlinewidth": 0,
              "ticks": ""
             }
            },
            "type": "scatterternary"
           }
          ],
          "surface": [
           {
            "colorbar": {
             "outlinewidth": 0,
             "ticks": ""
            },
            "colorscale": [
             [
              0,
              "#0d0887"
             ],
             [
              0.1111111111111111,
              "#46039f"
             ],
             [
              0.2222222222222222,
              "#7201a8"
             ],
             [
              0.3333333333333333,
              "#9c179e"
             ],
             [
              0.4444444444444444,
              "#bd3786"
             ],
             [
              0.5555555555555556,
              "#d8576b"
             ],
             [
              0.6666666666666666,
              "#ed7953"
             ],
             [
              0.7777777777777778,
              "#fb9f3a"
             ],
             [
              0.8888888888888888,
              "#fdca26"
             ],
             [
              1,
              "#f0f921"
             ]
            ],
            "type": "surface"
           }
          ],
          "table": [
           {
            "cells": {
             "fill": {
              "color": "#EBF0F8"
             },
             "line": {
              "color": "white"
             }
            },
            "header": {
             "fill": {
              "color": "#C8D4E3"
             },
             "line": {
              "color": "white"
             }
            },
            "type": "table"
           }
          ]
         },
         "layout": {
          "annotationdefaults": {
           "arrowcolor": "#2a3f5f",
           "arrowhead": 0,
           "arrowwidth": 1
          },
          "autotypenumbers": "strict",
          "coloraxis": {
           "colorbar": {
            "outlinewidth": 0,
            "ticks": ""
           }
          },
          "colorscale": {
           "diverging": [
            [
             0,
             "#8e0152"
            ],
            [
             0.1,
             "#c51b7d"
            ],
            [
             0.2,
             "#de77ae"
            ],
            [
             0.3,
             "#f1b6da"
            ],
            [
             0.4,
             "#fde0ef"
            ],
            [
             0.5,
             "#f7f7f7"
            ],
            [
             0.6,
             "#e6f5d0"
            ],
            [
             0.7,
             "#b8e186"
            ],
            [
             0.8,
             "#7fbc41"
            ],
            [
             0.9,
             "#4d9221"
            ],
            [
             1,
             "#276419"
            ]
           ],
           "sequential": [
            [
             0,
             "#0d0887"
            ],
            [
             0.1111111111111111,
             "#46039f"
            ],
            [
             0.2222222222222222,
             "#7201a8"
            ],
            [
             0.3333333333333333,
             "#9c179e"
            ],
            [
             0.4444444444444444,
             "#bd3786"
            ],
            [
             0.5555555555555556,
             "#d8576b"
            ],
            [
             0.6666666666666666,
             "#ed7953"
            ],
            [
             0.7777777777777778,
             "#fb9f3a"
            ],
            [
             0.8888888888888888,
             "#fdca26"
            ],
            [
             1,
             "#f0f921"
            ]
           ],
           "sequentialminus": [
            [
             0,
             "#0d0887"
            ],
            [
             0.1111111111111111,
             "#46039f"
            ],
            [
             0.2222222222222222,
             "#7201a8"
            ],
            [
             0.3333333333333333,
             "#9c179e"
            ],
            [
             0.4444444444444444,
             "#bd3786"
            ],
            [
             0.5555555555555556,
             "#d8576b"
            ],
            [
             0.6666666666666666,
             "#ed7953"
            ],
            [
             0.7777777777777778,
             "#fb9f3a"
            ],
            [
             0.8888888888888888,
             "#fdca26"
            ],
            [
             1,
             "#f0f921"
            ]
           ]
          },
          "colorway": [
           "#636efa",
           "#EF553B",
           "#00cc96",
           "#ab63fa",
           "#FFA15A",
           "#19d3f3",
           "#FF6692",
           "#B6E880",
           "#FF97FF",
           "#FECB52"
          ],
          "font": {
           "color": "#2a3f5f"
          },
          "geo": {
           "bgcolor": "white",
           "lakecolor": "white",
           "landcolor": "#E5ECF6",
           "showlakes": true,
           "showland": true,
           "subunitcolor": "white"
          },
          "hoverlabel": {
           "align": "left"
          },
          "hovermode": "closest",
          "mapbox": {
           "style": "light"
          },
          "paper_bgcolor": "white",
          "plot_bgcolor": "#E5ECF6",
          "polar": {
           "angularaxis": {
            "gridcolor": "white",
            "linecolor": "white",
            "ticks": ""
           },
           "bgcolor": "#E5ECF6",
           "radialaxis": {
            "gridcolor": "white",
            "linecolor": "white",
            "ticks": ""
           }
          },
          "scene": {
           "xaxis": {
            "backgroundcolor": "#E5ECF6",
            "gridcolor": "white",
            "gridwidth": 2,
            "linecolor": "white",
            "showbackground": true,
            "ticks": "",
            "zerolinecolor": "white"
           },
           "yaxis": {
            "backgroundcolor": "#E5ECF6",
            "gridcolor": "white",
            "gridwidth": 2,
            "linecolor": "white",
            "showbackground": true,
            "ticks": "",
            "zerolinecolor": "white"
           },
           "zaxis": {
            "backgroundcolor": "#E5ECF6",
            "gridcolor": "white",
            "gridwidth": 2,
            "linecolor": "white",
            "showbackground": true,
            "ticks": "",
            "zerolinecolor": "white"
           }
          },
          "shapedefaults": {
           "line": {
            "color": "#2a3f5f"
           }
          },
          "ternary": {
           "aaxis": {
            "gridcolor": "white",
            "linecolor": "white",
            "ticks": ""
           },
           "baxis": {
            "gridcolor": "white",
            "linecolor": "white",
            "ticks": ""
           },
           "bgcolor": "#E5ECF6",
           "caxis": {
            "gridcolor": "white",
            "linecolor": "white",
            "ticks": ""
           }
          },
          "title": {
           "x": 0.05
          },
          "xaxis": {
           "automargin": true,
           "gridcolor": "white",
           "linecolor": "white",
           "ticks": "",
           "title": {
            "standoff": 15
           },
           "zerolinecolor": "white",
           "zerolinewidth": 2
          },
          "yaxis": {
           "automargin": true,
           "gridcolor": "white",
           "linecolor": "white",
           "ticks": "",
           "title": {
            "standoff": 15
           },
           "zerolinecolor": "white",
           "zerolinewidth": 2
          }
         }
        }
       }
      },
      "text/html": [
       "<div>                            <div id=\"a4f334b0-04e2-451e-b7bc-e35848c6ae05\" class=\"plotly-graph-div\" style=\"height:525px; width:100%;\"></div>            <script type=\"text/javascript\">                require([\"plotly\"], function(Plotly) {                    window.PLOTLYENV=window.PLOTLYENV || {};                                    if (document.getElementById(\"a4f334b0-04e2-451e-b7bc-e35848c6ae05\")) {                    Plotly.newPlot(                        \"a4f334b0-04e2-451e-b7bc-e35848c6ae05\",                        [{\"branchvalues\":\"total\",\"domain\":{\"x\":[0.0,1.0],\"y\":[0.0,1.0]},\"hovertemplate\":\"labels=%{label}<br>count=%{value}<br>parent=%{parent}<br>id=%{id}<extra></extra>\",\"ids\":[\"some college/35.0\",\"some college/39.0\",\"some high school/39.0\",\"associate's degree/41.0\",\"some high school/41.0\",\"some high school/42.0\",\"some high school/43.0\",\"some high school/44.0\",\"some high school/45.0\",\"some college/46.0\",\"some college/47.0\",\"some high school/47.0\",\"some high school/48.0\",\"high school/49.0\",\"some high school/49.0\",\"some college/50.0\",\"some high school/50.0\",\"associate's degree/51.0\",\"associate's degree/52.0\",\"some college/52.0\",\"associate's degree/53.0\",\"high school/53.0\",\"some high school/53.0\",\"associate's degree/55.0\",\"some high school/55.0\",\"high school/56.0\",\"some college/56.0\",\"some high school/56.0\",\"associate's degree/57.0\",\"bachelor's degree/57.0\",\"high school/57.0\",\"some high school/58.0\",\"associate's degree/59.0\",\"high school/59.0\",\"some college/59.0\",\"associate's degree/60.0\",\"bachelor's degree/60.0\",\"some college/60.0\",\"some high school/60.0\",\"associate's degree/61.0\",\"some college/61.0\",\"some high school/61.0\",\"bachelor's degree/62.0\",\"high school/62.0\",\"some college/62.0\",\"some high school/62.0\",\"associate's degree/63.0\",\"bachelor's degree/63.0\",\"high school/63.0\",\"some college/63.0\",\"some high school/63.0\",\"high school/64.0\",\"some college/64.0\",\"associate's degree/65.0\",\"bachelor's degree/65.0\",\"high school/65.0\",\"master's degree/65.0\",\"some college/65.0\",\"some high school/65.0\",\"associate's degree/66.0\",\"high school/66.0\",\"some college/66.0\",\"some high school/66.0\",\"associate's degree/67.0\",\"bachelor's degree/67.0\",\"high school/67.0\",\"some college/67.0\",\"some high school/67.0\",\"associate's degree/68.0\",\"bachelor's degree/68.0\",\"high school/68.0\",\"master's degree/68.0\",\"some college/68.0\",\"some high school/68.0\",\"some college/69.0\",\"associate's degree/70.0\",\"bachelor's degree/70.0\",\"high school/70.0\",\"some college/70.0\",\"some high school/70.0\",\"associate's degree/71.0\",\"high school/71.0\",\"some college/71.0\",\"some high school/71.0\",\"associate's degree/72.0\",\"master's degree/72.0\",\"some college/72.0\",\"associate's degree/73.0\",\"bachelor's degree/73.0\",\"high school/73.0\",\"some college/73.0\",\"some high school/73.0\",\"associate's degree/74.0\",\"high school/74.0\",\"master's degree/74.0\",\"some college/74.0\",\"associate's degree/75.0\",\"bachelor's degree/75.0\",\"high school/75.0\",\"some college/75.0\",\"some high school/75.0\",\"associate's degree/76.0\",\"master's degree/76.0\",\"some college/76.0\",\"some high school/76.0\",\"associate's degree/77.0\",\"high school/77.0\",\"some college/77.0\",\"some high school/77.0\",\"associate's degree/78.0\",\"bachelor's degree/78.0\",\"high school/78.0\",\"some high school/78.0\",\"high school/79.0\",\"some college/79.0\",\"associate's degree/80.0\",\"high school/80.0\",\"some college/80.0\",\"associate's degree/81.0\",\"bachelor's degree/81.0\",\"some college/81.0\",\"some high school/81.0\",\"associate's degree/82.0\",\"bachelor's degree/82.0\",\"high school/82.0\",\"master's degree/82.0\",\"some college/82.0\",\"associate's degree/83.0\",\"bachelor's degree/83.0\",\"high school/83.0\",\"master's degree/83.0\",\"bachelor's degree/84.0\",\"master's degree/84.0\",\"some college/84.0\",\"associate's degree/85.0\",\"master's degree/85.0\",\"some college/85.0\",\"some high school/85.0\",\"associate's degree/86.0\",\"high school/86.0\",\"master's degree/86.0\",\"some college/86.0\",\"associate's degree/87.0\",\"some college/87.0\",\"some high school/87.0\",\"some college/88.0\",\"some high school/88.0\",\"associate's degree/89.0\",\"bachelor's degree/89.0\",\"high school/89.0\",\"master's degree/89.0\",\"some college/89.0\",\"some high school/89.0\",\"associate's degree/90.0\",\"bachelor's degree/90.0\",\"high school/90.0\",\"some college/90.0\",\"some high school/90.0\",\"associate's degree/91.0\",\"associate's degree/92.0\",\"bachelor's degree/92.0\",\"some high school/92.0\",\"bachelor's degree/93.0\",\"master's degree/93.0\",\"some college/93.0\",\"associate's degree/94.0\",\"bachelor's degree/94.0\",\"high school/94.0\",\"some college/94.0\",\"bachelor's degree/95.0\",\"high school/95.0\",\"some college/95.0\",\"associate's degree/97.0\",\"high school/97.0\",\"master's degree/97.0\",\"some college/97.0\",\"some high school/97.0\",\"master's degree/98.0\",\"bachelor's degree/99.0\",\"associate's degree/100.0\",\"bachelor's degree/100.0\",\"master's degree/100.0\",\"some college/100.0\",\"associate's degree\",\"bachelor's degree\",\"high school\",\"master's degree\",\"some college\",\"some high school\"],\"labels\":[\"35.0\",\"39.0\",\"39.0\",\"41.0\",\"41.0\",\"42.0\",\"43.0\",\"44.0\",\"45.0\",\"46.0\",\"47.0\",\"47.0\",\"48.0\",\"49.0\",\"49.0\",\"50.0\",\"50.0\",\"51.0\",\"52.0\",\"52.0\",\"53.0\",\"53.0\",\"53.0\",\"55.0\",\"55.0\",\"56.0\",\"56.0\",\"56.0\",\"57.0\",\"57.0\",\"57.0\",\"58.0\",\"59.0\",\"59.0\",\"59.0\",\"60.0\",\"60.0\",\"60.0\",\"60.0\",\"61.0\",\"61.0\",\"61.0\",\"62.0\",\"62.0\",\"62.0\",\"62.0\",\"63.0\",\"63.0\",\"63.0\",\"63.0\",\"63.0\",\"64.0\",\"64.0\",\"65.0\",\"65.0\",\"65.0\",\"65.0\",\"65.0\",\"65.0\",\"66.0\",\"66.0\",\"66.0\",\"66.0\",\"67.0\",\"67.0\",\"67.0\",\"67.0\",\"67.0\",\"68.0\",\"68.0\",\"68.0\",\"68.0\",\"68.0\",\"68.0\",\"69.0\",\"70.0\",\"70.0\",\"70.0\",\"70.0\",\"70.0\",\"71.0\",\"71.0\",\"71.0\",\"71.0\",\"72.0\",\"72.0\",\"72.0\",\"73.0\",\"73.0\",\"73.0\",\"73.0\",\"73.0\",\"74.0\",\"74.0\",\"74.0\",\"74.0\",\"75.0\",\"75.0\",\"75.0\",\"75.0\",\"75.0\",\"76.0\",\"76.0\",\"76.0\",\"76.0\",\"77.0\",\"77.0\",\"77.0\",\"77.0\",\"78.0\",\"78.0\",\"78.0\",\"78.0\",\"79.0\",\"79.0\",\"80.0\",\"80.0\",\"80.0\",\"81.0\",\"81.0\",\"81.0\",\"81.0\",\"82.0\",\"82.0\",\"82.0\",\"82.0\",\"82.0\",\"83.0\",\"83.0\",\"83.0\",\"83.0\",\"84.0\",\"84.0\",\"84.0\",\"85.0\",\"85.0\",\"85.0\",\"85.0\",\"86.0\",\"86.0\",\"86.0\",\"86.0\",\"87.0\",\"87.0\",\"87.0\",\"88.0\",\"88.0\",\"89.0\",\"89.0\",\"89.0\",\"89.0\",\"89.0\",\"89.0\",\"90.0\",\"90.0\",\"90.0\",\"90.0\",\"90.0\",\"91.0\",\"92.0\",\"92.0\",\"92.0\",\"93.0\",\"93.0\",\"93.0\",\"94.0\",\"94.0\",\"94.0\",\"94.0\",\"95.0\",\"95.0\",\"95.0\",\"97.0\",\"97.0\",\"97.0\",\"97.0\",\"97.0\",\"98.0\",\"99.0\",\"100.0\",\"100.0\",\"100.0\",\"100.0\",\"associate's degree\",\"bachelor's degree\",\"high school\",\"master's degree\",\"some college\",\"some high school\"],\"name\":\"\",\"parents\":[\"some college\",\"some college\",\"some high school\",\"associate's degree\",\"some high school\",\"some high school\",\"some high school\",\"some high school\",\"some high school\",\"some college\",\"some college\",\"some high school\",\"some high school\",\"high school\",\"some high school\",\"some college\",\"some high school\",\"associate's degree\",\"associate's degree\",\"some college\",\"associate's degree\",\"high school\",\"some high school\",\"associate's degree\",\"some high school\",\"high school\",\"some college\",\"some high school\",\"associate's degree\",\"bachelor's degree\",\"high school\",\"some high school\",\"associate's degree\",\"high school\",\"some college\",\"associate's degree\",\"bachelor's degree\",\"some college\",\"some high school\",\"associate's degree\",\"some college\",\"some high school\",\"bachelor's degree\",\"high school\",\"some college\",\"some high school\",\"associate's degree\",\"bachelor's degree\",\"high school\",\"some college\",\"some high school\",\"high school\",\"some college\",\"associate's degree\",\"bachelor's degree\",\"high school\",\"master's degree\",\"some college\",\"some high school\",\"associate's degree\",\"high school\",\"some college\",\"some high school\",\"associate's degree\",\"bachelor's degree\",\"high school\",\"some college\",\"some high school\",\"associate's degree\",\"bachelor's degree\",\"high school\",\"master's degree\",\"some college\",\"some high school\",\"some college\",\"associate's degree\",\"bachelor's degree\",\"high school\",\"some college\",\"some high school\",\"associate's degree\",\"high school\",\"some college\",\"some high school\",\"associate's degree\",\"master's degree\",\"some college\",\"associate's degree\",\"bachelor's degree\",\"high school\",\"some college\",\"some high school\",\"associate's degree\",\"high school\",\"master's degree\",\"some college\",\"associate's degree\",\"bachelor's degree\",\"high school\",\"some college\",\"some high school\",\"associate's degree\",\"master's degree\",\"some college\",\"some high school\",\"associate's degree\",\"high school\",\"some college\",\"some high school\",\"associate's degree\",\"bachelor's degree\",\"high school\",\"some high school\",\"high school\",\"some college\",\"associate's degree\",\"high school\",\"some college\",\"associate's degree\",\"bachelor's degree\",\"some college\",\"some high school\",\"associate's degree\",\"bachelor's degree\",\"high school\",\"master's degree\",\"some college\",\"associate's degree\",\"bachelor's degree\",\"high school\",\"master's degree\",\"bachelor's degree\",\"master's degree\",\"some college\",\"associate's degree\",\"master's degree\",\"some college\",\"some high school\",\"associate's degree\",\"high school\",\"master's degree\",\"some college\",\"associate's degree\",\"some college\",\"some high school\",\"some college\",\"some high school\",\"associate's degree\",\"bachelor's degree\",\"high school\",\"master's degree\",\"some college\",\"some high school\",\"associate's degree\",\"bachelor's degree\",\"high school\",\"some college\",\"some high school\",\"associate's degree\",\"associate's degree\",\"bachelor's degree\",\"some high school\",\"bachelor's degree\",\"master's degree\",\"some college\",\"associate's degree\",\"bachelor's degree\",\"high school\",\"some college\",\"bachelor's degree\",\"high school\",\"some college\",\"associate's degree\",\"high school\",\"master's degree\",\"some college\",\"some high school\",\"master's degree\",\"bachelor's degree\",\"associate's degree\",\"bachelor's degree\",\"master's degree\",\"some college\",\"\",\"\",\"\",\"\",\"\",\"\"],\"values\":[1,1,1,1,1,1,2,1,2,1,1,1,1,1,1,1,1,1,1,1,1,1,2,2,1,2,2,1,1,1,1,1,1,2,2,1,1,1,1,1,1,3,1,1,4,4,1,1,4,1,1,6,2,3,1,1,1,1,2,1,1,4,3,1,2,1,1,1,3,2,3,1,1,2,2,5,1,2,1,2,3,2,5,2,1,1,3,3,1,3,4,4,1,1,1,3,2,3,2,4,3,3,1,3,3,3,2,2,1,4,2,2,1,3,2,1,2,2,3,1,2,1,4,2,3,1,1,2,1,2,2,3,1,2,2,1,2,1,1,1,1,2,3,3,1,1,3,3,2,1,1,3,1,2,1,2,2,2,1,1,2,2,3,1,1,1,1,2,1,2,1,3,1,2,1,1,2,1,1,6,4,4,1,75,39,57,19,82,63],\"type\":\"sunburst\"}],                        {\"template\":{\"data\":{\"bar\":[{\"error_x\":{\"color\":\"#2a3f5f\"},\"error_y\":{\"color\":\"#2a3f5f\"},\"marker\":{\"line\":{\"color\":\"#E5ECF6\",\"width\":0.5},\"pattern\":{\"fillmode\":\"overlay\",\"size\":10,\"solidity\":0.2}},\"type\":\"bar\"}],\"barpolar\":[{\"marker\":{\"line\":{\"color\":\"#E5ECF6\",\"width\":0.5},\"pattern\":{\"fillmode\":\"overlay\",\"size\":10,\"solidity\":0.2}},\"type\":\"barpolar\"}],\"carpet\":[{\"aaxis\":{\"endlinecolor\":\"#2a3f5f\",\"gridcolor\":\"white\",\"linecolor\":\"white\",\"minorgridcolor\":\"white\",\"startlinecolor\":\"#2a3f5f\"},\"baxis\":{\"endlinecolor\":\"#2a3f5f\",\"gridcolor\":\"white\",\"linecolor\":\"white\",\"minorgridcolor\":\"white\",\"startlinecolor\":\"#2a3f5f\"},\"type\":\"carpet\"}],\"choropleth\":[{\"colorbar\":{\"outlinewidth\":0,\"ticks\":\"\"},\"type\":\"choropleth\"}],\"contour\":[{\"colorbar\":{\"outlinewidth\":0,\"ticks\":\"\"},\"colorscale\":[[0.0,\"#0d0887\"],[0.1111111111111111,\"#46039f\"],[0.2222222222222222,\"#7201a8\"],[0.3333333333333333,\"#9c179e\"],[0.4444444444444444,\"#bd3786\"],[0.5555555555555556,\"#d8576b\"],[0.6666666666666666,\"#ed7953\"],[0.7777777777777778,\"#fb9f3a\"],[0.8888888888888888,\"#fdca26\"],[1.0,\"#f0f921\"]],\"type\":\"contour\"}],\"contourcarpet\":[{\"colorbar\":{\"outlinewidth\":0,\"ticks\":\"\"},\"type\":\"contourcarpet\"}],\"heatmap\":[{\"colorbar\":{\"outlinewidth\":0,\"ticks\":\"\"},\"colorscale\":[[0.0,\"#0d0887\"],[0.1111111111111111,\"#46039f\"],[0.2222222222222222,\"#7201a8\"],[0.3333333333333333,\"#9c179e\"],[0.4444444444444444,\"#bd3786\"],[0.5555555555555556,\"#d8576b\"],[0.6666666666666666,\"#ed7953\"],[0.7777777777777778,\"#fb9f3a\"],[0.8888888888888888,\"#fdca26\"],[1.0,\"#f0f921\"]],\"type\":\"heatmap\"}],\"heatmapgl\":[{\"colorbar\":{\"outlinewidth\":0,\"ticks\":\"\"},\"colorscale\":[[0.0,\"#0d0887\"],[0.1111111111111111,\"#46039f\"],[0.2222222222222222,\"#7201a8\"],[0.3333333333333333,\"#9c179e\"],[0.4444444444444444,\"#bd3786\"],[0.5555555555555556,\"#d8576b\"],[0.6666666666666666,\"#ed7953\"],[0.7777777777777778,\"#fb9f3a\"],[0.8888888888888888,\"#fdca26\"],[1.0,\"#f0f921\"]],\"type\":\"heatmapgl\"}],\"histogram\":[{\"marker\":{\"pattern\":{\"fillmode\":\"overlay\",\"size\":10,\"solidity\":0.2}},\"type\":\"histogram\"}],\"histogram2d\":[{\"colorbar\":{\"outlinewidth\":0,\"ticks\":\"\"},\"colorscale\":[[0.0,\"#0d0887\"],[0.1111111111111111,\"#46039f\"],[0.2222222222222222,\"#7201a8\"],[0.3333333333333333,\"#9c179e\"],[0.4444444444444444,\"#bd3786\"],[0.5555555555555556,\"#d8576b\"],[0.6666666666666666,\"#ed7953\"],[0.7777777777777778,\"#fb9f3a\"],[0.8888888888888888,\"#fdca26\"],[1.0,\"#f0f921\"]],\"type\":\"histogram2d\"}],\"histogram2dcontour\":[{\"colorbar\":{\"outlinewidth\":0,\"ticks\":\"\"},\"colorscale\":[[0.0,\"#0d0887\"],[0.1111111111111111,\"#46039f\"],[0.2222222222222222,\"#7201a8\"],[0.3333333333333333,\"#9c179e\"],[0.4444444444444444,\"#bd3786\"],[0.5555555555555556,\"#d8576b\"],[0.6666666666666666,\"#ed7953\"],[0.7777777777777778,\"#fb9f3a\"],[0.8888888888888888,\"#fdca26\"],[1.0,\"#f0f921\"]],\"type\":\"histogram2dcontour\"}],\"mesh3d\":[{\"colorbar\":{\"outlinewidth\":0,\"ticks\":\"\"},\"type\":\"mesh3d\"}],\"parcoords\":[{\"line\":{\"colorbar\":{\"outlinewidth\":0,\"ticks\":\"\"}},\"type\":\"parcoords\"}],\"pie\":[{\"automargin\":true,\"type\":\"pie\"}],\"scatter\":[{\"marker\":{\"colorbar\":{\"outlinewidth\":0,\"ticks\":\"\"}},\"type\":\"scatter\"}],\"scatter3d\":[{\"line\":{\"colorbar\":{\"outlinewidth\":0,\"ticks\":\"\"}},\"marker\":{\"colorbar\":{\"outlinewidth\":0,\"ticks\":\"\"}},\"type\":\"scatter3d\"}],\"scattercarpet\":[{\"marker\":{\"colorbar\":{\"outlinewidth\":0,\"ticks\":\"\"}},\"type\":\"scattercarpet\"}],\"scattergeo\":[{\"marker\":{\"colorbar\":{\"outlinewidth\":0,\"ticks\":\"\"}},\"type\":\"scattergeo\"}],\"scattergl\":[{\"marker\":{\"colorbar\":{\"outlinewidth\":0,\"ticks\":\"\"}},\"type\":\"scattergl\"}],\"scattermapbox\":[{\"marker\":{\"colorbar\":{\"outlinewidth\":0,\"ticks\":\"\"}},\"type\":\"scattermapbox\"}],\"scatterpolar\":[{\"marker\":{\"colorbar\":{\"outlinewidth\":0,\"ticks\":\"\"}},\"type\":\"scatterpolar\"}],\"scatterpolargl\":[{\"marker\":{\"colorbar\":{\"outlinewidth\":0,\"ticks\":\"\"}},\"type\":\"scatterpolargl\"}],\"scatterternary\":[{\"marker\":{\"colorbar\":{\"outlinewidth\":0,\"ticks\":\"\"}},\"type\":\"scatterternary\"}],\"surface\":[{\"colorbar\":{\"outlinewidth\":0,\"ticks\":\"\"},\"colorscale\":[[0.0,\"#0d0887\"],[0.1111111111111111,\"#46039f\"],[0.2222222222222222,\"#7201a8\"],[0.3333333333333333,\"#9c179e\"],[0.4444444444444444,\"#bd3786\"],[0.5555555555555556,\"#d8576b\"],[0.6666666666666666,\"#ed7953\"],[0.7777777777777778,\"#fb9f3a\"],[0.8888888888888888,\"#fdca26\"],[1.0,\"#f0f921\"]],\"type\":\"surface\"}],\"table\":[{\"cells\":{\"fill\":{\"color\":\"#EBF0F8\"},\"line\":{\"color\":\"white\"}},\"header\":{\"fill\":{\"color\":\"#C8D4E3\"},\"line\":{\"color\":\"white\"}},\"type\":\"table\"}]},\"layout\":{\"annotationdefaults\":{\"arrowcolor\":\"#2a3f5f\",\"arrowhead\":0,\"arrowwidth\":1},\"autotypenumbers\":\"strict\",\"coloraxis\":{\"colorbar\":{\"outlinewidth\":0,\"ticks\":\"\"}},\"colorscale\":{\"diverging\":[[0,\"#8e0152\"],[0.1,\"#c51b7d\"],[0.2,\"#de77ae\"],[0.3,\"#f1b6da\"],[0.4,\"#fde0ef\"],[0.5,\"#f7f7f7\"],[0.6,\"#e6f5d0\"],[0.7,\"#b8e186\"],[0.8,\"#7fbc41\"],[0.9,\"#4d9221\"],[1,\"#276419\"]],\"sequential\":[[0.0,\"#0d0887\"],[0.1111111111111111,\"#46039f\"],[0.2222222222222222,\"#7201a8\"],[0.3333333333333333,\"#9c179e\"],[0.4444444444444444,\"#bd3786\"],[0.5555555555555556,\"#d8576b\"],[0.6666666666666666,\"#ed7953\"],[0.7777777777777778,\"#fb9f3a\"],[0.8888888888888888,\"#fdca26\"],[1.0,\"#f0f921\"]],\"sequentialminus\":[[0.0,\"#0d0887\"],[0.1111111111111111,\"#46039f\"],[0.2222222222222222,\"#7201a8\"],[0.3333333333333333,\"#9c179e\"],[0.4444444444444444,\"#bd3786\"],[0.5555555555555556,\"#d8576b\"],[0.6666666666666666,\"#ed7953\"],[0.7777777777777778,\"#fb9f3a\"],[0.8888888888888888,\"#fdca26\"],[1.0,\"#f0f921\"]]},\"colorway\":[\"#636efa\",\"#EF553B\",\"#00cc96\",\"#ab63fa\",\"#FFA15A\",\"#19d3f3\",\"#FF6692\",\"#B6E880\",\"#FF97FF\",\"#FECB52\"],\"font\":{\"color\":\"#2a3f5f\"},\"geo\":{\"bgcolor\":\"white\",\"lakecolor\":\"white\",\"landcolor\":\"#E5ECF6\",\"showlakes\":true,\"showland\":true,\"subunitcolor\":\"white\"},\"hoverlabel\":{\"align\":\"left\"},\"hovermode\":\"closest\",\"mapbox\":{\"style\":\"light\"},\"paper_bgcolor\":\"white\",\"plot_bgcolor\":\"#E5ECF6\",\"polar\":{\"angularaxis\":{\"gridcolor\":\"white\",\"linecolor\":\"white\",\"ticks\":\"\"},\"bgcolor\":\"#E5ECF6\",\"radialaxis\":{\"gridcolor\":\"white\",\"linecolor\":\"white\",\"ticks\":\"\"}},\"scene\":{\"xaxis\":{\"backgroundcolor\":\"#E5ECF6\",\"gridcolor\":\"white\",\"gridwidth\":2,\"linecolor\":\"white\",\"showbackground\":true,\"ticks\":\"\",\"zerolinecolor\":\"white\"},\"yaxis\":{\"backgroundcolor\":\"#E5ECF6\",\"gridcolor\":\"white\",\"gridwidth\":2,\"linecolor\":\"white\",\"showbackground\":true,\"ticks\":\"\",\"zerolinecolor\":\"white\"},\"zaxis\":{\"backgroundcolor\":\"#E5ECF6\",\"gridcolor\":\"white\",\"gridwidth\":2,\"linecolor\":\"white\",\"showbackground\":true,\"ticks\":\"\",\"zerolinecolor\":\"white\"}},\"shapedefaults\":{\"line\":{\"color\":\"#2a3f5f\"}},\"ternary\":{\"aaxis\":{\"gridcolor\":\"white\",\"linecolor\":\"white\",\"ticks\":\"\"},\"baxis\":{\"gridcolor\":\"white\",\"linecolor\":\"white\",\"ticks\":\"\"},\"bgcolor\":\"#E5ECF6\",\"caxis\":{\"gridcolor\":\"white\",\"linecolor\":\"white\",\"ticks\":\"\"}},\"title\":{\"x\":0.05},\"xaxis\":{\"automargin\":true,\"gridcolor\":\"white\",\"linecolor\":\"white\",\"ticks\":\"\",\"title\":{\"standoff\":15},\"zerolinecolor\":\"white\",\"zerolinewidth\":2},\"yaxis\":{\"automargin\":true,\"gridcolor\":\"white\",\"linecolor\":\"white\",\"ticks\":\"\",\"title\":{\"standoff\":15},\"zerolinecolor\":\"white\",\"zerolinewidth\":2}}},\"legend\":{\"tracegroupgap\":0},\"margin\":{\"t\":60}},                        {\"responsive\": true}                    ).then(function(){\n",
       "                            \n",
       "var gd = document.getElementById('a4f334b0-04e2-451e-b7bc-e35848c6ae05');\n",
       "var x = new MutationObserver(function (mutations, observer) {{\n",
       "        var display = window.getComputedStyle(gd).display;\n",
       "        if (!display || display === 'none') {{\n",
       "            console.log([gd, 'removed!']);\n",
       "            Plotly.purge(gd);\n",
       "            observer.disconnect();\n",
       "        }}\n",
       "}});\n",
       "\n",
       "// Listen for the removal of the full notebook cells\n",
       "var notebookContainer = gd.closest('#notebook-container');\n",
       "if (notebookContainer) {{\n",
       "    x.observe(notebookContainer, {childList: true});\n",
       "}}\n",
       "\n",
       "// Listen for the clearing of the current output cell\n",
       "var outputEl = gd.closest('.output');\n",
       "if (outputEl) {{\n",
       "    x.observe(outputEl, {childList: true});\n",
       "}}\n",
       "\n",
       "                        })                };                });            </script>        </div>"
      ]
     },
     "metadata": {},
     "output_type": "display_data"
    }
   ],
   "source": [
    "fig = px.sunburst(Churn_Customer, path=[\"parentallevelofeducation\",\"writingscore\"])\n",
    "fig.show()"
   ]
  },
  {
   "cell_type": "markdown",
   "id": "7f0fcde7",
   "metadata": {},
   "source": [
    "### Taking subset data of Number \n"
   ]
  },
  {
   "cell_type": "code",
   "execution_count": 110,
   "id": "b8e66570",
   "metadata": {},
   "outputs": [
    {
     "data": {
      "text/plain": [
       "['mathscore', 'readingscore', 'writingscore']"
      ]
     },
     "execution_count": 110,
     "metadata": {},
     "output_type": "execute_result"
    }
   ],
   "source": [
    "std.select_dtypes(include=[np.number]).columns.tolist()"
   ]
  },
  {
   "cell_type": "code",
   "execution_count": 111,
   "id": "462b6789",
   "metadata": {},
   "outputs": [
    {
     "data": {
      "text/html": [
       "<div>\n",
       "<style scoped>\n",
       "    .dataframe tbody tr th:only-of-type {\n",
       "        vertical-align: middle;\n",
       "    }\n",
       "\n",
       "    .dataframe tbody tr th {\n",
       "        vertical-align: top;\n",
       "    }\n",
       "\n",
       "    .dataframe thead th {\n",
       "        text-align: right;\n",
       "    }\n",
       "</style>\n",
       "<table border=\"1\" class=\"dataframe\">\n",
       "  <thead>\n",
       "    <tr style=\"text-align: right;\">\n",
       "      <th></th>\n",
       "      <th>mathscore</th>\n",
       "      <th>readingscore</th>\n",
       "      <th>writingscore</th>\n",
       "    </tr>\n",
       "  </thead>\n",
       "  <tbody>\n",
       "    <tr>\n",
       "      <th>0</th>\n",
       "      <td>67</td>\n",
       "      <td>67</td>\n",
       "      <td>63.0</td>\n",
       "    </tr>\n",
       "    <tr>\n",
       "      <th>1</th>\n",
       "      <td>40</td>\n",
       "      <td>59</td>\n",
       "      <td>55.0</td>\n",
       "    </tr>\n",
       "    <tr>\n",
       "      <th>2</th>\n",
       "      <td>59</td>\n",
       "      <td>60</td>\n",
       "      <td>50.0</td>\n",
       "    </tr>\n",
       "  </tbody>\n",
       "</table>\n",
       "</div>"
      ],
      "text/plain": [
       "   mathscore  readingscore  writingscore\n",
       "0         67            67          63.0\n",
       "1         40            59          55.0\n",
       "2         59            60          50.0"
      ]
     },
     "execution_count": 111,
     "metadata": {},
     "output_type": "execute_result"
    }
   ],
   "source": [
    "std_num = std[std.select_dtypes(include=[np.number]).columns.tolist()]\n",
    "std_num.head(3)"
   ]
  },
  {
   "cell_type": "markdown",
   "id": "625f39ce",
   "metadata": {},
   "source": [
    "### Taking subset data of Category "
   ]
  },
  {
   "cell_type": "code",
   "execution_count": 112,
   "id": "91511735",
   "metadata": {},
   "outputs": [
    {
     "data": {
      "text/html": [
       "<div>\n",
       "<style scoped>\n",
       "    .dataframe tbody tr th:only-of-type {\n",
       "        vertical-align: middle;\n",
       "    }\n",
       "\n",
       "    .dataframe tbody tr th {\n",
       "        vertical-align: top;\n",
       "    }\n",
       "\n",
       "    .dataframe thead th {\n",
       "        text-align: right;\n",
       "    }\n",
       "</style>\n",
       "<table border=\"1\" class=\"dataframe\">\n",
       "  <thead>\n",
       "    <tr style=\"text-align: right;\">\n",
       "      <th></th>\n",
       "      <th>parentallevelofeducation</th>\n",
       "      <th>lunch</th>\n",
       "      <th>testpreparationcourse</th>\n",
       "    </tr>\n",
       "  </thead>\n",
       "  <tbody>\n",
       "    <tr>\n",
       "      <th>0</th>\n",
       "      <td>high school</td>\n",
       "      <td>standard</td>\n",
       "      <td>completed</td>\n",
       "    </tr>\n",
       "    <tr>\n",
       "      <th>1</th>\n",
       "      <td>some high school</td>\n",
       "      <td>free/reduced</td>\n",
       "      <td>none</td>\n",
       "    </tr>\n",
       "    <tr>\n",
       "      <th>2</th>\n",
       "      <td>some college</td>\n",
       "      <td>free/reduced</td>\n",
       "      <td>none</td>\n",
       "    </tr>\n",
       "  </tbody>\n",
       "</table>\n",
       "</div>"
      ],
      "text/plain": [
       "  parentallevelofeducation         lunch testpreparationcourse\n",
       "0              high school      standard             completed\n",
       "1         some high school  free/reduced                  none\n",
       "2             some college  free/reduced                  none"
      ]
     },
     "execution_count": 112,
     "metadata": {},
     "output_type": "execute_result"
    }
   ],
   "source": [
    "std_dummies = std[std.select_dtypes(include=['object']).columns.tolist()]\n",
    "std_dummies.head(3)"
   ]
  },
  {
   "cell_type": "markdown",
   "id": "9b6de259",
   "metadata": {},
   "source": [
    "### Converting Quality Variable to Number"
   ]
  },
  {
   "cell_type": "code",
   "execution_count": 113,
   "id": "9c415906",
   "metadata": {},
   "outputs": [
    {
     "data": {
      "text/html": [
       "<div>\n",
       "<style scoped>\n",
       "    .dataframe tbody tr th:only-of-type {\n",
       "        vertical-align: middle;\n",
       "    }\n",
       "\n",
       "    .dataframe tbody tr th {\n",
       "        vertical-align: top;\n",
       "    }\n",
       "\n",
       "    .dataframe thead th {\n",
       "        text-align: right;\n",
       "    }\n",
       "</style>\n",
       "<table border=\"1\" class=\"dataframe\">\n",
       "  <thead>\n",
       "    <tr style=\"text-align: right;\">\n",
       "      <th></th>\n",
       "      <th>parentallevelofeducation</th>\n",
       "      <th>lunch</th>\n",
       "      <th>testpreparationcourse</th>\n",
       "    </tr>\n",
       "  </thead>\n",
       "  <tbody>\n",
       "    <tr>\n",
       "      <th>0</th>\n",
       "      <td>2</td>\n",
       "      <td>1</td>\n",
       "      <td>0</td>\n",
       "    </tr>\n",
       "    <tr>\n",
       "      <th>1</th>\n",
       "      <td>5</td>\n",
       "      <td>0</td>\n",
       "      <td>1</td>\n",
       "    </tr>\n",
       "    <tr>\n",
       "      <th>2</th>\n",
       "      <td>4</td>\n",
       "      <td>0</td>\n",
       "      <td>1</td>\n",
       "    </tr>\n",
       "  </tbody>\n",
       "</table>\n",
       "</div>"
      ],
      "text/plain": [
       "   parentallevelofeducation  lunch  testpreparationcourse\n",
       "0                         2      1                      0\n",
       "1                         5      0                      1\n",
       "2                         4      0                      1"
      ]
     },
     "execution_count": 113,
     "metadata": {},
     "output_type": "execute_result"
    }
   ],
   "source": [
    "from sklearn.preprocessing import LabelEncoder\n",
    "std_dummies=std_dummies.apply(LabelEncoder().fit_transform)\n",
    "std_dummies.head(3)\n",
    "# label in ascending order"
   ]
  },
  {
   "cell_type": "markdown",
   "id": "1225b6b0",
   "metadata": {},
   "source": [
    "### Combine to Dataset\n"
   ]
  },
  {
   "cell_type": "code",
   "execution_count": 114,
   "id": "b94f8397",
   "metadata": {},
   "outputs": [],
   "source": [
    "std_combined = pd.concat([std_num,std_dummies],axis=1)"
   ]
  },
  {
   "cell_type": "code",
   "execution_count": 115,
   "id": "473517ed",
   "metadata": {},
   "outputs": [
    {
     "data": {
      "text/html": [
       "<div>\n",
       "<style scoped>\n",
       "    .dataframe tbody tr th:only-of-type {\n",
       "        vertical-align: middle;\n",
       "    }\n",
       "\n",
       "    .dataframe tbody tr th {\n",
       "        vertical-align: top;\n",
       "    }\n",
       "\n",
       "    .dataframe thead th {\n",
       "        text-align: right;\n",
       "    }\n",
       "</style>\n",
       "<table border=\"1\" class=\"dataframe\">\n",
       "  <thead>\n",
       "    <tr style=\"text-align: right;\">\n",
       "      <th></th>\n",
       "      <th>mathscore</th>\n",
       "      <th>readingscore</th>\n",
       "      <th>writingscore</th>\n",
       "      <th>parentallevelofeducation</th>\n",
       "      <th>lunch</th>\n",
       "      <th>testpreparationcourse</th>\n",
       "    </tr>\n",
       "  </thead>\n",
       "  <tbody>\n",
       "    <tr>\n",
       "      <th>0</th>\n",
       "      <td>67</td>\n",
       "      <td>67</td>\n",
       "      <td>63.0</td>\n",
       "      <td>2</td>\n",
       "      <td>1</td>\n",
       "      <td>0</td>\n",
       "    </tr>\n",
       "    <tr>\n",
       "      <th>1</th>\n",
       "      <td>40</td>\n",
       "      <td>59</td>\n",
       "      <td>55.0</td>\n",
       "      <td>5</td>\n",
       "      <td>0</td>\n",
       "      <td>1</td>\n",
       "    </tr>\n",
       "    <tr>\n",
       "      <th>2</th>\n",
       "      <td>59</td>\n",
       "      <td>60</td>\n",
       "      <td>50.0</td>\n",
       "      <td>4</td>\n",
       "      <td>0</td>\n",
       "      <td>1</td>\n",
       "    </tr>\n",
       "    <tr>\n",
       "      <th>3</th>\n",
       "      <td>77</td>\n",
       "      <td>78</td>\n",
       "      <td>68.0</td>\n",
       "      <td>2</td>\n",
       "      <td>1</td>\n",
       "      <td>1</td>\n",
       "    </tr>\n",
       "    <tr>\n",
       "      <th>4</th>\n",
       "      <td>78</td>\n",
       "      <td>73</td>\n",
       "      <td>68.0</td>\n",
       "      <td>0</td>\n",
       "      <td>1</td>\n",
       "      <td>0</td>\n",
       "    </tr>\n",
       "  </tbody>\n",
       "</table>\n",
       "</div>"
      ],
      "text/plain": [
       "   mathscore  readingscore  writingscore  parentallevelofeducation  lunch  \\\n",
       "0         67            67          63.0                         2      1   \n",
       "1         40            59          55.0                         5      0   \n",
       "2         59            60          50.0                         4      0   \n",
       "3         77            78          68.0                         2      1   \n",
       "4         78            73          68.0                         0      1   \n",
       "\n",
       "   testpreparationcourse  \n",
       "0                      0  \n",
       "1                      1  \n",
       "2                      1  \n",
       "3                      1  \n",
       "4                      0  "
      ]
     },
     "execution_count": 115,
     "metadata": {},
     "output_type": "execute_result"
    }
   ],
   "source": [
    "std_combined.head()"
   ]
  },
  {
   "cell_type": "markdown",
   "id": "55aaba6e",
   "metadata": {},
   "source": [
    "# Step 3: Data Partition"
   ]
  },
  {
   "cell_type": "code",
   "execution_count": 116,
   "id": "05e7fd1a",
   "metadata": {},
   "outputs": [],
   "source": [
    "#Dividing data into train and test dataset\n",
    "from sklearn.model_selection import train_test_split\n",
    "#from random import seed\n",
    "\n",
    "#seed(20)\n",
    "x = std_combined.drop(['testpreparationcourse'],axis=1)\n",
    "y = std_combined[['testpreparationcourse']]\n",
    "\n",
    "# Train test split\n",
    "\n",
    "X_train, X_test, y_train, y_test =train_test_split(x,y,test_size=0.3,random_state=231)"
   ]
  },
  {
   "cell_type": "markdown",
   "id": "7d56d64d",
   "metadata": {},
   "source": [
    "# Step 4: Model Building"
   ]
  },
  {
   "cell_type": "code",
   "execution_count": 117,
   "id": "fdc08533",
   "metadata": {},
   "outputs": [
    {
     "data": {
      "text/plain": [
       "DecisionTreeClassifier()"
      ]
     },
     "execution_count": 117,
     "metadata": {},
     "output_type": "execute_result"
    }
   ],
   "source": [
    "#Import Tree Classifier model\n",
    "from sklearn import tree\n",
    "\n",
    "dt = tree.DecisionTreeClassifier()  # by default it use Gini index for split\n",
    "#Train the model using the training sets\n",
    "dt.fit(X_train,y_train)  # Model = dt"
   ]
  },
  {
   "cell_type": "markdown",
   "id": "e958d7f4",
   "metadata": {},
   "source": [
    "?tree.DecisionTreeRegressor"
   ]
  },
  {
   "cell_type": "markdown",
   "id": "e07eeece",
   "metadata": {},
   "source": [
    "# Step 5: Plotting the Tree \n"
   ]
  },
  {
   "cell_type": "markdown",
   "id": "c575efab",
   "metadata": {},
   "source": [
    "# Ploting Tree\n",
    "import graphviz \n",
    "from six import StringIO\n",
    "#from sklearn.externals.six import StringIO  \n",
    "from IPython.display import Image  \n",
    "from sklearn.tree import export_graphviz\n",
    "import pydotplus\n",
    "import pydot"
   ]
  },
  {
   "cell_type": "code",
   "execution_count": 119,
   "id": "65aff90b",
   "metadata": {},
   "outputs": [
    {
     "data": {
      "text/html": [
       "<div>\n",
       "<style scoped>\n",
       "    .dataframe tbody tr th:only-of-type {\n",
       "        vertical-align: middle;\n",
       "    }\n",
       "\n",
       "    .dataframe tbody tr th {\n",
       "        vertical-align: top;\n",
       "    }\n",
       "\n",
       "    .dataframe thead th {\n",
       "        text-align: right;\n",
       "    }\n",
       "</style>\n",
       "<table border=\"1\" class=\"dataframe\">\n",
       "  <thead>\n",
       "    <tr style=\"text-align: right;\">\n",
       "      <th></th>\n",
       "      <th>testpreparationcourse</th>\n",
       "      <th>mathscore</th>\n",
       "      <th>readingscore</th>\n",
       "      <th>writingscore</th>\n",
       "      <th>parentallevelofeducation</th>\n",
       "      <th>lunch</th>\n",
       "    </tr>\n",
       "  </thead>\n",
       "  <tbody>\n",
       "    <tr>\n",
       "      <th>806</th>\n",
       "      <td>1</td>\n",
       "      <td>57</td>\n",
       "      <td>71</td>\n",
       "      <td>71.0</td>\n",
       "      <td>0</td>\n",
       "      <td>0</td>\n",
       "    </tr>\n",
       "    <tr>\n",
       "      <th>545</th>\n",
       "      <td>0</td>\n",
       "      <td>84</td>\n",
       "      <td>71</td>\n",
       "      <td>76.0</td>\n",
       "      <td>0</td>\n",
       "      <td>1</td>\n",
       "    </tr>\n",
       "    <tr>\n",
       "      <th>792</th>\n",
       "      <td>0</td>\n",
       "      <td>68</td>\n",
       "      <td>75</td>\n",
       "      <td>73.0</td>\n",
       "      <td>4</td>\n",
       "      <td>1</td>\n",
       "    </tr>\n",
       "    <tr>\n",
       "      <th>827</th>\n",
       "      <td>1</td>\n",
       "      <td>70</td>\n",
       "      <td>84</td>\n",
       "      <td>78.0</td>\n",
       "      <td>0</td>\n",
       "      <td>0</td>\n",
       "    </tr>\n",
       "    <tr>\n",
       "      <th>367</th>\n",
       "      <td>1</td>\n",
       "      <td>64</td>\n",
       "      <td>67</td>\n",
       "      <td>64.0</td>\n",
       "      <td>5</td>\n",
       "      <td>1</td>\n",
       "    </tr>\n",
       "  </tbody>\n",
       "</table>\n",
       "</div>"
      ],
      "text/plain": [
       "     testpreparationcourse  mathscore  readingscore  writingscore  \\\n",
       "806                      1         57            71          71.0   \n",
       "545                      0         84            71          76.0   \n",
       "792                      0         68            75          73.0   \n",
       "827                      1         70            84          78.0   \n",
       "367                      1         64            67          64.0   \n",
       "\n",
       "     parentallevelofeducation  lunch  \n",
       "806                         0      0  \n",
       "545                         0      1  \n",
       "792                         4      1  \n",
       "827                         0      0  \n",
       "367                         5      1  "
      ]
     },
     "execution_count": 119,
     "metadata": {},
     "output_type": "execute_result"
    }
   ],
   "source": [
    "train=pd.concat([y_train,X_train],axis=1)\n",
    "train.head()"
   ]
  },
  {
   "cell_type": "code",
   "execution_count": 120,
   "id": "91e6c068",
   "metadata": {},
   "outputs": [
    {
     "data": {
      "text/plain": [
       "['mathscore',\n",
       " 'readingscore',\n",
       " 'writingscore',\n",
       " 'parentallevelofeducation',\n",
       " 'lunch']"
      ]
     },
     "execution_count": 120,
     "metadata": {},
     "output_type": "execute_result"
    }
   ],
   "source": [
    "independent_variable = list(train.columns[1:])\n",
    "independent_variable"
   ]
  },
  {
   "cell_type": "code",
   "execution_count": 121,
   "id": "8e18a545",
   "metadata": {},
   "outputs": [
    {
     "data": {
      "image/png": "[encoded data removed]",
      "text/plain": [
       "<Figure size 1500x1200 with 1 Axes>"
      ]
     },
     "metadata": {
      "needs_background": "light"
     },
     "output_type": "display_data"
    }
   ],
   "source": [
    "from sklearn import tree\n",
    "import matplotlib.pyplot as plt\n",
    "\n",
    "testpreparationcourse=['none', 'completed']  # array\n",
    "fig, axes = plt.subplots(nrows = 1,ncols = 1,figsize = (5,4), dpi=300)\n",
    "tree.plot_tree(dt,  # Model \n",
    "               feature_names = independent_variable,  # column name\n",
    "               class_names=testpreparationcourse, # Yes , No\n",
    "               filled = True, # colour\n",
    "              node_ids=True, # node number\n",
    "              fontsize=2); # \n",
    "#fig.savefig('imagename.png')"
   ]
  },
  {
   "cell_type": "markdown",
   "id": "6a1b2fec",
   "metadata": {},
   "source": [
    "# Step 6 : Predictions on Train Dataset\n"
   ]
  },
  {
   "cell_type": "code",
   "execution_count": 122,
   "id": "18d94031",
   "metadata": {},
   "outputs": [
    {
     "data": {
      "text/html": [
       "<div>\n",
       "<style scoped>\n",
       "    .dataframe tbody tr th:only-of-type {\n",
       "        vertical-align: middle;\n",
       "    }\n",
       "\n",
       "    .dataframe tbody tr th {\n",
       "        vertical-align: top;\n",
       "    }\n",
       "\n",
       "    .dataframe thead th {\n",
       "        text-align: right;\n",
       "    }\n",
       "</style>\n",
       "<table border=\"1\" class=\"dataframe\">\n",
       "  <thead>\n",
       "    <tr style=\"text-align: right;\">\n",
       "      <th></th>\n",
       "      <th>testpreparationcourse</th>\n",
       "      <th>mathscore</th>\n",
       "      <th>readingscore</th>\n",
       "      <th>writingscore</th>\n",
       "      <th>parentallevelofeducation</th>\n",
       "      <th>lunch</th>\n",
       "    </tr>\n",
       "  </thead>\n",
       "  <tbody>\n",
       "    <tr>\n",
       "      <th>806</th>\n",
       "      <td>1</td>\n",
       "      <td>57</td>\n",
       "      <td>71</td>\n",
       "      <td>71.0</td>\n",
       "      <td>0</td>\n",
       "      <td>0</td>\n",
       "    </tr>\n",
       "    <tr>\n",
       "      <th>545</th>\n",
       "      <td>0</td>\n",
       "      <td>84</td>\n",
       "      <td>71</td>\n",
       "      <td>76.0</td>\n",
       "      <td>0</td>\n",
       "      <td>1</td>\n",
       "    </tr>\n",
       "    <tr>\n",
       "      <th>792</th>\n",
       "      <td>0</td>\n",
       "      <td>68</td>\n",
       "      <td>75</td>\n",
       "      <td>73.0</td>\n",
       "      <td>4</td>\n",
       "      <td>1</td>\n",
       "    </tr>\n",
       "    <tr>\n",
       "      <th>827</th>\n",
       "      <td>1</td>\n",
       "      <td>70</td>\n",
       "      <td>84</td>\n",
       "      <td>78.0</td>\n",
       "      <td>0</td>\n",
       "      <td>0</td>\n",
       "    </tr>\n",
       "    <tr>\n",
       "      <th>367</th>\n",
       "      <td>1</td>\n",
       "      <td>64</td>\n",
       "      <td>67</td>\n",
       "      <td>64.0</td>\n",
       "      <td>5</td>\n",
       "      <td>1</td>\n",
       "    </tr>\n",
       "  </tbody>\n",
       "</table>\n",
       "</div>"
      ],
      "text/plain": [
       "     testpreparationcourse  mathscore  readingscore  writingscore  \\\n",
       "806                      1         57            71          71.0   \n",
       "545                      0         84            71          76.0   \n",
       "792                      0         68            75          73.0   \n",
       "827                      1         70            84          78.0   \n",
       "367                      1         64            67          64.0   \n",
       "\n",
       "     parentallevelofeducation  lunch  \n",
       "806                         0      0  \n",
       "545                         0      1  \n",
       "792                         4      1  \n",
       "827                         0      0  \n",
       "367                         5      1  "
      ]
     },
     "execution_count": 122,
     "metadata": {},
     "output_type": "execute_result"
    }
   ],
   "source": [
    "train.head()"
   ]
  },
  {
   "cell_type": "code",
   "execution_count": 123,
   "id": "f9cac871",
   "metadata": {},
   "outputs": [
    {
     "data": {
      "text/html": [
       "<div>\n",
       "<style scoped>\n",
       "    .dataframe tbody tr th:only-of-type {\n",
       "        vertical-align: middle;\n",
       "    }\n",
       "\n",
       "    .dataframe tbody tr th {\n",
       "        vertical-align: top;\n",
       "    }\n",
       "\n",
       "    .dataframe thead th {\n",
       "        text-align: right;\n",
       "    }\n",
       "</style>\n",
       "<table border=\"1\" class=\"dataframe\">\n",
       "  <thead>\n",
       "    <tr style=\"text-align: right;\">\n",
       "      <th></th>\n",
       "      <th>testpreparationcourse</th>\n",
       "      <th>mathscore</th>\n",
       "      <th>readingscore</th>\n",
       "      <th>writingscore</th>\n",
       "      <th>parentallevelofeducation</th>\n",
       "      <th>lunch</th>\n",
       "      <th>Predicted</th>\n",
       "    </tr>\n",
       "  </thead>\n",
       "  <tbody>\n",
       "    <tr>\n",
       "      <th>806</th>\n",
       "      <td>1</td>\n",
       "      <td>57</td>\n",
       "      <td>71</td>\n",
       "      <td>71.0</td>\n",
       "      <td>0</td>\n",
       "      <td>0</td>\n",
       "      <td>1</td>\n",
       "    </tr>\n",
       "    <tr>\n",
       "      <th>545</th>\n",
       "      <td>0</td>\n",
       "      <td>84</td>\n",
       "      <td>71</td>\n",
       "      <td>76.0</td>\n",
       "      <td>0</td>\n",
       "      <td>1</td>\n",
       "      <td>0</td>\n",
       "    </tr>\n",
       "    <tr>\n",
       "      <th>792</th>\n",
       "      <td>0</td>\n",
       "      <td>68</td>\n",
       "      <td>75</td>\n",
       "      <td>73.0</td>\n",
       "      <td>4</td>\n",
       "      <td>1</td>\n",
       "      <td>0</td>\n",
       "    </tr>\n",
       "    <tr>\n",
       "      <th>827</th>\n",
       "      <td>1</td>\n",
       "      <td>70</td>\n",
       "      <td>84</td>\n",
       "      <td>78.0</td>\n",
       "      <td>0</td>\n",
       "      <td>0</td>\n",
       "      <td>1</td>\n",
       "    </tr>\n",
       "    <tr>\n",
       "      <th>367</th>\n",
       "      <td>1</td>\n",
       "      <td>64</td>\n",
       "      <td>67</td>\n",
       "      <td>64.0</td>\n",
       "      <td>5</td>\n",
       "      <td>1</td>\n",
       "      <td>1</td>\n",
       "    </tr>\n",
       "  </tbody>\n",
       "</table>\n",
       "</div>"
      ],
      "text/plain": [
       "     testpreparationcourse  mathscore  readingscore  writingscore  \\\n",
       "806                      1         57            71          71.0   \n",
       "545                      0         84            71          76.0   \n",
       "792                      0         68            75          73.0   \n",
       "827                      1         70            84          78.0   \n",
       "367                      1         64            67          64.0   \n",
       "\n",
       "     parentallevelofeducation  lunch  Predicted  \n",
       "806                         0      0          1  \n",
       "545                         0      1          0  \n",
       "792                         4      1          0  \n",
       "827                         0      0          1  \n",
       "367                         5      1          1  "
      ]
     },
     "execution_count": 123,
     "metadata": {},
     "output_type": "execute_result"
    }
   ],
   "source": [
    "train['Predicted']=dt.predict(X_train)  # MODEL = dt\n",
    "train.head()"
   ]
  },
  {
   "cell_type": "markdown",
   "id": "ff3a192c",
   "metadata": {},
   "source": [
    "# Step 7 : Model Performance Metrics"
   ]
  },
  {
   "cell_type": "code",
   "execution_count": 125,
   "id": "e85358cc",
   "metadata": {},
   "outputs": [
    {
     "name": "stdout",
     "output_type": "stream",
     "text": [
      "[[238   0]\n",
      " [  0 462]]\n"
     ]
    }
   ],
   "source": [
    "from sklearn.metrics import confusion_matrix  \n",
    "matrix = confusion_matrix(train['Predicted'],train['testpreparationcourse'])\n",
    "print(matrix)"
   ]
  },
  {
   "cell_type": "markdown",
   "id": "374cc991",
   "metadata": {},
   "source": [
    "#### Final accuracy of Model Before Pruning \n"
   ]
  },
  {
   "cell_type": "code",
   "execution_count": 127,
   "id": "63ae6055",
   "metadata": {},
   "outputs": [
    {
     "name": "stdout",
     "output_type": "stream",
     "text": [
      "100.0\n"
     ]
    }
   ],
   "source": [
    "Accuracy_Train=((238+462)/(700)*100)\n",
    "print(Accuracy_Train)   # overfit or High accuracy"
   ]
  },
  {
   "cell_type": "code",
   "execution_count": 128,
   "id": "a0f7e153",
   "metadata": {},
   "outputs": [
    {
     "name": "stdout",
     "output_type": "stream",
     "text": [
      "              precision    recall  f1-score   support\n",
      "\n",
      "           0       1.00      1.00      1.00       238\n",
      "           1       1.00      1.00      1.00       462\n",
      "\n",
      "    accuracy                           1.00       700\n",
      "   macro avg       1.00      1.00      1.00       700\n",
      "weighted avg       1.00      1.00      1.00       700\n",
      "\n"
     ]
    }
   ],
   "source": [
    "from sklearn.metrics import classification_report\n",
    "print(classification_report(train['testpreparationcourse'], train['Predicted']))"
   ]
  },
  {
   "cell_type": "markdown",
   "id": "9e485426",
   "metadata": {},
   "source": [
    "### Model Improvement by Pruning Method ( Cut Tree)\n"
   ]
  },
  {
   "cell_type": "code",
   "execution_count": 129,
   "id": "fc863dc4",
   "metadata": {},
   "outputs": [
    {
     "data": {
      "text/plain": [
       "DecisionTreeClassifier(max_depth=3, min_samples_leaf=50, min_samples_split=200)"
      ]
     },
     "execution_count": 129,
     "metadata": {},
     "output_type": "execute_result"
    }
   ],
   "source": [
    "#Import Tree Classifier model\n",
    "from sklearn import tree\n",
    "\n",
    "dt = tree.DecisionTreeClassifier(criterion='gini',  #splitter\n",
    "                                 min_samples_leaf=50, ## child\n",
    "                                 min_samples_split=200, #parent \n",
    "                                 max_depth=3)  #branches\n",
    "#Train the model using the training sets\n",
    "dt.fit(X_train,y_train)"
   ]
  },
  {
   "cell_type": "code",
   "execution_count": 131,
   "id": "9cf9f869",
   "metadata": {},
   "outputs": [
    {
     "data": {
      "image/png": "[encoded data removed]",
      "text/plain": [
       "<Figure size 1500x1200 with 1 Axes>"
      ]
     },
     "metadata": {
      "needs_background": "light"
     },
     "output_type": "display_data"
    }
   ],
   "source": [
    "from sklearn import tree\n",
    "import matplotlib.pyplot as plt\n",
    "\n",
    "testpreparationcourse=['none', 'completed']  # array\n",
    "fig, axes = plt.subplots(nrows = 1,ncols = 1,figsize = (5,4), dpi=300)\n",
    "tree.plot_tree(dt,  # Model \n",
    "               feature_names = independent_variable,  # column name\n",
    "               class_names=testpreparationcourse, # Yes , No\n",
    "               filled = True, # colour\n",
    "              node_ids=True, # node number\n",
    "              fontsize=2); # \n",
    "#fig.savefig('imagename.png')"
   ]
  },
  {
   "cell_type": "code",
   "execution_count": 132,
   "id": "a8ed37c8",
   "metadata": {},
   "outputs": [
    {
     "data": {
      "text/html": [
       "<div>\n",
       "<style scoped>\n",
       "    .dataframe tbody tr th:only-of-type {\n",
       "        vertical-align: middle;\n",
       "    }\n",
       "\n",
       "    .dataframe tbody tr th {\n",
       "        vertical-align: top;\n",
       "    }\n",
       "\n",
       "    .dataframe thead th {\n",
       "        text-align: right;\n",
       "    }\n",
       "</style>\n",
       "<table border=\"1\" class=\"dataframe\">\n",
       "  <thead>\n",
       "    <tr style=\"text-align: right;\">\n",
       "      <th></th>\n",
       "      <th>testpreparationcourse</th>\n",
       "      <th>mathscore</th>\n",
       "      <th>readingscore</th>\n",
       "      <th>writingscore</th>\n",
       "      <th>parentallevelofeducation</th>\n",
       "      <th>lunch</th>\n",
       "      <th>Predicted</th>\n",
       "    </tr>\n",
       "  </thead>\n",
       "  <tbody>\n",
       "    <tr>\n",
       "      <th>806</th>\n",
       "      <td>1</td>\n",
       "      <td>57</td>\n",
       "      <td>71</td>\n",
       "      <td>71.0</td>\n",
       "      <td>0</td>\n",
       "      <td>0</td>\n",
       "      <td>0</td>\n",
       "    </tr>\n",
       "    <tr>\n",
       "      <th>545</th>\n",
       "      <td>0</td>\n",
       "      <td>84</td>\n",
       "      <td>71</td>\n",
       "      <td>76.0</td>\n",
       "      <td>0</td>\n",
       "      <td>1</td>\n",
       "      <td>1</td>\n",
       "    </tr>\n",
       "    <tr>\n",
       "      <th>792</th>\n",
       "      <td>0</td>\n",
       "      <td>68</td>\n",
       "      <td>75</td>\n",
       "      <td>73.0</td>\n",
       "      <td>4</td>\n",
       "      <td>1</td>\n",
       "      <td>1</td>\n",
       "    </tr>\n",
       "    <tr>\n",
       "      <th>827</th>\n",
       "      <td>1</td>\n",
       "      <td>70</td>\n",
       "      <td>84</td>\n",
       "      <td>78.0</td>\n",
       "      <td>0</td>\n",
       "      <td>0</td>\n",
       "      <td>1</td>\n",
       "    </tr>\n",
       "    <tr>\n",
       "      <th>367</th>\n",
       "      <td>1</td>\n",
       "      <td>64</td>\n",
       "      <td>67</td>\n",
       "      <td>64.0</td>\n",
       "      <td>5</td>\n",
       "      <td>1</td>\n",
       "      <td>1</td>\n",
       "    </tr>\n",
       "  </tbody>\n",
       "</table>\n",
       "</div>"
      ],
      "text/plain": [
       "     testpreparationcourse  mathscore  readingscore  writingscore  \\\n",
       "806                      1         57            71          71.0   \n",
       "545                      0         84            71          76.0   \n",
       "792                      0         68            75          73.0   \n",
       "827                      1         70            84          78.0   \n",
       "367                      1         64            67          64.0   \n",
       "\n",
       "     parentallevelofeducation  lunch  Predicted  \n",
       "806                         0      0          0  \n",
       "545                         0      1          1  \n",
       "792                         4      1          1  \n",
       "827                         0      0          1  \n",
       "367                         5      1          1  "
      ]
     },
     "execution_count": 132,
     "metadata": {},
     "output_type": "execute_result"
    }
   ],
   "source": [
    "train['Predicted']=dt.predict(X_train)  # MODEL = dt\n",
    "train.head()"
   ]
  },
  {
   "cell_type": "code",
   "execution_count": 133,
   "id": "382e6a8a",
   "metadata": {},
   "outputs": [
    {
     "name": "stdout",
     "output_type": "stream",
     "text": [
      "[[ 80  45]\n",
      " [158 417]]\n"
     ]
    }
   ],
   "source": [
    "from sklearn.metrics import confusion_matrix  \n",
    "matrix = confusion_matrix(train['Predicted'],train['testpreparationcourse'])\n",
    "print(matrix)"
   ]
  },
  {
   "cell_type": "code",
   "execution_count": 134,
   "id": "ccdf3e90",
   "metadata": {},
   "outputs": [
    {
     "name": "stdout",
     "output_type": "stream",
     "text": [
      "71.0\n"
     ]
    }
   ],
   "source": [
    "Accuracy_Train=((80+417)/(700)*100)\n",
    "print(Accuracy_Train)"
   ]
  },
  {
   "cell_type": "code",
   "execution_count": 135,
   "id": "7dce0db5",
   "metadata": {},
   "outputs": [
    {
     "name": "stdout",
     "output_type": "stream",
     "text": [
      "              precision    recall  f1-score   support\n",
      "\n",
      "           0       0.64      0.34      0.44       238\n",
      "           1       0.73      0.90      0.80       462\n",
      "\n",
      "    accuracy                           0.71       700\n",
      "   macro avg       0.68      0.62      0.62       700\n",
      "weighted avg       0.70      0.71      0.68       700\n",
      "\n"
     ]
    }
   ],
   "source": [
    "from sklearn.metrics import classification_report\n",
    "print(classification_report(train['testpreparationcourse'], train['Predicted']))"
   ]
  },
  {
   "cell_type": "code",
   "execution_count": 136,
   "id": "7c3cb56b",
   "metadata": {},
   "outputs": [
    {
     "data": {
      "text/html": [
       "<div>\n",
       "<style scoped>\n",
       "    .dataframe tbody tr th:only-of-type {\n",
       "        vertical-align: middle;\n",
       "    }\n",
       "\n",
       "    .dataframe tbody tr th {\n",
       "        vertical-align: top;\n",
       "    }\n",
       "\n",
       "    .dataframe thead th {\n",
       "        text-align: right;\n",
       "    }\n",
       "</style>\n",
       "<table border=\"1\" class=\"dataframe\">\n",
       "  <thead>\n",
       "    <tr style=\"text-align: right;\">\n",
       "      <th></th>\n",
       "      <th>mathscore</th>\n",
       "      <th>readingscore</th>\n",
       "      <th>writingscore</th>\n",
       "      <th>parentallevelofeducation</th>\n",
       "      <th>lunch</th>\n",
       "      <th>testpreparationcourse</th>\n",
       "    </tr>\n",
       "  </thead>\n",
       "  <tbody>\n",
       "    <tr>\n",
       "      <th>110</th>\n",
       "      <td>79</td>\n",
       "      <td>88</td>\n",
       "      <td>86.0</td>\n",
       "      <td>4</td>\n",
       "      <td>1</td>\n",
       "      <td>0</td>\n",
       "    </tr>\n",
       "    <tr>\n",
       "      <th>637</th>\n",
       "      <td>64</td>\n",
       "      <td>67</td>\n",
       "      <td>68.0</td>\n",
       "      <td>4</td>\n",
       "      <td>1</td>\n",
       "      <td>1</td>\n",
       "    </tr>\n",
       "    <tr>\n",
       "      <th>87</th>\n",
       "      <td>97</td>\n",
       "      <td>93</td>\n",
       "      <td>88.0</td>\n",
       "      <td>4</td>\n",
       "      <td>1</td>\n",
       "      <td>1</td>\n",
       "    </tr>\n",
       "    <tr>\n",
       "      <th>428</th>\n",
       "      <td>55</td>\n",
       "      <td>52</td>\n",
       "      <td>47.0</td>\n",
       "      <td>0</td>\n",
       "      <td>0</td>\n",
       "      <td>1</td>\n",
       "    </tr>\n",
       "    <tr>\n",
       "      <th>672</th>\n",
       "      <td>34</td>\n",
       "      <td>47</td>\n",
       "      <td>45.0</td>\n",
       "      <td>5</td>\n",
       "      <td>0</td>\n",
       "      <td>1</td>\n",
       "    </tr>\n",
       "  </tbody>\n",
       "</table>\n",
       "</div>"
      ],
      "text/plain": [
       "     mathscore  readingscore  writingscore  parentallevelofeducation  lunch  \\\n",
       "110         79            88          86.0                         4      1   \n",
       "637         64            67          68.0                         4      1   \n",
       "87          97            93          88.0                         4      1   \n",
       "428         55            52          47.0                         0      0   \n",
       "672         34            47          45.0                         5      0   \n",
       "\n",
       "     testpreparationcourse  \n",
       "110                      0  \n",
       "637                      1  \n",
       "87                       1  \n",
       "428                      1  \n",
       "672                      1  "
      ]
     },
     "execution_count": 136,
     "metadata": {},
     "output_type": "execute_result"
    }
   ],
   "source": [
    "test=pd.concat([X_test,y_test],axis=1)\n",
    "test.head()"
   ]
  },
  {
   "cell_type": "code",
   "execution_count": 137,
   "id": "3da74719",
   "metadata": {},
   "outputs": [
    {
     "data": {
      "text/html": [
       "<div>\n",
       "<style scoped>\n",
       "    .dataframe tbody tr th:only-of-type {\n",
       "        vertical-align: middle;\n",
       "    }\n",
       "\n",
       "    .dataframe tbody tr th {\n",
       "        vertical-align: top;\n",
       "    }\n",
       "\n",
       "    .dataframe thead th {\n",
       "        text-align: right;\n",
       "    }\n",
       "</style>\n",
       "<table border=\"1\" class=\"dataframe\">\n",
       "  <thead>\n",
       "    <tr style=\"text-align: right;\">\n",
       "      <th></th>\n",
       "      <th>mathscore</th>\n",
       "      <th>readingscore</th>\n",
       "      <th>writingscore</th>\n",
       "      <th>parentallevelofeducation</th>\n",
       "      <th>lunch</th>\n",
       "      <th>testpreparationcourse</th>\n",
       "      <th>Predicted</th>\n",
       "    </tr>\n",
       "  </thead>\n",
       "  <tbody>\n",
       "    <tr>\n",
       "      <th>110</th>\n",
       "      <td>79</td>\n",
       "      <td>88</td>\n",
       "      <td>86.0</td>\n",
       "      <td>4</td>\n",
       "      <td>1</td>\n",
       "      <td>0</td>\n",
       "      <td>1</td>\n",
       "    </tr>\n",
       "    <tr>\n",
       "      <th>637</th>\n",
       "      <td>64</td>\n",
       "      <td>67</td>\n",
       "      <td>68.0</td>\n",
       "      <td>4</td>\n",
       "      <td>1</td>\n",
       "      <td>1</td>\n",
       "      <td>1</td>\n",
       "    </tr>\n",
       "    <tr>\n",
       "      <th>87</th>\n",
       "      <td>97</td>\n",
       "      <td>93</td>\n",
       "      <td>88.0</td>\n",
       "      <td>4</td>\n",
       "      <td>1</td>\n",
       "      <td>1</td>\n",
       "      <td>1</td>\n",
       "    </tr>\n",
       "    <tr>\n",
       "      <th>428</th>\n",
       "      <td>55</td>\n",
       "      <td>52</td>\n",
       "      <td>47.0</td>\n",
       "      <td>0</td>\n",
       "      <td>0</td>\n",
       "      <td>1</td>\n",
       "      <td>1</td>\n",
       "    </tr>\n",
       "    <tr>\n",
       "      <th>672</th>\n",
       "      <td>34</td>\n",
       "      <td>47</td>\n",
       "      <td>45.0</td>\n",
       "      <td>5</td>\n",
       "      <td>0</td>\n",
       "      <td>1</td>\n",
       "      <td>1</td>\n",
       "    </tr>\n",
       "  </tbody>\n",
       "</table>\n",
       "</div>"
      ],
      "text/plain": [
       "     mathscore  readingscore  writingscore  parentallevelofeducation  lunch  \\\n",
       "110         79            88          86.0                         4      1   \n",
       "637         64            67          68.0                         4      1   \n",
       "87          97            93          88.0                         4      1   \n",
       "428         55            52          47.0                         0      0   \n",
       "672         34            47          45.0                         5      0   \n",
       "\n",
       "     testpreparationcourse  Predicted  \n",
       "110                      0          1  \n",
       "637                      1          1  \n",
       "87                       1          1  \n",
       "428                      1          1  \n",
       "672                      1          1  "
      ]
     },
     "execution_count": 137,
     "metadata": {},
     "output_type": "execute_result"
    }
   ],
   "source": [
    "test['Predicted']=dt.predict(X_test)\n",
    "test.head()"
   ]
  },
  {
   "cell_type": "code",
   "execution_count": 138,
   "id": "bc211e82",
   "metadata": {},
   "outputs": [
    {
     "name": "stdout",
     "output_type": "stream",
     "text": [
      "[[ 32  18]\n",
      " [ 65 185]]\n"
     ]
    }
   ],
   "source": [
    "from sklearn.metrics import confusion_matrix\n",
    "confusion_matrix = confusion_matrix(test['Predicted'],test['testpreparationcourse'])\n",
    "print(confusion_matrix)"
   ]
  },
  {
   "cell_type": "code",
   "execution_count": 139,
   "id": "67525791",
   "metadata": {},
   "outputs": [
    {
     "data": {
      "text/plain": [
       "72.33333333333334"
      ]
     },
     "execution_count": 139,
     "metadata": {},
     "output_type": "execute_result"
    }
   ],
   "source": [
    "Accuracy_test=((32+185)/(300)*100)\n",
    "Accuracy_test"
   ]
  },
  {
   "cell_type": "code",
   "execution_count": 140,
   "id": "7a56a76e",
   "metadata": {},
   "outputs": [
    {
     "name": "stdout",
     "output_type": "stream",
     "text": [
      "              precision    recall  f1-score   support\n",
      "\n",
      "           0       0.64      0.34      0.44       238\n",
      "           1       0.73      0.90      0.80       462\n",
      "\n",
      "    accuracy                           0.71       700\n",
      "   macro avg       0.68      0.62      0.62       700\n",
      "weighted avg       0.70      0.71      0.68       700\n",
      "\n"
     ]
    }
   ],
   "source": [
    "from sklearn.metrics import classification_report\n",
    "print(classification_report(train['testpreparationcourse'], train['Predicted']))"
   ]
  },
  {
   "cell_type": "code",
   "execution_count": 142,
   "id": "80b9fd72",
   "metadata": {},
   "outputs": [
    {
     "data": {
      "text/plain": [
       "86.33"
      ]
     },
     "execution_count": 142,
     "metadata": {},
     "output_type": "execute_result"
    }
   ],
   "source": [
    "97*.89"
   ]
  },
  {
   "cell_type": "code",
   "execution_count": 143,
   "id": "be6f827c",
   "metadata": {},
   "outputs": [
    {
     "name": "stdout",
     "output_type": "stream",
     "text": [
      "              precision    recall  f1-score   support\n",
      "\n",
      "           0       0.64      0.33      0.44        97\n",
      "           1       0.74      0.91      0.82       203\n",
      "\n",
      "    accuracy                           0.72       300\n",
      "   macro avg       0.69      0.62      0.63       300\n",
      "weighted avg       0.71      0.72      0.69       300\n",
      "\n"
     ]
    }
   ],
   "source": [
    "from sklearn.metrics import classification_report\n",
    "print(classification_report(test['testpreparationcourse'], test['Predicted']))"
   ]
  },
  {
   "cell_type": "code",
   "execution_count": 144,
   "id": "605c4bb6",
   "metadata": {},
   "outputs": [
    {
     "data": {
      "text/plain": [
       "DecisionTreeClassifier(max_depth=3, min_samples_leaf=50, min_samples_split=200)"
      ]
     },
     "execution_count": 144,
     "metadata": {},
     "output_type": "execute_result"
    }
   ],
   "source": [
    "#Import Tree Classifier model\n",
    "from sklearn import tree\n",
    "\n",
    "dt = tree.DecisionTreeClassifier(criterion='gini',  #splitter\n",
    "                                 min_samples_leaf=50, ## child\n",
    "                                 min_samples_split=200, #parent \n",
    "                                 max_depth=3)  #branches\n",
    "#Train the model using the training sets\n",
    "dt.fit(X_train,y_train)"
   ]
  },
  {
   "cell_type": "code",
   "execution_count": 145,
   "id": "43b22e06",
   "metadata": {},
   "outputs": [
    {
     "name": "stdout",
     "output_type": "stream",
     "text": [
      "Fitting 10 folds for each of 27 candidates, totalling 270 fits\n"
     ]
    },
    {
     "data": {
      "text/plain": [
       "GridSearchCV(cv=10, estimator=DecisionTreeClassifier(random_state=42),\n",
       "             param_grid={'max_depth': [3, 4, 6],\n",
       "                         'min_samples_leaf': [50, 70, 80],\n",
       "                         'min_samples_split': [100, 200, 270]},\n",
       "             verbose=1)"
      ]
     },
     "execution_count": 145,
     "metadata": {},
     "output_type": "execute_result"
    }
   ],
   "source": [
    "from sklearn.tree import DecisionTreeClassifier\n",
    "from sklearn.model_selection import GridSearchCV\n",
    "params = { 'min_samples_split': [100, 200,270], ## Parent \n",
    "           'min_samples_leaf': [50,70,80], ## Child or Leave \n",
    "           'max_depth':[3,4,6]}  # Branches\n",
    "grid_search_cv = GridSearchCV(DecisionTreeClassifier(random_state=42),\n",
    "                              params, \n",
    "                              verbose=1, \n",
    "                              cv=10)\n",
    "grid_search_cv.fit(X_train, y_train)"
   ]
  },
  {
   "cell_type": "code",
   "execution_count": null,
   "id": "258cda44",
   "metadata": {},
   "outputs": [],
   "source": []
  },
  {
   "cell_type": "code",
   "execution_count": 146,
   "id": "82df03a9",
   "metadata": {},
   "outputs": [
    {
     "data": {
      "text/plain": [
       "DecisionTreeClassifier(max_depth=3, min_samples_leaf=70, min_samples_split=100,\n",
       "                       random_state=42)"
      ]
     },
     "execution_count": 146,
     "metadata": {},
     "output_type": "execute_result"
    }
   ],
   "source": [
    "grid_search_cv.best_estimator_"
   ]
  },
  {
   "cell_type": "code",
   "execution_count": null,
   "id": "3d8e43fc",
   "metadata": {},
   "outputs": [],
   "source": []
  },
  {
   "cell_type": "code",
   "execution_count": null,
   "id": "4e542721",
   "metadata": {},
   "outputs": [],
   "source": []
  },
  {
   "cell_type": "code",
   "execution_count": null,
   "id": "971ef2ae",
   "metadata": {},
   "outputs": [],
   "source": []
  },
  {
   "cell_type": "code",
   "execution_count": null,
   "id": "f7ebf575",
   "metadata": {},
   "outputs": [],
   "source": []
  },
  {
   "cell_type": "code",
   "execution_count": null,
   "id": "ab769d78",
   "metadata": {},
   "outputs": [],
   "source": []
  },
  {
   "cell_type": "code",
   "execution_count": null,
   "id": "69daa9d1",
   "metadata": {},
   "outputs": [],
   "source": []
  },
  {
   "cell_type": "code",
   "execution_count": null,
   "id": "e908aec8",
   "metadata": {},
   "outputs": [],
   "source": []
  },
  {
   "cell_type": "code",
   "execution_count": null,
   "id": "5376b4b8",
   "metadata": {},
   "outputs": [],
   "source": []
  },
  {
   "cell_type": "code",
   "execution_count": null,
   "id": "86e56447",
   "metadata": {},
   "outputs": [],
   "source": []
  },
  {
   "cell_type": "code",
   "execution_count": null,
   "id": "de874654",
   "metadata": {},
   "outputs": [],
   "source": []
  },
  {
   "cell_type": "code",
   "execution_count": null,
   "id": "7827bc55",
   "metadata": {},
   "outputs": [],
   "source": []
  },
  {
   "cell_type": "code",
   "execution_count": null,
   "id": "58c1c5c4",
   "metadata": {},
   "outputs": [],
   "source": []
  },
  {
   "cell_type": "code",
   "execution_count": null,
   "id": "02a74ced",
   "metadata": {},
   "outputs": [],
   "source": []
  },
  {
   "cell_type": "code",
   "execution_count": null,
   "id": "e9305176",
   "metadata": {},
   "outputs": [],
   "source": []
  },
  {
   "cell_type": "code",
   "execution_count": null,
   "id": "e5e9954a",
   "metadata": {},
   "outputs": [],
   "source": []
  },
  {
   "cell_type": "code",
   "execution_count": null,
   "id": "06268a42",
   "metadata": {},
   "outputs": [],
   "source": []
  },
  {
   "cell_type": "code",
   "execution_count": null,
   "id": "91c5a5c7",
   "metadata": {},
   "outputs": [],
   "source": []
  },
  {
   "cell_type": "code",
   "execution_count": null,
   "id": "90e214df",
   "metadata": {},
   "outputs": [],
   "source": []
  },
  {
   "cell_type": "code",
   "execution_count": null,
   "id": "46ef02a6",
   "metadata": {},
   "outputs": [],
   "source": []
  },
  {
   "cell_type": "code",
   "execution_count": null,
   "id": "e4212678",
   "metadata": {},
   "outputs": [],
   "source": []
  }
 ],
 "metadata": {
  "kernelspec": {
   "display_name": "Python 3 (ipykernel)",
   "language": "python",
   "name": "python3"
  },
  "language_info": {
   "codemirror_mode": {
    "name": "ipython",
    "version": 3
   },
   "file_extension": ".py",
   "mimetype": "text/x-python",
   "name": "python",
   "nbconvert_exporter": "python",
   "pygments_lexer": "ipython3",
   "version": "3.9.12"
  }
 },
 "nbformat": 4,
 "nbformat_minor": 5
}
