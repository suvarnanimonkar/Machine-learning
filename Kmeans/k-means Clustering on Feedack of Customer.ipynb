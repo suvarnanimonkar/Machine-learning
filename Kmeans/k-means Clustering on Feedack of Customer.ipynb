{
 "cells": [
  {
   "cell_type": "markdown",
   "metadata": {},
   "source": [
    "### Step 1:\n",
    "Load the dataset"
   ]
  },
  {
   "cell_type": "code",
   "execution_count": 1,
   "metadata": {},
   "outputs": [
    {
     "data": {
      "text/html": [
       "<div>\n",
       "<style scoped>\n",
       "    .dataframe tbody tr th:only-of-type {\n",
       "        vertical-align: middle;\n",
       "    }\n",
       "\n",
       "    .dataframe tbody tr th {\n",
       "        vertical-align: top;\n",
       "    }\n",
       "\n",
       "    .dataframe thead th {\n",
       "        text-align: right;\n",
       "    }\n",
       "</style>\n",
       "<table border=\"1\" class=\"dataframe\">\n",
       "  <thead>\n",
       "    <tr style=\"text-align: right;\">\n",
       "      <th></th>\n",
       "      <th>User_ID</th>\n",
       "      <th>Category_1</th>\n",
       "      <th>Category_2</th>\n",
       "      <th>Category_3</th>\n",
       "      <th>Category_4</th>\n",
       "      <th>Category_5</th>\n",
       "      <th>Category_6</th>\n",
       "      <th>Category_7</th>\n",
       "      <th>Category_8</th>\n",
       "      <th>Category_9</th>\n",
       "      <th>Category_10</th>\n",
       "    </tr>\n",
       "  </thead>\n",
       "  <tbody>\n",
       "    <tr>\n",
       "      <th>0</th>\n",
       "      <td>User 1</td>\n",
       "      <td>0.93</td>\n",
       "      <td>1.80</td>\n",
       "      <td>2.29</td>\n",
       "      <td>0.62</td>\n",
       "      <td>0.80</td>\n",
       "      <td>2.42</td>\n",
       "      <td>3.19</td>\n",
       "      <td>2.79</td>\n",
       "      <td>1.82</td>\n",
       "      <td>2.42</td>\n",
       "    </tr>\n",
       "    <tr>\n",
       "      <th>1</th>\n",
       "      <td>User 2</td>\n",
       "      <td>1.02</td>\n",
       "      <td>2.20</td>\n",
       "      <td>2.66</td>\n",
       "      <td>0.64</td>\n",
       "      <td>1.42</td>\n",
       "      <td>3.18</td>\n",
       "      <td>3.21</td>\n",
       "      <td>2.63</td>\n",
       "      <td>1.86</td>\n",
       "      <td>2.32</td>\n",
       "    </tr>\n",
       "    <tr>\n",
       "      <th>2</th>\n",
       "      <td>User 3</td>\n",
       "      <td>1.22</td>\n",
       "      <td>0.80</td>\n",
       "      <td>0.54</td>\n",
       "      <td>0.53</td>\n",
       "      <td>0.24</td>\n",
       "      <td>1.54</td>\n",
       "      <td>3.18</td>\n",
       "      <td>2.80</td>\n",
       "      <td>1.31</td>\n",
       "      <td>2.50</td>\n",
       "    </tr>\n",
       "    <tr>\n",
       "      <th>3</th>\n",
       "      <td>User 4</td>\n",
       "      <td>0.45</td>\n",
       "      <td>1.80</td>\n",
       "      <td>0.29</td>\n",
       "      <td>0.57</td>\n",
       "      <td>0.46</td>\n",
       "      <td>1.52</td>\n",
       "      <td>3.18</td>\n",
       "      <td>2.96</td>\n",
       "      <td>1.57</td>\n",
       "      <td>2.86</td>\n",
       "    </tr>\n",
       "    <tr>\n",
       "      <th>4</th>\n",
       "      <td>User 5</td>\n",
       "      <td>0.51</td>\n",
       "      <td>1.20</td>\n",
       "      <td>1.18</td>\n",
       "      <td>0.57</td>\n",
       "      <td>1.54</td>\n",
       "      <td>2.02</td>\n",
       "      <td>3.18</td>\n",
       "      <td>2.78</td>\n",
       "      <td>1.18</td>\n",
       "      <td>2.54</td>\n",
       "    </tr>\n",
       "    <tr>\n",
       "      <th>...</th>\n",
       "      <td>...</td>\n",
       "      <td>...</td>\n",
       "      <td>...</td>\n",
       "      <td>...</td>\n",
       "      <td>...</td>\n",
       "      <td>...</td>\n",
       "      <td>...</td>\n",
       "      <td>...</td>\n",
       "      <td>...</td>\n",
       "      <td>...</td>\n",
       "      <td>...</td>\n",
       "    </tr>\n",
       "    <tr>\n",
       "      <th>975</th>\n",
       "      <td>User 976</td>\n",
       "      <td>0.74</td>\n",
       "      <td>1.12</td>\n",
       "      <td>0.30</td>\n",
       "      <td>0.53</td>\n",
       "      <td>0.88</td>\n",
       "      <td>1.38</td>\n",
       "      <td>3.17</td>\n",
       "      <td>2.78</td>\n",
       "      <td>0.99</td>\n",
       "      <td>3.20</td>\n",
       "    </tr>\n",
       "    <tr>\n",
       "      <th>976</th>\n",
       "      <td>User 977</td>\n",
       "      <td>1.25</td>\n",
       "      <td>0.92</td>\n",
       "      <td>1.12</td>\n",
       "      <td>0.38</td>\n",
       "      <td>0.78</td>\n",
       "      <td>1.68</td>\n",
       "      <td>3.18</td>\n",
       "      <td>2.79</td>\n",
       "      <td>1.34</td>\n",
       "      <td>2.80</td>\n",
       "    </tr>\n",
       "    <tr>\n",
       "      <th>977</th>\n",
       "      <td>User 978</td>\n",
       "      <td>0.61</td>\n",
       "      <td>1.32</td>\n",
       "      <td>0.67</td>\n",
       "      <td>0.43</td>\n",
       "      <td>1.30</td>\n",
       "      <td>1.78</td>\n",
       "      <td>3.17</td>\n",
       "      <td>2.81</td>\n",
       "      <td>1.34</td>\n",
       "      <td>3.02</td>\n",
       "    </tr>\n",
       "    <tr>\n",
       "      <th>978</th>\n",
       "      <td>User 979</td>\n",
       "      <td>0.93</td>\n",
       "      <td>0.20</td>\n",
       "      <td>0.13</td>\n",
       "      <td>0.43</td>\n",
       "      <td>0.30</td>\n",
       "      <td>0.40</td>\n",
       "      <td>3.18</td>\n",
       "      <td>2.98</td>\n",
       "      <td>1.12</td>\n",
       "      <td>2.46</td>\n",
       "    </tr>\n",
       "    <tr>\n",
       "      <th>979</th>\n",
       "      <td>User 980</td>\n",
       "      <td>0.93</td>\n",
       "      <td>0.56</td>\n",
       "      <td>1.13</td>\n",
       "      <td>0.51</td>\n",
       "      <td>1.34</td>\n",
       "      <td>2.36</td>\n",
       "      <td>3.18</td>\n",
       "      <td>2.87</td>\n",
       "      <td>1.34</td>\n",
       "      <td>2.40</td>\n",
       "    </tr>\n",
       "  </tbody>\n",
       "</table>\n",
       "<p>980 rows × 11 columns</p>\n",
       "</div>"
      ],
      "text/plain": [
       "      User_ID  Category_1  Category_2  Category_3  Category_4  Category_5  \\\n",
       "0      User 1        0.93        1.80        2.29        0.62        0.80   \n",
       "1      User 2        1.02        2.20        2.66        0.64        1.42   \n",
       "2      User 3        1.22        0.80        0.54        0.53        0.24   \n",
       "3      User 4        0.45        1.80        0.29        0.57        0.46   \n",
       "4      User 5        0.51        1.20        1.18        0.57        1.54   \n",
       "..        ...         ...         ...         ...         ...         ...   \n",
       "975  User 976        0.74        1.12        0.30        0.53        0.88   \n",
       "976  User 977        1.25        0.92        1.12        0.38        0.78   \n",
       "977  User 978        0.61        1.32        0.67        0.43        1.30   \n",
       "978  User 979        0.93        0.20        0.13        0.43        0.30   \n",
       "979  User 980        0.93        0.56        1.13        0.51        1.34   \n",
       "\n",
       "     Category_6  Category_7  Category_8  Category_9  Category_10  \n",
       "0          2.42        3.19        2.79        1.82         2.42  \n",
       "1          3.18        3.21        2.63        1.86         2.32  \n",
       "2          1.54        3.18        2.80        1.31         2.50  \n",
       "3          1.52        3.18        2.96        1.57         2.86  \n",
       "4          2.02        3.18        2.78        1.18         2.54  \n",
       "..          ...         ...         ...         ...          ...  \n",
       "975        1.38        3.17        2.78        0.99         3.20  \n",
       "976        1.68        3.18        2.79        1.34         2.80  \n",
       "977        1.78        3.17        2.81        1.34         3.02  \n",
       "978        0.40        3.18        2.98        1.12         2.46  \n",
       "979        2.36        3.18        2.87        1.34         2.40  \n",
       "\n",
       "[980 rows x 11 columns]"
      ]
     },
     "execution_count": 1,
     "metadata": {},
     "output_type": "execute_result"
    }
   ],
   "source": [
    "import pandas as pd\n",
    "trip_advi_df = pd.read_csv(r'C:\\Users\\suvar\\Desktop\\Clustering\\Kmeans\\tripadvisor_review.csv')\n",
    "trip_advi_df"
   ]
  },
  {
   "cell_type": "code",
   "execution_count": 2,
   "metadata": {
    "scrolled": true
   },
   "outputs": [],
   "source": [
    "trip_Final=trip_advi_df.copy()"
   ]
  },
  {
   "cell_type": "code",
   "execution_count": 3,
   "metadata": {
    "scrolled": true
   },
   "outputs": [
    {
     "data": {
      "text/plain": [
       "Index(['User_ID', 'Category_1', 'Category_2', 'Category_3', 'Category_4',\n",
       "       'Category_5', 'Category_6', 'Category_7', 'Category_8', 'Category_9',\n",
       "       'Category_10'],\n",
       "      dtype='object')"
      ]
     },
     "execution_count": 3,
     "metadata": {},
     "output_type": "execute_result"
    }
   ],
   "source": [
    "trip_advi_df.columns"
   ]
  },
  {
   "cell_type": "markdown",
   "metadata": {},
   "source": [
    "####  Removing Unnecessary variable"
   ]
  },
  {
   "cell_type": "code",
   "execution_count": 4,
   "metadata": {},
   "outputs": [],
   "source": [
    "# forget about the users for the moment - we'll use this later\n",
    "del trip_advi_df['User_ID']"
   ]
  },
  {
   "cell_type": "code",
   "execution_count": 5,
   "metadata": {},
   "outputs": [
    {
     "name": "stdout",
     "output_type": "stream",
     "text": [
      "<class 'pandas.core.frame.DataFrame'>\n",
      "RangeIndex: 980 entries, 0 to 979\n",
      "Data columns (total 10 columns):\n",
      " #   Column       Non-Null Count  Dtype  \n",
      "---  ------       --------------  -----  \n",
      " 0   Category_1   980 non-null    float64\n",
      " 1   Category_2   980 non-null    float64\n",
      " 2   Category_3   980 non-null    float64\n",
      " 3   Category_4   980 non-null    float64\n",
      " 4   Category_5   980 non-null    float64\n",
      " 5   Category_6   980 non-null    float64\n",
      " 6   Category_7   980 non-null    float64\n",
      " 7   Category_8   980 non-null    float64\n",
      " 8   Category_9   980 non-null    float64\n",
      " 9   Category_10  980 non-null    float64\n",
      "dtypes: float64(10)\n",
      "memory usage: 76.7 KB\n"
     ]
    }
   ],
   "source": [
    "trip_advi_df.info()"
   ]
  },
  {
   "cell_type": "code",
   "execution_count": 6,
   "metadata": {
    "scrolled": true
   },
   "outputs": [
    {
     "data": {
      "text/html": [
       "<div>\n",
       "<style scoped>\n",
       "    .dataframe tbody tr th:only-of-type {\n",
       "        vertical-align: middle;\n",
       "    }\n",
       "\n",
       "    .dataframe tbody tr th {\n",
       "        vertical-align: top;\n",
       "    }\n",
       "\n",
       "    .dataframe thead th {\n",
       "        text-align: right;\n",
       "    }\n",
       "</style>\n",
       "<table border=\"1\" class=\"dataframe\">\n",
       "  <thead>\n",
       "    <tr style=\"text-align: right;\">\n",
       "      <th></th>\n",
       "      <th>Category_1</th>\n",
       "      <th>Category_2</th>\n",
       "      <th>Category_3</th>\n",
       "      <th>Category_4</th>\n",
       "      <th>Category_5</th>\n",
       "      <th>Category_6</th>\n",
       "      <th>Category_7</th>\n",
       "      <th>Category_8</th>\n",
       "      <th>Category_9</th>\n",
       "      <th>Category_10</th>\n",
       "    </tr>\n",
       "  </thead>\n",
       "  <tbody>\n",
       "    <tr>\n",
       "      <th>0</th>\n",
       "      <td>0.93</td>\n",
       "      <td>1.8</td>\n",
       "      <td>2.29</td>\n",
       "      <td>0.62</td>\n",
       "      <td>0.80</td>\n",
       "      <td>2.42</td>\n",
       "      <td>3.19</td>\n",
       "      <td>2.79</td>\n",
       "      <td>1.82</td>\n",
       "      <td>2.42</td>\n",
       "    </tr>\n",
       "    <tr>\n",
       "      <th>1</th>\n",
       "      <td>1.02</td>\n",
       "      <td>2.2</td>\n",
       "      <td>2.66</td>\n",
       "      <td>0.64</td>\n",
       "      <td>1.42</td>\n",
       "      <td>3.18</td>\n",
       "      <td>3.21</td>\n",
       "      <td>2.63</td>\n",
       "      <td>1.86</td>\n",
       "      <td>2.32</td>\n",
       "    </tr>\n",
       "    <tr>\n",
       "      <th>2</th>\n",
       "      <td>1.22</td>\n",
       "      <td>0.8</td>\n",
       "      <td>0.54</td>\n",
       "      <td>0.53</td>\n",
       "      <td>0.24</td>\n",
       "      <td>1.54</td>\n",
       "      <td>3.18</td>\n",
       "      <td>2.80</td>\n",
       "      <td>1.31</td>\n",
       "      <td>2.50</td>\n",
       "    </tr>\n",
       "    <tr>\n",
       "      <th>3</th>\n",
       "      <td>0.45</td>\n",
       "      <td>1.8</td>\n",
       "      <td>0.29</td>\n",
       "      <td>0.57</td>\n",
       "      <td>0.46</td>\n",
       "      <td>1.52</td>\n",
       "      <td>3.18</td>\n",
       "      <td>2.96</td>\n",
       "      <td>1.57</td>\n",
       "      <td>2.86</td>\n",
       "    </tr>\n",
       "    <tr>\n",
       "      <th>4</th>\n",
       "      <td>0.51</td>\n",
       "      <td>1.2</td>\n",
       "      <td>1.18</td>\n",
       "      <td>0.57</td>\n",
       "      <td>1.54</td>\n",
       "      <td>2.02</td>\n",
       "      <td>3.18</td>\n",
       "      <td>2.78</td>\n",
       "      <td>1.18</td>\n",
       "      <td>2.54</td>\n",
       "    </tr>\n",
       "  </tbody>\n",
       "</table>\n",
       "</div>"
      ],
      "text/plain": [
       "   Category_1  Category_2  Category_3  Category_4  Category_5  Category_6  \\\n",
       "0        0.93         1.8        2.29        0.62        0.80        2.42   \n",
       "1        1.02         2.2        2.66        0.64        1.42        3.18   \n",
       "2        1.22         0.8        0.54        0.53        0.24        1.54   \n",
       "3        0.45         1.8        0.29        0.57        0.46        1.52   \n",
       "4        0.51         1.2        1.18        0.57        1.54        2.02   \n",
       "\n",
       "   Category_7  Category_8  Category_9  Category_10  \n",
       "0        3.19        2.79        1.82         2.42  \n",
       "1        3.21        2.63        1.86         2.32  \n",
       "2        3.18        2.80        1.31         2.50  \n",
       "3        3.18        2.96        1.57         2.86  \n",
       "4        3.18        2.78        1.18         2.54  "
      ]
     },
     "execution_count": 6,
     "metadata": {},
     "output_type": "execute_result"
    }
   ],
   "source": [
    "trip_advi_df.head()"
   ]
  },
  {
   "cell_type": "markdown",
   "metadata": {},
   "source": [
    "### Step 2:\n",
    "Extract the measurements from the DataFrame using its .values attribute:"
   ]
  },
  {
   "cell_type": "code",
   "execution_count": 7,
   "metadata": {},
   "outputs": [
    {
     "data": {
      "text/plain": [
       "array([[0.93, 1.8 , 2.29, ..., 2.79, 1.82, 2.42],\n",
       "       [1.02, 2.2 , 2.66, ..., 2.63, 1.86, 2.32],\n",
       "       [1.22, 0.8 , 0.54, ..., 2.8 , 1.31, 2.5 ],\n",
       "       ...,\n",
       "       [0.61, 1.32, 0.67, ..., 2.81, 1.34, 3.02],\n",
       "       [0.93, 0.2 , 0.13, ..., 2.98, 1.12, 2.46],\n",
       "       [0.93, 0.56, 1.13, ..., 2.87, 1.34, 2.4 ]])"
      ]
     },
     "execution_count": 7,
     "metadata": {},
     "output_type": "execute_result"
    }
   ],
   "source": [
    "samples = trip_advi_df.values # get all row and columne with header \n",
    "\n",
    "samples"
   ]
  },
  {
   "cell_type": "markdown",
   "metadata": {},
   "source": [
    "### Step 3:\n",
    "1. Measure the quality of clusterings with different numbers of clusters using the inertia. \n",
    "\n",
    "2. For each of the given values of k, perform the following steps:\n",
    "3. Create a KMeans instance called model with k clusters.\n",
    "4. Fit the model to the grain data samples.\n",
    "5. Append the value of the inertia_ attribute of model to the list inertias."
   ]
  },
  {
   "cell_type": "code",
   "execution_count": 8,
   "metadata": {},
   "outputs": [
    {
     "data": {
      "text/plain": [
       "[]"
      ]
     },
     "execution_count": 8,
     "metadata": {},
     "output_type": "execute_result"
    }
   ],
   "source": [
    "SSE=[]\n",
    "SSE"
   ]
  },
  {
   "cell_type": "code",
   "execution_count": 9,
   "metadata": {},
   "outputs": [
    {
     "name": "stderr",
     "output_type": "stream",
     "text": [
      "C:\\Users\\User\\anaconda3\\lib\\site-packages\\sklearn\\cluster\\_kmeans.py:1036: UserWarning: KMeans is known to have a memory leak on Windows with MKL, when there are less chunks than available threads. You can avoid it by setting the environment variable OMP_NUM_THREADS=4.\n",
      "  warnings.warn(\n"
     ]
    }
   ],
   "source": [
    "from sklearn.cluster import KMeans\n",
    "\n",
    "ks = range(1,6)   #ks=1,2,3,4,5\n",
    "SSE = [] # within-cluster sum-of-squares ( empty list)\n",
    "\n",
    "\n",
    "#k=ks=\n",
    "\n",
    "for k in ks:  # ks = k = 1,2,3,4,5\n",
    "    # Create a KMeans instance with k clusters:\n",
    "    \n",
    "    model = KMeans(n_clusters=k) # k =1,2,3,4,5\n",
    "\n",
    "    # Fit model to samples\n",
    "    model.fit(samples)\n",
    "\n",
    "    # Append the inertia to the list of inertias\n",
    "    SSE.append(model.inertia_)  # variance or SSE \n",
    "    # Inertia: Sum of distances of samplesto their closest cluster center"
   ]
  },
  {
   "cell_type": "code",
   "execution_count": 10,
   "metadata": {
    "scrolled": true
   },
   "outputs": [
    {
     "data": {
      "text/plain": [
       "[1736.1868143877552,\n",
       " 1179.753443277767,\n",
       " 1052.6124108752538,\n",
       " 962.5799336012777,\n",
       " 891.0206443997596]"
      ]
     },
     "execution_count": 10,
     "metadata": {},
     "output_type": "execute_result"
    }
   ],
   "source": [
    "SSE"
   ]
  },
  {
   "cell_type": "markdown",
   "metadata": {},
   "source": [
    "#### Elbow Method "
   ]
  },
  {
   "cell_type": "code",
   "execution_count": 11,
   "metadata": {},
   "outputs": [
    {
     "data": {
      "image/png": "[encoded data removed]",
      "text/plain": [
       "<Figure size 432x288 with 1 Axes>"
      ]
     },
     "metadata": {
      "needs_background": "light"
     },
     "output_type": "display_data"
    }
   ],
   "source": [
    "import matplotlib.pyplot as plt\n",
    "%matplotlib inline\n",
    "# Plot ks vs inertias\n",
    "plt.plot(ks, SSE, '-o') # -o is point in graph to identify the cluster\n",
    "plt.xlabel('number of clusters, k')\n",
    "plt.ylabel('SSE / Variance')\n",
    "plt.xticks(ks) # to get exact number of cluster without decimal\n",
    "plt.show()"
   ]
  },
  {
   "cell_type": "markdown",
   "metadata": {},
   "source": [
    "Plot the inertia to see which number of clusters is best. Remember: lower numbers are better!"
   ]
  },
  {
   "cell_type": "markdown",
   "metadata": {},
   "source": [
    "# Model or Algorithm"
   ]
  },
  {
   "cell_type": "code",
   "execution_count": 12,
   "metadata": {},
   "outputs": [],
   "source": [
    "model2 = KMeans(n_clusters=3,max_iter=100)"
   ]
  },
  {
   "cell_type": "code",
   "execution_count": 13,
   "metadata": {},
   "outputs": [
    {
     "data": {
      "text/html": [
       "<div>\n",
       "<style scoped>\n",
       "    .dataframe tbody tr th:only-of-type {\n",
       "        vertical-align: middle;\n",
       "    }\n",
       "\n",
       "    .dataframe tbody tr th {\n",
       "        vertical-align: top;\n",
       "    }\n",
       "\n",
       "    .dataframe thead th {\n",
       "        text-align: right;\n",
       "    }\n",
       "</style>\n",
       "<table border=\"1\" class=\"dataframe\">\n",
       "  <thead>\n",
       "    <tr style=\"text-align: right;\">\n",
       "      <th></th>\n",
       "      <th>User_ID</th>\n",
       "      <th>Category_1</th>\n",
       "      <th>Category_2</th>\n",
       "      <th>Category_3</th>\n",
       "      <th>Category_4</th>\n",
       "      <th>Category_5</th>\n",
       "      <th>Category_6</th>\n",
       "      <th>Category_7</th>\n",
       "      <th>Category_8</th>\n",
       "      <th>Category_9</th>\n",
       "      <th>Category_10</th>\n",
       "      <th>Cluster_Made</th>\n",
       "    </tr>\n",
       "  </thead>\n",
       "  <tbody>\n",
       "    <tr>\n",
       "      <th>0</th>\n",
       "      <td>User 1</td>\n",
       "      <td>0.93</td>\n",
       "      <td>1.8</td>\n",
       "      <td>2.29</td>\n",
       "      <td>0.62</td>\n",
       "      <td>0.80</td>\n",
       "      <td>2.42</td>\n",
       "      <td>3.19</td>\n",
       "      <td>2.79</td>\n",
       "      <td>1.82</td>\n",
       "      <td>2.42</td>\n",
       "      <td>0</td>\n",
       "    </tr>\n",
       "    <tr>\n",
       "      <th>1</th>\n",
       "      <td>User 2</td>\n",
       "      <td>1.02</td>\n",
       "      <td>2.2</td>\n",
       "      <td>2.66</td>\n",
       "      <td>0.64</td>\n",
       "      <td>1.42</td>\n",
       "      <td>3.18</td>\n",
       "      <td>3.21</td>\n",
       "      <td>2.63</td>\n",
       "      <td>1.86</td>\n",
       "      <td>2.32</td>\n",
       "      <td>0</td>\n",
       "    </tr>\n",
       "    <tr>\n",
       "      <th>2</th>\n",
       "      <td>User 3</td>\n",
       "      <td>1.22</td>\n",
       "      <td>0.8</td>\n",
       "      <td>0.54</td>\n",
       "      <td>0.53</td>\n",
       "      <td>0.24</td>\n",
       "      <td>1.54</td>\n",
       "      <td>3.18</td>\n",
       "      <td>2.80</td>\n",
       "      <td>1.31</td>\n",
       "      <td>2.50</td>\n",
       "      <td>1</td>\n",
       "    </tr>\n",
       "    <tr>\n",
       "      <th>3</th>\n",
       "      <td>User 4</td>\n",
       "      <td>0.45</td>\n",
       "      <td>1.8</td>\n",
       "      <td>0.29</td>\n",
       "      <td>0.57</td>\n",
       "      <td>0.46</td>\n",
       "      <td>1.52</td>\n",
       "      <td>3.18</td>\n",
       "      <td>2.96</td>\n",
       "      <td>1.57</td>\n",
       "      <td>2.86</td>\n",
       "      <td>1</td>\n",
       "    </tr>\n",
       "    <tr>\n",
       "      <th>4</th>\n",
       "      <td>User 5</td>\n",
       "      <td>0.51</td>\n",
       "      <td>1.2</td>\n",
       "      <td>1.18</td>\n",
       "      <td>0.57</td>\n",
       "      <td>1.54</td>\n",
       "      <td>2.02</td>\n",
       "      <td>3.18</td>\n",
       "      <td>2.78</td>\n",
       "      <td>1.18</td>\n",
       "      <td>2.54</td>\n",
       "      <td>2</td>\n",
       "    </tr>\n",
       "  </tbody>\n",
       "</table>\n",
       "</div>"
      ],
      "text/plain": [
       "  User_ID  Category_1  Category_2  Category_3  Category_4  Category_5  \\\n",
       "0  User 1        0.93         1.8        2.29        0.62        0.80   \n",
       "1  User 2        1.02         2.2        2.66        0.64        1.42   \n",
       "2  User 3        1.22         0.8        0.54        0.53        0.24   \n",
       "3  User 4        0.45         1.8        0.29        0.57        0.46   \n",
       "4  User 5        0.51         1.2        1.18        0.57        1.54   \n",
       "\n",
       "   Category_6  Category_7  Category_8  Category_9  Category_10  Cluster_Made  \n",
       "0        2.42        3.19        2.79        1.82         2.42             0  \n",
       "1        3.18        3.21        2.63        1.86         2.32             0  \n",
       "2        1.54        3.18        2.80        1.31         2.50             1  \n",
       "3        1.52        3.18        2.96        1.57         2.86             1  \n",
       "4        2.02        3.18        2.78        1.18         2.54             2  "
      ]
     },
     "execution_count": 13,
     "metadata": {},
     "output_type": "execute_result"
    }
   ],
   "source": [
    "trip_Final['Cluster_Made'] = model2.fit_predict(samples)\n",
    "trip_Final.head()"
   ]
  },
  {
   "cell_type": "markdown",
   "metadata": {},
   "source": [
    "### Final Cluster Centorids "
   ]
  },
  {
   "cell_type": "code",
   "execution_count": 14,
   "metadata": {
    "scrolled": true
   },
   "outputs": [
    {
     "data": {
      "text/plain": [
       "array([[0.87832117, 1.38671533, 2.08043796, 0.56386861, 1.12562044,\n",
       "        2.08051095, 3.18919708, 2.79718978, 1.52660584, 2.5859854 ],\n",
       "       [0.88954436, 1.24911271, 0.50784173, 0.45369305, 0.65390887,\n",
       "        1.40868106, 3.1763789 , 2.84326139, 1.57129496, 2.97719424],\n",
       "       [0.91256055, 1.46961938, 0.73089965, 0.61647059, 1.17591696,\n",
       "        2.24415225, 3.17968858, 2.85913495, 1.60737024, 2.74460208]])"
      ]
     },
     "execution_count": 14,
     "metadata": {},
     "output_type": "execute_result"
    }
   ],
   "source": [
    "model2.cluster_centers_"
   ]
  },
  {
   "cell_type": "code",
   "execution_count": 15,
   "metadata": {
    "scrolled": true
   },
   "outputs": [
    {
     "data": {
      "text/html": [
       "<div>\n",
       "<style scoped>\n",
       "    .dataframe tbody tr th:only-of-type {\n",
       "        vertical-align: middle;\n",
       "    }\n",
       "\n",
       "    .dataframe tbody tr th {\n",
       "        vertical-align: top;\n",
       "    }\n",
       "\n",
       "    .dataframe thead th {\n",
       "        text-align: right;\n",
       "    }\n",
       "</style>\n",
       "<table border=\"1\" class=\"dataframe\">\n",
       "  <thead>\n",
       "    <tr style=\"text-align: right;\">\n",
       "      <th></th>\n",
       "      <th>User_ID</th>\n",
       "      <th>Category_1</th>\n",
       "      <th>Category_2</th>\n",
       "      <th>Category_3</th>\n",
       "      <th>Category_4</th>\n",
       "      <th>Category_5</th>\n",
       "      <th>Category_6</th>\n",
       "      <th>Category_7</th>\n",
       "      <th>Category_8</th>\n",
       "      <th>Category_9</th>\n",
       "      <th>Category_10</th>\n",
       "      <th>Cluster_Made</th>\n",
       "    </tr>\n",
       "  </thead>\n",
       "  <tbody>\n",
       "    <tr>\n",
       "      <th>0</th>\n",
       "      <td>User 1</td>\n",
       "      <td>0.93</td>\n",
       "      <td>1.8</td>\n",
       "      <td>2.29</td>\n",
       "      <td>0.62</td>\n",
       "      <td>0.80</td>\n",
       "      <td>2.42</td>\n",
       "      <td>3.19</td>\n",
       "      <td>2.79</td>\n",
       "      <td>1.82</td>\n",
       "      <td>2.42</td>\n",
       "      <td>0</td>\n",
       "    </tr>\n",
       "    <tr>\n",
       "      <th>1</th>\n",
       "      <td>User 2</td>\n",
       "      <td>1.02</td>\n",
       "      <td>2.2</td>\n",
       "      <td>2.66</td>\n",
       "      <td>0.64</td>\n",
       "      <td>1.42</td>\n",
       "      <td>3.18</td>\n",
       "      <td>3.21</td>\n",
       "      <td>2.63</td>\n",
       "      <td>1.86</td>\n",
       "      <td>2.32</td>\n",
       "      <td>0</td>\n",
       "    </tr>\n",
       "    <tr>\n",
       "      <th>2</th>\n",
       "      <td>User 3</td>\n",
       "      <td>1.22</td>\n",
       "      <td>0.8</td>\n",
       "      <td>0.54</td>\n",
       "      <td>0.53</td>\n",
       "      <td>0.24</td>\n",
       "      <td>1.54</td>\n",
       "      <td>3.18</td>\n",
       "      <td>2.80</td>\n",
       "      <td>1.31</td>\n",
       "      <td>2.50</td>\n",
       "      <td>1</td>\n",
       "    </tr>\n",
       "    <tr>\n",
       "      <th>3</th>\n",
       "      <td>User 4</td>\n",
       "      <td>0.45</td>\n",
       "      <td>1.8</td>\n",
       "      <td>0.29</td>\n",
       "      <td>0.57</td>\n",
       "      <td>0.46</td>\n",
       "      <td>1.52</td>\n",
       "      <td>3.18</td>\n",
       "      <td>2.96</td>\n",
       "      <td>1.57</td>\n",
       "      <td>2.86</td>\n",
       "      <td>1</td>\n",
       "    </tr>\n",
       "    <tr>\n",
       "      <th>4</th>\n",
       "      <td>User 5</td>\n",
       "      <td>0.51</td>\n",
       "      <td>1.2</td>\n",
       "      <td>1.18</td>\n",
       "      <td>0.57</td>\n",
       "      <td>1.54</td>\n",
       "      <td>2.02</td>\n",
       "      <td>3.18</td>\n",
       "      <td>2.78</td>\n",
       "      <td>1.18</td>\n",
       "      <td>2.54</td>\n",
       "      <td>2</td>\n",
       "    </tr>\n",
       "  </tbody>\n",
       "</table>\n",
       "</div>"
      ],
      "text/plain": [
       "  User_ID  Category_1  Category_2  Category_3  Category_4  Category_5  \\\n",
       "0  User 1        0.93         1.8        2.29        0.62        0.80   \n",
       "1  User 2        1.02         2.2        2.66        0.64        1.42   \n",
       "2  User 3        1.22         0.8        0.54        0.53        0.24   \n",
       "3  User 4        0.45         1.8        0.29        0.57        0.46   \n",
       "4  User 5        0.51         1.2        1.18        0.57        1.54   \n",
       "\n",
       "   Category_6  Category_7  Category_8  Category_9  Category_10  Cluster_Made  \n",
       "0        2.42        3.19        2.79        1.82         2.42             0  \n",
       "1        3.18        3.21        2.63        1.86         2.32             0  \n",
       "2        1.54        3.18        2.80        1.31         2.50             1  \n",
       "3        1.52        3.18        2.96        1.57         2.86             1  \n",
       "4        2.02        3.18        2.78        1.18         2.54             2  "
      ]
     },
     "execution_count": 15,
     "metadata": {},
     "output_type": "execute_result"
    }
   ],
   "source": [
    "trip_Final.head()"
   ]
  },
  {
   "cell_type": "code",
   "execution_count": 16,
   "metadata": {
    "scrolled": true
   },
   "outputs": [
    {
     "data": {
      "text/plain": [
       "1    417\n",
       "2    289\n",
       "0    274\n",
       "Name: Cluster_Made, dtype: int64"
      ]
     },
     "execution_count": 16,
     "metadata": {},
     "output_type": "execute_result"
    }
   ],
   "source": [
    "trip_Final.Cluster_Made.value_counts(ascending=False)"
   ]
  },
  {
   "cell_type": "markdown",
   "metadata": {},
   "source": [
    "# Business Submission"
   ]
  },
  {
   "cell_type": "code",
   "execution_count": 17,
   "metadata": {},
   "outputs": [
    {
     "data": {
      "text/html": [
       "<div>\n",
       "<style scoped>\n",
       "    .dataframe tbody tr th:only-of-type {\n",
       "        vertical-align: middle;\n",
       "    }\n",
       "\n",
       "    .dataframe tbody tr th {\n",
       "        vertical-align: top;\n",
       "    }\n",
       "\n",
       "    .dataframe thead th {\n",
       "        text-align: right;\n",
       "    }\n",
       "</style>\n",
       "<table border=\"1\" class=\"dataframe\">\n",
       "  <thead>\n",
       "    <tr style=\"text-align: right;\">\n",
       "      <th></th>\n",
       "      <th>User_ID</th>\n",
       "      <th>Cluster_Made</th>\n",
       "    </tr>\n",
       "  </thead>\n",
       "  <tbody>\n",
       "    <tr>\n",
       "      <th>0</th>\n",
       "      <td>User 1</td>\n",
       "      <td>0</td>\n",
       "    </tr>\n",
       "    <tr>\n",
       "      <th>1</th>\n",
       "      <td>User 2</td>\n",
       "      <td>0</td>\n",
       "    </tr>\n",
       "    <tr>\n",
       "      <th>2</th>\n",
       "      <td>User 3</td>\n",
       "      <td>1</td>\n",
       "    </tr>\n",
       "    <tr>\n",
       "      <th>3</th>\n",
       "      <td>User 4</td>\n",
       "      <td>1</td>\n",
       "    </tr>\n",
       "    <tr>\n",
       "      <th>4</th>\n",
       "      <td>User 5</td>\n",
       "      <td>2</td>\n",
       "    </tr>\n",
       "    <tr>\n",
       "      <th>...</th>\n",
       "      <td>...</td>\n",
       "      <td>...</td>\n",
       "    </tr>\n",
       "    <tr>\n",
       "      <th>975</th>\n",
       "      <td>User 976</td>\n",
       "      <td>1</td>\n",
       "    </tr>\n",
       "    <tr>\n",
       "      <th>976</th>\n",
       "      <td>User 977</td>\n",
       "      <td>1</td>\n",
       "    </tr>\n",
       "    <tr>\n",
       "      <th>977</th>\n",
       "      <td>User 978</td>\n",
       "      <td>2</td>\n",
       "    </tr>\n",
       "    <tr>\n",
       "      <th>978</th>\n",
       "      <td>User 979</td>\n",
       "      <td>1</td>\n",
       "    </tr>\n",
       "    <tr>\n",
       "      <th>979</th>\n",
       "      <td>User 980</td>\n",
       "      <td>2</td>\n",
       "    </tr>\n",
       "  </tbody>\n",
       "</table>\n",
       "<p>980 rows × 2 columns</p>\n",
       "</div>"
      ],
      "text/plain": [
       "      User_ID  Cluster_Made\n",
       "0      User 1             0\n",
       "1      User 2             0\n",
       "2      User 3             1\n",
       "3      User 4             1\n",
       "4      User 5             2\n",
       "..        ...           ...\n",
       "975  User 976             1\n",
       "976  User 977             1\n",
       "977  User 978             2\n",
       "978  User 979             1\n",
       "979  User 980             2\n",
       "\n",
       "[980 rows x 2 columns]"
      ]
     },
     "execution_count": 17,
     "metadata": {},
     "output_type": "execute_result"
    }
   ],
   "source": [
    "Submission=trip_Final.loc[:,['User_ID','Cluster_Made']]\n",
    "Submission"
   ]
  },
  {
   "cell_type": "code",
   "execution_count": 18,
   "metadata": {},
   "outputs": [],
   "source": [
    "import os\n",
    "os.chdir(r\"C:\\Users\\User\\Desktop\\Python Code\\Clustering by Irfan\\Feedback of Hotels _ Restaurant\")"
   ]
  },
  {
   "cell_type": "code",
   "execution_count": 19,
   "metadata": {},
   "outputs": [],
   "source": [
    "Submission.to_excel(\"Trip_output.xlsx\",index=False,sheet_name=\"Output\") "
   ]
  },
  {
   "cell_type": "markdown",
   "metadata": {},
   "source": [
    "# Finished"
   ]
  }
 ],
 "metadata": {
  "kernelspec": {
   "display_name": "Python 3 (ipykernel)",
   "language": "python",
   "name": "python3"
  },
  "language_info": {
   "codemirror_mode": {
    "name": "ipython",
    "version": 3
   },
   "file_extension": ".py",
   "mimetype": "text/x-python",
   "name": "python",
   "nbconvert_exporter": "python",
   "pygments_lexer": "ipython3",
   "version": "3.9.12"
  }
 },
 "nbformat": 4,
 "nbformat_minor": 2
}
